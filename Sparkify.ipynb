{
 "cells": [
  {
   "cell_type": "markdown",
   "metadata": {},
   "source": [
    "# Sparkify Project Workspace"
   ]
  },
  {
   "cell_type": "code",
   "execution_count": 1,
   "metadata": {},
   "outputs": [],
   "source": [
    "import os\n",
    "os.environ[\"PYSPARK_PYTHON\"] = \"python3\"\n",
    "os.environ[\"PYSPARK_DRIVER_PYTHON\"] = \"python3\"\n",
    "os.environ[\"JAVA_HOME\"] = \"/Library/java/JavaVirtualMachines/adoptopenjdk-8.jdk/contents/Home/\""
   ]
  },
  {
   "cell_type": "code",
   "execution_count": 2,
   "metadata": {},
   "outputs": [],
   "source": [
    "import findspark\n",
    "findspark.init()"
   ]
  },
  {
   "cell_type": "code",
   "execution_count": 3,
   "metadata": {},
   "outputs": [],
   "source": [
    "# import libraries\n",
    "from pyspark.sql import SparkSession\n",
    "from pyspark.sql import functions as F\n",
    "from pyspark.sql import types as T\n",
    "from pyspark.sql import Window\n",
    "import datetime\n",
    "\n",
    "from pyspark.ml import Pipeline\n",
    "from pyspark.ml.feature import (\n",
    "    StringIndexer, OneHotEncoderEstimator, MinMaxScaler, VectorAssembler)\n",
    "from pyspark.ml.classification import (\n",
    "    DecisionTreeClassifier, RandomForestClassifier, GBTClassifier, LogisticRegression)\n",
    "from pyspark.ml.tuning import ParamGridBuilder, CrossValidator\n",
    "from pyspark.ml.evaluation import BinaryClassificationEvaluator, MulticlassClassificationEvaluator\n",
    "\n",
    "from sklearn.metrics import classification_report, confusion_matrix\n",
    "from sklearn.metrics import roc_curve\n",
    "\n",
    "import numpy as np\n",
    "import pandas as pd\n",
    "import matplotlib.pyplot as plt\n",
    "import seaborn as sns\n",
    "%matplotlib inline"
   ]
  },
  {
   "cell_type": "code",
   "execution_count": 4,
   "metadata": {},
   "outputs": [],
   "source": [
    "# Create spark session\n",
    "spark = SparkSession \\\n",
    "    .builder \\\n",
    "    .appName(\"Sparkify\") \\\n",
    "    .getOrCreate()"
   ]
  },
  {
   "cell_type": "markdown",
   "metadata": {},
   "source": [
    "# Load and Clean Dataset\n",
    "Load and clean the `mini_sparkify_event_data.json` dataset, checking for invalid or missing data - for example, records without user-ids or session-ids. "
   ]
  },
  {
   "cell_type": "code",
   "execution_count": 5,
   "metadata": {},
   "outputs": [
    {
     "data": {
      "text/plain": [
       "Row(artist='Martha Tilston', auth='Logged In', firstName='Colin', gender='M', itemInSession=50, lastName='Freeman', length=277.89016, level='paid', location='Bakersfield, CA', method='PUT', page='NextSong', registration=1538173362000, sessionId=29, song='Rockpools', status=200, ts=1538352117000, userAgent='Mozilla/5.0 (Windows NT 6.1; WOW64; rv:31.0) Gecko/20100101 Firefox/31.0', userId='30')"
      ]
     },
     "execution_count": 5,
     "metadata": {},
     "output_type": "execute_result"
    }
   ],
   "source": [
    "# Read in sparkify dataset\n",
    "event_data = \"mini_sparkify_event_data.json\"\n",
    "df = spark.read.json(event_data)\n",
    "df.head()"
   ]
  },
  {
   "cell_type": "code",
   "execution_count": 6,
   "metadata": {},
   "outputs": [
    {
     "name": "stdout",
     "output_type": "stream",
     "text": [
      "root\n",
      " |-- artist: string (nullable = true)\n",
      " |-- auth: string (nullable = true)\n",
      " |-- firstName: string (nullable = true)\n",
      " |-- gender: string (nullable = true)\n",
      " |-- itemInSession: long (nullable = true)\n",
      " |-- lastName: string (nullable = true)\n",
      " |-- length: double (nullable = true)\n",
      " |-- level: string (nullable = true)\n",
      " |-- location: string (nullable = true)\n",
      " |-- method: string (nullable = true)\n",
      " |-- page: string (nullable = true)\n",
      " |-- registration: long (nullable = true)\n",
      " |-- sessionId: long (nullable = true)\n",
      " |-- song: string (nullable = true)\n",
      " |-- status: long (nullable = true)\n",
      " |-- ts: long (nullable = true)\n",
      " |-- userAgent: string (nullable = true)\n",
      " |-- userId: string (nullable = true)\n",
      "\n"
     ]
    }
   ],
   "source": [
    "df.printSchema()"
   ]
  },
  {
   "cell_type": "code",
   "execution_count": 7,
   "metadata": {},
   "outputs": [
    {
     "data": {
      "text/plain": [
       "286500"
      ]
     },
     "execution_count": 7,
     "metadata": {},
     "output_type": "execute_result"
    }
   ],
   "source": [
    "# number of records\n",
    "df.count()"
   ]
  },
  {
   "cell_type": "code",
   "execution_count": 8,
   "metadata": {},
   "outputs": [
    {
     "name": "stdout",
     "output_type": "stream",
     "text": [
      "+------+----+---------+------+-------------+--------+------+-----+--------+------+----+------------+---------+-----+------+---+---------+------+\n",
      "|artist|auth|firstName|gender|itemInSession|lastName|length|level|location|method|page|registration|sessionId| song|status| ts|userAgent|userId|\n",
      "+------+----+---------+------+-------------+--------+------+-----+--------+------+----+------------+---------+-----+------+---+---------+------+\n",
      "| 58392|   0|     8346|  8346|            0|    8346| 58392|    0|    8346|     0|   0|        8346|        0|58392|     0|  0|     8346|     0|\n",
      "+------+----+---------+------+-------------+--------+------+-----+--------+------+----+------------+---------+-----+------+---+---------+------+\n",
      "\n"
     ]
    }
   ],
   "source": [
    "# check number of missing values in each column\n",
    "missing_values = [F.count(F.when(F.col(c).isNull(), c)).alias(c)\n",
    "                  for c in df.columns]\n",
    "df.select(missing_values).show()"
   ]
  },
  {
   "cell_type": "code",
   "execution_count": 9,
   "metadata": {},
   "outputs": [],
   "source": [
    "# Users without registration are not valid for churn analysis, and thus will be dropped.\n",
    "df_valid = df.dropna(subset=['registration'])"
   ]
  },
  {
   "cell_type": "code",
   "execution_count": 10,
   "metadata": {},
   "outputs": [
    {
     "name": "stdout",
     "output_type": "stream",
     "text": [
      "+------+----+---------+------+-------------+--------+------+-----+--------+------+----+------------+---------+-----+------+---+---------+------+\n",
      "|artist|auth|firstName|gender|itemInSession|lastName|length|level|location|method|page|registration|sessionId| song|status| ts|userAgent|userId|\n",
      "+------+----+---------+------+-------------+--------+------+-----+--------+------+----+------------+---------+-----+------+---+---------+------+\n",
      "| 50046|   0|        0|     0|            0|       0| 50046|    0|       0|     0|   0|           0|        0|50046|     0|  0|        0|     0|\n",
      "+------+----+---------+------+-------------+--------+------+-----+--------+------+----+------------+---------+-----+------+---+---------+------+\n",
      "\n"
     ]
    }
   ],
   "source": [
    "# check number of missing values for each column again\n",
    "missing_values = [F.count(F.when(F.col(c).isNull(), c)).alias(c)\n",
    "                  for c in df_valid.columns]\n",
    "df_valid.select(missing_values).show()"
   ]
  },
  {
   "cell_type": "markdown",
   "metadata": {},
   "source": [
    "`artist`, `length`, and `song` will be null when a user is visiting pages other than `NextSong`."
   ]
  },
  {
   "cell_type": "code",
   "execution_count": 11,
   "metadata": {},
   "outputs": [
    {
     "name": "stdout",
     "output_type": "stream",
     "text": [
      "+--------+\n",
      "|    page|\n",
      "+--------+\n",
      "|NextSong|\n",
      "+--------+\n",
      "\n"
     ]
    }
   ],
   "source": [
    "df_valid.filter(F.col('artist').isNotNull()).select(\n",
    "    'page').dropDuplicates().show()"
   ]
  },
  {
   "cell_type": "markdown",
   "metadata": {},
   "source": [
    "# Exploratory Data Analysis\n",
    "EDA on a small subset of the data with basic manipulations within Spark. "
   ]
  },
  {
   "cell_type": "code",
   "execution_count": 12,
   "metadata": {},
   "outputs": [
    {
     "name": "stdout",
     "output_type": "stream",
     "text": [
      "225\n"
     ]
    }
   ],
   "source": [
    "# number of users\n",
    "num_users = df_valid.select(\"userId\").dropDuplicates().count()\n",
    "print(num_users)"
   ]
  },
  {
   "cell_type": "code",
   "execution_count": 13,
   "metadata": {},
   "outputs": [
    {
     "data": {
      "text/plain": [
       "17656"
      ]
     },
     "execution_count": 13,
     "metadata": {},
     "output_type": "execute_result"
    }
   ],
   "source": [
    "# number of artists\n",
    "df_valid.select(\"artist\").dropDuplicates().count()"
   ]
  },
  {
   "cell_type": "code",
   "execution_count": 14,
   "metadata": {},
   "outputs": [
    {
     "name": "stdout",
     "output_type": "stream",
     "text": [
      "+---------+\n",
      "|     auth|\n",
      "+---------+\n",
      "|Cancelled|\n",
      "|Logged In|\n",
      "+---------+\n",
      "\n"
     ]
    }
   ],
   "source": [
    "# auth\n",
    "df_valid.select(\"auth\").dropDuplicates().show()"
   ]
  },
  {
   "cell_type": "code",
   "execution_count": 15,
   "metadata": {},
   "outputs": [
    {
     "name": "stdout",
     "output_type": "stream",
     "text": [
      "+-------+------------------+\n",
      "|summary|     itemInSession|\n",
      "+-------+------------------+\n",
      "|  count|            278154|\n",
      "|   mean|114.89918174824018|\n",
      "| stddev|129.85172939949013|\n",
      "|    min|                 0|\n",
      "|    max|              1321|\n",
      "+-------+------------------+\n",
      "\n"
     ]
    }
   ],
   "source": [
    "# itemInSession\n",
    "df_valid.select(\"itemInSession\").describe().show()"
   ]
  },
  {
   "cell_type": "code",
   "execution_count": 16,
   "metadata": {},
   "outputs": [
    {
     "name": "stdout",
     "output_type": "stream",
     "text": [
      "+-------+------------------+\n",
      "|summary|            length|\n",
      "+-------+------------------+\n",
      "|  count|            228108|\n",
      "|   mean|249.11718197783722|\n",
      "| stddev| 99.23517921058324|\n",
      "|    min|           0.78322|\n",
      "|    max|        3024.66567|\n",
      "+-------+------------------+\n",
      "\n"
     ]
    }
   ],
   "source": [
    "# length\n",
    "df_valid.select(\"length\").describe().show()"
   ]
  },
  {
   "cell_type": "code",
   "execution_count": 17,
   "metadata": {},
   "outputs": [
    {
     "data": {
      "image/png": "[encoded data removed]",
      "text/plain": [
       "<Figure size 432x288 with 1 Axes>"
      ]
     },
     "metadata": {
      "needs_background": "light"
     },
     "output_type": "display_data"
    }
   ],
   "source": [
    "# histogram for length\n",
    "df_valid.select(\"length\").toPandas().hist(bins=100);"
   ]
  },
  {
   "cell_type": "code",
   "execution_count": 18,
   "metadata": {},
   "outputs": [
    {
     "name": "stdout",
     "output_type": "stream",
     "text": [
      "+-----+\n",
      "|level|\n",
      "+-----+\n",
      "| free|\n",
      "| paid|\n",
      "+-----+\n",
      "\n"
     ]
    }
   ],
   "source": [
    "# level\n",
    "df.select(\"level\").dropDuplicates().show()"
   ]
  },
  {
   "cell_type": "code",
   "execution_count": 19,
   "metadata": {},
   "outputs": [
    {
     "name": "stdout",
     "output_type": "stream",
     "text": [
      "+--------------------------------------+\n",
      "|location                              |\n",
      "+--------------------------------------+\n",
      "|Gainesville, FL                       |\n",
      "|Atlantic City-Hammonton, NJ           |\n",
      "|Deltona-Daytona Beach-Ormond Beach, FL|\n",
      "|San Diego-Carlsbad, CA                |\n",
      "|Cleveland-Elyria, OH                  |\n",
      "|Kingsport-Bristol-Bristol, TN-VA      |\n",
      "|New Haven-Milford, CT                 |\n",
      "|Birmingham-Hoover, AL                 |\n",
      "|Corpus Christi, TX                    |\n",
      "|Dubuque, IA                           |\n",
      "+--------------------------------------+\n",
      "only showing top 10 rows\n",
      "\n"
     ]
    }
   ],
   "source": [
    "# location\n",
    "df.select(\"location\").dropDuplicates().show(10, False)"
   ]
  },
  {
   "cell_type": "code",
   "execution_count": 20,
   "metadata": {},
   "outputs": [
    {
     "name": "stdout",
     "output_type": "stream",
     "text": [
      "+------+\n",
      "|method|\n",
      "+------+\n",
      "|   PUT|\n",
      "|   GET|\n",
      "+------+\n",
      "\n"
     ]
    }
   ],
   "source": [
    "# method\n",
    "df.select(\"method\").dropDuplicates().show()"
   ]
  },
  {
   "cell_type": "code",
   "execution_count": 21,
   "metadata": {},
   "outputs": [
    {
     "name": "stdout",
     "output_type": "stream",
     "text": [
      "+-------------------------+\n",
      "|page                     |\n",
      "+-------------------------+\n",
      "|Cancel                   |\n",
      "|Submit Downgrade         |\n",
      "|Thumbs Down              |\n",
      "|Home                     |\n",
      "|Downgrade                |\n",
      "|Roll Advert              |\n",
      "|Logout                   |\n",
      "|Save Settings            |\n",
      "|Cancellation Confirmation|\n",
      "|About                    |\n",
      "|Submit Registration      |\n",
      "|Settings                 |\n",
      "|Login                    |\n",
      "|Register                 |\n",
      "|Add to Playlist          |\n",
      "|Add Friend               |\n",
      "|NextSong                 |\n",
      "|Thumbs Up                |\n",
      "|Help                     |\n",
      "|Upgrade                  |\n",
      "|Error                    |\n",
      "|Submit Upgrade           |\n",
      "+-------------------------+\n",
      "\n"
     ]
    }
   ],
   "source": [
    "# page\n",
    "df.select(\"page\").dropDuplicates().show(22, False)"
   ]
  },
  {
   "cell_type": "code",
   "execution_count": 22,
   "metadata": {},
   "outputs": [
    {
     "name": "stdout",
     "output_type": "stream",
     "text": [
      "+-------------+\n",
      "| registration|\n",
      "+-------------+\n",
      "|1538173362000|\n",
      "|1538331630000|\n",
      "|1538173362000|\n",
      "|1538331630000|\n",
      "|1538173362000|\n",
      "+-------------+\n",
      "only showing top 5 rows\n",
      "\n"
     ]
    }
   ],
   "source": [
    "# registration\n",
    "df.select(\"registration\").show(5)"
   ]
  },
  {
   "cell_type": "code",
   "execution_count": 23,
   "metadata": {},
   "outputs": [
    {
     "name": "stdout",
     "output_type": "stream",
     "text": [
      "+-----------------------------+\n",
      "|song                         |\n",
      "+-----------------------------+\n",
      "|Rockpools                    |\n",
      "|Canada                       |\n",
      "|Time For Miracles            |\n",
      "|Knocking On Forbidden Doors  |\n",
      "|Harder Better Faster Stronger|\n",
      "+-----------------------------+\n",
      "only showing top 5 rows\n",
      "\n"
     ]
    }
   ],
   "source": [
    "# songs\n",
    "df.select(\"song\").show(5, False)"
   ]
  },
  {
   "cell_type": "code",
   "execution_count": 24,
   "metadata": {},
   "outputs": [
    {
     "data": {
      "text/plain": [
       "58481"
      ]
     },
     "execution_count": 24,
     "metadata": {},
     "output_type": "execute_result"
    }
   ],
   "source": [
    "# number of songs\n",
    "df.select(\"song\").drop_duplicates().count()"
   ]
  },
  {
   "cell_type": "code",
   "execution_count": 25,
   "metadata": {},
   "outputs": [
    {
     "name": "stdout",
     "output_type": "stream",
     "text": [
      "+------+\n",
      "|status|\n",
      "+------+\n",
      "|   307|\n",
      "|   404|\n",
      "|   200|\n",
      "+------+\n",
      "\n"
     ]
    }
   ],
   "source": [
    "# status\n",
    "df.select(\"status\").drop_duplicates().show()"
   ]
  },
  {
   "cell_type": "code",
   "execution_count": 26,
   "metadata": {},
   "outputs": [
    {
     "name": "stdout",
     "output_type": "stream",
     "text": [
      "+-------------+\n",
      "|           ts|\n",
      "+-------------+\n",
      "|1538352117000|\n",
      "|1538352180000|\n",
      "|1538352394000|\n",
      "|1538352416000|\n",
      "|1538352676000|\n",
      "+-------------+\n",
      "only showing top 5 rows\n",
      "\n"
     ]
    }
   ],
   "source": [
    "# ts\n",
    "df.select(\"ts\").show(5)"
   ]
  },
  {
   "cell_type": "code",
   "execution_count": 27,
   "metadata": {},
   "outputs": [
    {
     "name": "stdout",
     "output_type": "stream",
     "text": [
      "+--------------------------------------------------------------------------------------------------------------------------+\n",
      "|userAgent                                                                                                                 |\n",
      "+--------------------------------------------------------------------------------------------------------------------------+\n",
      "|\"Mozilla/5.0 (Macintosh; Intel Mac OS X 10_8_5) AppleWebKit/537.36 (KHTML, like Gecko) Chrome/36.0.1985.143 Safari/537.36\"|\n",
      "|\"Mozilla/5.0 (Windows NT 5.1) AppleWebKit/537.36 (KHTML, like Gecko) Chrome/36.0.1985.143 Safari/537.36\"                  |\n",
      "|Mozilla/5.0 (X11; Ubuntu; Linux i686; rv:31.0) Gecko/20100101 Firefox/31.0                                                |\n",
      "|\"Mozilla/5.0 (Macintosh; Intel Mac OS X 10_9_4) AppleWebKit/537.36 (KHTML, like Gecko) Chrome/36.0.1985.125 Safari/537.36\"|\n",
      "|\"Mozilla/5.0 (Macintosh; Intel Mac OS X 10_9_4) AppleWebKit/537.36 (KHTML, like Gecko) Chrome/35.0.1916.153 Safari/537.36\"|\n",
      "|Mozilla/5.0 (Macintosh; Intel Mac OS X 10.7; rv:31.0) Gecko/20100101 Firefox/31.0                                         |\n",
      "|Mozilla/5.0 (Windows NT 6.1; WOW64; rv:30.0) Gecko/20100101 Firefox/30.0                                                  |\n",
      "|Mozilla/5.0 (Windows NT 6.3; WOW64; rv:31.0) Gecko/20100101 Firefox/31.0                                                  |\n",
      "|Mozilla/5.0 (compatible; MSIE 9.0; Windows NT 6.1; WOW64; Trident/5.0)                                                    |\n",
      "|\"Mozilla/5.0 (Windows NT 6.3; WOW64) AppleWebKit/537.36 (KHTML, like Gecko) Chrome/36.0.1985.143 Safari/537.36\"           |\n",
      "+--------------------------------------------------------------------------------------------------------------------------+\n",
      "only showing top 10 rows\n",
      "\n"
     ]
    }
   ],
   "source": [
    "# userAgent\n",
    "df_valid.select(\"userAgent\").drop_duplicates().show(10, False)"
   ]
  },
  {
   "cell_type": "markdown",
   "metadata": {},
   "source": [
    "## Define Churn\n",
    "\n",
    "Define churn events as`Cancellation Confirmation` events.\n",
    "Create`churn_event` and `churn_user` columns."
   ]
  },
  {
   "cell_type": "code",
   "execution_count": 28,
   "metadata": {},
   "outputs": [],
   "source": [
    "# define churn event\n",
    "flag_churn_event = F.udf(\n",
    "    lambda x: 1 if x == 'Cancellation Confirmation' else 0, T.IntegerType())\n",
    "\n",
    "# create churn event column\n",
    "df_valid = df_valid.withColumn('churn_event', flag_churn_event('page'))\n",
    "\n",
    "# create churn user column\n",
    "df_valid = df_valid.withColumn('churn_user', F.max(\n",
    "    'churn_event').over(Window.partitionBy('userId')))"
   ]
  },
  {
   "cell_type": "code",
   "execution_count": 29,
   "metadata": {},
   "outputs": [
    {
     "name": "stdout",
     "output_type": "stream",
     "text": [
      "+----------+------+\n",
      "|churn_user| count|\n",
      "+----------+------+\n",
      "|         1| 44864|\n",
      "|         0|233290|\n",
      "+----------+------+\n",
      "\n"
     ]
    }
   ],
   "source": [
    "df_valid.groupBy('churn_user').count().show()"
   ]
  },
  {
   "cell_type": "code",
   "execution_count": 30,
   "metadata": {},
   "outputs": [
    {
     "data": {
      "text/plain": [
       "16.129194618808288"
      ]
     },
     "execution_count": 30,
     "metadata": {},
     "output_type": "execute_result"
    }
   ],
   "source": [
    "44864/(44864 + 233290) * 100"
   ]
  },
  {
   "cell_type": "markdown",
   "metadata": {},
   "source": [
    "## Explore Data\n",
    "More exploratory data analysis to observe the behavior of users who stayed vs users who churned. The relations between users' attributes such as gender, level, location, and churn events are explored. \n",
    "We also explore aggregates on these two groups of users, observing how much of a specific action they experienced such as number of songs played or how many times they visited home page per week."
   ]
  },
  {
   "cell_type": "code",
   "execution_count": 31,
   "metadata": {},
   "outputs": [
    {
     "name": "stdout",
     "output_type": "stream",
     "text": [
      "number of users that churn: 52\n",
      "number of users that stayed: 173\n"
     ]
    }
   ],
   "source": [
    "# number of churn and stayed users\n",
    "num_churn_users = df_valid.filter(df_valid['churn_user'] == '1').select(\n",
    "    F.countDistinct('userId')).collect()[0][0]\n",
    "num_stayed_users = num_users - num_churn_users\n",
    "print(\"number of users that churn:\", num_churn_users)\n",
    "print(\"number of users that stayed:\", num_stayed_users)"
   ]
  },
  {
   "cell_type": "code",
   "execution_count": 32,
   "metadata": {},
   "outputs": [
    {
     "data": {
      "image/png": "[encoded data removed]",
      "text/plain": [
       "<Figure size 432x288 with 1 Axes>"
      ]
     },
     "metadata": {
      "needs_background": "light"
     },
     "output_type": "display_data"
    }
   ],
   "source": [
    "d = {'churns': [num_stayed_users, num_churn_users]}\n",
    "df_churns = pd.DataFrame(data=d, index=['Stayed', 'Churn'])\n",
    "\n",
    "ax = df_churns.plot.bar(legend=False)\n",
    "ax.grid(axis='y')\n",
    "ax.set_ylabel('Count', fontsize=12)\n",
    "ax.set_title('')\n",
    "plt.xticks(rotation=0);\n",
    "plt.savefig('churns')"
   ]
  },
  {
   "cell_type": "code",
   "execution_count": 33,
   "metadata": {},
   "outputs": [],
   "source": [
    "# create datetime columns for registration and timestamp\n",
    "df_valid = df_valid.withColumn(\n",
    "    'registration_dt', (F.col('registration')/1000).cast(T.TimestampType()))\n",
    "df_valid = df_valid.withColumn(\n",
    "    'dt', (F.col('ts')/1000).cast(T.TimestampType()))"
   ]
  },
  {
   "cell_type": "code",
   "execution_count": 34,
   "metadata": {},
   "outputs": [
    {
     "name": "stdout",
     "output_type": "stream",
     "text": [
      "+------+---------+-------------------------+-------------------+-----+\n",
      "|userId|firstName|page                     |dt                 |level|\n",
      "+------+---------+-------------------------+-------------------+-----+\n",
      "|73    |Rachel   |Cancellation Confirmation|2018-10-24 12:33:07|paid |\n",
      "+------+---------+-------------------------+-------------------+-----+\n",
      "\n"
     ]
    }
   ],
   "source": [
    "# example of churn by `Cancellation Confirmation`\n",
    "df_valid.select('userId', 'firstName', 'page', 'dt', 'level').where((df_valid['userId'] == 73) & (\n",
    "    df_valid['page'] == 'Cancellation Confirmation')).show(5, False)"
   ]
  },
  {
   "cell_type": "code",
   "execution_count": 35,
   "metadata": {},
   "outputs": [
    {
     "name": "stdout",
     "output_type": "stream",
     "text": [
      "+------+---------+----------------+-------------------+-----+\n",
      "|userId|firstName|page            |dt                 |level|\n",
      "+------+---------+----------------+-------------------+-----+\n",
      "|39    |Payton   |Submit Downgrade|2018-11-03 09:29:32|paid |\n",
      "|39    |Payton   |Submit Downgrade|2018-11-04 12:58:57|paid |\n",
      "|39    |Payton   |Submit Downgrade|2018-11-16 19:49:48|paid |\n",
      "+------+---------+----------------+-------------------+-----+\n",
      "\n"
     ]
    }
   ],
   "source": [
    "# example of Submit Downgrade`\n",
    "df_valid.select('userId', 'firstName', 'page', 'dt', 'level').where((df_valid['userId'] == 39) & (\n",
    "    df_valid['page'] == 'Submit Downgrade')).show(5, False)"
   ]
  },
  {
   "cell_type": "code",
   "execution_count": 36,
   "metadata": {},
   "outputs": [
    {
     "name": "stdout",
     "output_type": "stream",
     "text": [
      "+------+---------+-------------------------+-------------------+-----+\n",
      "|userId|firstName|page                     |dt                 |level|\n",
      "+------+---------+-------------------------+-------------------+-----+\n",
      "|103   |Piper    |Submit Downgrade         |2018-10-15 18:56:25|paid |\n",
      "|103   |Piper    |Cancellation Confirmation|2018-11-04 08:01:31|paid |\n",
      "+------+---------+-------------------------+-------------------+-----+\n",
      "\n"
     ]
    }
   ],
   "source": [
    "# example of churn by `Submit Downgrade` followed by `Cancellation Confirmation`\n",
    "df_valid.select('userId', 'firstName', 'page', 'dt', 'level').where((df_valid['userId'] == 103) & (\n",
    "    (df_valid['page'] == 'Submit Downgrade') | (df_valid['page'] == 'Cancellation Confirmation'))).show(5, False)"
   ]
  },
  {
   "cell_type": "markdown",
   "metadata": {},
   "source": [
    "### Gender"
   ]
  },
  {
   "cell_type": "code",
   "execution_count": 37,
   "metadata": {},
   "outputs": [
    {
     "name": "stdout",
     "output_type": "stream",
     "text": [
      "number of females: 104\n",
      "number of males: 121\n"
     ]
    }
   ],
   "source": [
    "num_females = df_valid.filter(df_valid['gender'] == 'F').select(\n",
    "    F.countDistinct('userId')).collect()[0][0]\n",
    "num_males = num_users - num_females\n",
    "print(\"number of females:\", num_females)\n",
    "print(\"number of males:\", num_males)"
   ]
  },
  {
   "cell_type": "code",
   "execution_count": 38,
   "metadata": {},
   "outputs": [
    {
     "data": {
      "text/html": [
       "<div>\n",
       "<style scoped>\n",
       "    .dataframe tbody tr th:only-of-type {\n",
       "        vertical-align: middle;\n",
       "    }\n",
       "\n",
       "    .dataframe tbody tr th {\n",
       "        vertical-align: top;\n",
       "    }\n",
       "\n",
       "    .dataframe thead th {\n",
       "        text-align: right;\n",
       "    }\n",
       "</style>\n",
       "<table border=\"1\" class=\"dataframe\">\n",
       "  <thead>\n",
       "    <tr style=\"text-align: right;\">\n",
       "      <th></th>\n",
       "      <th>num_churns</th>\n",
       "      <th>count</th>\n",
       "      <th>percent churn</th>\n",
       "    </tr>\n",
       "    <tr>\n",
       "      <th>gender</th>\n",
       "      <th></th>\n",
       "      <th></th>\n",
       "      <th></th>\n",
       "    </tr>\n",
       "  </thead>\n",
       "  <tbody>\n",
       "    <tr>\n",
       "      <th>F</th>\n",
       "      <td>20</td>\n",
       "      <td>104</td>\n",
       "      <td>19.230769</td>\n",
       "    </tr>\n",
       "    <tr>\n",
       "      <th>M</th>\n",
       "      <td>32</td>\n",
       "      <td>121</td>\n",
       "      <td>26.446281</td>\n",
       "    </tr>\n",
       "  </tbody>\n",
       "</table>\n",
       "</div>"
      ],
      "text/plain": [
       "        num_churns  count  percent churn\n",
       "gender                                  \n",
       "F               20    104      19.230769\n",
       "M               32    121      26.446281"
      ]
     },
     "execution_count": 38,
     "metadata": {},
     "output_type": "execute_result"
    }
   ],
   "source": [
    "df_gender = df_valid.groupby('gender').sum('churn_event').toPandas()\n",
    "df_gender['count'] = [num_females, num_males]\n",
    "df_gender['percent churn'] = df_gender['sum(churn_event)'] / \\\n",
    "    df_gender['count']*100\n",
    "df_gender.columns = ['gender', 'num_churns', 'count', 'percent churn']\n",
    "df_gender.set_index('gender')"
   ]
  },
  {
   "cell_type": "code",
   "execution_count": 39,
   "metadata": {},
   "outputs": [
    {
     "data": {
      "image/png": "[encoded data removed]",
      "text/plain": [
       "<Figure size 432x288 with 1 Axes>"
      ]
     },
     "metadata": {
      "needs_background": "light"
     },
     "output_type": "display_data"
    }
   ],
   "source": [
    "ax = df_gender.plot.bar(x='gender', y='percent churn', legend=False)\n",
    "ax.grid(axis='y')\n",
    "ax.set_xlabel('')\n",
    "ax.set_ylabel('Percent churn', fontsize=12)\n",
    "ax.set_title('Gender')\n",
    "plt.xticks(rotation=0);\n",
    "plt.savefig('gender')"
   ]
  },
  {
   "cell_type": "markdown",
   "metadata": {},
   "source": [
    "### Item In Session"
   ]
  },
  {
   "cell_type": "code",
   "execution_count": 40,
   "metadata": {},
   "outputs": [],
   "source": [
    "df_item_churn = df_valid.filter(df_valid['churn_user'] == 1).select('itemInSession').toPandas()\n",
    "df_item_stayed = df_valid.filter(df_valid['churn_user'] == 0).select('itemInSession').toPandas()\n",
    "df_item = pd.concat([df_item_stayed, df_item_churn], axis=1, ignore_index=True)"
   ]
  },
  {
   "cell_type": "code",
   "execution_count": 41,
   "metadata": {},
   "outputs": [
    {
     "data": {
      "text/html": [
       "<div>\n",
       "<style scoped>\n",
       "    .dataframe tbody tr th:only-of-type {\n",
       "        vertical-align: middle;\n",
       "    }\n",
       "\n",
       "    .dataframe tbody tr th {\n",
       "        vertical-align: top;\n",
       "    }\n",
       "\n",
       "    .dataframe thead th {\n",
       "        text-align: right;\n",
       "    }\n",
       "</style>\n",
       "<table border=\"1\" class=\"dataframe\">\n",
       "  <thead>\n",
       "    <tr style=\"text-align: right;\">\n",
       "      <th></th>\n",
       "      <th>count</th>\n",
       "      <th>mean</th>\n",
       "      <th>std</th>\n",
       "      <th>min</th>\n",
       "      <th>25%</th>\n",
       "      <th>50%</th>\n",
       "      <th>75%</th>\n",
       "      <th>max</th>\n",
       "    </tr>\n",
       "  </thead>\n",
       "  <tbody>\n",
       "    <tr>\n",
       "      <th>0</th>\n",
       "      <td>233290.0</td>\n",
       "      <td>115.988847</td>\n",
       "      <td>131.150670</td>\n",
       "      <td>0.0</td>\n",
       "      <td>27.0</td>\n",
       "      <td>71.0</td>\n",
       "      <td>159.0</td>\n",
       "      <td>1321.0</td>\n",
       "    </tr>\n",
       "    <tr>\n",
       "      <th>1</th>\n",
       "      <td>44864.0</td>\n",
       "      <td>109.232993</td>\n",
       "      <td>122.721709</td>\n",
       "      <td>0.0</td>\n",
       "      <td>26.0</td>\n",
       "      <td>66.0</td>\n",
       "      <td>147.0</td>\n",
       "      <td>889.0</td>\n",
       "    </tr>\n",
       "  </tbody>\n",
       "</table>\n",
       "</div>"
      ],
      "text/plain": [
       "      count        mean         std  min   25%   50%    75%     max\n",
       "0  233290.0  115.988847  131.150670  0.0  27.0  71.0  159.0  1321.0\n",
       "1   44864.0  109.232993  122.721709  0.0  26.0  66.0  147.0   889.0"
      ]
     },
     "execution_count": 41,
     "metadata": {},
     "output_type": "execute_result"
    }
   ],
   "source": [
    "df_item.describe().transpose()"
   ]
  },
  {
   "cell_type": "markdown",
   "metadata": {},
   "source": [
    "### Level"
   ]
  },
  {
   "cell_type": "code",
   "execution_count": 42,
   "metadata": {},
   "outputs": [],
   "source": [
    "num_free = df_valid.filter(df_valid['level'] == 'free').select(\n",
    "    F.countDistinct('userId')).collect()[0][0]\n",
    "num_paid = df_valid.filter(df_valid['level'] == 'paid').select(\n",
    "    F.countDistinct('userId')).collect()[0][0]"
   ]
  },
  {
   "cell_type": "code",
   "execution_count": 43,
   "metadata": {},
   "outputs": [
    {
     "data": {
      "text/html": [
       "<div>\n",
       "<style scoped>\n",
       "    .dataframe tbody tr th:only-of-type {\n",
       "        vertical-align: middle;\n",
       "    }\n",
       "\n",
       "    .dataframe tbody tr th {\n",
       "        vertical-align: top;\n",
       "    }\n",
       "\n",
       "    .dataframe thead th {\n",
       "        text-align: right;\n",
       "    }\n",
       "</style>\n",
       "<table border=\"1\" class=\"dataframe\">\n",
       "  <thead>\n",
       "    <tr style=\"text-align: right;\">\n",
       "      <th></th>\n",
       "      <th>num_churns</th>\n",
       "      <th>count</th>\n",
       "      <th>percent churn</th>\n",
       "    </tr>\n",
       "    <tr>\n",
       "      <th>level</th>\n",
       "      <th></th>\n",
       "      <th></th>\n",
       "      <th></th>\n",
       "    </tr>\n",
       "  </thead>\n",
       "  <tbody>\n",
       "    <tr>\n",
       "      <th>free</th>\n",
       "      <td>21</td>\n",
       "      <td>195</td>\n",
       "      <td>10.769231</td>\n",
       "    </tr>\n",
       "    <tr>\n",
       "      <th>paid</th>\n",
       "      <td>31</td>\n",
       "      <td>165</td>\n",
       "      <td>18.787879</td>\n",
       "    </tr>\n",
       "  </tbody>\n",
       "</table>\n",
       "</div>"
      ],
      "text/plain": [
       "       num_churns  count  percent churn\n",
       "level                                  \n",
       "free           21    195      10.769231\n",
       "paid           31    165      18.787879"
      ]
     },
     "execution_count": 43,
     "metadata": {},
     "output_type": "execute_result"
    }
   ],
   "source": [
    "df_level = df_valid.groupby('level').sum('churn_event').toPandas()\n",
    "df_level['count'] = [num_free, num_paid]\n",
    "df_level['percent churn'] = df_level['sum(churn_event)'] / \\\n",
    "    df_level['count'] * 100\n",
    "df_level.columns = ['level', 'num_churns', 'count', 'percent churn']\n",
    "df_level.set_index('level')"
   ]
  },
  {
   "cell_type": "code",
   "execution_count": 44,
   "metadata": {},
   "outputs": [
    {
     "data": {
      "image/png": "[encoded data removed]",
      "text/plain": [
       "<Figure size 432x288 with 1 Axes>"
      ]
     },
     "metadata": {
      "needs_background": "light"
     },
     "output_type": "display_data"
    }
   ],
   "source": [
    "ax = df_level.plot.bar(x='level', y='percent churn', legend=False)\n",
    "ax.grid(axis='y')\n",
    "ax.set_ylabel('Percent churn', fontsize=12)\n",
    "ax.set_xlabel('')\n",
    "ax.set_title('Level')\n",
    "plt.xticks(rotation=0);\n",
    "plt.savefig('level')"
   ]
  },
  {
   "cell_type": "markdown",
   "metadata": {},
   "source": [
    "### Location"
   ]
  },
  {
   "cell_type": "code",
   "execution_count": 45,
   "metadata": {},
   "outputs": [
    {
     "name": "stdout",
     "output_type": "stream",
     "text": [
      "+------------------------------+\n",
      "|location                      |\n",
      "+------------------------------+\n",
      "|Bakersfield, CA               |\n",
      "|Boston-Cambridge-Newton, MA-NH|\n",
      "|Bakersfield, CA               |\n",
      "|Boston-Cambridge-Newton, MA-NH|\n",
      "|Bakersfield, CA               |\n",
      "|Boston-Cambridge-Newton, MA-NH|\n",
      "|Boston-Cambridge-Newton, MA-NH|\n",
      "|Bakersfield, CA               |\n",
      "|Bakersfield, CA               |\n",
      "|Bakersfield, CA               |\n",
      "+------------------------------+\n",
      "only showing top 10 rows\n",
      "\n"
     ]
    }
   ],
   "source": [
    "df_valid.select(\"location\").show(10, False)"
   ]
  },
  {
   "cell_type": "code",
   "execution_count": 46,
   "metadata": {},
   "outputs": [],
   "source": [
    "# get state from location\n",
    "get_state = F.udf(lambda x: x[-2:])\n",
    "\n",
    "# create state column\n",
    "df_valid = df_valid.withColumn(\"state\", get_state(df_valid['location']))"
   ]
  },
  {
   "cell_type": "code",
   "execution_count": 47,
   "metadata": {},
   "outputs": [],
   "source": [
    "df_state_counts = df_valid.select(\n",
    "    'userId', 'state').dropDuplicates().groupby('state').count().toPandas()"
   ]
  },
  {
   "cell_type": "code",
   "execution_count": 48,
   "metadata": {},
   "outputs": [
    {
     "data": {
      "image/png": "[encoded data removed]",
      "text/plain": [
       "<Figure size 864x432 with 1 Axes>"
      ]
     },
     "metadata": {
      "needs_background": "light"
     },
     "output_type": "display_data"
    }
   ],
   "source": [
    "ax = df_state_counts.plot.bar(x='state', y='count',\n",
    "                              figsize=(12, 6))\n",
    "ax.set_ylabel('number of distinct users', fontsize=12);"
   ]
  },
  {
   "cell_type": "code",
   "execution_count": 49,
   "metadata": {},
   "outputs": [],
   "source": [
    "df_state_churns = df_valid.groupby('state').sum('churn_event').toPandas()\n",
    "df_state_churns.columns = ['state', 'num_churns']"
   ]
  },
  {
   "cell_type": "code",
   "execution_count": 50,
   "metadata": {},
   "outputs": [
    {
     "data": {
      "image/png": "[encoded data removed]",
      "text/plain": [
       "<Figure size 864x432 with 1 Axes>"
      ]
     },
     "metadata": {
      "needs_background": "light"
     },
     "output_type": "display_data"
    }
   ],
   "source": [
    "ax = df_state_churns.plot.bar(x='state', y='num_churns', figsize=(12, 6), legend=False)\n",
    "ax.grid(axis='y')\n",
    "ax.set_xlabel('')\n",
    "ax.set_ylabel('Churn count', fontsize=16);\n",
    "#ax.set_title('State', fontsize=18)\n",
    "plt.xticks(fontsize=14)\n",
    "plt.yticks(fontsize=14)\n",
    "plt.tight_layout()\n",
    "\n",
    "plt.savefig('state')"
   ]
  },
  {
   "cell_type": "code",
   "execution_count": 51,
   "metadata": {},
   "outputs": [],
   "source": [
    "df_state_churns['percent churn'] = df_state_churns['num_churns'] / \\\n",
    "    df_state_counts['count'] * 100"
   ]
  },
  {
   "cell_type": "code",
   "execution_count": 52,
   "metadata": {},
   "outputs": [
    {
     "data": {
      "image/png": "[encoded data removed]",
      "text/plain": [
       "<Figure size 864x432 with 1 Axes>"
      ]
     },
     "metadata": {
      "needs_background": "light"
     },
     "output_type": "display_data"
    }
   ],
   "source": [
    "df_state_churns.plot.bar(x='state', y='percent churn', figsize=(12, 6));"
   ]
  },
  {
   "cell_type": "markdown",
   "metadata": {},
   "source": [
    "### Registration"
   ]
  },
  {
   "cell_type": "code",
   "execution_count": 53,
   "metadata": {},
   "outputs": [
    {
     "name": "stdout",
     "output_type": "stream",
     "text": [
      "registration start date: 2018-03-18 08:44:35\n",
      "registration end date: 2018-11-26 09:49:14\n"
     ]
    }
   ],
   "source": [
    "# find earliest and latest registration dates\n",
    "start_reg_date = df_valid.agg({'registration_dt': 'min'}).collect()\n",
    "end_reg_date = df_valid.agg({'registration_dt': 'max'}).collect()\n",
    "print('registration start date:', str(start_reg_date[0][0]))\n",
    "print('registration end date:', str(end_reg_date[0][0]))"
   ]
  },
  {
   "cell_type": "code",
   "execution_count": 54,
   "metadata": {},
   "outputs": [
    {
     "name": "stdout",
     "output_type": "stream",
     "text": [
      "start date: 2018-09-30 19:01:57\n",
      "end date: 2018-12-02 19:11:16\n"
     ]
    }
   ],
   "source": [
    "# find earliest and latest dates (from timestamp)\n",
    "start_date = df_valid.agg({'dt': 'min'}).collect()\n",
    "end_date = df_valid.agg({'dt': 'max'}).collect()\n",
    "print('start date:', str(start_date[0][0]))\n",
    "print('end date:', str(end_date[0][0]))"
   ]
  },
  {
   "cell_type": "code",
   "execution_count": 55,
   "metadata": {},
   "outputs": [],
   "source": [
    "# number of days since registration\n",
    "df_valid = df_valid.withColumn(\"days_since_reg\", F.max(\n",
    "    F.datediff('dt', 'registration_dt')).over(Window.partitionBy('userId')))"
   ]
  },
  {
   "cell_type": "code",
   "execution_count": 56,
   "metadata": {},
   "outputs": [
    {
     "name": "stdout",
     "output_type": "stream",
     "text": [
      "+-------+-----------------+\n",
      "|summary|   days_since_reg|\n",
      "+-------+-----------------+\n",
      "|  count|           278154|\n",
      "|   mean|88.91284684023958|\n",
      "| stddev| 40.4933547852528|\n",
      "|    min|                0|\n",
      "|    max|              256|\n",
      "+-------+-----------------+\n",
      "\n"
     ]
    }
   ],
   "source": [
    "df_valid.select('days_since_reg').describe().show()"
   ]
  },
  {
   "cell_type": "code",
   "execution_count": 57,
   "metadata": {},
   "outputs": [
    {
     "data": {
      "text/plain": [
       "array([[<matplotlib.axes._subplots.AxesSubplot object at 0x7fc186eba410>]],\n",
       "      dtype=object)"
      ]
     },
     "execution_count": 57,
     "metadata": {},
     "output_type": "execute_result"
    },
    {
     "data": {
      "image/png": "[encoded data removed]",
      "text/plain": [
       "<Figure size 432x288 with 1 Axes>"
      ]
     },
     "metadata": {
      "needs_background": "light"
     },
     "output_type": "display_data"
    }
   ],
   "source": [
    "df_valid.select('days_since_reg').toPandas().hist(bins=25)"
   ]
  },
  {
   "cell_type": "code",
   "execution_count": 58,
   "metadata": {},
   "outputs": [],
   "source": [
    "df_days_stayed = df_valid.filter(\n",
    "    df_valid['churn_user'] == 0).select('days_since_reg').toPandas()\n",
    "df_days_churn = df_valid.filter(\n",
    "    df_valid['churn_user'] == 1).select('days_since_reg').toPandas()\n",
    "df_reg_days = pd.concat([df_days_stayed, df_days_churn], axis=1, ignore_index=True)\n",
    "df_reg_days.columns = ['stayed', 'churn']"
   ]
  },
  {
   "cell_type": "code",
   "execution_count": 59,
   "metadata": {},
   "outputs": [
    {
     "data": {
      "text/html": [
       "<div>\n",
       "<style scoped>\n",
       "    .dataframe tbody tr th:only-of-type {\n",
       "        vertical-align: middle;\n",
       "    }\n",
       "\n",
       "    .dataframe tbody tr th {\n",
       "        vertical-align: top;\n",
       "    }\n",
       "\n",
       "    .dataframe thead th {\n",
       "        text-align: right;\n",
       "    }\n",
       "</style>\n",
       "<table border=\"1\" class=\"dataframe\">\n",
       "  <thead>\n",
       "    <tr style=\"text-align: right;\">\n",
       "      <th></th>\n",
       "      <th>count</th>\n",
       "      <th>mean</th>\n",
       "      <th>std</th>\n",
       "      <th>min</th>\n",
       "      <th>25%</th>\n",
       "      <th>50%</th>\n",
       "      <th>75%</th>\n",
       "      <th>max</th>\n",
       "    </tr>\n",
       "  </thead>\n",
       "  <tbody>\n",
       "    <tr>\n",
       "      <th>stayed</th>\n",
       "      <td>233290.0</td>\n",
       "      <td>92.999773</td>\n",
       "      <td>38.790168</td>\n",
       "      <td>0.0</td>\n",
       "      <td>67.0</td>\n",
       "      <td>77.0</td>\n",
       "      <td>115.0</td>\n",
       "      <td>256.0</td>\n",
       "    </tr>\n",
       "    <tr>\n",
       "      <th>churn</th>\n",
       "      <td>44864.0</td>\n",
       "      <td>67.661087</td>\n",
       "      <td>42.466799</td>\n",
       "      <td>5.0</td>\n",
       "      <td>42.0</td>\n",
       "      <td>56.0</td>\n",
       "      <td>80.0</td>\n",
       "      <td>188.0</td>\n",
       "    </tr>\n",
       "  </tbody>\n",
       "</table>\n",
       "</div>"
      ],
      "text/plain": [
       "           count       mean        std  min   25%   50%    75%    max\n",
       "stayed  233290.0  92.999773  38.790168  0.0  67.0  77.0  115.0  256.0\n",
       "churn    44864.0  67.661087  42.466799  5.0  42.0  56.0   80.0  188.0"
      ]
     },
     "execution_count": 59,
     "metadata": {},
     "output_type": "execute_result"
    }
   ],
   "source": [
    "df_reg_days.describe().transpose()"
   ]
  },
  {
   "cell_type": "code",
   "execution_count": 60,
   "metadata": {},
   "outputs": [
    {
     "data": {
      "image/png": "[encoded data removed]",
      "text/plain": [
       "<Figure size 432x288 with 1 Axes>"
      ]
     },
     "metadata": {
      "needs_background": "light"
     },
     "output_type": "display_data"
    }
   ],
   "source": [
    "ax = df_reg_days.boxplot()\n",
    "ax.set_ylabel('Number of days', fontsize=12)\n",
    "ax.set_title('Days since registration');\n",
    "plt.savefig('days_since_registration')"
   ]
  },
  {
   "cell_type": "markdown",
   "metadata": {},
   "source": [
    "### Timestamp"
   ]
  },
  {
   "cell_type": "code",
   "execution_count": 61,
   "metadata": {},
   "outputs": [],
   "source": [
    "get_hour = F.udf(lambda x: datetime.datetime.fromtimestamp(\n",
    "    x / 1000.0).hour, T.IntegerType())\n",
    "get_day = F.udf(lambda x: datetime.datetime.fromtimestamp(\n",
    "    x / 1000.0).day, T.IntegerType())\n",
    "get_month = F.udf(lambda x: datetime.datetime.fromtimestamp(\n",
    "    x / 1000.0).month, T.IntegerType())"
   ]
  },
  {
   "cell_type": "code",
   "execution_count": 62,
   "metadata": {},
   "outputs": [],
   "source": [
    "df_valid = df_valid.withColumn('hour', get_hour(F.col('ts')))\\\n",
    "    .withColumn('day', get_day(F.col('ts')))\\\n",
    "    .withColumn('month', get_month(F.col('ts')))"
   ]
  },
  {
   "cell_type": "code",
   "execution_count": 63,
   "metadata": {},
   "outputs": [
    {
     "data": {
      "image/png": "[encoded data removed]",
      "text/plain": [
       "<Figure size 864x432 with 1 Axes>"
      ]
     },
     "metadata": {
      "needs_background": "light"
     },
     "output_type": "display_data"
    }
   ],
   "source": [
    "ax = df_valid.groupBy('hour').sum('churn_event').sort('hour').toPandas(\n",
    ").plot.bar(x='hour', y='sum(churn_event)', figsize=(12, 6), legend=False)\n",
    "ax.grid(axis='y')\n",
    "ax.set_xlabel('Hour', fontsize=16)\n",
    "ax.set_ylabel('Count', fontsize=16)\n",
    "ax.set_title('Hourly churn events', fontsize=18)\n",
    "plt.xticks(fontsize=16)\n",
    "plt.yticks(fontsize=16)\n",
    "plt.tight_layout()\n",
    "\n",
    "plt.savefig('hourly_churn_events')"
   ]
  },
  {
   "cell_type": "code",
   "execution_count": 64,
   "metadata": {},
   "outputs": [
    {
     "data": {
      "image/png": "[encoded data removed]",
      "text/plain": [
       "<Figure size 864x432 with 1 Axes>"
      ]
     },
     "metadata": {
      "needs_background": "light"
     },
     "output_type": "display_data"
    }
   ],
   "source": [
    "ax = df_valid.groupBy('day').sum('churn_event').sort('day').toPandas(\n",
    ").plot.bar(x='day', y='sum(churn_event)', figsize=(12, 6), legend=False)\n",
    "ax.grid(axis='y')\n",
    "ax.set_xlabel('Day', fontsize=16)\n",
    "ax.set_ylabel('Count', fontsize=16)\n",
    "ax.set_title('Daily churn events', fontsize=18)\n",
    "plt.xticks(fontsize=16)\n",
    "plt.yticks(fontsize=16)\n",
    "plt.tight_layout()\n",
    "\n",
    "plt.savefig('daily_churn_events')"
   ]
  },
  {
   "cell_type": "code",
   "execution_count": 65,
   "metadata": {},
   "outputs": [
    {
     "data": {
      "image/png": "[encoded data removed]",
      "text/plain": [
       "<Figure size 432x288 with 1 Axes>"
      ]
     },
     "metadata": {
      "needs_background": "light"
     },
     "output_type": "display_data"
    }
   ],
   "source": [
    "ax = df_valid.groupBy('month').sum('churn_event').sort(\n",
    "    'month').toPandas().plot.bar(x='month', y='sum(churn_event)')\n",
    "ax.grid(axis='y')\n",
    "ax.set_xlabel('Month', fontsize=12)\n",
    "ax.set_ylabel('Count', fontsize=12)\n",
    "ax.set_title('Monthly churn events');\n",
    "plt.savefig('montly_churn_events')"
   ]
  },
  {
   "cell_type": "markdown",
   "metadata": {},
   "source": [
    "### Song"
   ]
  },
  {
   "cell_type": "code",
   "execution_count": 66,
   "metadata": {},
   "outputs": [],
   "source": [
    "# time window to find number of songs played in a week\n",
    "def days(x): \n",
    "    \"\"\"Return time in seconds for the input time in days.\"\"\"\n",
    "    time_in_seconds = x * 86400\n",
    "    return time_in_seconds\n",
    "\n",
    "\n",
    "windowval = (\n",
    "    Window.partitionBy(\"userId\")\n",
    "    .orderBy(F.col(\"ts\")/1000)\n",
    "    .rangeBetween(-days(7), 0)\n",
    ")"
   ]
  },
  {
   "cell_type": "code",
   "execution_count": 67,
   "metadata": {},
   "outputs": [],
   "source": [
    "# number of songs played in a week\n",
    "df_valid = df_valid.withColumn(\"num_songs\", F.count(\"song\").over(windowval))"
   ]
  },
  {
   "cell_type": "code",
   "execution_count": 68,
   "metadata": {},
   "outputs": [
    {
     "name": "stdout",
     "output_type": "stream",
     "text": [
      "+------+-------------------+--------------------+---------+-----------+----------+\n",
      "|userId|                 dt|                song|num_songs|churn_event|churn_user|\n",
      "+------+-------------------+--------------------+---------+-----------+----------+\n",
      "|    32|2018-10-03 10:01:37|Beyond The Beyond...|        1|          0|         1|\n",
      "|    32|2018-10-03 10:05:34|       Paradise City|        2|          0|         1|\n",
      "|    32|2018-10-03 10:12:20|           Alejandro|        3|          0|         1|\n",
      "|    32|2018-10-03 10:12:45|                null|        3|          0|         1|\n",
      "|    32|2018-10-03 10:16:54|        Luv U Better|        4|          0|         1|\n",
      "|    32|2018-10-03 10:16:55|                null|        4|          0|         1|\n",
      "|    32|2018-10-03 10:20:56|My Life Would Suc...|        5|          0|         1|\n",
      "|    32|2018-10-03 10:21:08|                null|        5|          0|         1|\n",
      "|    32|2018-10-03 10:24:27|Jamaica Roots II(...|        6|          0|         1|\n",
      "|    32|2018-10-03 10:27:57|                Dusk|        7|          0|         1|\n",
      "|    32|2018-10-03 10:38:49|           September|        8|          0|         1|\n",
      "|    32|2018-10-03 10:42:49|Slicker Than Your...|        9|          0|         1|\n",
      "|    32|2018-10-03 10:48:46|         Mellow Mood|       10|          0|         1|\n",
      "|    32|2018-10-03 10:52:04| Dangerously In Love|       11|          0|         1|\n",
      "|    32|2018-10-03 10:56:57|             Fix You|       12|          0|         1|\n",
      "|    32|2018-10-03 11:01:51|              Morder|       13|          0|         1|\n",
      "|    32|2018-10-03 11:02:21|                null|       13|          0|         1|\n",
      "|    32|2018-10-03 11:02:22|                null|       13|          0|         1|\n",
      "|    32|2018-10-03 11:06:03|                null|       13|          0|         1|\n",
      "|    32|2018-10-03 11:06:28|If I Knew Then (W...|       14|          0|         1|\n",
      "|    32|2018-10-03 11:09:19|   Goodbye Hollywood|       15|          0|         1|\n",
      "|    32|2018-10-03 11:13:31|      Come Back Home|       16|          0|         1|\n",
      "|    32|2018-10-03 11:14:00|                null|       16|          0|         1|\n",
      "|    32|2018-10-03 11:16:53|Parallel Universe...|       17|          0|         1|\n",
      "|    32|2018-10-03 11:21:22|         After Party|       18|          0|         1|\n",
      "|    32|2018-10-03 11:21:54|                null|       18|          0|         1|\n",
      "|    32|2018-10-03 11:24:56|         Un poco mas|       19|          0|         1|\n",
      "|    32|2018-10-03 11:28:22|  Who Gave The Order|       20|          0|         1|\n",
      "|    32|2018-10-03 11:32:45|     I Gotta Feeling|       21|          0|         1|\n",
      "|    32|2018-10-03 11:37:34|  Sure Thing Falling|       22|          0|         1|\n",
      "|    32|2018-10-03 11:41:16|Ganas De Ti (Albu...|       23|          0|         1|\n",
      "|    32|2018-10-03 11:41:17|                null|       23|          0|         1|\n",
      "|    32|2018-10-03 11:45:00|       The Safe Side|       24|          0|         1|\n",
      "|    32|2018-10-03 11:49:47|      Hillbilly Rock|       25|          0|         1|\n",
      "|    32|2018-10-06 10:37:57| Unicorn Vs. Gravity|       26|          0|         1|\n",
      "|    32|2018-10-06 10:38:15|                null|       26|          0|         1|\n",
      "|    32|2018-10-06 10:40:13|      Fields of Gold|       27|          0|         1|\n",
      "|    32|2018-10-06 10:46:32|The Once Lost Ret...|       28|          0|         1|\n",
      "|    32|2018-10-06 10:49:29|Beautiful_ Dirty_...|       29|          0|         1|\n",
      "|    32|2018-10-06 10:52:21|        Without Fear|       30|          0|         1|\n",
      "|    32|2018-10-06 10:57:11|       Fisher Of Men|       31|          0|         1|\n",
      "|    32|2018-10-06 10:57:12|                null|       31|          0|         1|\n",
      "|    32|2018-10-06 11:00:23|I Don't Want To H...|       32|          0|         1|\n",
      "|    32|2018-10-06 11:04:44|         Rising Moon|       33|          0|         1|\n",
      "|    32|2018-10-06 11:07:55|        Capable Girl|       34|          0|         1|\n",
      "|    32|2018-10-06 11:11:25|Am I High (Feat. ...|       35|          0|         1|\n",
      "|    32|2018-10-06 11:16:13|         Mockingbird|       36|          0|         1|\n",
      "|    32|2018-10-06 11:20:23|               Yeah!|       37|          0|         1|\n",
      "|    32|2018-10-06 11:20:24|                null|       37|          0|         1|\n",
      "|    32|2018-10-06 11:24:33| Who Knows Who Cares|       38|          0|         1|\n",
      "|    32|2018-10-06 11:24:34|                null|       38|          0|         1|\n",
      "|    32|2018-10-08 13:19:00|Road Trippin' (Al...|       39|          0|         1|\n",
      "|    32|2018-10-08 13:22:24|             Far Far|       40|          0|         1|\n",
      "|    32|2018-10-08 13:26:44|Nothing Left (Alb...|       41|          0|         1|\n",
      "|    32|2018-10-08 13:30:48|For Once In My Li...|       42|          0|         1|\n",
      "|    32|2018-10-08 13:31:16|                null|       42|          0|         1|\n",
      "|    32|2018-10-08 13:33:21|            Tive Sim|       43|          0|         1|\n",
      "|    32|2018-10-08 13:35:28|        EMCEE Murdah|       44|          0|         1|\n",
      "|    32|2018-10-08 13:38:59|Space (I Believe In)|       45|          0|         1|\n",
      "|    32|2018-10-08 13:43:17|      Southern State|       46|          0|         1|\n",
      "|    32|2018-10-08 13:47:57|     Rock The Casbah|       47|          0|         1|\n",
      "|    32|2018-10-08 13:50:05|                null|       47|          0|         1|\n",
      "|    32|2018-10-08 13:50:06|                null|       47|          0|         1|\n",
      "|    32|2018-10-08 13:52:35|                null|       47|          0|         1|\n",
      "|    32|2018-10-08 13:52:37|         Greece 2000|       48|          0|         1|\n",
      "|    32|2018-10-08 13:59:28|    Hey_ Soul Sister|       49|          0|         1|\n",
      "|    32|2018-10-08 14:03:04|My Ropin' Days Ar...|       50|          0|         1|\n",
      "|    32|2018-10-08 14:06:27|      Russia Privjet|       51|          0|         1|\n",
      "|    32|2018-10-08 14:10:34|   Pop Into My Heart|       52|          0|         1|\n",
      "|    32|2018-10-08 14:13:53|Werewolf Women Of...|       53|          0|         1|\n",
      "|    32|2018-10-08 14:16:54|  Heartbreak Warfare|       54|          0|         1|\n",
      "|    32|2018-10-08 14:21:23|            Big Idea|       55|          0|         1|\n",
      "|    32|2018-10-08 14:24:48|Here (In Your Arm...|       56|          0|         1|\n",
      "|    32|2018-10-08 14:28:26|Moar Ghosts 'n' S...|       57|          0|         1|\n",
      "|    32|2018-10-08 14:33:22|        The Best Day|       58|          0|         1|\n",
      "|    32|2018-10-08 14:37:28|Orange TrÃÂ¤gt N...|       59|          0|         1|\n",
      "|    32|2018-10-08 14:40:52|Clint Eastwood (E...|       60|          0|         1|\n",
      "|    32|2018-10-08 14:46:49|             O Raaje|       61|          0|         1|\n",
      "|    32|2018-10-08 14:52:31|        It's My Life|       62|          0|         1|\n",
      "|    32|2018-10-08 14:52:32|                null|       62|          0|         1|\n",
      "|    32|2018-10-08 14:56:15|                Mojo|       63|          0|         1|\n",
      "|    32|2018-10-08 14:59:54|Baby Let Me Take ...|       64|          0|         1|\n",
      "|    32|2018-10-08 15:02:15|           Balaclava|       65|          0|         1|\n",
      "|    32|2018-10-08 15:02:16|                null|       65|          0|         1|\n",
      "|    32|2018-10-08 15:05:06|  Prelude To A Dream|       66|          0|         1|\n",
      "|    32|2018-10-08 15:07:46|                null|       66|          0|         1|\n",
      "|    32|2018-10-08 15:08:35|Sympathy For The ...|       67|          0|         1|\n",
      "|    32|2018-10-08 15:16:10|Jerk It Out (Orig...|       68|          0|         1|\n",
      "|    32|2018-10-08 15:19:25|           All Alone|       69|          0|         1|\n",
      "|    32|2018-10-08 15:19:26|                null|       69|          0|         1|\n",
      "|    32|2018-10-08 15:22:19|                null|       69|          0|         1|\n",
      "|    32|2018-10-08 15:22:54|           Sandstorm|       70|          0|         1|\n",
      "|    32|2018-10-08 15:25:02|                null|       70|          0|         1|\n",
      "|    32|2018-10-08 15:29:35|                null|       70|          0|         1|\n",
      "|    32|2018-10-08 15:30:23| Long Arm Of The Law|       71|          0|         1|\n",
      "|    32|2018-10-08 15:35:42|        Wishing Well|       72|          0|         1|\n",
      "|    32|2018-10-08 15:39:12|                null|       72|          0|         1|\n",
      "|    32|2018-10-08 15:39:39|It's Just Like Su...|       73|          0|         1|\n",
      "|    32|2018-10-08 15:43:46|  Sentimental Street|       74|          0|         1|\n",
      "|    32|2018-10-08 15:47:41|      Come on Closer|       75|          0|         1|\n",
      "|    32|2018-10-08 15:51:27|                Undo|       76|          0|         1|\n",
      "|    32|2018-10-08 15:57:15|Electric Fever (I...|       77|          0|         1|\n",
      "|    32|2018-10-08 16:03:28|              Rianna|       78|          0|         1|\n",
      "|    32|2018-10-08 16:05:41|I'd Rather Fuck Y...|       79|          0|         1|\n",
      "|    32|2018-10-08 16:09:38|   Anchor Of My Soul|       80|          0|         1|\n",
      "|    32|2018-10-08 16:10:30|                null|       80|          0|         1|\n",
      "|    32|2018-10-08 16:10:31|                null|       80|          0|         1|\n",
      "|    32|2018-10-08 16:10:46|                null|       80|          1|         1|\n",
      "+------+-------------------+--------------------+---------+-----------+----------+\n",
      "\n"
     ]
    }
   ],
   "source": [
    "# check\n",
    "df_valid.select('userId', 'dt', 'song', 'num_songs', 'churn_event',\n",
    "                'churn_user').where(df_valid['userId'] == 32).show(200)"
   ]
  },
  {
   "cell_type": "code",
   "execution_count": 69,
   "metadata": {},
   "outputs": [],
   "source": [
    "def make_boxplot(df, col_name):\n",
    "    \"\"\"Return boxplot of stayed and churn for the attribute col_name of the dataframe df.\"\"\"\n",
    "    df_stayed = df.filter(df['churn_user'] == 0).select(\n",
    "        col_name).toPandas()\n",
    "    df_churn = df.filter(df['churn_user'] == 1).select(\n",
    "        col_name).toPandas()\n",
    "\n",
    "    df = pd.concat([df_stayed, df_churn], axis=1, ignore_index=True)\n",
    "    df.columns = ['stayed', 'churn']\n",
    "\n",
    "    statistics = df.describe().transpose()\n",
    "\n",
    "    ax = df.boxplot()\n",
    "    ax.set_title(col_name + ' per week', fontsize=12)\n",
    "    ax.set_ylabel('Count', fontsize=12)\n",
    "\n",
    "    return statistics, ax"
   ]
  },
  {
   "cell_type": "code",
   "execution_count": 70,
   "metadata": {},
   "outputs": [
    {
     "data": {
      "text/plain": [
       "(           count        mean         std  min    25%    50%    75%     max\n",
       " stayed  233290.0  327.931956  291.710516  0.0  106.0  250.0  471.0  1739.0\n",
       " churn    44864.0  322.473676  276.914138  0.0  102.0  240.0  460.0  1229.0,\n",
       " <matplotlib.axes._subplots.AxesSubplot at 0x7fc188543950>)"
      ]
     },
     "execution_count": 70,
     "metadata": {},
     "output_type": "execute_result"
    },
    {
     "data": {
      "image/png": "[encoded data removed]",
      "text/plain": [
       "<Figure size 432x288 with 1 Axes>"
      ]
     },
     "metadata": {
      "needs_background": "light"
     },
     "output_type": "display_data"
    }
   ],
   "source": [
    "make_boxplot(df_valid, 'num_songs')"
   ]
  },
  {
   "cell_type": "markdown",
   "metadata": {},
   "source": [
    "### Artist"
   ]
  },
  {
   "cell_type": "code",
   "execution_count": 71,
   "metadata": {},
   "outputs": [],
   "source": [
    "# number of distinct artists played in a week\n",
    "df_valid = df_valid.withColumn(\"num_artists\", F.size(\n",
    "    F.collect_set(\"artist\").over(windowval)))"
   ]
  },
  {
   "cell_type": "code",
   "execution_count": 72,
   "metadata": {},
   "outputs": [
    {
     "data": {
      "text/plain": [
       "(           count        mean         std  min    25%    50%    75%     max\n",
       " stayed  233290.0  276.899246  221.271778  0.0  101.0  227.0  403.0  1206.0\n",
       " churn    44864.0  273.729494  215.208273  0.0   98.0  220.0  396.0   916.0,\n",
       " <matplotlib.axes._subplots.AxesSubplot at 0x7fc18707c450>)"
      ]
     },
     "execution_count": 72,
     "metadata": {},
     "output_type": "execute_result"
    },
    {
     "data": {
      "image/png": "[encoded data removed]",
      "text/plain": [
       "<Figure size 432x288 with 1 Axes>"
      ]
     },
     "metadata": {
      "needs_background": "light"
     },
     "output_type": "display_data"
    }
   ],
   "source": [
    "make_boxplot(df_valid, 'num_artists')"
   ]
  },
  {
   "cell_type": "markdown",
   "metadata": {},
   "source": [
    "### Session"
   ]
  },
  {
   "cell_type": "code",
   "execution_count": 73,
   "metadata": {},
   "outputs": [],
   "source": [
    "# number of sessions in a week\n",
    "df_valid = df_valid.withColumn(\n",
    "    'num_sessions', F.count('sessionId').over(windowval))"
   ]
  },
  {
   "cell_type": "code",
   "execution_count": 74,
   "metadata": {},
   "outputs": [
    {
     "data": {
      "text/plain": [
       "(           count        mean         std  min    25%    50%    75%     max\n",
       " stayed  233290.0  394.943024  346.035217  1.0  131.0  303.0  566.0  2044.0\n",
       " churn    44864.0  389.186831  324.166695  1.0  130.0  298.0  557.0  1488.0,\n",
       " <matplotlib.axes._subplots.AxesSubplot at 0x7fc17ef7c090>)"
      ]
     },
     "execution_count": 74,
     "metadata": {},
     "output_type": "execute_result"
    },
    {
     "data": {
      "image/png": "[encoded data removed]",
      "text/plain": [
       "<Figure size 432x288 with 1 Axes>"
      ]
     },
     "metadata": {
      "needs_background": "light"
     },
     "output_type": "display_data"
    }
   ],
   "source": [
    "make_boxplot(df_valid, 'num_sessions')"
   ]
  },
  {
   "cell_type": "markdown",
   "metadata": {},
   "source": [
    "### Status"
   ]
  },
  {
   "cell_type": "code",
   "execution_count": 75,
   "metadata": {},
   "outputs": [
    {
     "name": "stdout",
     "output_type": "stream",
     "text": [
      "+------+------+\n",
      "|status| count|\n",
      "+------+------+\n",
      "|   307| 23184|\n",
      "|   404|   252|\n",
      "|   200|254718|\n",
      "+------+------+\n",
      "\n"
     ]
    }
   ],
   "source": [
    "df_valid.groupby('status').count().show()"
   ]
  },
  {
   "cell_type": "code",
   "execution_count": 76,
   "metadata": {},
   "outputs": [],
   "source": [
    "# flag the status 'redirect' and 'not found'\n",
    "flag_redirect = F.udf(lambda x: 1 if x == 307 else 0, T.IntegerType())\n",
    "flag_not_found = F.udf(lambda x: 1 if x == 404 else 0, T.IntegerType())"
   ]
  },
  {
   "cell_type": "code",
   "execution_count": 77,
   "metadata": {},
   "outputs": [],
   "source": [
    "# create redirect and page_not_found columns\n",
    "df_valid = df_valid.withColumn(\n",
    "    \"redirect\", flag_redirect(df_valid['status']))\n",
    "df_valid = df_valid.withColumn(\n",
    "    \"page_not_found\", flag_not_found(df_valid['status']))"
   ]
  },
  {
   "cell_type": "code",
   "execution_count": 78,
   "metadata": {},
   "outputs": [
    {
     "name": "stdout",
     "output_type": "stream",
     "text": [
      "+----------+-------------+\n",
      "|churn_user|sum(redirect)|\n",
      "+----------+-------------+\n",
      "|         1|         3695|\n",
      "|         0|        19489|\n",
      "+----------+-------------+\n",
      "\n"
     ]
    }
   ],
   "source": [
    "df_valid.groupBy('churn_user').sum('redirect').show()"
   ]
  },
  {
   "cell_type": "code",
   "execution_count": 79,
   "metadata": {},
   "outputs": [
    {
     "name": "stdout",
     "output_type": "stream",
     "text": [
      "+----------+-------------------+\n",
      "|churn_user|sum(page_not_found)|\n",
      "+----------+-------------------+\n",
      "|         1|                 32|\n",
      "|         0|                220|\n",
      "+----------+-------------------+\n",
      "\n"
     ]
    }
   ],
   "source": [
    "df_valid.groupBy('churn_user').sum('page_not_found').show()"
   ]
  },
  {
   "cell_type": "code",
   "execution_count": 80,
   "metadata": {},
   "outputs": [
    {
     "name": "stdout",
     "output_type": "stream",
     "text": [
      "+----------------+\n",
      "|sum(churn_event)|\n",
      "+----------------+\n",
      "|               0|\n",
      "+----------------+\n",
      "\n"
     ]
    }
   ],
   "source": [
    "df_valid.filter(df_valid['status'] == '307').select(\n",
    "    F.sum(\"churn_event\")).show()"
   ]
  },
  {
   "cell_type": "code",
   "execution_count": 81,
   "metadata": {},
   "outputs": [
    {
     "name": "stdout",
     "output_type": "stream",
     "text": [
      "+----------------+\n",
      "|sum(churn_event)|\n",
      "+----------------+\n",
      "|              52|\n",
      "+----------------+\n",
      "\n"
     ]
    }
   ],
   "source": [
    "df_valid.filter(df_valid['status'] == '200').select(\n",
    "    F.sum(\"churn_event\")).show()"
   ]
  },
  {
   "cell_type": "markdown",
   "metadata": {},
   "source": [
    "### Page"
   ]
  },
  {
   "cell_type": "code",
   "execution_count": 82,
   "metadata": {},
   "outputs": [
    {
     "name": "stdout",
     "output_type": "stream",
     "text": [
      "+-------------------------+------+\n",
      "|page                     |count |\n",
      "+-------------------------+------+\n",
      "|Cancel                   |52    |\n",
      "|Submit Downgrade         |63    |\n",
      "|Thumbs Down              |2546  |\n",
      "|Home                     |10082 |\n",
      "|Downgrade                |2055  |\n",
      "|Roll Advert              |3933  |\n",
      "|Logout                   |3226  |\n",
      "|Save Settings            |310   |\n",
      "|Cancellation Confirmation|52    |\n",
      "|About                    |495   |\n",
      "|Settings                 |1514  |\n",
      "|Add to Playlist          |6526  |\n",
      "|Add Friend               |4277  |\n",
      "|NextSong                 |228108|\n",
      "|Thumbs Up                |12551 |\n",
      "|Help                     |1454  |\n",
      "|Upgrade                  |499   |\n",
      "|Error                    |252   |\n",
      "|Submit Upgrade           |159   |\n",
      "+-------------------------+------+\n",
      "\n"
     ]
    }
   ],
   "source": [
    "df_valid.groupby('page').count().show(22, False)"
   ]
  },
  {
   "cell_type": "code",
   "execution_count": 83,
   "metadata": {},
   "outputs": [],
   "source": [
    "# create aggregate features from the column 'page'\n",
    "\n",
    "pages = ['Thumbs Down', 'Thumbs Up', 'Home', 'Roll Advert',\n",
    "         'Logout', 'Add to Playlist', 'Add Friend', 'Error']\n",
    "\n",
    "for page in pages:\n",
    "    flag_page = F.udf(lambda x: 1 if x == page else 0, T.IntegerType())\n",
    "    df_valid = df_valid.withColumn('flag', flag_page('page'))\n",
    "    df_valid = df_valid.withColumn(\n",
    "        'num_' + page, F.sum('flag').over(windowval)).drop('flag')"
   ]
  },
  {
   "cell_type": "code",
   "execution_count": 84,
   "metadata": {},
   "outputs": [
    {
     "data": {
      "image/png": "[encoded data removed]",
      "text/plain": [
       "<Figure size 432x288 with 1 Axes>"
      ]
     },
     "metadata": {
      "needs_background": "light"
     },
     "output_type": "display_data"
    }
   ],
   "source": [
    "make_boxplot(df_valid, 'num_Thumbs Down')\n",
    "plt.savefig('num_Thumbs_Down')"
   ]
  },
  {
   "cell_type": "code",
   "execution_count": 85,
   "metadata": {},
   "outputs": [
    {
     "data": {
      "text/plain": [
       "(           count      mean        std  min  25%   50%   75%   max\n",
       " stayed  233290.0  17.99159  16.784588  0.0  5.0  13.0  26.0  95.0\n",
       " churn    44864.0  16.06941  14.271955  0.0  5.0  12.0  24.0  69.0,\n",
       " <matplotlib.axes._subplots.AxesSubplot at 0x7fc184447410>)"
      ]
     },
     "execution_count": 85,
     "metadata": {},
     "output_type": "execute_result"
    },
    {
     "data": {
      "image/png": "[encoded data removed]",
      "text/plain": [
       "<Figure size 432x288 with 1 Axes>"
      ]
     },
     "metadata": {
      "needs_background": "light"
     },
     "output_type": "display_data"
    }
   ],
   "source": [
    "make_boxplot(df_valid, 'num_Thumbs Up')"
   ]
  },
  {
   "cell_type": "code",
   "execution_count": 86,
   "metadata": {},
   "outputs": [
    {
     "data": {
      "text/plain": [
       "(           count       mean        std  min  25%   50%   75%   max\n",
       " stayed  233290.0  13.683514  11.509309  0.0  5.0  11.0  19.0  62.0\n",
       " churn    44864.0  13.979471  10.738320  0.0  5.0  11.0  21.0  55.0,\n",
       " <matplotlib.axes._subplots.AxesSubplot at 0x7fc18796e310>)"
      ]
     },
     "execution_count": 86,
     "metadata": {},
     "output_type": "execute_result"
    },
    {
     "data": {
      "image/png": "[encoded data removed]",
      "text/plain": [
       "<Figure size 432x288 with 1 Axes>"
      ]
     },
     "metadata": {
      "needs_background": "light"
     },
     "output_type": "display_data"
    }
   ],
   "source": [
    "make_boxplot(df_valid, 'num_Home')"
   ]
  },
  {
   "cell_type": "code",
   "execution_count": 87,
   "metadata": {},
   "outputs": [
    {
     "data": {
      "image/png": "[encoded data removed]",
      "text/plain": [
       "<Figure size 432x288 with 1 Axes>"
      ]
     },
     "metadata": {
      "needs_background": "light"
     },
     "output_type": "display_data"
    }
   ],
   "source": [
    "make_boxplot(df_valid, 'num_Roll Advert')\n",
    "plt.savefig('num_Roll_Advert')"
   ]
  },
  {
   "cell_type": "code",
   "execution_count": 88,
   "metadata": {},
   "outputs": [
    {
     "data": {
      "text/plain": [
       "(           count      mean       std  min  25%  50%  75%   max\n",
       " stayed  233290.0  4.208282  4.198681  0.0  1.0  3.0  6.0  25.0\n",
       " churn    44864.0  4.550152  4.018905  0.0  1.0  4.0  7.0  18.0,\n",
       " <matplotlib.axes._subplots.AxesSubplot at 0x7fc184761250>)"
      ]
     },
     "execution_count": 88,
     "metadata": {},
     "output_type": "execute_result"
    },
    {
     "data": {
      "image/png": "[encoded data removed]",
      "text/plain": [
       "<Figure size 432x288 with 1 Axes>"
      ]
     },
     "metadata": {
      "needs_background": "light"
     },
     "output_type": "display_data"
    }
   ],
   "source": [
    "make_boxplot(df_valid, 'num_Logout')"
   ]
  },
  {
   "cell_type": "code",
   "execution_count": 89,
   "metadata": {},
   "outputs": [
    {
     "data": {
      "text/plain": [
       "(           count      mean       std  min  25%  50%   75%   max\n",
       " stayed  233290.0  9.494826  9.315929  0.0  3.0  7.0  14.0  61.0\n",
       " churn    44864.0  9.321616  8.737732  0.0  3.0  6.0  14.0  47.0,\n",
       " <matplotlib.axes._subplots.AxesSubplot at 0x7fc183fbced0>)"
      ]
     },
     "execution_count": 89,
     "metadata": {},
     "output_type": "execute_result"
    },
    {
     "data": {
      "image/png": "[encoded data removed]",
      "text/plain": [
       "<Figure size 432x288 with 1 Axes>"
      ]
     },
     "metadata": {
      "needs_background": "light"
     },
     "output_type": "display_data"
    }
   ],
   "source": [
    "make_boxplot(df_valid, 'num_Add to Playlist')"
   ]
  },
  {
   "cell_type": "code",
   "execution_count": 90,
   "metadata": {},
   "outputs": [
    {
     "data": {
      "image/png": "[encoded data removed]",
      "text/plain": [
       "<Figure size 432x288 with 1 Axes>"
      ]
     },
     "metadata": {
      "needs_background": "light"
     },
     "output_type": "display_data"
    }
   ],
   "source": [
    "make_boxplot(df_valid, 'num_Add Friend')\n",
    "plt.savefig('num_Add_Friend')"
   ]
  },
  {
   "cell_type": "code",
   "execution_count": 91,
   "metadata": {},
   "outputs": [
    {
     "data": {
      "text/plain": [
       "(           count      mean       std  min  25%  50%  75%  max\n",
       " stayed  233290.0  0.317665  0.600159  0.0  0.0  0.0  1.0  4.0\n",
       " churn    44864.0  0.231589  0.496960  0.0  0.0  0.0  0.0  2.0,\n",
       " <matplotlib.axes._subplots.AxesSubplot at 0x7fc16c289710>)"
      ]
     },
     "execution_count": 91,
     "metadata": {},
     "output_type": "execute_result"
    },
    {
     "data": {
      "image/png": "[encoded data removed]",
      "text/plain": [
       "<Figure size 432x288 with 1 Axes>"
      ]
     },
     "metadata": {
      "needs_background": "light"
     },
     "output_type": "display_data"
    }
   ],
   "source": [
    "make_boxplot(df_valid, 'num_Error')"
   ]
  },
  {
   "cell_type": "code",
   "execution_count": 92,
   "metadata": {},
   "outputs": [],
   "source": [
    "df_temp = df_valid.select(\n",
    "    'churn_user',\n",
    "    'itemInSession',\n",
    "    'length',\n",
    "    'days_since_reg',\n",
    "    'hour',\n",
    "    'day',\n",
    "    'month',\n",
    "    'num_songs',\n",
    "    'num_artists',\n",
    "    'num_sessions',\n",
    "    'num_Thumbs Down',\n",
    "    'num_Thumbs Up',\n",
    "    'num_Home',\n",
    "    'num_Roll Advert',\n",
    "    'num_Logout',\n",
    "    'num_Add to Playlist',\n",
    "    'num_Add Friend',\n",
    "    'num_Error'\n",
    ").toPandas()"
   ]
  },
  {
   "cell_type": "code",
   "execution_count": 93,
   "metadata": {},
   "outputs": [
    {
     "data": {
      "image/png": "[encoded data removed]",
      "text/plain": [
       "<Figure size 1080x864 with 2 Axes>"
      ]
     },
     "metadata": {
      "needs_background": "light"
     },
     "output_type": "display_data"
    }
   ],
   "source": [
    "plt.figure(figsize=(15, 12))\n",
    "sns.heatmap(df_temp.corr().abs(), annot=True, cmap='coolwarm');\n",
    "#plt.ylim(12, 0)"
   ]
  },
  {
   "cell_type": "markdown",
   "metadata": {},
   "source": [
    "Highly correlated features will be dropped to avoid multicollinearity. "
   ]
  },
  {
   "cell_type": "code",
   "execution_count": 94,
   "metadata": {},
   "outputs": [],
   "source": [
    "df_temp_2 = df_valid.select(\n",
    "    'churn_user',\n",
    "    'itemInSession',\n",
    "    'days_since_reg',\n",
    "    'hour',\n",
    "    'day',\n",
    "    'month',\n",
    "    'num_Thumbs Down',\n",
    "    'num_Roll Advert',\n",
    "    'num_Add Friend',\n",
    "    'num_Error'\n",
    ").toPandas()"
   ]
  },
  {
   "cell_type": "code",
   "execution_count": 95,
   "metadata": {},
   "outputs": [
    {
     "data": {
      "image/png": "[encoded data removed]",
      "text/plain": [
       "<Figure size 1080x864 with 2 Axes>"
      ]
     },
     "metadata": {
      "needs_background": "light"
     },
     "output_type": "display_data"
    }
   ],
   "source": [
    "plt.figure(figsize=(15, 12))\n",
    "ax = sns.heatmap(df_temp_2.corr().abs(), annot=True, cmap='coolwarm');\n",
    "plt.xticks(fontsize=16)\n",
    "plt.yticks(fontsize=16)\n",
    "plt.tight_layout()\n",
    "\n",
    "plt.savefig('heatmap')"
   ]
  },
  {
   "cell_type": "markdown",
   "metadata": {},
   "source": [
    "# Feature Engineering\n",
    "Data preprocessing and preparing machine learning pipelines for logistic regression, random forest and gradient boosted trees models. Stages for the pipelines include indexing and one-hot encoding categorical columns, transforming columns into a single vector column, and scaling the values of the features into the range from 0 to 1."
   ]
  },
  {
   "cell_type": "code",
   "execution_count": 96,
   "metadata": {},
   "outputs": [],
   "source": [
    "def clean_data(df):\n",
    "    \"\"\"Return valid data by dropping missing values in registration.\"\"\"\n",
    "    df_clean = df.dropna(subset=['registration']).na.fill(\n",
    "        0, subset=['length'])\n",
    "\n",
    "    return df_clean\n",
    "\n",
    "\n",
    "def is_churn(df):\n",
    "    \"\"\"Return dataframe with labels for churn users.\"\"\"\n",
    "\n",
    "    flag_churn_event = F.udf(\n",
    "        lambda x: 1 if x == 'Cancellation Confirmation' else 0, T.IntegerType())\n",
    "\n",
    "    df_new = df.withColumn(\n",
    "        'churn_event', flag_churn_event(F.col('page')))\n",
    "\n",
    "    df_new = df_new.withColumn('label', F.max(\n",
    "        'churn_event').over(Window.partitionBy('userId')))\n",
    "\n",
    "    return df_new\n",
    "\n",
    "\n",
    "def registration_days(df):\n",
    "    \"\"\"Return the number of days since registration.\"\"\"\n",
    "\n",
    "    df_new = df.withColumn('registration date', (F.col(\n",
    "        'registration')/1000).cast(T.TimestampType()))\n",
    "\n",
    "    df_new = df_new.withColumn(\n",
    "        'date', (F.col('ts')/1000).cast(T.TimestampType()))\n",
    "\n",
    "    df_new = df_new.withColumn('days_since_registration', (F.datediff(\n",
    "        'date', 'registration date'))).drop('date', 'registration date')\n",
    "\n",
    "    return df_new\n",
    "\n",
    "\n",
    "def timestamp(df):\n",
    "    \"\"\"Return dataframe with hour, day, and month.\"\"\"\n",
    "\n",
    "    get_hour = F.udf(lambda x: datetime.datetime.fromtimestamp(\n",
    "        x / 1000.0).hour, T.IntegerType())\n",
    "    get_day = F.udf(lambda x: datetime.datetime.fromtimestamp(\n",
    "        x / 1000.0).day, T.IntegerType())\n",
    "    get_month = F.udf(lambda x: datetime.datetime.fromtimestamp(\n",
    "        x / 1000.0).month, T.IntegerType())\n",
    "\n",
    "    df_new = df.withColumn('hour', get_hour(F.col('ts'))).withColumn(\n",
    "        'day', get_day(F.col('ts'))).withColumn('month', get_month(F.col('ts')))\n",
    "\n",
    "    return df_new\n",
    "\n",
    "# time window to find aggregate values per day\n",
    "\n",
    "\n",
    "def days(x):\n",
    "    \"\"\"Return time in seconds for the input time in days.\"\"\"\n",
    "    time_in_seconds = x * 86400\n",
    "    return time_in_seconds\n",
    "\n",
    "\n",
    "windowval = (\n",
    "    Window.partitionBy(\"userId\")\n",
    "    .orderBy(F.col(\"ts\")/1000)\n",
    "    .rangeBetween(-days(7), 0)\n",
    ")\n",
    "\n",
    "\n",
    "# create aggregate features from the column 'page'\n",
    "pages = ['Thumbs Down', 'Roll Advert', 'Add Friend', 'Error']\n",
    "\n",
    "\n",
    "def aggregate_features(df):\n",
    "    \"\"\"Return selected aggregate features from page.\"\"\"\n",
    "    df_new = df\n",
    "\n",
    "    for page in pages:\n",
    "\n",
    "        flag_page = F.udf(lambda x: 1 if x ==\n",
    "                          page else 0, T.IntegerType())\n",
    "        df_new = df_new.withColumn('flag', flag_page('page'))\n",
    "        df_new = df_new.withColumn(\n",
    "            'num_' + page, F.sum('flag').over(windowval)).drop('flag')\n",
    "\n",
    "    return df_new\n",
    "\n",
    "\n",
    "def retrive_state(df):\n",
    "    \"\"\"Return dataframe with states retrived from locations.\"\"\"\n",
    "    df_new = df\n",
    "    get_state = F.udf(lambda x: x[-2:])\n",
    "    df_new = df_new.withColumn(\"state\", get_state(\n",
    "        df_new['location'])).drop('location')\n",
    "\n",
    "    return df_new\n",
    "\n",
    "\n",
    "ignore_list = ['artist',\n",
    "               'auth',\n",
    "               'firstName',\n",
    "               'length',\n",
    "               'lastName',\n",
    "               'method',\n",
    "               'page',\n",
    "               'registration',\n",
    "               'sessionId',\n",
    "               'song',\n",
    "               'ts',\n",
    "               'userAgent',\n",
    "               'userId',\n",
    "               'churn_event',\n",
    "               ]\n",
    "\n",
    "\n",
    "def ignore(df, ignore_list):\n",
    "    \"\"\"Remove unnecessary feature columns.\"\"\"\n",
    "    df_new = df.drop(*ignore_list)\n",
    "\n",
    "    return df_new\n",
    "\n",
    "\n",
    "def preprocess_data(df):\n",
    "    \"\"\"\n",
    "      1. Remove invalid data.\n",
    "      2. Add churn event and churn user labels.\n",
    "      3. Add number of days since registration.\n",
    "      4. Add hour, day, and month.\n",
    "      5. Add aggregate features.\n",
    "      6. Get state from location.\n",
    "      7. Remove unnecessary feature columns.\n",
    "    \"\"\"\n",
    "\n",
    "    df_clean = clean_data(df)\n",
    "    df_churn = is_churn(df_clean)\n",
    "    df_reg_days = registration_days(df_churn)\n",
    "    df_timestamp = timestamp(df_reg_days)\n",
    "    df_aggregate = aggregate_features(df_timestamp)\n",
    "    df_state = retrive_state(df_aggregate)\n",
    "    df_processed = ignore(df_state, ignore_list)\n",
    "\n",
    "    return df_processed\n",
    "\n",
    "\n",
    "df_processed = preprocess_data(df).cache()\n",
    "df.unpersist()\n",
    "\n",
    "\n",
    "# Prepare stages for ML Pipeline\n",
    "stages = []\n",
    "\n",
    "# Index and one-hot encode categorical columns\n",
    "cat_columns = ['gender', 'level', 'status', 'state', 'month']\n",
    "\n",
    "for column in cat_columns:\n",
    "    indexer = StringIndexer(inputCol=column, outputCol=column+'_index')\n",
    "    encoder = OneHotEncoderEstimator(\n",
    "        inputCols=[indexer.getOutputCol()], outputCols=[column + '_vect'])\n",
    "\n",
    "    stages += [indexer, encoder]\n",
    "\n",
    "num_columns = [\n",
    "    'itemInSession',\n",
    "    'days_since_registration',\n",
    "    'hour',\n",
    "    'day',\n",
    "    'num_Thumbs Down',\n",
    "    'num_Roll Advert',\n",
    "    'num_Add Friend',\n",
    "    'num_Error'\n",
    "]\n",
    "\n",
    "# Transform columns into a single vector column.\n",
    "vect_assembler_inputs = [c + '_vect' for c in cat_columns] + num_columns\n",
    "assembler = VectorAssembler(\n",
    "    inputCols=vect_assembler_inputs, outputCol=\"features\")\n",
    "\n",
    "stages += [assembler]\n",
    "\n",
    "# Rescale  each feature into the range from 0 to 1.\n",
    "scaler = MinMaxScaler(inputCol=\"features\", outputCol=\"scaled_features\")\n",
    "\n",
    "stages += [scaler]\n",
    "\n",
    "# Instantiate classifiers\n",
    "lr = LogisticRegression(labelCol='label', featuresCol='scaled_features')\n",
    "\n",
    "rfc = RandomForestClassifier(\n",
    "    labelCol='label', featuresCol='scaled_features')\n",
    "\n",
    "gbt = GBTClassifier(labelCol='label', featuresCol='scaled_features')\n",
    "\n",
    "# Set stages for classifiers\n",
    "stages_lr = stages + [lr]\n",
    "stages_rfc = stages + [rfc]\n",
    "stages_gbt = stages + [gbt]"
   ]
  },
  {
   "cell_type": "code",
   "execution_count": 97,
   "metadata": {},
   "outputs": [
    {
     "name": "stdout",
     "output_type": "stream",
     "text": [
      "df_processed shape: 278154, 14\n"
     ]
    }
   ],
   "source": [
    "print('df_processed shape: {}, {}'.format(df_processed.count(), len(df_processed.columns)))"
   ]
  },
  {
   "cell_type": "code",
   "execution_count": 98,
   "metadata": {},
   "outputs": [
    {
     "data": {
      "text/plain": [
       "['gender',\n",
       " 'itemInSession',\n",
       " 'level',\n",
       " 'status',\n",
       " 'label',\n",
       " 'days_since_registration',\n",
       " 'hour',\n",
       " 'day',\n",
       " 'month',\n",
       " 'num_Thumbs Down',\n",
       " 'num_Roll Advert',\n",
       " 'num_Add Friend',\n",
       " 'num_Error',\n",
       " 'state']"
      ]
     },
     "execution_count": 98,
     "metadata": {},
     "output_type": "execute_result"
    }
   ],
   "source": [
    "df_processed.columns"
   ]
  },
  {
   "cell_type": "markdown",
   "metadata": {},
   "source": [
    "# Modeling\n",
    "Split the full dataset into train and test datasets, set stages for pipelines and train models."
   ]
  },
  {
   "cell_type": "code",
   "execution_count": 99,
   "metadata": {},
   "outputs": [],
   "source": [
    "# Split the full dataset into train and test sets\n",
    "train, test = df_processed.randomSplit([0.8, 0.2], seed=42)"
   ]
  },
  {
   "cell_type": "code",
   "execution_count": 100,
   "metadata": {},
   "outputs": [],
   "source": [
    "# set pipelines\n",
    "pipeline_lr = Pipeline().setStages(stages_lr)\n",
    "pipeline_rfc = Pipeline().setStages(stages_rfc)\n",
    "pipeline_gbt = Pipeline().setStages(stages_gbt)"
   ]
  },
  {
   "cell_type": "code",
   "execution_count": 101,
   "metadata": {},
   "outputs": [],
   "source": [
    "# train models\n",
    "model_lr = pipeline_lr.fit(train)\n",
    "model_rfc = pipeline_rfc.fit(train)\n",
    "model_gbt = pipeline_gbt.fit(train)"
   ]
  },
  {
   "cell_type": "markdown",
   "metadata": {},
   "source": [
    "# Model Evaluation"
   ]
  },
  {
   "cell_type": "code",
   "execution_count": 102,
   "metadata": {},
   "outputs": [],
   "source": [
    "# Instantiate evaluators\n",
    "f1_eval = MulticlassClassificationEvaluator(\n",
    "    labelCol='label', metricName='f1')  # F1 score evaluator\n",
    "\n",
    "AUC_eval = BinaryClassificationEvaluator(\n",
    "    labelCol='label', metricName=\"areaUnderROC\")  # AUC evaluator"
   ]
  },
  {
   "cell_type": "code",
   "execution_count": 103,
   "metadata": {},
   "outputs": [],
   "source": [
    "def evaluate_model(model):\n",
    "    \"\"\" Return f1 and AUC scores of the model evaluated with test data.\"\"\"\n",
    "    preds = model.transform(test)\n",
    "    f1 = f1_eval.evaluate(preds)\n",
    "    AUC = AUC_eval.evaluate(preds)\n",
    "    \n",
    "    return f1, AUC"
   ]
  },
  {
   "cell_type": "code",
   "execution_count": 104,
   "metadata": {},
   "outputs": [
    {
     "name": "stdout",
     "output_type": "stream",
     "text": [
      "Logistic Regression\n",
      "F1 = 0.8958794536439916\n",
      "AUC = 0.9140674684032412\n"
     ]
    }
   ],
   "source": [
    "lr_f1, lr_AUC = evaluate_model(model_lr)\n",
    "print('Logistic Regression')\n",
    "print('F1 =', lr_f1)\n",
    "print('AUC =', lr_AUC)"
   ]
  },
  {
   "cell_type": "code",
   "execution_count": 105,
   "metadata": {},
   "outputs": [
    {
     "name": "stdout",
     "output_type": "stream",
     "text": [
      "Random Forest Classifier\n",
      "F1 = 0.8185147095822369\n",
      "AUC = 0.9018213197538963\n"
     ]
    }
   ],
   "source": [
    "rfc_f1, rfc_AUC = evaluate_model(model_rfc)\n",
    "print('Random Forest Classifier')\n",
    "print('F1 =', rfc_f1)\n",
    "print('AUC =', rfc_AUC)"
   ]
  },
  {
   "cell_type": "code",
   "execution_count": 106,
   "metadata": {},
   "outputs": [
    {
     "name": "stdout",
     "output_type": "stream",
     "text": [
      "Gradient-boosted Tree Classifier\n",
      "F1 = 0.9307450445480091\n",
      "AUC = 0.9565213897443612\n"
     ]
    }
   ],
   "source": [
    "gbt_f1, gbt_AUC = evaluate_model(model_gbt)\n",
    "print('Gradient-boosted Tree Classifier')\n",
    "print('F1 =', gbt_f1)\n",
    "print('AUC =', gbt_AUC)"
   ]
  },
  {
   "cell_type": "code",
   "execution_count": 107,
   "metadata": {},
   "outputs": [],
   "source": [
    "# create a dataframe for metrics\n",
    "d = {'Classifier': ['LogisticRegression', 'RandomForestClassifier','GBTClassifier'],\n",
    "     'F1': [lr_f1, rfc_f1, gbt_f1], \n",
    "     'AUC': [lr_AUC, rfc_AUC, gbt_AUC]}\n",
    "\n",
    "df_metrics = pd.DataFrame(data=d)"
   ]
  },
  {
   "cell_type": "code",
   "execution_count": 108,
   "metadata": {},
   "outputs": [
    {
     "data": {
      "text/html": [
       "<div>\n",
       "<style scoped>\n",
       "    .dataframe tbody tr th:only-of-type {\n",
       "        vertical-align: middle;\n",
       "    }\n",
       "\n",
       "    .dataframe tbody tr th {\n",
       "        vertical-align: top;\n",
       "    }\n",
       "\n",
       "    .dataframe thead th {\n",
       "        text-align: right;\n",
       "    }\n",
       "</style>\n",
       "<table border=\"1\" class=\"dataframe\">\n",
       "  <thead>\n",
       "    <tr style=\"text-align: right;\">\n",
       "      <th></th>\n",
       "      <th>Classifier</th>\n",
       "      <th>F1</th>\n",
       "      <th>AUC</th>\n",
       "    </tr>\n",
       "  </thead>\n",
       "  <tbody>\n",
       "    <tr>\n",
       "      <th>0</th>\n",
       "      <td>LogisticRegression</td>\n",
       "      <td>0.895879</td>\n",
       "      <td>0.914067</td>\n",
       "    </tr>\n",
       "    <tr>\n",
       "      <th>1</th>\n",
       "      <td>RandomForestClassifier</td>\n",
       "      <td>0.818515</td>\n",
       "      <td>0.901821</td>\n",
       "    </tr>\n",
       "    <tr>\n",
       "      <th>2</th>\n",
       "      <td>GBTClassifier</td>\n",
       "      <td>0.930745</td>\n",
       "      <td>0.956521</td>\n",
       "    </tr>\n",
       "  </tbody>\n",
       "</table>\n",
       "</div>"
      ],
      "text/plain": [
       "               Classifier        F1       AUC\n",
       "0      LogisticRegression  0.895879  0.914067\n",
       "1  RandomForestClassifier  0.818515  0.901821\n",
       "2           GBTClassifier  0.930745  0.956521"
      ]
     },
     "execution_count": 108,
     "metadata": {},
     "output_type": "execute_result"
    }
   ],
   "source": [
    "df_metrics"
   ]
  },
  {
   "cell_type": "markdown",
   "metadata": {},
   "source": [
    "### Model Selection\n",
    "Hyperparameter tuning for GBTClassifier using three-fold cross validation."
   ]
  },
  {
   "cell_type": "code",
   "execution_count": 109,
   "metadata": {},
   "outputs": [],
   "source": [
    "# Create param_grid for Cross Validation\n",
    "param_grid = (ParamGridBuilder()\n",
    "              .addGrid(gbt.stepSize, [0.1, 0.5])\n",
    "              .addGrid(gbt.maxIter, [20, 32])\n",
    "              .build())"
   ]
  },
  {
   "cell_type": "code",
   "execution_count": 110,
   "metadata": {},
   "outputs": [],
   "source": [
    "pipeline = Pipeline().setStages(stages)\n",
    "\n",
    "# Fit the pipeline with training data and transform train and test datasets\n",
    "train_prep = pipeline.fit(train).transform(train).cache()\n",
    "test_prep =pipeline.fit(train).transform(test).cache()"
   ]
  },
  {
   "cell_type": "code",
   "execution_count": 111,
   "metadata": {},
   "outputs": [],
   "source": [
    "cv = CrossValidator(\n",
    "    estimator=gbt,\n",
    "    estimatorParamMaps=param_grid,\n",
    "    evaluator=f1_eval,\n",
    "    numFolds=2)\n",
    "\n",
    "cv_model = cv.fit(train_prep)"
   ]
  },
  {
   "cell_type": "code",
   "execution_count": null,
   "metadata": {},
   "outputs": [],
   "source": [
    "# extract best model's parameters\n",
    "cv_model.bestModel.extractParamMap()"
   ]
  },
  {
   "cell_type": "code",
   "execution_count": null,
   "metadata": {},
   "outputs": [],
   "source": [
    "cv_preds = cv_model.transform(test_prep)"
   ]
  },
  {
   "cell_type": "code",
   "execution_count": null,
   "metadata": {},
   "outputs": [],
   "source": [
    "cv_f1 = f1_eval.evaluate(cv_preds)\n",
    "print('best_model F1 score:', cv_f1)"
   ]
  },
  {
   "cell_type": "markdown",
   "metadata": {},
   "source": [
    "#### Classification Report"
   ]
  },
  {
   "cell_type": "code",
   "execution_count": null,
   "metadata": {},
   "outputs": [],
   "source": [
    "cv_preds_pd = cv_preds.toPandas()\n",
    "labels = cv_preds_pd['label']\n",
    "predictions = cv_preds_pd['prediction']\n",
    "probabilities = cv_preds_pd['probability'].apply(lambda x: x[1]).values"
   ]
  },
  {
   "cell_type": "code",
   "execution_count": null,
   "metadata": {},
   "outputs": [],
   "source": [
    "print(classification_report(labels, predictions))"
   ]
  },
  {
   "cell_type": "code",
   "execution_count": null,
   "metadata": {},
   "outputs": [],
   "source": [
    "confusion_matrix(labels, predictions)"
   ]
  },
  {
   "cell_type": "code",
   "execution_count": null,
   "metadata": {},
   "outputs": [],
   "source": [
    "# Create ROC curve\n",
    "fpr, tpr, _ = roc_curve(labels, probabilities)\n",
    "\n",
    "plt.plot(fpr, tpr)\n",
    "plt.xlabel('False positive rate')\n",
    "plt.ylabel('True positive rate')\n",
    "plt.title('ROC curve');"
   ]
  }
 ],
 "metadata": {
  "kernelspec": {
   "display_name": "Python 3",
   "language": "python",
   "name": "python3"
  },
  "language_info": {
   "codemirror_mode": {
    "name": "ipython",
    "version": 3
   },
   "file_extension": ".py",
   "mimetype": "text/x-python",
   "name": "python",
   "nbconvert_exporter": "python",
   "pygments_lexer": "ipython3",
   "version": "3.7.6"
  }
 },
 "nbformat": 4,
 "nbformat_minor": 4
}
