{
 "cells": [
  {
   "cell_type": "markdown",
   "metadata": {},
   "source": [
    "# Sparkify Project Workspace"
   ]
  },
  {
   "cell_type": "code",
   "execution_count": 1,
   "metadata": {},
   "outputs": [],
   "source": [
    "import os\n",
    "os.environ[\"PYSPARK_PYTHON\"]=\"python3\"\n",
    "os.environ[\"PYSPARK_DRIVER_PYTHON\"] = \"python3\"\n",
    "os.environ[\"JAVA_HOME\"]=\"/Library/java/JavaVirtualMachines/adoptopenjdk-8.jdk/contents/Home/\""
   ]
  },
  {
   "cell_type": "code",
   "execution_count": 2,
   "metadata": {},
   "outputs": [],
   "source": [
    "import findspark\n",
    "findspark.init()"
   ]
  },
  {
   "cell_type": "code",
   "execution_count": 3,
   "metadata": {},
   "outputs": [],
   "source": [
    "# import libraries\n",
    "from pyspark.sql import SparkSession\n",
    "from pyspark.sql import functions as F\n",
    "from pyspark.sql import types as T\n",
    "from pyspark.sql import Window\n",
    "import datetime\n",
    "\n",
    "from pyspark.ml import Pipeline\n",
    "from pyspark.ml.feature import (\n",
    "    StringIndexer, OneHotEncoderEstimator, MinMaxScaler, VectorAssembler)\n",
    "from sklearn.metrics import classification_report, confusion_matrix\n",
    "from pyspark.ml.classification import (\n",
    "    DecisionTreeClassifier, RandomForestClassifier, GBTClassifier, LogisticRegression)\n",
    "from pyspark.ml.tuning import ParamGridBuilder, CrossValidator\n",
    "from pyspark.ml.evaluation import BinaryClassificationEvaluator, MulticlassClassificationEvaluator\n",
    "\n",
    "import numpy as np\n",
    "import pandas as pd\n",
    "import matplotlib.pyplot as plt\n",
    "import seaborn as sns\n",
    "%matplotlib inline"
   ]
  },
  {
   "cell_type": "code",
   "execution_count": 4,
   "metadata": {},
   "outputs": [],
   "source": [
    "# Create spark session\n",
    "spark = SparkSession \\\n",
    "    .builder \\\n",
    "    .appName(\"Sparkify\") \\\n",
    "    .getOrCreate()"
   ]
  },
  {
   "cell_type": "markdown",
   "metadata": {},
   "source": [
    "# Load and Clean Dataset\n",
    "In this workspace, the mini-dataset file is `mini_sparkify_event_data.json`. Load and clean the dataset, checking for invalid or missing data - for example, records without userids or sessionids. "
   ]
  },
  {
   "cell_type": "code",
   "execution_count": 5,
   "metadata": {},
   "outputs": [
    {
     "data": {
      "text/plain": [
       "[Row(artist='Martha Tilston', auth='Logged In', firstName='Colin', gender='M', itemInSession=50, lastName='Freeman', length=277.89016, level='paid', location='Bakersfield, CA', method='PUT', page='NextSong', registration=1538173362000, sessionId=29, song='Rockpools', status=200, ts=1538352117000, userAgent='Mozilla/5.0 (Windows NT 6.1; WOW64; rv:31.0) Gecko/20100101 Firefox/31.0', userId='30'),\n",
       " Row(artist='Five Iron Frenzy', auth='Logged In', firstName='Micah', gender='M', itemInSession=79, lastName='Long', length=236.09424, level='free', location='Boston-Cambridge-Newton, MA-NH', method='PUT', page='NextSong', registration=1538331630000, sessionId=8, song='Canada', status=200, ts=1538352180000, userAgent='\"Mozilla/5.0 (Windows NT 6.1; WOW64) AppleWebKit/537.36 (KHTML, like Gecko) Chrome/37.0.2062.103 Safari/537.36\"', userId='9'),\n",
       " Row(artist='Adam Lambert', auth='Logged In', firstName='Colin', gender='M', itemInSession=51, lastName='Freeman', length=282.8273, level='paid', location='Bakersfield, CA', method='PUT', page='NextSong', registration=1538173362000, sessionId=29, song='Time For Miracles', status=200, ts=1538352394000, userAgent='Mozilla/5.0 (Windows NT 6.1; WOW64; rv:31.0) Gecko/20100101 Firefox/31.0', userId='30')]"
      ]
     },
     "execution_count": 5,
     "metadata": {},
     "output_type": "execute_result"
    }
   ],
   "source": [
    "# Read in sparkify dataset\n",
    "event_data = \"mini_sparkify_event_data.json\"\n",
    "df = spark.read.json(event_data)\n",
    "df.head(3)"
   ]
  },
  {
   "cell_type": "code",
   "execution_count": 96,
   "metadata": {},
   "outputs": [
    {
     "name": "stdout",
     "output_type": "stream",
     "text": [
      "root\n",
      " |-- artist: string (nullable = true)\n",
      " |-- auth: string (nullable = true)\n",
      " |-- firstName: string (nullable = true)\n",
      " |-- gender: string (nullable = true)\n",
      " |-- itemInSession: long (nullable = true)\n",
      " |-- lastName: string (nullable = true)\n",
      " |-- length: double (nullable = true)\n",
      " |-- level: string (nullable = true)\n",
      " |-- location: string (nullable = true)\n",
      " |-- method: string (nullable = true)\n",
      " |-- page: string (nullable = true)\n",
      " |-- registration: long (nullable = true)\n",
      " |-- sessionId: long (nullable = true)\n",
      " |-- song: string (nullable = true)\n",
      " |-- status: long (nullable = true)\n",
      " |-- ts: long (nullable = true)\n",
      " |-- userAgent: string (nullable = true)\n",
      " |-- userId: string (nullable = true)\n",
      "\n"
     ]
    }
   ],
   "source": [
    "df.printSchema()"
   ]
  },
  {
   "cell_type": "code",
   "execution_count": 97,
   "metadata": {},
   "outputs": [
    {
     "data": {
      "text/plain": [
       "286500"
      ]
     },
     "execution_count": 97,
     "metadata": {},
     "output_type": "execute_result"
    }
   ],
   "source": [
    "# number of records\n",
    "df.count()"
   ]
  },
  {
   "cell_type": "code",
   "execution_count": 98,
   "metadata": {},
   "outputs": [
    {
     "name": "stdout",
     "output_type": "stream",
     "text": [
      "+------+----+---------+------+-------------+--------+------+-----+--------+------+----+------------+---------+-----+------+---+---------+------+\n",
      "|artist|auth|firstName|gender|itemInSession|lastName|length|level|location|method|page|registration|sessionId| song|status| ts|userAgent|userId|\n",
      "+------+----+---------+------+-------------+--------+------+-----+--------+------+----+------------+---------+-----+------+---+---------+------+\n",
      "| 58392|   0|     8346|  8346|            0|    8346| 58392|    0|    8346|     0|   0|        8346|        0|58392|     0|  0|     8346|     0|\n",
      "+------+----+---------+------+-------------+--------+------+-----+--------+------+----+------------+---------+-----+------+---+---------+------+\n",
      "\n"
     ]
    }
   ],
   "source": [
    "# check number of missing values in each column\n",
    "missing_values = [F.count(F.when(F.col(c).isNull(), c)).alias(c)\n",
    "                  for c in df.columns]\n",
    "df.select(missing_values).show()"
   ]
  },
  {
   "cell_type": "code",
   "execution_count": 99,
   "metadata": {},
   "outputs": [
    {
     "name": "stdout",
     "output_type": "stream",
     "text": [
      "+----------+\n",
      "|      auth|\n",
      "+----------+\n",
      "|Logged Out|\n",
      "| Cancelled|\n",
      "|     Guest|\n",
      "| Logged In|\n",
      "+----------+\n",
      "\n"
     ]
    }
   ],
   "source": [
    "df.select('auth').dropDuplicates().show()"
   ]
  },
  {
   "cell_type": "code",
   "execution_count": 100,
   "metadata": {},
   "outputs": [],
   "source": [
    "# Users without registration are not valid for churn analysis, and thus will be dropped.\n",
    "df_valid = df.dropna(subset=['registration'])"
   ]
  },
  {
   "cell_type": "code",
   "execution_count": 101,
   "metadata": {},
   "outputs": [
    {
     "name": "stdout",
     "output_type": "stream",
     "text": [
      "+------+----+---------+------+-------------+--------+------+-----+--------+------+----+------------+---------+-----+------+---+---------+------+\n",
      "|artist|auth|firstName|gender|itemInSession|lastName|length|level|location|method|page|registration|sessionId| song|status| ts|userAgent|userId|\n",
      "+------+----+---------+------+-------------+--------+------+-----+--------+------+----+------------+---------+-----+------+---+---------+------+\n",
      "| 50046|   0|        0|     0|            0|       0| 50046|    0|       0|     0|   0|           0|        0|50046|     0|  0|        0|     0|\n",
      "+------+----+---------+------+-------------+--------+------+-----+--------+------+----+------------+---------+-----+------+---+---------+------+\n",
      "\n"
     ]
    }
   ],
   "source": [
    "# check number of missing values for each column again\n",
    "missing_values = [F.count(F.when(F.col(c).isNull(), c)).alias(c)\n",
    "                  for c in df_valid.columns]\n",
    "df_valid.select(missing_values).show()"
   ]
  },
  {
   "cell_type": "markdown",
   "metadata": {},
   "source": [
    "`artist`, `length`, and `song` will be null when a user is visiting pages other than `NextSong`."
   ]
  },
  {
   "cell_type": "code",
   "execution_count": 102,
   "metadata": {},
   "outputs": [
    {
     "name": "stdout",
     "output_type": "stream",
     "text": [
      "+--------+\n",
      "|    page|\n",
      "+--------+\n",
      "|NextSong|\n",
      "+--------+\n",
      "\n"
     ]
    }
   ],
   "source": [
    "df_valid.filter(F.col('artist').isNotNull()).select(\n",
    "    'page').dropDuplicates().show()"
   ]
  },
  {
   "cell_type": "markdown",
   "metadata": {},
   "source": [
    "# Exploratory Data Analysis\n",
    "EDA on a small subset of the data with basic manipulations within Spark. "
   ]
  },
  {
   "cell_type": "code",
   "execution_count": 103,
   "metadata": {},
   "outputs": [
    {
     "name": "stdout",
     "output_type": "stream",
     "text": [
      "225\n"
     ]
    }
   ],
   "source": [
    "# number of users\n",
    "num_users = df_valid.select(\"userId\").dropDuplicates().count()\n",
    "print(num_users)"
   ]
  },
  {
   "cell_type": "code",
   "execution_count": 104,
   "metadata": {},
   "outputs": [
    {
     "data": {
      "text/plain": [
       "17656"
      ]
     },
     "execution_count": 104,
     "metadata": {},
     "output_type": "execute_result"
    }
   ],
   "source": [
    "# number of artists\n",
    "df_valid.select(\"artist\").dropDuplicates().count()"
   ]
  },
  {
   "cell_type": "code",
   "execution_count": 105,
   "metadata": {},
   "outputs": [
    {
     "name": "stdout",
     "output_type": "stream",
     "text": [
      "+---------+\n",
      "|     auth|\n",
      "+---------+\n",
      "|Cancelled|\n",
      "|Logged In|\n",
      "+---------+\n",
      "\n"
     ]
    }
   ],
   "source": [
    "# auth\n",
    "df_valid.select(\"auth\").dropDuplicates().show()"
   ]
  },
  {
   "cell_type": "code",
   "execution_count": 106,
   "metadata": {},
   "outputs": [
    {
     "name": "stdout",
     "output_type": "stream",
     "text": [
      "+-------+------------------+\n",
      "|summary|     itemInSession|\n",
      "+-------+------------------+\n",
      "|  count|            278154|\n",
      "|   mean|114.89918174824018|\n",
      "| stddev|129.85172939949013|\n",
      "|    min|                 0|\n",
      "|    max|              1321|\n",
      "+-------+------------------+\n",
      "\n"
     ]
    }
   ],
   "source": [
    "# itemInSession\n",
    "df_valid.select(\"itemInSession\").describe().show()"
   ]
  },
  {
   "cell_type": "code",
   "execution_count": 107,
   "metadata": {},
   "outputs": [
    {
     "name": "stdout",
     "output_type": "stream",
     "text": [
      "+-------+------------------+\n",
      "|summary|            length|\n",
      "+-------+------------------+\n",
      "|  count|            228108|\n",
      "|   mean|249.11718197783722|\n",
      "| stddev| 99.23517921058324|\n",
      "|    min|           0.78322|\n",
      "|    max|        3024.66567|\n",
      "+-------+------------------+\n",
      "\n"
     ]
    }
   ],
   "source": [
    "# length\n",
    "df_valid.select(\"length\").describe().show()"
   ]
  },
  {
   "cell_type": "code",
   "execution_count": 108,
   "metadata": {},
   "outputs": [
    {
     "data": {
      "image/png": "[encoded data removed]",
      "text/plain": [
       "<Figure size 432x288 with 1 Axes>"
      ]
     },
     "metadata": {
      "needs_background": "light"
     },
     "output_type": "display_data"
    }
   ],
   "source": [
    "# histogram for length\n",
    "df_valid.select(\"length\").toPandas().hist(bins=100);"
   ]
  },
  {
   "cell_type": "code",
   "execution_count": 109,
   "metadata": {},
   "outputs": [
    {
     "name": "stdout",
     "output_type": "stream",
     "text": [
      "+-----+\n",
      "|level|\n",
      "+-----+\n",
      "| free|\n",
      "| paid|\n",
      "+-----+\n",
      "\n"
     ]
    }
   ],
   "source": [
    "# level\n",
    "df.select(\"level\").dropDuplicates().show()"
   ]
  },
  {
   "cell_type": "code",
   "execution_count": 110,
   "metadata": {},
   "outputs": [
    {
     "name": "stdout",
     "output_type": "stream",
     "text": [
      "+--------------------------------------+\n",
      "|location                              |\n",
      "+--------------------------------------+\n",
      "|Gainesville, FL                       |\n",
      "|Atlantic City-Hammonton, NJ           |\n",
      "|Deltona-Daytona Beach-Ormond Beach, FL|\n",
      "|San Diego-Carlsbad, CA                |\n",
      "|Cleveland-Elyria, OH                  |\n",
      "|Kingsport-Bristol-Bristol, TN-VA      |\n",
      "|New Haven-Milford, CT                 |\n",
      "|Birmingham-Hoover, AL                 |\n",
      "|Corpus Christi, TX                    |\n",
      "|Dubuque, IA                           |\n",
      "+--------------------------------------+\n",
      "only showing top 10 rows\n",
      "\n"
     ]
    }
   ],
   "source": [
    "# location\n",
    "df.select(\"location\").dropDuplicates().show(10, False)"
   ]
  },
  {
   "cell_type": "code",
   "execution_count": 111,
   "metadata": {},
   "outputs": [
    {
     "name": "stdout",
     "output_type": "stream",
     "text": [
      "+------+\n",
      "|method|\n",
      "+------+\n",
      "|   PUT|\n",
      "|   GET|\n",
      "+------+\n",
      "\n"
     ]
    }
   ],
   "source": [
    "# method\n",
    "df.select(\"method\").dropDuplicates().show()"
   ]
  },
  {
   "cell_type": "code",
   "execution_count": 112,
   "metadata": {},
   "outputs": [
    {
     "name": "stdout",
     "output_type": "stream",
     "text": [
      "+-------------------------+\n",
      "|page                     |\n",
      "+-------------------------+\n",
      "|Cancel                   |\n",
      "|Submit Downgrade         |\n",
      "|Thumbs Down              |\n",
      "|Home                     |\n",
      "|Downgrade                |\n",
      "|Roll Advert              |\n",
      "|Logout                   |\n",
      "|Save Settings            |\n",
      "|Cancellation Confirmation|\n",
      "|About                    |\n",
      "|Submit Registration      |\n",
      "|Settings                 |\n",
      "|Login                    |\n",
      "|Register                 |\n",
      "|Add to Playlist          |\n",
      "|Add Friend               |\n",
      "|NextSong                 |\n",
      "|Thumbs Up                |\n",
      "|Help                     |\n",
      "|Upgrade                  |\n",
      "|Error                    |\n",
      "|Submit Upgrade           |\n",
      "+-------------------------+\n",
      "\n"
     ]
    }
   ],
   "source": [
    "# page\n",
    "df.select(\"page\").dropDuplicates().show(22, False)"
   ]
  },
  {
   "cell_type": "code",
   "execution_count": 113,
   "metadata": {},
   "outputs": [
    {
     "name": "stdout",
     "output_type": "stream",
     "text": [
      "+-------------+\n",
      "| registration|\n",
      "+-------------+\n",
      "|1538173362000|\n",
      "|1538331630000|\n",
      "|1538173362000|\n",
      "|1538331630000|\n",
      "|1538173362000|\n",
      "+-------------+\n",
      "only showing top 5 rows\n",
      "\n"
     ]
    }
   ],
   "source": [
    "# registration\n",
    "df.select(\"registration\").show(5)"
   ]
  },
  {
   "cell_type": "code",
   "execution_count": 114,
   "metadata": {},
   "outputs": [
    {
     "name": "stdout",
     "output_type": "stream",
     "text": [
      "+-----------------------------+\n",
      "|song                         |\n",
      "+-----------------------------+\n",
      "|Rockpools                    |\n",
      "|Canada                       |\n",
      "|Time For Miracles            |\n",
      "|Knocking On Forbidden Doors  |\n",
      "|Harder Better Faster Stronger|\n",
      "+-----------------------------+\n",
      "only showing top 5 rows\n",
      "\n"
     ]
    }
   ],
   "source": [
    "# songs\n",
    "df.select(\"song\").show(5, False)"
   ]
  },
  {
   "cell_type": "code",
   "execution_count": 115,
   "metadata": {},
   "outputs": [
    {
     "data": {
      "text/plain": [
       "58481"
      ]
     },
     "execution_count": 115,
     "metadata": {},
     "output_type": "execute_result"
    }
   ],
   "source": [
    "# number of songs\n",
    "df.select(\"song\").drop_duplicates().count()"
   ]
  },
  {
   "cell_type": "code",
   "execution_count": 116,
   "metadata": {},
   "outputs": [
    {
     "name": "stdout",
     "output_type": "stream",
     "text": [
      "+------+\n",
      "|status|\n",
      "+------+\n",
      "|   307|\n",
      "|   404|\n",
      "|   200|\n",
      "+------+\n",
      "\n"
     ]
    }
   ],
   "source": [
    "# status\n",
    "df.select(\"status\").drop_duplicates().show()"
   ]
  },
  {
   "cell_type": "code",
   "execution_count": 117,
   "metadata": {},
   "outputs": [
    {
     "name": "stdout",
     "output_type": "stream",
     "text": [
      "+-------------+\n",
      "|           ts|\n",
      "+-------------+\n",
      "|1538352117000|\n",
      "|1538352180000|\n",
      "|1538352394000|\n",
      "|1538352416000|\n",
      "|1538352676000|\n",
      "+-------------+\n",
      "only showing top 5 rows\n",
      "\n"
     ]
    }
   ],
   "source": [
    "# ts\n",
    "df.select(\"ts\").show(5)"
   ]
  },
  {
   "cell_type": "code",
   "execution_count": 118,
   "metadata": {},
   "outputs": [
    {
     "name": "stdout",
     "output_type": "stream",
     "text": [
      "+--------------------------------------------------------------------------------------------------------------------------+\n",
      "|userAgent                                                                                                                 |\n",
      "+--------------------------------------------------------------------------------------------------------------------------+\n",
      "|\"Mozilla/5.0 (Macintosh; Intel Mac OS X 10_8_5) AppleWebKit/537.36 (KHTML, like Gecko) Chrome/36.0.1985.143 Safari/537.36\"|\n",
      "|\"Mozilla/5.0 (Windows NT 5.1) AppleWebKit/537.36 (KHTML, like Gecko) Chrome/36.0.1985.143 Safari/537.36\"                  |\n",
      "|Mozilla/5.0 (X11; Ubuntu; Linux i686; rv:31.0) Gecko/20100101 Firefox/31.0                                                |\n",
      "|\"Mozilla/5.0 (Macintosh; Intel Mac OS X 10_9_4) AppleWebKit/537.36 (KHTML, like Gecko) Chrome/36.0.1985.125 Safari/537.36\"|\n",
      "|\"Mozilla/5.0 (Macintosh; Intel Mac OS X 10_9_4) AppleWebKit/537.36 (KHTML, like Gecko) Chrome/35.0.1916.153 Safari/537.36\"|\n",
      "|Mozilla/5.0 (Macintosh; Intel Mac OS X 10.7; rv:31.0) Gecko/20100101 Firefox/31.0                                         |\n",
      "|Mozilla/5.0 (Windows NT 6.1; WOW64; rv:30.0) Gecko/20100101 Firefox/30.0                                                  |\n",
      "|Mozilla/5.0 (Windows NT 6.3; WOW64; rv:31.0) Gecko/20100101 Firefox/31.0                                                  |\n",
      "|Mozilla/5.0 (compatible; MSIE 9.0; Windows NT 6.1; WOW64; Trident/5.0)                                                    |\n",
      "|\"Mozilla/5.0 (Windows NT 6.3; WOW64) AppleWebKit/537.36 (KHTML, like Gecko) Chrome/36.0.1985.143 Safari/537.36\"           |\n",
      "+--------------------------------------------------------------------------------------------------------------------------+\n",
      "only showing top 10 rows\n",
      "\n"
     ]
    }
   ],
   "source": [
    "# userAgent\n",
    "df_valid.select(\"userAgent\").drop_duplicates().show(10, False)"
   ]
  },
  {
   "cell_type": "markdown",
   "metadata": {},
   "source": [
    "## Define Churn\n",
    "\n",
    "Define churn events as`Cancellation Confirmation` events.\n",
    "Create a column `churn_user` to use as the label for the model. "
   ]
  },
  {
   "cell_type": "code",
   "execution_count": 119,
   "metadata": {},
   "outputs": [],
   "source": [
    "# define churn event\n",
    "flag_churn_event = F.udf(\n",
    "    lambda x: 1 if x == 'Cancellation Confirmation' else 0, T.IntegerType())\n",
    "\n",
    "# create churn event column\n",
    "df_valid = df_valid.withColumn('churn_event', flag_churn_event('page'))\n",
    "\n",
    "# create churn user column\n",
    "df_valid = df_valid.withColumn('churn_user', F.max(\n",
    "    'churn_event').over(Window.partitionBy('userId')))"
   ]
  },
  {
   "cell_type": "code",
   "execution_count": 120,
   "metadata": {},
   "outputs": [
    {
     "name": "stdout",
     "output_type": "stream",
     "text": [
      "+----------+------+\n",
      "|churn_user| count|\n",
      "+----------+------+\n",
      "|         1| 44864|\n",
      "|         0|233290|\n",
      "+----------+------+\n",
      "\n"
     ]
    }
   ],
   "source": [
    "df_valid.groupBy('churn_user').count().show()"
   ]
  },
  {
   "cell_type": "code",
   "execution_count": 121,
   "metadata": {},
   "outputs": [
    {
     "data": {
      "text/plain": [
       "16.129194618808288"
      ]
     },
     "execution_count": 121,
     "metadata": {},
     "output_type": "execute_result"
    }
   ],
   "source": [
    "44864/(44864 + 233290) * 100"
   ]
  },
  {
   "cell_type": "markdown",
   "metadata": {},
   "source": [
    "## Explore Data\n",
    "More exploratory data analysis to observe the behavior for users who stayed vs users who churned. The relations between users' attributes such as gender, level, location, and churn events are explored. \n",
    "We also explore aggregates on these two groups of users, observing how much of a specific action they experienced such as number of songs played or how many times they visited home page per day."
   ]
  },
  {
   "cell_type": "code",
   "execution_count": 122,
   "metadata": {},
   "outputs": [
    {
     "name": "stdout",
     "output_type": "stream",
     "text": [
      "number of churn users: 52\n",
      "number of not churn users: 173\n"
     ]
    }
   ],
   "source": [
    "# number of churn and not churn users\n",
    "num_churn_users = df_valid.filter(df_valid['churn_user'] == '1').select(\n",
    "    F.countDistinct('userId')).collect()[0][0]\n",
    "num_not_churn_users = num_users - num_churn_users\n",
    "print(\"number of churn users:\", num_churn_users)\n",
    "print(\"number of not churn users:\", num_not_churn_users)"
   ]
  },
  {
   "cell_type": "code",
   "execution_count": 123,
   "metadata": {},
   "outputs": [
    {
     "data": {
      "image/png": "[encoded data removed]",
      "text/plain": [
       "<Figure size 432x288 with 1 Axes>"
      ]
     },
     "metadata": {
      "needs_background": "light"
     },
     "output_type": "display_data"
    }
   ],
   "source": [
    "d = {'churns': [num_not_churn_users, num_churn_users]}\n",
    "df_churns = pd.DataFrame(data=d, index=['Stayed', 'Churn'])\n",
    "ax = df_churns.plot.bar(legend=False)\n",
    "ax.grid(axis='y')\n",
    "ax.set_ylabel('Count', fontsize=12)\n",
    "plt.xticks(rotation=0);"
   ]
  },
  {
   "cell_type": "code",
   "execution_count": 124,
   "metadata": {},
   "outputs": [],
   "source": [
    "# create datetime columns for registration and timestamp\n",
    "df_valid = df_valid.withColumn(\n",
    "    'registration_dt', (F.col('registration')/1000).cast(T.TimestampType()))\n",
    "df_valid = df_valid.withColumn(\n",
    "    'dt', (F.col('ts')/1000).cast(T.TimestampType()))"
   ]
  },
  {
   "cell_type": "code",
   "execution_count": 125,
   "metadata": {},
   "outputs": [
    {
     "data": {
      "text/html": [
       "<div>\n",
       "<style scoped>\n",
       "    .dataframe tbody tr th:only-of-type {\n",
       "        vertical-align: middle;\n",
       "    }\n",
       "\n",
       "    .dataframe tbody tr th {\n",
       "        vertical-align: top;\n",
       "    }\n",
       "\n",
       "    .dataframe thead th {\n",
       "        text-align: right;\n",
       "    }\n",
       "</style>\n",
       "<table border=\"1\" class=\"dataframe\">\n",
       "  <thead>\n",
       "    <tr style=\"text-align: right;\">\n",
       "      <th></th>\n",
       "      <th>userId</th>\n",
       "      <th>firstName</th>\n",
       "      <th>lastName</th>\n",
       "    </tr>\n",
       "  </thead>\n",
       "  <tbody>\n",
       "    <tr>\n",
       "      <th>0</th>\n",
       "      <td>73</td>\n",
       "      <td>Rachel</td>\n",
       "      <td>Bailey</td>\n",
       "    </tr>\n",
       "    <tr>\n",
       "      <th>1</th>\n",
       "      <td>100011</td>\n",
       "      <td>Sebastian</td>\n",
       "      <td>Ball</td>\n",
       "    </tr>\n",
       "    <tr>\n",
       "      <th>2</th>\n",
       "      <td>100006</td>\n",
       "      <td>Leyla</td>\n",
       "      <td>Barnes</td>\n",
       "    </tr>\n",
       "    <tr>\n",
       "      <th>3</th>\n",
       "      <td>58</td>\n",
       "      <td>Erick</td>\n",
       "      <td>Brooks</td>\n",
       "    </tr>\n",
       "    <tr>\n",
       "      <th>4</th>\n",
       "      <td>100013</td>\n",
       "      <td>Cali</td>\n",
       "      <td>Brown</td>\n",
       "    </tr>\n",
       "  </tbody>\n",
       "</table>\n",
       "</div>"
      ],
      "text/plain": [
       "   userId  firstName lastName\n",
       "0      73     Rachel   Bailey\n",
       "1  100011  Sebastian     Ball\n",
       "2  100006      Leyla   Barnes\n",
       "3      58      Erick   Brooks\n",
       "4  100013       Cali    Brown"
      ]
     },
     "execution_count": 125,
     "metadata": {},
     "output_type": "execute_result"
    }
   ],
   "source": [
    "# churn users\n",
    "churn_users_pd = df_valid.filter(df_valid['churn_user']==1).select(\n",
    "    'userId','firstName', 'lastName').dropDuplicates().sort('lastName').toPandas()\n",
    "churn_users_pd.head()"
   ]
  },
  {
   "cell_type": "code",
   "execution_count": 126,
   "metadata": {},
   "outputs": [
    {
     "name": "stdout",
     "output_type": "stream",
     "text": [
      "+------+---------+-------------------------+-------------------+-----+\n",
      "|userId|firstName|page                     |dt                 |level|\n",
      "+------+---------+-------------------------+-------------------+-----+\n",
      "|73    |Rachel   |Cancellation Confirmation|2018-10-24 12:33:07|paid |\n",
      "+------+---------+-------------------------+-------------------+-----+\n",
      "\n"
     ]
    }
   ],
   "source": [
    "# example of churn by `Cancellation Confirmation`\n",
    "df_valid.select('userId', 'firstName', 'page', 'dt', 'level').where((df_valid['userId'] == 73) & (\n",
    "    (df_valid['page'] == 'Submit Downgrade') | (df_valid['page'] == 'Cancellation Confirmation'))).show(5, False)"
   ]
  },
  {
   "cell_type": "code",
   "execution_count": 127,
   "metadata": {},
   "outputs": [
    {
     "name": "stdout",
     "output_type": "stream",
     "text": [
      "+------+---------+----------------+-------------------+-----+\n",
      "|userId|firstName|page            |dt                 |level|\n",
      "+------+---------+----------------+-------------------+-----+\n",
      "|39    |Payton   |Submit Downgrade|2018-11-03 09:29:32|paid |\n",
      "|39    |Payton   |Submit Downgrade|2018-11-04 12:58:57|paid |\n",
      "|39    |Payton   |Submit Downgrade|2018-11-16 19:49:48|paid |\n",
      "+------+---------+----------------+-------------------+-----+\n",
      "\n"
     ]
    }
   ],
   "source": [
    "# example of Submit Downgrade`\n",
    "df_valid.select('userId', 'firstName', 'page', 'dt', 'level').where((df_valid['userId'] == 39) & (\n",
    "    (df_valid['page'] == 'Submit Downgrade') | (df_valid['page'] == 'Cancellation Confirmation'))).show(5, False)"
   ]
  },
  {
   "cell_type": "code",
   "execution_count": 128,
   "metadata": {},
   "outputs": [
    {
     "name": "stdout",
     "output_type": "stream",
     "text": [
      "+------+---------+-------------------------+-------------------+-----+\n",
      "|userId|firstName|page                     |dt                 |level|\n",
      "+------+---------+-------------------------+-------------------+-----+\n",
      "|103   |Piper    |Submit Downgrade         |2018-10-15 18:56:25|paid |\n",
      "|103   |Piper    |Cancellation Confirmation|2018-11-04 08:01:31|paid |\n",
      "+------+---------+-------------------------+-------------------+-----+\n",
      "\n"
     ]
    }
   ],
   "source": [
    "# example of churn by `Submit Downgrade` followed by `Cancellation Confirmation`\n",
    "df_valid.select('userId', 'firstName', 'page', 'dt', 'level').where((df_valid['userId'] == 103) & (\n",
    "    (df_valid['page'] == 'Submit Downgrade') | (df_valid['page'] == 'Cancellation Confirmation'))).show(5, False)"
   ]
  },
  {
   "cell_type": "markdown",
   "metadata": {},
   "source": [
    "### Gender"
   ]
  },
  {
   "cell_type": "code",
   "execution_count": 129,
   "metadata": {},
   "outputs": [
    {
     "name": "stdout",
     "output_type": "stream",
     "text": [
      "number of females: 104\n",
      "number of males: 121\n"
     ]
    }
   ],
   "source": [
    "num_females = df_valid.filter(df_valid['gender'] == 'F').select(\n",
    "    F.countDistinct('userId')).collect()[0][0]\n",
    "num_males = num_users - num_females\n",
    "print(\"number of females:\", num_females)\n",
    "print(\"number of males:\", num_males)"
   ]
  },
  {
   "cell_type": "code",
   "execution_count": 130,
   "metadata": {},
   "outputs": [
    {
     "data": {
      "text/html": [
       "<div>\n",
       "<style scoped>\n",
       "    .dataframe tbody tr th:only-of-type {\n",
       "        vertical-align: middle;\n",
       "    }\n",
       "\n",
       "    .dataframe tbody tr th {\n",
       "        vertical-align: top;\n",
       "    }\n",
       "\n",
       "    .dataframe thead th {\n",
       "        text-align: right;\n",
       "    }\n",
       "</style>\n",
       "<table border=\"1\" class=\"dataframe\">\n",
       "  <thead>\n",
       "    <tr style=\"text-align: right;\">\n",
       "      <th></th>\n",
       "      <th>num_churns</th>\n",
       "      <th>count</th>\n",
       "      <th>percent churn</th>\n",
       "    </tr>\n",
       "    <tr>\n",
       "      <th>gender</th>\n",
       "      <th></th>\n",
       "      <th></th>\n",
       "      <th></th>\n",
       "    </tr>\n",
       "  </thead>\n",
       "  <tbody>\n",
       "    <tr>\n",
       "      <th>F</th>\n",
       "      <td>20</td>\n",
       "      <td>104</td>\n",
       "      <td>19.230769</td>\n",
       "    </tr>\n",
       "    <tr>\n",
       "      <th>M</th>\n",
       "      <td>32</td>\n",
       "      <td>121</td>\n",
       "      <td>26.446281</td>\n",
       "    </tr>\n",
       "  </tbody>\n",
       "</table>\n",
       "</div>"
      ],
      "text/plain": [
       "        num_churns  count  percent churn\n",
       "gender                                  \n",
       "F               20    104      19.230769\n",
       "M               32    121      26.446281"
      ]
     },
     "execution_count": 130,
     "metadata": {},
     "output_type": "execute_result"
    }
   ],
   "source": [
    "df_gender = df_valid.groupby('gender').sum('churn_event').toPandas()\n",
    "df_gender['count'] = [num_females, num_males]\n",
    "df_gender['percent churn'] = df_gender['sum(churn_event)'] / \\\n",
    "    df_gender['count']*100\n",
    "df_gender.columns = ['gender', 'num_churns', 'count', 'percent churn']\n",
    "df_gender.set_index('gender')"
   ]
  },
  {
   "cell_type": "code",
   "execution_count": 131,
   "metadata": {},
   "outputs": [
    {
     "data": {
      "image/png": "[encoded data removed]",
      "text/plain": [
       "<Figure size 432x288 with 1 Axes>"
      ]
     },
     "metadata": {
      "needs_background": "light"
     },
     "output_type": "display_data"
    }
   ],
   "source": [
    "ax = df_gender.plot.bar(x='gender', y='percent churn', legend=False)\n",
    "ax.grid(axis='y')\n",
    "ax.set_ylabel('Percent churn', fontsize=12)\n",
    "plt.xticks(rotation=0);"
   ]
  },
  {
   "cell_type": "markdown",
   "metadata": {},
   "source": [
    "### Level"
   ]
  },
  {
   "cell_type": "code",
   "execution_count": 132,
   "metadata": {},
   "outputs": [],
   "source": [
    "num_free = df_valid.filter(df_valid['level'] == 'free').select(\n",
    "    F.countDistinct('userId')).collect()[0][0]\n",
    "num_paid = df_valid.filter(df_valid['level'] == 'paid').select(\n",
    "    F.countDistinct('userId')).collect()[0][0]"
   ]
  },
  {
   "cell_type": "code",
   "execution_count": 133,
   "metadata": {},
   "outputs": [
    {
     "data": {
      "text/html": [
       "<div>\n",
       "<style scoped>\n",
       "    .dataframe tbody tr th:only-of-type {\n",
       "        vertical-align: middle;\n",
       "    }\n",
       "\n",
       "    .dataframe tbody tr th {\n",
       "        vertical-align: top;\n",
       "    }\n",
       "\n",
       "    .dataframe thead th {\n",
       "        text-align: right;\n",
       "    }\n",
       "</style>\n",
       "<table border=\"1\" class=\"dataframe\">\n",
       "  <thead>\n",
       "    <tr style=\"text-align: right;\">\n",
       "      <th></th>\n",
       "      <th>num_churns</th>\n",
       "      <th>count</th>\n",
       "      <th>percent churn</th>\n",
       "    </tr>\n",
       "    <tr>\n",
       "      <th>level</th>\n",
       "      <th></th>\n",
       "      <th></th>\n",
       "      <th></th>\n",
       "    </tr>\n",
       "  </thead>\n",
       "  <tbody>\n",
       "    <tr>\n",
       "      <th>free</th>\n",
       "      <td>21</td>\n",
       "      <td>195</td>\n",
       "      <td>10.769231</td>\n",
       "    </tr>\n",
       "    <tr>\n",
       "      <th>paid</th>\n",
       "      <td>31</td>\n",
       "      <td>165</td>\n",
       "      <td>18.787879</td>\n",
       "    </tr>\n",
       "  </tbody>\n",
       "</table>\n",
       "</div>"
      ],
      "text/plain": [
       "       num_churns  count  percent churn\n",
       "level                                  \n",
       "free           21    195      10.769231\n",
       "paid           31    165      18.787879"
      ]
     },
     "execution_count": 133,
     "metadata": {},
     "output_type": "execute_result"
    }
   ],
   "source": [
    "df_level = df_valid.groupby('level').sum('churn_event').toPandas()\n",
    "df_level['count'] = [num_free, num_paid]\n",
    "df_level['percent churn'] = df_level['sum(churn_event)'] / \\\n",
    "    df_level['count'] * 100\n",
    "df_level.columns = ['level', 'num_churns', 'count', 'percent churn']\n",
    "df_level.set_index('level')"
   ]
  },
  {
   "cell_type": "code",
   "execution_count": 134,
   "metadata": {},
   "outputs": [
    {
     "data": {
      "image/png": "[encoded data removed]",
      "text/plain": [
       "<Figure size 432x288 with 1 Axes>"
      ]
     },
     "metadata": {
      "needs_background": "light"
     },
     "output_type": "display_data"
    }
   ],
   "source": [
    "ax = df_level.plot.bar(x='level', y='percent churn', legend=False)\n",
    "ax.grid(axis='y')\n",
    "ax.set_ylabel('Percent churn', fontsize=12)\n",
    "ax.set_xlabel('')\n",
    "plt.xticks(rotation=0);"
   ]
  },
  {
   "cell_type": "markdown",
   "metadata": {},
   "source": [
    "### Location"
   ]
  },
  {
   "cell_type": "code",
   "execution_count": 135,
   "metadata": {},
   "outputs": [
    {
     "name": "stdout",
     "output_type": "stream",
     "text": [
      "+------------------------------+\n",
      "|location                      |\n",
      "+------------------------------+\n",
      "|Bakersfield, CA               |\n",
      "|Boston-Cambridge-Newton, MA-NH|\n",
      "|Bakersfield, CA               |\n",
      "|Boston-Cambridge-Newton, MA-NH|\n",
      "|Bakersfield, CA               |\n",
      "|Boston-Cambridge-Newton, MA-NH|\n",
      "|Boston-Cambridge-Newton, MA-NH|\n",
      "|Bakersfield, CA               |\n",
      "|Bakersfield, CA               |\n",
      "|Bakersfield, CA               |\n",
      "+------------------------------+\n",
      "only showing top 10 rows\n",
      "\n"
     ]
    }
   ],
   "source": [
    "df_valid.select(\"location\").show(10, False)"
   ]
  },
  {
   "cell_type": "code",
   "execution_count": 136,
   "metadata": {},
   "outputs": [],
   "source": [
    "# get state from location\n",
    "get_state = F.udf(lambda x: x[-2:])\n",
    "\n",
    "# create state column\n",
    "df_valid = df_valid.withColumn(\"state\", get_state(df_valid['location']))"
   ]
  },
  {
   "cell_type": "code",
   "execution_count": 137,
   "metadata": {},
   "outputs": [],
   "source": [
    "df_state_counts = df_valid.select(\n",
    "    'userId', 'state').dropDuplicates().groupby('state').count().toPandas()"
   ]
  },
  {
   "cell_type": "code",
   "execution_count": 138,
   "metadata": {},
   "outputs": [
    {
     "data": {
      "image/png": "[encoded data removed]",
      "text/plain": [
       "<Figure size 864x432 with 1 Axes>"
      ]
     },
     "metadata": {
      "needs_background": "light"
     },
     "output_type": "display_data"
    }
   ],
   "source": [
    "ax = df_state_counts.plot.bar(x='state', y='count',\n",
    "                              figsize=(12, 6))\n",
    "ax.set_ylabel('number of distinct users', fontsize=12);"
   ]
  },
  {
   "cell_type": "code",
   "execution_count": 139,
   "metadata": {},
   "outputs": [],
   "source": [
    "df_state_churns = df_valid.groupby('state').sum('churn_event').toPandas()\n",
    "df_state_churns.columns = ['state', 'num_churns']"
   ]
  },
  {
   "cell_type": "code",
   "execution_count": 140,
   "metadata": {},
   "outputs": [
    {
     "data": {
      "image/png": "[encoded data removed]",
      "text/plain": [
       "<Figure size 864x432 with 1 Axes>"
      ]
     },
     "metadata": {
      "needs_background": "light"
     },
     "output_type": "display_data"
    }
   ],
   "source": [
    "ax = df_state_churns.plot.bar(x='state', y='num_churns', figsize=(12, 6))\n",
    "ax.grid(axis='y')\n",
    "ax.set_ylabel('Churn count', fontsize=12);"
   ]
  },
  {
   "cell_type": "code",
   "execution_count": 141,
   "metadata": {},
   "outputs": [],
   "source": [
    "df_state_churns['percent churn'] = df_state_churns['num_churns'] / \\\n",
    "    df_state_counts['count'] * 100"
   ]
  },
  {
   "cell_type": "code",
   "execution_count": 142,
   "metadata": {},
   "outputs": [
    {
     "data": {
      "image/png": "[encoded data removed]",
      "text/plain": [
       "<Figure size 864x432 with 1 Axes>"
      ]
     },
     "metadata": {
      "needs_background": "light"
     },
     "output_type": "display_data"
    }
   ],
   "source": [
    "df_state_churns.plot.bar(x='state', y='percent churn', figsize=(12, 6));"
   ]
  },
  {
   "cell_type": "markdown",
   "metadata": {},
   "source": [
    "### Registration"
   ]
  },
  {
   "cell_type": "code",
   "execution_count": 143,
   "metadata": {},
   "outputs": [
    {
     "name": "stdout",
     "output_type": "stream",
     "text": [
      "registration start date: 2018-03-18 08:44:35\n",
      "registration end date: 2018-11-26 09:49:14\n"
     ]
    }
   ],
   "source": [
    "# find earliest and latest registration dates\n",
    "start_reg_date = df_valid.agg({'registration_dt': 'min'}).collect()\n",
    "end_reg_date = df_valid.agg({'registration_dt': 'max'}).collect()\n",
    "print('registration start date:', str(start_reg_date[0][0]))\n",
    "print('registration end date:', str(end_reg_date[0][0]))"
   ]
  },
  {
   "cell_type": "code",
   "execution_count": 144,
   "metadata": {},
   "outputs": [
    {
     "name": "stdout",
     "output_type": "stream",
     "text": [
      "start date: 2018-09-30 19:01:57\n",
      "end date: 2018-12-02 19:11:16\n"
     ]
    }
   ],
   "source": [
    "# find earliest and latest dates (from timestamp)\n",
    "start_date = df_valid.agg({'dt': 'min'}).collect()\n",
    "end_date = df_valid.agg({'dt': 'max'}).collect()\n",
    "print('start date:', str(start_date[0][0]))\n",
    "print('end date:', str(end_date[0][0]))"
   ]
  },
  {
   "cell_type": "code",
   "execution_count": 145,
   "metadata": {},
   "outputs": [],
   "source": [
    "# number of days since registration\n",
    "df_valid = df_valid.withColumn(\"days_since_reg\", F.max(\n",
    "    F.datediff('dt', 'registration_dt')).over(Window.partitionBy('userId')))"
   ]
  },
  {
   "cell_type": "code",
   "execution_count": 146,
   "metadata": {},
   "outputs": [
    {
     "name": "stdout",
     "output_type": "stream",
     "text": [
      "+-------+-----------------+\n",
      "|summary|   days_since_reg|\n",
      "+-------+-----------------+\n",
      "|  count|           278154|\n",
      "|   mean|88.91284684023958|\n",
      "| stddev| 40.4933547852528|\n",
      "|    min|                0|\n",
      "|    max|              256|\n",
      "+-------+-----------------+\n",
      "\n"
     ]
    }
   ],
   "source": [
    "df_valid.select('days_since_reg').describe().show()"
   ]
  },
  {
   "cell_type": "code",
   "execution_count": 147,
   "metadata": {},
   "outputs": [
    {
     "data": {
      "text/plain": [
       "array([[<matplotlib.axes._subplots.AxesSubplot object at 0x7f80cf95ba90>]],\n",
       "      dtype=object)"
      ]
     },
     "execution_count": 147,
     "metadata": {},
     "output_type": "execute_result"
    },
    {
     "data": {
      "image/png": "[encoded data removed]",
      "text/plain": [
       "<Figure size 432x288 with 1 Axes>"
      ]
     },
     "metadata": {
      "needs_background": "light"
     },
     "output_type": "display_data"
    }
   ],
   "source": [
    "df_valid.select('days_since_reg').toPandas().hist(bins=25)"
   ]
  },
  {
   "cell_type": "code",
   "execution_count": 148,
   "metadata": {},
   "outputs": [],
   "source": [
    "df_days_stayed = df_valid.filter(\n",
    "    df_valid['churn_user'] == 0).select('days_since_reg').toPandas()\n",
    "df_days_churn = df_valid.filter(\n",
    "    df_valid['churn_user'] == 1).select('days_since_reg').toPandas()\n",
    "df_reg_days = pd.concat([df_days_stayed, df_days_churn], axis=1, ignore_index=True)\n",
    "df_reg_days.columns = ['stayed', 'churn']"
   ]
  },
  {
   "cell_type": "code",
   "execution_count": 149,
   "metadata": {},
   "outputs": [
    {
     "data": {
      "text/html": [
       "<div>\n",
       "<style scoped>\n",
       "    .dataframe tbody tr th:only-of-type {\n",
       "        vertical-align: middle;\n",
       "    }\n",
       "\n",
       "    .dataframe tbody tr th {\n",
       "        vertical-align: top;\n",
       "    }\n",
       "\n",
       "    .dataframe thead th {\n",
       "        text-align: right;\n",
       "    }\n",
       "</style>\n",
       "<table border=\"1\" class=\"dataframe\">\n",
       "  <thead>\n",
       "    <tr style=\"text-align: right;\">\n",
       "      <th></th>\n",
       "      <th>count</th>\n",
       "      <th>mean</th>\n",
       "      <th>std</th>\n",
       "      <th>min</th>\n",
       "      <th>25%</th>\n",
       "      <th>50%</th>\n",
       "      <th>75%</th>\n",
       "      <th>max</th>\n",
       "    </tr>\n",
       "  </thead>\n",
       "  <tbody>\n",
       "    <tr>\n",
       "      <th>stayed</th>\n",
       "      <td>233290.0</td>\n",
       "      <td>92.999773</td>\n",
       "      <td>38.790168</td>\n",
       "      <td>0.0</td>\n",
       "      <td>67.0</td>\n",
       "      <td>77.0</td>\n",
       "      <td>115.0</td>\n",
       "      <td>256.0</td>\n",
       "    </tr>\n",
       "    <tr>\n",
       "      <th>churn</th>\n",
       "      <td>44864.0</td>\n",
       "      <td>67.661087</td>\n",
       "      <td>42.466799</td>\n",
       "      <td>5.0</td>\n",
       "      <td>42.0</td>\n",
       "      <td>56.0</td>\n",
       "      <td>80.0</td>\n",
       "      <td>188.0</td>\n",
       "    </tr>\n",
       "  </tbody>\n",
       "</table>\n",
       "</div>"
      ],
      "text/plain": [
       "           count       mean        std  min   25%   50%    75%    max\n",
       "stayed  233290.0  92.999773  38.790168  0.0  67.0  77.0  115.0  256.0\n",
       "churn    44864.0  67.661087  42.466799  5.0  42.0  56.0   80.0  188.0"
      ]
     },
     "execution_count": 149,
     "metadata": {},
     "output_type": "execute_result"
    }
   ],
   "source": [
    "df_reg_days.describe().transpose()"
   ]
  },
  {
   "cell_type": "code",
   "execution_count": 150,
   "metadata": {},
   "outputs": [
    {
     "data": {
      "image/png": "[encoded data removed]",
      "text/plain": [
       "<Figure size 432x288 with 1 Axes>"
      ]
     },
     "metadata": {
      "needs_background": "light"
     },
     "output_type": "display_data"
    }
   ],
   "source": [
    "ax = df_reg_days.boxplot()\n",
    "ax.set_ylabel('Count', fontsize=12)\n",
    "ax.set_title('Days since registration');"
   ]
  },
  {
   "cell_type": "markdown",
   "metadata": {},
   "source": [
    "### Timestamp"
   ]
  },
  {
   "cell_type": "code",
   "execution_count": 151,
   "metadata": {},
   "outputs": [],
   "source": [
    "get_hour = F.udf(lambda x: datetime.datetime.fromtimestamp(\n",
    "    x / 1000.0).hour, T.IntegerType())\n",
    "get_day = F.udf(lambda x: datetime.datetime.fromtimestamp(\n",
    "    x / 1000.0).day, T.IntegerType())\n",
    "get_month = F.udf(lambda x: datetime.datetime.fromtimestamp(\n",
    "    x / 1000.0).month, T.IntegerType())"
   ]
  },
  {
   "cell_type": "code",
   "execution_count": 152,
   "metadata": {},
   "outputs": [],
   "source": [
    "df_valid = df_valid.withColumn('hour', get_hour(F.col('ts')))\\\n",
    "    .withColumn('day', get_day(F.col('ts')))\\\n",
    "    .withColumn('month', get_month(F.col('ts')))"
   ]
  },
  {
   "cell_type": "code",
   "execution_count": 153,
   "metadata": {},
   "outputs": [
    {
     "data": {
      "image/png": "[encoded data removed]",
      "text/plain": [
       "<Figure size 864x432 with 1 Axes>"
      ]
     },
     "metadata": {
      "needs_background": "light"
     },
     "output_type": "display_data"
    }
   ],
   "source": [
    "ax = df_valid.groupBy('hour').sum('churn_event').sort('hour').toPandas(\n",
    ").plot.bar(x='hour', y='sum(churn_event)', figsize=(12, 6))\n",
    "ax.grid(axis='y')\n",
    "ax.set_xlabel('Hour', fontsize=12)\n",
    "ax.set_ylabel('Count', fontsize=12)\n",
    "ax.set_title('Hourly churn events');"
   ]
  },
  {
   "cell_type": "code",
   "execution_count": 154,
   "metadata": {},
   "outputs": [
    {
     "data": {
      "image/png": "[encoded data removed]",
      "text/plain": [
       "<Figure size 864x432 with 1 Axes>"
      ]
     },
     "metadata": {
      "needs_background": "light"
     },
     "output_type": "display_data"
    }
   ],
   "source": [
    "ax = df_valid.groupBy('day').sum('churn_event').sort('day').toPandas(\n",
    ").plot.bar(x='day', y='sum(churn_event)', figsize=(12, 6))\n",
    "ax.grid(axis='y')\n",
    "ax.set_xlabel('Day', fontsize=12)\n",
    "ax.set_ylabel('Count', fontsize=12)\n",
    "ax.set_title('Daily churn events');"
   ]
  },
  {
   "cell_type": "code",
   "execution_count": 155,
   "metadata": {},
   "outputs": [
    {
     "data": {
      "image/png": "[encoded data removed]",
      "text/plain": [
       "<Figure size 432x288 with 1 Axes>"
      ]
     },
     "metadata": {
      "needs_background": "light"
     },
     "output_type": "display_data"
    }
   ],
   "source": [
    "ax = df_valid.groupBy('month').sum('churn_event').sort(\n",
    "    'month').toPandas().plot.bar(x='month', y='sum(churn_event)')\n",
    "ax.grid(axis='y')\n",
    "ax.set_xlabel('Month', fontsize=12)\n",
    "ax.set_ylabel('Count', fontsize=12)\n",
    "ax.set_title('Monthly churn events');"
   ]
  },
  {
   "cell_type": "markdown",
   "metadata": {},
   "source": [
    "### Song"
   ]
  },
  {
   "cell_type": "code",
   "execution_count": 156,
   "metadata": {},
   "outputs": [],
   "source": [
    "# time window to find number of songs played in a day\n",
    "def days(x): \n",
    "    \" Return time in seconds for the input time in days\"\n",
    "    time_in_seconds = x * 86400\n",
    "    return time_in_seconds\n",
    "\n",
    "\n",
    "windowval = (\n",
    "    Window.partitionBy(\"userId\")\n",
    "    .orderBy(F.col(\"ts\")/1000)\n",
    "    .rangeBetween(-days(1), 0)\n",
    ")"
   ]
  },
  {
   "cell_type": "code",
   "execution_count": 157,
   "metadata": {},
   "outputs": [],
   "source": [
    "# number of songs played in a day\n",
    "df_valid = df_valid.withColumn(\"num_songs\", F.count(\"song\").over(windowval))"
   ]
  },
  {
   "cell_type": "code",
   "execution_count": 158,
   "metadata": {},
   "outputs": [
    {
     "name": "stdout",
     "output_type": "stream",
     "text": [
      "+------+-------------------+--------------------+---------+-----------+----------+\n",
      "|userId|                 dt|                song|num_songs|churn_event|churn_user|\n",
      "+------+-------------------+--------------------+---------+-----------+----------+\n",
      "|    32|2018-10-03 10:01:37|Beyond The Beyond...|        1|          0|         1|\n",
      "|    32|2018-10-03 10:05:34|       Paradise City|        2|          0|         1|\n",
      "|    32|2018-10-03 10:12:20|           Alejandro|        3|          0|         1|\n",
      "|    32|2018-10-03 10:12:45|                null|        3|          0|         1|\n",
      "|    32|2018-10-03 10:16:54|        Luv U Better|        4|          0|         1|\n",
      "|    32|2018-10-03 10:16:55|                null|        4|          0|         1|\n",
      "|    32|2018-10-03 10:20:56|My Life Would Suc...|        5|          0|         1|\n",
      "|    32|2018-10-03 10:21:08|                null|        5|          0|         1|\n",
      "|    32|2018-10-03 10:24:27|Jamaica Roots II(...|        6|          0|         1|\n",
      "|    32|2018-10-03 10:27:57|                Dusk|        7|          0|         1|\n",
      "|    32|2018-10-03 10:38:49|           September|        8|          0|         1|\n",
      "|    32|2018-10-03 10:42:49|Slicker Than Your...|        9|          0|         1|\n",
      "|    32|2018-10-03 10:48:46|         Mellow Mood|       10|          0|         1|\n",
      "|    32|2018-10-03 10:52:04| Dangerously In Love|       11|          0|         1|\n",
      "|    32|2018-10-03 10:56:57|             Fix You|       12|          0|         1|\n",
      "|    32|2018-10-03 11:01:51|              Morder|       13|          0|         1|\n",
      "|    32|2018-10-03 11:02:21|                null|       13|          0|         1|\n",
      "|    32|2018-10-03 11:02:22|                null|       13|          0|         1|\n",
      "|    32|2018-10-03 11:06:03|                null|       13|          0|         1|\n",
      "|    32|2018-10-03 11:06:28|If I Knew Then (W...|       14|          0|         1|\n",
      "|    32|2018-10-03 11:09:19|   Goodbye Hollywood|       15|          0|         1|\n",
      "|    32|2018-10-03 11:13:31|      Come Back Home|       16|          0|         1|\n",
      "|    32|2018-10-03 11:14:00|                null|       16|          0|         1|\n",
      "|    32|2018-10-03 11:16:53|Parallel Universe...|       17|          0|         1|\n",
      "|    32|2018-10-03 11:21:22|         After Party|       18|          0|         1|\n",
      "|    32|2018-10-03 11:21:54|                null|       18|          0|         1|\n",
      "|    32|2018-10-03 11:24:56|         Un poco mas|       19|          0|         1|\n",
      "|    32|2018-10-03 11:28:22|  Who Gave The Order|       20|          0|         1|\n",
      "|    32|2018-10-03 11:32:45|     I Gotta Feeling|       21|          0|         1|\n",
      "|    32|2018-10-03 11:37:34|  Sure Thing Falling|       22|          0|         1|\n",
      "|    32|2018-10-03 11:41:16|Ganas De Ti (Albu...|       23|          0|         1|\n",
      "|    32|2018-10-03 11:41:17|                null|       23|          0|         1|\n",
      "|    32|2018-10-03 11:45:00|       The Safe Side|       24|          0|         1|\n",
      "|    32|2018-10-03 11:49:47|      Hillbilly Rock|       25|          0|         1|\n",
      "|    32|2018-10-06 10:37:57| Unicorn Vs. Gravity|        1|          0|         1|\n",
      "|    32|2018-10-06 10:38:15|                null|        1|          0|         1|\n",
      "|    32|2018-10-06 10:40:13|      Fields of Gold|        2|          0|         1|\n",
      "|    32|2018-10-06 10:46:32|The Once Lost Ret...|        3|          0|         1|\n",
      "|    32|2018-10-06 10:49:29|Beautiful_ Dirty_...|        4|          0|         1|\n",
      "|    32|2018-10-06 10:52:21|        Without Fear|        5|          0|         1|\n",
      "|    32|2018-10-06 10:57:11|       Fisher Of Men|        6|          0|         1|\n",
      "|    32|2018-10-06 10:57:12|                null|        6|          0|         1|\n",
      "|    32|2018-10-06 11:00:23|I Don't Want To H...|        7|          0|         1|\n",
      "|    32|2018-10-06 11:04:44|         Rising Moon|        8|          0|         1|\n",
      "|    32|2018-10-06 11:07:55|        Capable Girl|        9|          0|         1|\n",
      "|    32|2018-10-06 11:11:25|Am I High (Feat. ...|       10|          0|         1|\n",
      "|    32|2018-10-06 11:16:13|         Mockingbird|       11|          0|         1|\n",
      "|    32|2018-10-06 11:20:23|               Yeah!|       12|          0|         1|\n",
      "|    32|2018-10-06 11:20:24|                null|       12|          0|         1|\n",
      "|    32|2018-10-06 11:24:33| Who Knows Who Cares|       13|          0|         1|\n",
      "|    32|2018-10-06 11:24:34|                null|       13|          0|         1|\n",
      "|    32|2018-10-08 13:19:00|Road Trippin' (Al...|        1|          0|         1|\n",
      "|    32|2018-10-08 13:22:24|             Far Far|        2|          0|         1|\n",
      "|    32|2018-10-08 13:26:44|Nothing Left (Alb...|        3|          0|         1|\n",
      "|    32|2018-10-08 13:30:48|For Once In My Li...|        4|          0|         1|\n",
      "|    32|2018-10-08 13:31:16|                null|        4|          0|         1|\n",
      "|    32|2018-10-08 13:33:21|            Tive Sim|        5|          0|         1|\n",
      "|    32|2018-10-08 13:35:28|        EMCEE Murdah|        6|          0|         1|\n",
      "|    32|2018-10-08 13:38:59|Space (I Believe In)|        7|          0|         1|\n",
      "|    32|2018-10-08 13:43:17|      Southern State|        8|          0|         1|\n",
      "|    32|2018-10-08 13:47:57|     Rock The Casbah|        9|          0|         1|\n",
      "|    32|2018-10-08 13:50:05|                null|        9|          0|         1|\n",
      "|    32|2018-10-08 13:50:06|                null|        9|          0|         1|\n",
      "|    32|2018-10-08 13:52:35|                null|        9|          0|         1|\n",
      "|    32|2018-10-08 13:52:37|         Greece 2000|       10|          0|         1|\n",
      "|    32|2018-10-08 13:59:28|    Hey_ Soul Sister|       11|          0|         1|\n",
      "|    32|2018-10-08 14:03:04|My Ropin' Days Ar...|       12|          0|         1|\n",
      "|    32|2018-10-08 14:06:27|      Russia Privjet|       13|          0|         1|\n",
      "|    32|2018-10-08 14:10:34|   Pop Into My Heart|       14|          0|         1|\n",
      "|    32|2018-10-08 14:13:53|Werewolf Women Of...|       15|          0|         1|\n",
      "|    32|2018-10-08 14:16:54|  Heartbreak Warfare|       16|          0|         1|\n",
      "|    32|2018-10-08 14:21:23|            Big Idea|       17|          0|         1|\n",
      "|    32|2018-10-08 14:24:48|Here (In Your Arm...|       18|          0|         1|\n",
      "|    32|2018-10-08 14:28:26|Moar Ghosts 'n' S...|       19|          0|         1|\n",
      "|    32|2018-10-08 14:33:22|        The Best Day|       20|          0|         1|\n",
      "|    32|2018-10-08 14:37:28|Orange TrÃÂ¤gt N...|       21|          0|         1|\n",
      "|    32|2018-10-08 14:40:52|Clint Eastwood (E...|       22|          0|         1|\n",
      "|    32|2018-10-08 14:46:49|             O Raaje|       23|          0|         1|\n",
      "|    32|2018-10-08 14:52:31|        It's My Life|       24|          0|         1|\n",
      "|    32|2018-10-08 14:52:32|                null|       24|          0|         1|\n",
      "|    32|2018-10-08 14:56:15|                Mojo|       25|          0|         1|\n",
      "|    32|2018-10-08 14:59:54|Baby Let Me Take ...|       26|          0|         1|\n",
      "|    32|2018-10-08 15:02:15|           Balaclava|       27|          0|         1|\n",
      "|    32|2018-10-08 15:02:16|                null|       27|          0|         1|\n",
      "|    32|2018-10-08 15:05:06|  Prelude To A Dream|       28|          0|         1|\n",
      "|    32|2018-10-08 15:07:46|                null|       28|          0|         1|\n",
      "|    32|2018-10-08 15:08:35|Sympathy For The ...|       29|          0|         1|\n",
      "|    32|2018-10-08 15:16:10|Jerk It Out (Orig...|       30|          0|         1|\n",
      "|    32|2018-10-08 15:19:25|           All Alone|       31|          0|         1|\n",
      "|    32|2018-10-08 15:19:26|                null|       31|          0|         1|\n",
      "|    32|2018-10-08 15:22:19|                null|       31|          0|         1|\n",
      "|    32|2018-10-08 15:22:54|           Sandstorm|       32|          0|         1|\n",
      "|    32|2018-10-08 15:25:02|                null|       32|          0|         1|\n",
      "|    32|2018-10-08 15:29:35|                null|       32|          0|         1|\n",
      "|    32|2018-10-08 15:30:23| Long Arm Of The Law|       33|          0|         1|\n",
      "|    32|2018-10-08 15:35:42|        Wishing Well|       34|          0|         1|\n",
      "|    32|2018-10-08 15:39:12|                null|       34|          0|         1|\n",
      "|    32|2018-10-08 15:39:39|It's Just Like Su...|       35|          0|         1|\n",
      "|    32|2018-10-08 15:43:46|  Sentimental Street|       36|          0|         1|\n",
      "|    32|2018-10-08 15:47:41|      Come on Closer|       37|          0|         1|\n",
      "|    32|2018-10-08 15:51:27|                Undo|       38|          0|         1|\n",
      "|    32|2018-10-08 15:57:15|Electric Fever (I...|       39|          0|         1|\n",
      "|    32|2018-10-08 16:03:28|              Rianna|       40|          0|         1|\n",
      "|    32|2018-10-08 16:05:41|I'd Rather Fuck Y...|       41|          0|         1|\n",
      "|    32|2018-10-08 16:09:38|   Anchor Of My Soul|       42|          0|         1|\n",
      "|    32|2018-10-08 16:10:30|                null|       42|          0|         1|\n",
      "|    32|2018-10-08 16:10:31|                null|       42|          0|         1|\n",
      "|    32|2018-10-08 16:10:46|                null|       42|          1|         1|\n",
      "+------+-------------------+--------------------+---------+-----------+----------+\n",
      "\n"
     ]
    }
   ],
   "source": [
    "# check\n",
    "df_valid.select('userId', 'dt', 'song', 'num_songs', 'churn_event',\n",
    "                'churn_user').where(df_valid['userId'] == 32).show(200)"
   ]
  },
  {
   "cell_type": "code",
   "execution_count": 159,
   "metadata": {},
   "outputs": [],
   "source": [
    "def make_boxplot(df, col_name):\n",
    "    \"Return boxplot of stayed and churn for the attribute col_name of the dataframe df.\"\n",
    "    df_stayed = df.filter(df['churn_user'] == 0).select(\n",
    "        col_name).toPandas()\n",
    "    df_churn = df.filter(df['churn_user'] == 1).select(\n",
    "        col_name).toPandas()\n",
    "\n",
    "    df = pd.concat([df_stayed, df_churn], axis=1, ignore_index=True)\n",
    "    df.columns = ['stayed', 'churn']\n",
    "\n",
    "    statistics = df.describe().transpose()\n",
    "\n",
    "    ax = df.boxplot()\n",
    "    ax.set_title(col_name + ' per day', fontsize=12)\n",
    "    ax.set_ylabel('Count', fontsize=12)\n",
    "\n",
    "    return statistics, ax"
   ]
  },
  {
   "cell_type": "code",
   "execution_count": 160,
   "metadata": {},
   "outputs": [
    {
     "data": {
      "text/plain": [
       "(           count        mean        std  min   25%   50%    75%    max\n",
       " stayed  233290.0  111.262995  94.196390  0.0  34.0  85.0  165.0  364.0\n",
       " churn    44864.0  106.231232  92.774793  0.0  31.0  78.0  157.0  372.0,\n",
       " <matplotlib.axes._subplots.AxesSubplot at 0x7f80ccdd6f10>)"
      ]
     },
     "execution_count": 160,
     "metadata": {},
     "output_type": "execute_result"
    },
    {
     "data": {
      "image/png": "[encoded data removed]",
      "text/plain": [
       "<Figure size 432x288 with 1 Axes>"
      ]
     },
     "metadata": {
      "needs_background": "light"
     },
     "output_type": "display_data"
    }
   ],
   "source": [
    "make_boxplot(df_valid, 'num_songs')"
   ]
  },
  {
   "cell_type": "markdown",
   "metadata": {},
   "source": [
    "### Artist"
   ]
  },
  {
   "cell_type": "code",
   "execution_count": 161,
   "metadata": {},
   "outputs": [],
   "source": [
    "# number of distinct artists played in a day\n",
    "df_valid = df_valid.withColumn(\"num_artists\", F.size(\n",
    "    F.collect_set(\"artist\").over(windowval)))"
   ]
  },
  {
   "cell_type": "code",
   "execution_count": 162,
   "metadata": {},
   "outputs": [
    {
     "data": {
      "text/plain": [
       "(           count        mean        std  min   25%   50%    75%    max\n",
       " stayed  233290.0  103.620425  84.233414  0.0  34.0  82.0  155.0  331.0\n",
       " churn    44864.0   99.120185  83.465901  0.0  31.0  75.0  148.0  332.0,\n",
       " <matplotlib.axes._subplots.AxesSubplot at 0x7f80cbba53d0>)"
      ]
     },
     "execution_count": 162,
     "metadata": {},
     "output_type": "execute_result"
    },
    {
     "data": {
      "image/png": "[encoded data removed]",
      "text/plain": [
       "<Figure size 432x288 with 1 Axes>"
      ]
     },
     "metadata": {
      "needs_background": "light"
     },
     "output_type": "display_data"
    }
   ],
   "source": [
    "make_boxplot(df_valid, 'num_artists')"
   ]
  },
  {
   "cell_type": "markdown",
   "metadata": {},
   "source": [
    "### Session"
   ]
  },
  {
   "cell_type": "code",
   "execution_count": 163,
   "metadata": {},
   "outputs": [],
   "source": [
    "# number of sessions in a day\n",
    "df_valid = df_valid.withColumn('num_sessions', F.count('sessionId').over(windowval))"
   ]
  },
  {
   "cell_type": "code",
   "execution_count": 164,
   "metadata": {},
   "outputs": [
    {
     "data": {
      "text/plain": [
       "(           count        mean         std  min   25%    50%    75%    max\n",
       " stayed  233290.0  133.449441  111.058138  1.0  42.0  103.0  198.0  439.0\n",
       " churn    44864.0  128.028731  108.969669  1.0  39.0   96.0  190.0  436.0,\n",
       " <matplotlib.axes._subplots.AxesSubplot at 0x7f80cc839410>)"
      ]
     },
     "execution_count": 164,
     "metadata": {},
     "output_type": "execute_result"
    },
    {
     "data": {
      "image/png": "[encoded data removed]",
      "text/plain": [
       "<Figure size 432x288 with 1 Axes>"
      ]
     },
     "metadata": {
      "needs_background": "light"
     },
     "output_type": "display_data"
    }
   ],
   "source": [
    "make_boxplot(df_valid, 'num_sessions')"
   ]
  },
  {
   "cell_type": "markdown",
   "metadata": {},
   "source": [
    "### Status"
   ]
  },
  {
   "cell_type": "code",
   "execution_count": 165,
   "metadata": {},
   "outputs": [
    {
     "name": "stdout",
     "output_type": "stream",
     "text": [
      "+------+------+\n",
      "|status| count|\n",
      "+------+------+\n",
      "|   307| 23184|\n",
      "|   404|   252|\n",
      "|   200|254718|\n",
      "+------+------+\n",
      "\n"
     ]
    }
   ],
   "source": [
    "df_valid.groupby('status').count().show()"
   ]
  },
  {
   "cell_type": "code",
   "execution_count": 166,
   "metadata": {},
   "outputs": [],
   "source": [
    "# flag the status 'redirect' and 'not found'\n",
    "flag_redirect = F.udf(lambda x: 1 if x == 307 else 0, T.IntegerType())\n",
    "flag_not_found = F.udf(lambda x: 1 if x == 404 else 0, T.IntegerType())"
   ]
  },
  {
   "cell_type": "code",
   "execution_count": 167,
   "metadata": {},
   "outputs": [],
   "source": [
    "# create redirect and page_not_found columns\n",
    "df_valid = df_valid.withColumn(\"redirect\", flag_redirect(df_valid['status']))\n",
    "df_valid = df_valid.withColumn(\n",
    "    \"page_not_found\", flag_not_found(df_valid['status']))"
   ]
  },
  {
   "cell_type": "code",
   "execution_count": 168,
   "metadata": {},
   "outputs": [
    {
     "name": "stdout",
     "output_type": "stream",
     "text": [
      "+----------+-------------+\n",
      "|churn_user|sum(redirect)|\n",
      "+----------+-------------+\n",
      "|         1|         3695|\n",
      "|         0|        19489|\n",
      "+----------+-------------+\n",
      "\n"
     ]
    }
   ],
   "source": [
    "df_valid.groupBy('churn_user').sum('redirect').show()"
   ]
  },
  {
   "cell_type": "code",
   "execution_count": 169,
   "metadata": {},
   "outputs": [
    {
     "name": "stdout",
     "output_type": "stream",
     "text": [
      "+----------+-------------------+\n",
      "|churn_user|sum(page_not_found)|\n",
      "+----------+-------------------+\n",
      "|         1|                 32|\n",
      "|         0|                220|\n",
      "+----------+-------------------+\n",
      "\n"
     ]
    }
   ],
   "source": [
    "df_valid.groupBy('churn_user').sum('page_not_found').show()"
   ]
  },
  {
   "cell_type": "code",
   "execution_count": 170,
   "metadata": {},
   "outputs": [
    {
     "name": "stdout",
     "output_type": "stream",
     "text": [
      "+----------------+\n",
      "|sum(churn_event)|\n",
      "+----------------+\n",
      "|               0|\n",
      "+----------------+\n",
      "\n"
     ]
    }
   ],
   "source": [
    "df_valid.filter(df_valid['status'] == '307').select(\n",
    "    F.sum(\"churn_event\")).show()"
   ]
  },
  {
   "cell_type": "code",
   "execution_count": 171,
   "metadata": {},
   "outputs": [
    {
     "name": "stdout",
     "output_type": "stream",
     "text": [
      "+----------------+\n",
      "|sum(churn_event)|\n",
      "+----------------+\n",
      "|              52|\n",
      "+----------------+\n",
      "\n"
     ]
    }
   ],
   "source": [
    "df_valid.filter(df_valid['status'] == '200').select(\n",
    "    F.sum(\"churn_event\")).show()"
   ]
  },
  {
   "cell_type": "markdown",
   "metadata": {},
   "source": [
    "### Page"
   ]
  },
  {
   "cell_type": "code",
   "execution_count": 172,
   "metadata": {},
   "outputs": [
    {
     "name": "stdout",
     "output_type": "stream",
     "text": [
      "+-------------------------+------+\n",
      "|page                     |count |\n",
      "+-------------------------+------+\n",
      "|Cancel                   |52    |\n",
      "|Submit Downgrade         |63    |\n",
      "|Thumbs Down              |2546  |\n",
      "|Home                     |10082 |\n",
      "|Downgrade                |2055  |\n",
      "|Roll Advert              |3933  |\n",
      "|Logout                   |3226  |\n",
      "|Save Settings            |310   |\n",
      "|Cancellation Confirmation|52    |\n",
      "|About                    |495   |\n",
      "|Settings                 |1514  |\n",
      "|Add to Playlist          |6526  |\n",
      "|Add Friend               |4277  |\n",
      "|NextSong                 |228108|\n",
      "|Thumbs Up                |12551 |\n",
      "|Help                     |1454  |\n",
      "|Upgrade                  |499   |\n",
      "|Error                    |252   |\n",
      "|Submit Upgrade           |159   |\n",
      "+-------------------------+------+\n",
      "\n"
     ]
    }
   ],
   "source": [
    "df_valid.groupby('page').count().show(22, False)"
   ]
  },
  {
   "cell_type": "code",
   "execution_count": 173,
   "metadata": {},
   "outputs": [],
   "source": [
    "# create aggregate features from the column 'page'\n",
    "\n",
    "pages = ['Thumbs Down', 'Thumbs Up', 'Home', 'Roll Advert',\n",
    "         'Logout', 'Add to Playlist', 'Add Friend', 'Error']\n",
    "\n",
    "for page in pages:\n",
    "    flag_page = F.udf(lambda x: 1 if x == page else 0, T.IntegerType())\n",
    "    df_valid = df_valid.withColumn('flag', flag_page('page'))\n",
    "    df_valid = df_valid.withColumn(\n",
    "        'num_' + page, F.sum('flag').over(windowval)).drop('flag')"
   ]
  },
  {
   "cell_type": "code",
   "execution_count": 174,
   "metadata": {},
   "outputs": [
    {
     "data": {
      "text/plain": [
       "(           count      mean       std  min  25%  50%  75%   max\n",
       " stayed  233290.0  1.110493  1.446443  0.0  0.0  1.0  2.0  13.0\n",
       " churn    44864.0  1.183488  1.407353  0.0  0.0  1.0  2.0   7.0,\n",
       " <matplotlib.axes._subplots.AxesSubplot at 0x7f80cc35cd50>)"
      ]
     },
     "execution_count": 174,
     "metadata": {},
     "output_type": "execute_result"
    },
    {
     "data": {
      "image/png": "[encoded data removed]",
      "text/plain": [
       "<Figure size 432x288 with 1 Axes>"
      ]
     },
     "metadata": {
      "needs_background": "light"
     },
     "output_type": "display_data"
    }
   ],
   "source": [
    "make_boxplot(df_valid, 'num_Thumbs Down')"
   ]
  },
  {
   "cell_type": "code",
   "execution_count": 175,
   "metadata": {},
   "outputs": [
    {
     "data": {
      "text/plain": [
       "(           count      mean       std  min  25%  50%  75%   max\n",
       " stayed  233290.0  6.013112  5.820115  0.0  1.0  4.0  9.0  38.0\n",
       " churn    44864.0  5.338802  5.187177  0.0  1.0  4.0  8.0  30.0,\n",
       " <matplotlib.axes._subplots.AxesSubplot at 0x7f80ce1672d0>)"
      ]
     },
     "execution_count": 175,
     "metadata": {},
     "output_type": "execute_result"
    },
    {
     "data": {
      "image/png": "[encoded data removed]",
      "text/plain": [
       "<Figure size 432x288 with 1 Axes>"
      ]
     },
     "metadata": {
      "needs_background": "light"
     },
     "output_type": "display_data"
    }
   ],
   "source": [
    "make_boxplot(df_valid, 'num_Thumbs Up')"
   ]
  },
  {
   "cell_type": "code",
   "execution_count": 176,
   "metadata": {},
   "outputs": [
    {
     "data": {
      "text/plain": [
       "(           count      mean       std  min  25%  50%  75%   max\n",
       " stayed  233290.0  4.506485  3.661779  0.0  2.0  4.0  7.0  22.0\n",
       " churn    44864.0  4.512750  3.883828  0.0  2.0  4.0  6.0  20.0,\n",
       " <matplotlib.axes._subplots.AxesSubplot at 0x7f80cd430790>)"
      ]
     },
     "execution_count": 176,
     "metadata": {},
     "output_type": "execute_result"
    },
    {
     "data": {
      "image/png": "[encoded data removed]",
      "text/plain": [
       "<Figure size 432x288 with 1 Axes>"
      ]
     },
     "metadata": {
      "needs_background": "light"
     },
     "output_type": "display_data"
    }
   ],
   "source": [
    "make_boxplot(df_valid, 'num_Home')"
   ]
  },
  {
   "cell_type": "code",
   "execution_count": 177,
   "metadata": {},
   "outputs": [
    {
     "data": {
      "text/plain": [
       "(           count      mean       std  min  25%  50%  75%   max\n",
       " stayed  233290.0  0.956385  2.436229  0.0  0.0  0.0  1.0  38.0\n",
       " churn    44864.0  1.591789  3.476550  0.0  0.0  0.0  1.0  27.0,\n",
       " <matplotlib.axes._subplots.AxesSubplot at 0x7f80cd9d1ed0>)"
      ]
     },
     "execution_count": 177,
     "metadata": {},
     "output_type": "execute_result"
    },
    {
     "data": {
      "image/png": "[encoded data removed]",
      "text/plain": [
       "<Figure size 432x288 with 1 Axes>"
      ]
     },
     "metadata": {
      "needs_background": "light"
     },
     "output_type": "display_data"
    }
   ],
   "source": [
    "make_boxplot(df_valid, 'num_Roll Advert')"
   ]
  },
  {
   "cell_type": "code",
   "execution_count": 178,
   "metadata": {},
   "outputs": [
    {
     "data": {
      "text/plain": [
       "(           count      mean       std  min  25%  50%  75%   max\n",
       " stayed  233290.0  1.309340  1.527900  0.0  0.0  1.0  2.0  10.0\n",
       " churn    44864.0  1.351863  1.555943  0.0  0.0  1.0  2.0   9.0,\n",
       " <matplotlib.axes._subplots.AxesSubplot at 0x7f80cd4c37d0>)"
      ]
     },
     "execution_count": 178,
     "metadata": {},
     "output_type": "execute_result"
    },
    {
     "data": {
      "image/png": "[encoded data removed]",
      "text/plain": [
       "<Figure size 432x288 with 1 Axes>"
      ]
     },
     "metadata": {
      "needs_background": "light"
     },
     "output_type": "display_data"
    }
   ],
   "source": [
    "make_boxplot(df_valid, 'num_Logout')"
   ]
  },
  {
   "cell_type": "code",
   "execution_count": 179,
   "metadata": {},
   "outputs": [
    {
     "data": {
      "text/plain": [
       "(           count      mean       std  min  25%  50%  75%   max\n",
       " stayed  233290.0  3.135557  3.176421  0.0  1.0  2.0  5.0  19.0\n",
       " churn    44864.0  3.046451  3.223029  0.0  1.0  2.0  4.0  17.0,\n",
       " <matplotlib.axes._subplots.AxesSubplot at 0x7f80b19e1e90>)"
      ]
     },
     "execution_count": 179,
     "metadata": {},
     "output_type": "execute_result"
    },
    {
     "data": {
      "image/png": "[encoded data removed]",
      "text/plain": [
       "<Figure size 432x288 with 1 Axes>"
      ]
     },
     "metadata": {
      "needs_background": "light"
     },
     "output_type": "display_data"
    }
   ],
   "source": [
    "make_boxplot(df_valid, 'num_Add to Playlist')"
   ]
  },
  {
   "cell_type": "code",
   "execution_count": 180,
   "metadata": {},
   "outputs": [
    {
     "data": {
      "text/plain": [
       "(           count      mean       std  min  25%  50%  75%   max\n",
       " stayed  233290.0  2.028672  2.535615  0.0  0.0  1.0  3.0  21.0\n",
       " churn    44864.0  1.692961  2.089752  0.0  0.0  1.0  3.0  11.0,\n",
       " <matplotlib.axes._subplots.AxesSubplot at 0x7f80b1a17b10>)"
      ]
     },
     "execution_count": 180,
     "metadata": {},
     "output_type": "execute_result"
    },
    {
     "data": {
      "image/png": "[encoded data removed]",
      "text/plain": [
       "<Figure size 432x288 with 1 Axes>"
      ]
     },
     "metadata": {
      "needs_background": "light"
     },
     "output_type": "display_data"
    }
   ],
   "source": [
    "make_boxplot(df_valid, 'num_Add Friend')"
   ]
  },
  {
   "cell_type": "code",
   "execution_count": 181,
   "metadata": {},
   "outputs": [
    {
     "data": {
      "text/plain": [
       "(           count      mean       std  min  25%  50%  75%  max\n",
       " stayed  233290.0  0.122534  0.371318  0.0  0.0  0.0  0.0  3.0\n",
       " churn    44864.0  0.091922  0.303371  0.0  0.0  0.0  0.0  2.0,\n",
       " <matplotlib.axes._subplots.AxesSubplot at 0x7f80b1a1ff90>)"
      ]
     },
     "execution_count": 181,
     "metadata": {},
     "output_type": "execute_result"
    },
    {
     "data": {
      "image/png": "[encoded data removed]",
      "text/plain": [
       "<Figure size 432x288 with 1 Axes>"
      ]
     },
     "metadata": {
      "needs_background": "light"
     },
     "output_type": "display_data"
    }
   ],
   "source": [
    "make_boxplot(df_valid, 'num_Error')"
   ]
  },
  {
   "cell_type": "code",
   "execution_count": 182,
   "metadata": {},
   "outputs": [],
   "source": [
    "df_temp = df_valid.select(\n",
    "    'churn_user',\n",
    "    'itemInSession',\n",
    "    'length',\n",
    "    'days_since_reg',\n",
    "    'hour',\n",
    "    'day',\n",
    "    'month',\n",
    "    'num_songs',\n",
    "    'num_artists',\n",
    "    'num_sessions',\n",
    "    'num_Thumbs Down',\n",
    "    'num_Thumbs Up',\n",
    "    'num_Home',\n",
    "    'num_Roll Advert',\n",
    "    'num_Logout',\n",
    "    'num_Add to Playlist',\n",
    "    'num_Add Friend',\n",
    "    'num_Error'\n",
    ").toPandas()"
   ]
  },
  {
   "cell_type": "code",
   "execution_count": 183,
   "metadata": {},
   "outputs": [
    {
     "data": {
      "image/png": "[encoded data removed]",
      "text/plain": [
       "<Figure size 1080x864 with 2 Axes>"
      ]
     },
     "metadata": {
      "needs_background": "light"
     },
     "output_type": "display_data"
    }
   ],
   "source": [
    "plt.figure(figsize=(15, 12))\n",
    "sns.heatmap(df_temp.corr(), annot=True, cmap='coolwarm');\n",
    "#plt.ylim(12, 0)"
   ]
  },
  {
   "cell_type": "markdown",
   "metadata": {},
   "source": [
    "Highly correlated features will be dropped to avoid multicollinearity. "
   ]
  },
  {
   "cell_type": "code",
   "execution_count": 184,
   "metadata": {},
   "outputs": [],
   "source": [
    "df_temp = df_valid.select(\n",
    "    'churn_user',\n",
    "    'length',\n",
    "    'days_since_reg',\n",
    "    'hour',\n",
    "    'day',\n",
    "    'month',\n",
    "    'num_songs',\n",
    "    'num_Thumbs Down',\n",
    "    'num_Roll Advert',\n",
    "    'num_Add Friend',\n",
    "    'num_Error'\n",
    ").toPandas()"
   ]
  },
  {
   "cell_type": "code",
   "execution_count": 185,
   "metadata": {},
   "outputs": [
    {
     "data": {
      "image/png": "[encoded data removed]",
      "text/plain": [
       "<Figure size 1080x864 with 2 Axes>"
      ]
     },
     "metadata": {
      "needs_background": "light"
     },
     "output_type": "display_data"
    }
   ],
   "source": [
    "plt.figure(figsize=(15, 12))\n",
    "sns.heatmap(df_temp.corr(), annot=True, cmap='coolwarm');\n",
    "#plt.ylim(12, 0)"
   ]
  },
  {
   "cell_type": "markdown",
   "metadata": {},
   "source": [
    "# Feature Engineering"
   ]
  },
  {
   "cell_type": "code",
   "execution_count": 6,
   "metadata": {},
   "outputs": [],
   "source": [
    "def clean_data(df):\n",
    "    \"Return valid data by dropping missing values in registration.\"\n",
    "    df_clean = df.dropna(subset=['registration']).na.fill(0, subset=['length'])\n",
    "\n",
    "    return df_clean"
   ]
  },
  {
   "cell_type": "code",
   "execution_count": 7,
   "metadata": {},
   "outputs": [],
   "source": [
    "def is_churn(df):\n",
    "    \"Return the dataframe with labels for churn users\"\n",
    "    \n",
    "    flag_churn_event = F.udf(lambda x: 1 if (x == 'Cancellation Confirmation') | (\n",
    "        x == 'Submit Downgrade') else 0, T.IntegerType())\n",
    "\n",
    "    df_new = df.withColumn(\n",
    "        'churn_event', flag_churn_event(F.col('page')))\n",
    "    \n",
    "    df_new = df_new.withColumn('label', F.max(\n",
    "        'churn_event').over(Window.partitionBy('userId')))\n",
    "\n",
    "    return df_new"
   ]
  },
  {
   "cell_type": "code",
   "execution_count": 8,
   "metadata": {},
   "outputs": [],
   "source": [
    "def registration_days(df):\n",
    "    \"Return the number of days since registration\"\n",
    "\n",
    "    df_new = df.withColumn('registration date', (F.col(\n",
    "    'registration')/1000).cast(T.TimestampType()))\n",
    "\n",
    "    df_new = df_new.withColumn(\n",
    "    'date', (F.col('ts')/1000).cast(T.TimestampType()))\n",
    "\n",
    "    df_new = df_new.withColumn('days_since_registration', (F.datediff(\n",
    "    'date', 'registration date'))).drop('date', 'registration date')\n",
    "\n",
    "    return df_new"
   ]
  },
  {
   "cell_type": "code",
   "execution_count": 9,
   "metadata": {},
   "outputs": [],
   "source": [
    "def timestamp(df):\n",
    "\n",
    "    get_hour = F.udf(lambda x: datetime.datetime.fromtimestamp(\n",
    "        x / 1000.0).hour, T.IntegerType())\n",
    "    get_day = F.udf(lambda x: datetime.datetime.fromtimestamp(\n",
    "        x / 1000.0).day, T.IntegerType())\n",
    "    get_month = F.udf(lambda x: datetime.datetime.fromtimestamp(\n",
    "        x / 1000.0).month, T.IntegerType())\n",
    "\n",
    "    df_new = df.withColumn('hour', get_hour(F.col('ts'))).withColumn(\n",
    "        'day', get_day(F.col('ts'))).withColumn('month', get_month(F.col('ts')))\n",
    "    \n",
    "    return df_new"
   ]
  },
  {
   "cell_type": "code",
   "execution_count": 10,
   "metadata": {},
   "outputs": [],
   "source": [
    "# time window to find aggregate values per day\n",
    "def days(x): \n",
    "    \" Return time in seconds for the input time in days\"\n",
    "    time_in_seconds = x * 86400\n",
    "    return time_in_seconds\n",
    "\n",
    "windowval = (\n",
    "    Window.partitionBy(\"userId\")\n",
    "    .orderBy(F.col(\"ts\")/1000)\n",
    "    .rangeBetween(-days(1), 0)\n",
    ")"
   ]
  },
  {
   "cell_type": "code",
   "execution_count": 11,
   "metadata": {},
   "outputs": [],
   "source": [
    "# create aggregate features from the column 'page'\n",
    "pages = ['Thumbs Down', 'Roll Advert', 'Add Friend', 'Error']\n",
    "\n",
    "def aggregate_features(df):\n",
    "    \"Return selected aggregate features from page.\"\n",
    "    df_new = df\n",
    "    \n",
    "    for page in pages:\n",
    "        \n",
    "        flag_page = F.udf(lambda x: 1 if x == page else 0, T.IntegerType())\n",
    "        df_new = df_new.withColumn('flag', flag_page('page'))\n",
    "        df_new = df_new.withColumn(\n",
    "            'num_' + page, F.sum('flag').over(windowval)).drop('flag')\n",
    "    \n",
    "    # number of songs played in a day\n",
    "    df_new = df_new.withColumn('num_songs', F.count('song').over(windowval))\n",
    "    \n",
    "    return df_new"
   ]
  },
  {
   "cell_type": "code",
   "execution_count": 12,
   "metadata": {},
   "outputs": [],
   "source": [
    "def retrive_state(df):\n",
    "    \"Return dataframe with states retrived from locations\"\n",
    "    df_new = df\n",
    "    get_state = F.udf(lambda x: x[-2:])\n",
    "    df_new = df_new.withColumn(\"state\", get_state(\n",
    "        df_new['location'])).drop('location')\n",
    "    \n",
    "    return df_new    "
   ]
  },
  {
   "cell_type": "code",
   "execution_count": 13,
   "metadata": {},
   "outputs": [],
   "source": [
    "ignore_list = ['artist',\n",
    "               'auth',\n",
    "               'firstName',\n",
    "               'itemInSession',\n",
    "               'lastName',\n",
    "               'method',\n",
    "               'page',\n",
    "               'registration',\n",
    "               'sessionId',\n",
    "               'song',\n",
    "               'ts',\n",
    "               'userAgent',\n",
    "               'userId',\n",
    "               'churn_event',\n",
    "               ]\n",
    "\n",
    "\n",
    "def ignore(df, ignore_list):\n",
    "    \"Remove unnecessary feature columns\"\n",
    "    df_new = df.drop(*ignore_list)\n",
    "\n",
    "    return df_new"
   ]
  },
  {
   "cell_type": "code",
   "execution_count": 14,
   "metadata": {},
   "outputs": [],
   "source": [
    "def preprocess_data(df):\n",
    "    \n",
    "    df_clean = clean_data(df)\n",
    "    df_churn = is_churn(df_clean)\n",
    "    df_reg_days = registration_days(df_churn)\n",
    "    df_timestamp = timestamp(df_reg_days)\n",
    "    df_aggregate = aggregate_features(df_timestamp)\n",
    "    df_state = retrive_state(df_aggregate)\n",
    "    df_processed = ignore(df_state, ignore_list)\n",
    "    \n",
    "    return df_processed    "
   ]
  },
  {
   "cell_type": "code",
   "execution_count": 15,
   "metadata": {},
   "outputs": [],
   "source": [
    "df_processed = preprocess_data(df)"
   ]
  },
  {
   "cell_type": "code",
   "execution_count": 16,
   "metadata": {},
   "outputs": [
    {
     "data": {
      "text/plain": [
       "['gender',\n",
       " 'length',\n",
       " 'level',\n",
       " 'status',\n",
       " 'label',\n",
       " 'days_since_registration',\n",
       " 'hour',\n",
       " 'day',\n",
       " 'month',\n",
       " 'num_Thumbs Down',\n",
       " 'num_Roll Advert',\n",
       " 'num_Add Friend',\n",
       " 'num_Error',\n",
       " 'num_songs',\n",
       " 'state']"
      ]
     },
     "execution_count": 16,
     "metadata": {},
     "output_type": "execute_result"
    }
   ],
   "source": [
    "df_processed.columns"
   ]
  },
  {
   "cell_type": "code",
   "execution_count": 17,
   "metadata": {},
   "outputs": [],
   "source": [
    "cat_columns = ['gender', 'level', 'status', 'state', 'month']\n",
    "\n",
    "stages = []\n",
    "\n",
    "for column in cat_columns:\n",
    "    indexer = StringIndexer(inputCol=column, outputCol=column+'_index')\n",
    "    encoder = OneHotEncoderEstimator(\n",
    "        inputCols=[indexer.getOutputCol()], outputCols=[column + '_vect'])\n",
    "\n",
    "    stages += [indexer, encoder]"
   ]
  },
  {
   "cell_type": "code",
   "execution_count": 18,
   "metadata": {},
   "outputs": [],
   "source": [
    "num_columns = [\n",
    "    'length',\n",
    "    'days_since_registration',\n",
    "    'hour',\n",
    "    'day',\n",
    "    'num_songs',\n",
    "    'num_Thumbs Down',\n",
    "    'num_Roll Advert',\n",
    "    'num_Add Friend',\n",
    "    'num_Error'\n",
    "]\n",
    "\n",
    "vect_assembler_inputs = [c + '_vect' for c in cat_columns] + num_columns\n",
    "assembler = VectorAssembler(\n",
    "    inputCols=vect_assembler_inputs, outputCol=\"features\")\n",
    "\n",
    "stages += [assembler]"
   ]
  },
  {
   "cell_type": "code",
   "execution_count": 19,
   "metadata": {},
   "outputs": [],
   "source": [
    "scaler = MinMaxScaler(inputCol=\"features\", outputCol=\"scaled_features\")\n",
    "\n",
    "stages += [scaler]"
   ]
  },
  {
   "cell_type": "markdown",
   "metadata": {},
   "source": [
    "# Modeling\n",
    "Split the full dataset into train and test sets. \n",
    "Test out several classifiers with default parameters, and evaluate F1 scores, and areaUnderROC scores since the churned users are a fairly small subset.\n",
    "The best model's parameters are further tuned to optimize F1 score with 2-fold crossvalidation. "
   ]
  },
  {
   "cell_type": "code",
   "execution_count": 20,
   "metadata": {},
   "outputs": [],
   "source": [
    "# split the full dataset into train, test, and validation sets\n",
    "train, test = df_processed.randomSplit([0.8, 0.2], seed=42)\n",
    "# display shape of datasets\n",
    "print('df_processed shape: {}, {}'.format(df_processed.count(), len(df_processed.columns)))\n",
    "print('train shape: {}, {}'.format(train.count(), len(train.columns)))\n",
    "print('test shape: {}, {}'.format(test.count(),len(test.columns)))"
   ]
  },
  {
   "cell_type": "code",
   "execution_count": 21,
   "metadata": {},
   "outputs": [],
   "source": [
    "pipeline = Pipeline().setStages(stages)\n",
    "pipeline_fitted = pipeline.fit(train)"
   ]
  },
  {
   "cell_type": "code",
   "execution_count": 22,
   "metadata": {},
   "outputs": [],
   "source": [
    "train_prep = pipeline_fitted.transform(train)\n",
    "test_prep = pipeline_fitted.transform(test)"
   ]
  },
  {
   "cell_type": "code",
   "execution_count": 23,
   "metadata": {},
   "outputs": [],
   "source": [
    "lr = LogisticRegression(labelCol='label', featuresCol='scaled_features')\n",
    "dtc = DecisionTreeClassifier(labelCol='label', featuresCol='scaled_features')\n",
    "rfc = RandomForestClassifier(labelCol='label', featuresCol='scaled_features')\n",
    "gbt = GBTClassifier(labelCol='label', featuresCol='scaled_features')"
   ]
  },
  {
   "cell_type": "code",
   "execution_count": 24,
   "metadata": {},
   "outputs": [],
   "source": [
    "lr_model = lr.fit(train_prep)\n",
    "dtc_model = dtc.fit(train_prep)\n",
    "rfc_model = rfc.fit(train_prep)\n",
    "gbt_model = gbt.fit(train_prep)"
   ]
  },
  {
   "cell_type": "code",
   "execution_count": 25,
   "metadata": {},
   "outputs": [],
   "source": [
    "lr_preds = lr_model.transform(test_prep)\n",
    "dtc_preds = dtc_model.transform(test_prep)\n",
    "rfc_preds = rfc_model.transform(test_prep)\n",
    "gbt_preds = gbt_model.transform(test_prep)"
   ]
  },
  {
   "cell_type": "code",
   "execution_count": 26,
   "metadata": {},
   "outputs": [],
   "source": [
    "f1_eval = MulticlassClassificationEvaluator(\n",
    "    labelCol='label', metricName='f1')"
   ]
  },
  {
   "cell_type": "code",
   "execution_count": 27,
   "metadata": {},
   "outputs": [],
   "source": [
    "lr_f1 = f1_eval.evaluate(lr_preds)\n",
    "dtc_f1 = f1_eval.evaluate(dtc_preds)\n",
    "rfc_f1 = f1_eval.evaluate(rfc_preds)\n",
    "gbt_f1 = f1_eval.evaluate(gbt_preds)"
   ]
  },
  {
   "cell_type": "code",
   "execution_count": 28,
   "metadata": {},
   "outputs": [
    {
     "name": "stdout",
     "output_type": "stream",
     "text": [
      "f1 scores\n",
      "LR: 0.7290026220774705\n",
      "DTC: 0.6803727575530918\n",
      "RFC: 0.6953315535684006\n",
      "GBT: 0.8220295991158422\n"
     ]
    }
   ],
   "source": [
    "print('f1 scores')\n",
    "print('LR:', lr_f1)\n",
    "print('DTC:', dtc_f1)\n",
    "print('RFC:', rfc_f1)\n",
    "print('GBT:', gbt_f1)"
   ]
  },
  {
   "cell_type": "code",
   "execution_count": 29,
   "metadata": {},
   "outputs": [],
   "source": [
    "AUC_eval = BinaryClassificationEvaluator(\n",
    "    labelCol='label', metricName=\"areaUnderROC\")"
   ]
  },
  {
   "cell_type": "code",
   "execution_count": 30,
   "metadata": {},
   "outputs": [],
   "source": [
    "lr_AUC = AUC_eval.evaluate(lr_preds)\n",
    "dtc_AUC = AUC_eval.evaluate(dtc_preds)\n",
    "rfc_AUC = AUC_eval.evaluate(rfc_preds)\n",
    "gbt_AUC = AUC_eval.evaluate(gbt_preds)"
   ]
  },
  {
   "cell_type": "code",
   "execution_count": 31,
   "metadata": {},
   "outputs": [
    {
     "name": "stdout",
     "output_type": "stream",
     "text": [
      "AUC\n",
      "LR: 0.8210744161766961\n",
      "DTC: 0.5983195171972127\n",
      "RFC: 0.7895412688451344\n",
      "GBT: 0.9074594517743301\n"
     ]
    }
   ],
   "source": [
    "print('AUC')\n",
    "print('LR:', lr_AUC)\n",
    "print('DTC:', dtc_AUC)\n",
    "print('RFC:', rfc_AUC)\n",
    "print('GBT:', gbt_AUC)"
   ]
  },
  {
   "cell_type": "code",
   "execution_count": 83,
   "metadata": {},
   "outputs": [],
   "source": [
    "# create a dataframe for metrics\n",
    "d = {'Classifier': ['LogisticRegression', 'DecisionTreeClassifier', 'RandomForestClassifier','GBTClassifier'],\n",
    "     'F1': [lr_f1, dtc_f1, rfc_f1, gbt_f1], \n",
    "     'AUC': [lr_AUC, dtc_AUC, rfc_AUC, gbt_AUC]}\n",
    "\n",
    "df_metrics = pd.DataFrame(data=d)"
   ]
  },
  {
   "cell_type": "code",
   "execution_count": 84,
   "metadata": {},
   "outputs": [
    {
     "data": {
      "text/html": [
       "<div>\n",
       "<style scoped>\n",
       "    .dataframe tbody tr th:only-of-type {\n",
       "        vertical-align: middle;\n",
       "    }\n",
       "\n",
       "    .dataframe tbody tr th {\n",
       "        vertical-align: top;\n",
       "    }\n",
       "\n",
       "    .dataframe thead th {\n",
       "        text-align: right;\n",
       "    }\n",
       "</style>\n",
       "<table border=\"1\" class=\"dataframe\">\n",
       "  <thead>\n",
       "    <tr style=\"text-align: right;\">\n",
       "      <th></th>\n",
       "      <th>Classifier</th>\n",
       "      <th>F1</th>\n",
       "      <th>AUC</th>\n",
       "    </tr>\n",
       "  </thead>\n",
       "  <tbody>\n",
       "    <tr>\n",
       "      <th>0</th>\n",
       "      <td>LogisticRegression</td>\n",
       "      <td>0.729003</td>\n",
       "      <td>0.821074</td>\n",
       "    </tr>\n",
       "    <tr>\n",
       "      <th>1</th>\n",
       "      <td>DecisionTreeClassifier</td>\n",
       "      <td>0.680373</td>\n",
       "      <td>0.598320</td>\n",
       "    </tr>\n",
       "    <tr>\n",
       "      <th>2</th>\n",
       "      <td>RandomForestClassifier</td>\n",
       "      <td>0.695332</td>\n",
       "      <td>0.789541</td>\n",
       "    </tr>\n",
       "    <tr>\n",
       "      <th>3</th>\n",
       "      <td>GBTClassifier</td>\n",
       "      <td>0.822030</td>\n",
       "      <td>0.907459</td>\n",
       "    </tr>\n",
       "  </tbody>\n",
       "</table>\n",
       "</div>"
      ],
      "text/plain": [
       "               Classifier        F1       AUC\n",
       "0      LogisticRegression  0.729003  0.821074\n",
       "1  DecisionTreeClassifier  0.680373  0.598320\n",
       "2  RandomForestClassifier  0.695332  0.789541\n",
       "3           GBTClassifier  0.822030  0.907459"
      ]
     },
     "execution_count": 84,
     "metadata": {},
     "output_type": "execute_result"
    }
   ],
   "source": [
    "df_metrics"
   ]
  },
  {
   "cell_type": "markdown",
   "metadata": {},
   "source": [
    "### Model Selection"
   ]
  },
  {
   "cell_type": "code",
   "execution_count": 32,
   "metadata": {},
   "outputs": [],
   "source": [
    "# Create param_grid for Cross Validation\n",
    "param_grid = (ParamGridBuilder()\n",
    "             .addGrid(gbt.stepSize, [0.1, 0.5]) \n",
    "             .addGrid(gbt.maxDepth, [5, 10])\n",
    "             .addGrid(gbt.maxBins, [16, 32])\n",
    "             .addGrid(gbt.maxIter, [10, 20])\n",
    "             .build())"
   ]
  },
  {
   "cell_type": "code",
   "execution_count": 33,
   "metadata": {},
   "outputs": [],
   "source": [
    "cv = CrossValidator(\n",
    "    estimator=gbt,\n",
    "    estimatorParamMaps=param_grid,\n",
    "    evaluator=f1_eval,\n",
    "    numFolds=2)\n",
    "\n",
    "cv_model = cv.fit(train_prep)"
   ]
  },
  {
   "cell_type": "code",
   "execution_count": 90,
   "metadata": {},
   "outputs": [],
   "source": [
    "cv_preds = cv_model.transform(test_prep)"
   ]
  },
  {
   "cell_type": "code",
   "execution_count": 188,
   "metadata": {},
   "outputs": [
    {
     "name": "stdout",
     "output_type": "stream",
     "text": [
      "best_model F1 score: 0.9884232174649019\n"
     ]
    }
   ],
   "source": [
    "cv_f1 = f1_eval.evaluate(cv_preds)\n",
    "print('best_model F1 score:', cv_f1)"
   ]
  },
  {
   "cell_type": "code",
   "execution_count": 89,
   "metadata": {},
   "outputs": [
    {
     "data": {
      "text/plain": [
       "{Param(parent='GBTClassifier_70d64f254b2b', name='cacheNodeIds', doc='If false, the algorithm will pass trees to executors to match instances with nodes. If true, the algorithm will cache node IDs for each instance. Caching can speed up training of deeper trees.'): False,\n",
       " Param(parent='GBTClassifier_70d64f254b2b', name='checkpointInterval', doc='set checkpoint interval (>= 1) or disable checkpoint (-1). E.g. 10 means that the cache will get checkpointed every 10 iterations. Note: this setting will be ignored if the checkpoint directory is not set in the SparkContext'): 10,\n",
       " Param(parent='GBTClassifier_70d64f254b2b', name='featureSubsetStrategy', doc='The number of features to consider for splits at each tree node. Supported options: auto, all, onethird, sqrt, log2, (0.0-1.0], [1-n].'): 'all',\n",
       " Param(parent='GBTClassifier_70d64f254b2b', name='featuresCol', doc='features column name'): 'scaled_features',\n",
       " Param(parent='GBTClassifier_70d64f254b2b', name='labelCol', doc='label column name'): 'label',\n",
       " Param(parent='GBTClassifier_70d64f254b2b', name='lossType', doc='Loss function which GBT tries to minimize (case-insensitive). Supported options: logistic'): 'logistic',\n",
       " Param(parent='GBTClassifier_70d64f254b2b', name='maxBins', doc='Max number of bins for discretizing continuous features.  Must be at least 2 and at least number of categories for any categorical feature.'): 32,\n",
       " Param(parent='GBTClassifier_70d64f254b2b', name='maxDepth', doc='Maximum depth of the tree. (Nonnegative) E.g., depth 0 means 1 leaf node; depth 1 means 1 internal node + 2 leaf nodes.'): 10,\n",
       " Param(parent='GBTClassifier_70d64f254b2b', name='maxIter', doc='maximum number of iterations (>= 0)'): 20,\n",
       " Param(parent='GBTClassifier_70d64f254b2b', name='maxMemoryInMB', doc='Maximum memory in MB allocated to histogram aggregation.'): 256,\n",
       " Param(parent='GBTClassifier_70d64f254b2b', name='minInfoGain', doc='Minimum information gain for a split to be considered at a tree node.'): 0.0,\n",
       " Param(parent='GBTClassifier_70d64f254b2b', name='minInstancesPerNode', doc='Minimum number of instances each child must have after split.  If a split causes the left or right child to have fewer than minInstancesPerNode, the split will be discarded as invalid. Must be at least 1.'): 1,\n",
       " Param(parent='GBTClassifier_70d64f254b2b', name='predictionCol', doc='prediction column name'): 'prediction',\n",
       " Param(parent='GBTClassifier_70d64f254b2b', name='seed', doc='random seed'): -7872225205064507898,\n",
       " Param(parent='GBTClassifier_70d64f254b2b', name='stepSize', doc='Step size (a.k.a. learning rate) in interval (0, 1] for shrinking the contribution of each estimator.'): 0.5,\n",
       " Param(parent='GBTClassifier_70d64f254b2b', name='subsamplingRate', doc='Fraction of the training data used for learning each decision tree, in range (0, 1].'): 1.0}"
      ]
     },
     "execution_count": 89,
     "metadata": {},
     "output_type": "execute_result"
    }
   ],
   "source": [
    "# extract best model's parameters\n",
    "cv_model.bestModel.extractParamMap()"
   ]
  },
  {
   "cell_type": "markdown",
   "metadata": {},
   "source": [
    "# Final Steps\n",
    "Clean up your code, adding comments and renaming variables to make the code easier to read and maintain. Refer to the Spark Project Overview page and Data Scientist Capstone Project Rubric to make sure you are including all components of the capstone project and meet all expectations. Remember, this includes thorough documentation in a README file in a Github repository, as well as a web app or blog post."
   ]
  },
  {
   "cell_type": "code",
   "execution_count": null,
   "metadata": {},
   "outputs": [],
   "source": []
  }
 ],
 "metadata": {
  "kernelspec": {
   "display_name": "Python 3",
   "language": "python",
   "name": "python3"
  },
  "language_info": {
   "codemirror_mode": {
    "name": "ipython",
    "version": 3
   },
   "file_extension": ".py",
   "mimetype": "text/x-python",
   "name": "python",
   "nbconvert_exporter": "python",
   "pygments_lexer": "ipython3",
   "version": "3.7.6"
  }
 },
 "nbformat": 4,
 "nbformat_minor": 4
}
