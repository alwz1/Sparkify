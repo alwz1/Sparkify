{
 "cells": [
  {
   "cell_type": "markdown",
   "metadata": {},
   "source": [
    "# Sparkify Project Workspace\n",
    "This workspace contains a tiny subset (128MB) of the full dataset available (12GB). Feel free to use this workspace to build your project, or to explore a smaller subset with Spark before deploying your cluster on the cloud. Instructions for setting up your Spark cluster is included in the last lesson of the Extracurricular Spark Course content.\n",
    "\n",
    "You can follow the steps below to guide your data analysis and model building portion of this project."
   ]
  },
  {
   "cell_type": "code",
   "execution_count": 1,
   "metadata": {},
   "outputs": [],
   "source": [
    "import findspark\n",
    "findspark.init(\"/Users/ayemyatwinshwe/opt/spark-3.0.0-preview2-bin-hadoop2.7\")"
   ]
  },
  {
   "cell_type": "code",
   "execution_count": 2,
   "metadata": {},
   "outputs": [],
   "source": [
    "# import libraries\n",
    "from pyspark.sql import SparkSession\n",
    "from pyspark.sql import functions as F\n",
    "from pyspark.sql import types as T\n",
    "from pyspark.sql import Window\n",
    "import datetime\n",
    "\n",
    "import numpy as np\n",
    "import pandas as pd\n",
    "import matplotlib.pyplot as plt\n",
    "%matplotlib inline"
   ]
  },
  {
   "cell_type": "code",
   "execution_count": 3,
   "metadata": {},
   "outputs": [],
   "source": [
    "# Create spark session\n",
    "spark = SparkSession \\\n",
    "    .builder \\\n",
    "    .appName(\"Sparkify\") \\\n",
    "    .getOrCreate()"
   ]
  },
  {
   "cell_type": "markdown",
   "metadata": {},
   "source": [
    "# Load and Clean Dataset\n",
    "In this workspace, the mini-dataset file is `mini_sparkify_event_data.json`. Load and clean the dataset, checking for invalid or missing data - for example, records without userids or sessionids. "
   ]
  },
  {
   "cell_type": "code",
   "execution_count": 4,
   "metadata": {},
   "outputs": [
    {
     "data": {
      "text/plain": [
       "Row(artist='Martha Tilston', auth='Logged In', firstName='Colin', gender='M', itemInSession=50, lastName='Freeman', length=277.89016, level='paid', location='Bakersfield, CA', method='PUT', page='NextSong', registration=1538173362000, sessionId=29, song='Rockpools', status=200, ts=1538352117000, userAgent='Mozilla/5.0 (Windows NT 6.1; WOW64; rv:31.0) Gecko/20100101 Firefox/31.0', userId='30')"
      ]
     },
     "execution_count": 4,
     "metadata": {},
     "output_type": "execute_result"
    }
   ],
   "source": [
    "# Read in sparkify dataset\n",
    "event_data = \"mini_sparkify_event_data.json\"\n",
    "df = spark.read.json(event_data)\n",
    "df.head()"
   ]
  },
  {
   "cell_type": "code",
   "execution_count": 5,
   "metadata": {},
   "outputs": [
    {
     "name": "stdout",
     "output_type": "stream",
     "text": [
      "root\n",
      " |-- artist: string (nullable = true)\n",
      " |-- auth: string (nullable = true)\n",
      " |-- firstName: string (nullable = true)\n",
      " |-- gender: string (nullable = true)\n",
      " |-- itemInSession: long (nullable = true)\n",
      " |-- lastName: string (nullable = true)\n",
      " |-- length: double (nullable = true)\n",
      " |-- level: string (nullable = true)\n",
      " |-- location: string (nullable = true)\n",
      " |-- method: string (nullable = true)\n",
      " |-- page: string (nullable = true)\n",
      " |-- registration: long (nullable = true)\n",
      " |-- sessionId: long (nullable = true)\n",
      " |-- song: string (nullable = true)\n",
      " |-- status: long (nullable = true)\n",
      " |-- ts: long (nullable = true)\n",
      " |-- userAgent: string (nullable = true)\n",
      " |-- userId: string (nullable = true)\n",
      "\n"
     ]
    }
   ],
   "source": [
    "df.printSchema()"
   ]
  },
  {
   "cell_type": "code",
   "execution_count": 6,
   "metadata": {},
   "outputs": [
    {
     "data": {
      "text/plain": [
       "286500"
      ]
     },
     "execution_count": 6,
     "metadata": {},
     "output_type": "execute_result"
    }
   ],
   "source": [
    "# number of records\n",
    "df.count()"
   ]
  },
  {
   "cell_type": "code",
   "execution_count": 7,
   "metadata": {},
   "outputs": [
    {
     "name": "stdout",
     "output_type": "stream",
     "text": [
      "+------+----+---------+------+-------------+--------+------+-----+--------+------+----+------------+---------+-----+------+---+---------+------+\n",
      "|artist|auth|firstName|gender|itemInSession|lastName|length|level|location|method|page|registration|sessionId| song|status| ts|userAgent|userId|\n",
      "+------+----+---------+------+-------------+--------+------+-----+--------+------+----+------------+---------+-----+------+---+---------+------+\n",
      "| 58392|   0|     8346|  8346|            0|    8346| 58392|    0|    8346|     0|   0|        8346|        0|58392|     0|  0|     8346|     0|\n",
      "+------+----+---------+------+-------------+--------+------+-----+--------+------+----+------------+---------+-----+------+---+---------+------+\n",
      "\n"
     ]
    }
   ],
   "source": [
    "# check number of missing values in each column\n",
    "missing_values = [F.count(F.when(F.col(c).isNull(), c)).alias(c)\n",
    "                  for c in df.columns]\n",
    "df.select(missing_values).show()"
   ]
  },
  {
   "cell_type": "code",
   "execution_count": 8,
   "metadata": {},
   "outputs": [
    {
     "name": "stdout",
     "output_type": "stream",
     "text": [
      "+----------+\n",
      "|      auth|\n",
      "+----------+\n",
      "|     Guest|\n",
      "|Logged Out|\n",
      "| Cancelled|\n",
      "| Logged In|\n",
      "+----------+\n",
      "\n"
     ]
    }
   ],
   "source": [
    "df.select(\"auth\").dropDuplicates().sort(\"userId\").show()"
   ]
  },
  {
   "cell_type": "code",
   "execution_count": 9,
   "metadata": {},
   "outputs": [
    {
     "name": "stdout",
     "output_type": "stream",
     "text": [
      "+------+\n",
      "|userId|\n",
      "+------+\n",
      "|      |\n",
      "|    10|\n",
      "|   100|\n",
      "|100001|\n",
      "|100002|\n",
      "|100003|\n",
      "|100004|\n",
      "|100005|\n",
      "|100006|\n",
      "|100007|\n",
      "|100008|\n",
      "|100009|\n",
      "|100010|\n",
      "|100011|\n",
      "|100012|\n",
      "|100013|\n",
      "|100014|\n",
      "|100015|\n",
      "|100016|\n",
      "|100017|\n",
      "+------+\n",
      "only showing top 20 rows\n",
      "\n"
     ]
    }
   ],
   "source": [
    "df.select(\"userId\").dropDuplicates().sort(\"userId\").show()"
   ]
  },
  {
   "cell_type": "code",
   "execution_count": 10,
   "metadata": {},
   "outputs": [],
   "source": [
    "df_valid = df.dropna(how=\"any\", subset=[\"userId\", \"sessionId\"])"
   ]
  },
  {
   "cell_type": "code",
   "execution_count": 11,
   "metadata": {},
   "outputs": [],
   "source": [
    "# filter out empty userId's\n",
    "df_valid = df_valid.filter(df['userId'] != \"\")"
   ]
  },
  {
   "cell_type": "code",
   "execution_count": 12,
   "metadata": {},
   "outputs": [],
   "source": [
    "# fill missing values of length with 0\n",
    "df_valid = df_valid.na.fill(0, subset=['length'])"
   ]
  },
  {
   "cell_type": "code",
   "execution_count": 13,
   "metadata": {},
   "outputs": [
    {
     "name": "stdout",
     "output_type": "stream",
     "text": [
      "+------+----+---------+------+-------------+--------+------+-----+--------+------+----+------------+---------+-----+------+---+---------+------+\n",
      "|artist|auth|firstName|gender|itemInSession|lastName|length|level|location|method|page|registration|sessionId| song|status| ts|userAgent|userId|\n",
      "+------+----+---------+------+-------------+--------+------+-----+--------+------+----+------------+---------+-----+------+---+---------+------+\n",
      "| 50046|   0|        0|     0|            0|       0|     0|    0|       0|     0|   0|           0|        0|50046|     0|  0|        0|     0|\n",
      "+------+----+---------+------+-------------+--------+------+-----+--------+------+----+------------+---------+-----+------+---+---------+------+\n",
      "\n"
     ]
    }
   ],
   "source": [
    "# check number of missing values in each column again\n",
    "missing_values = [F.count(F.when(F.col(c).isNull(), c)).alias(c)\n",
    "                  for c in df_valid.columns]\n",
    "df_valid.select(missing_values).show()"
   ]
  },
  {
   "cell_type": "code",
   "execution_count": 14,
   "metadata": {},
   "outputs": [
    {
     "name": "stdout",
     "output_type": "stream",
     "text": [
      "+-------------------------+\n",
      "|page                     |\n",
      "+-------------------------+\n",
      "|Cancel                   |\n",
      "|Submit Downgrade         |\n",
      "|Thumbs Down              |\n",
      "|Home                     |\n",
      "|Downgrade                |\n",
      "|Roll Advert              |\n",
      "|Logout                   |\n",
      "|Save Settings            |\n",
      "|Cancellation Confirmation|\n",
      "|About                    |\n",
      "|Settings                 |\n",
      "|Add to Playlist          |\n",
      "|Add Friend               |\n",
      "|Thumbs Up                |\n",
      "|Help                     |\n",
      "|Upgrade                  |\n",
      "|Error                    |\n",
      "|Submit Upgrade           |\n",
      "+-------------------------+\n",
      "\n"
     ]
    }
   ],
   "source": [
    "df_valid.filter(F.col('artist').isNull()).select(\n",
    "    'page').dropDuplicates().show(20, False)"
   ]
  },
  {
   "cell_type": "code",
   "execution_count": 15,
   "metadata": {},
   "outputs": [
    {
     "name": "stdout",
     "output_type": "stream",
     "text": [
      "+--------+\n",
      "|    page|\n",
      "+--------+\n",
      "|NextSong|\n",
      "+--------+\n",
      "\n"
     ]
    }
   ],
   "source": [
    "df_valid.filter(F.col('artist').isNotNull()).select(\n",
    "    'page').dropDuplicates().show()"
   ]
  },
  {
   "cell_type": "markdown",
   "metadata": {},
   "source": [
    "# Exploratory Data Analysis\n",
    "When you're working with the full dataset, perform EDA by loading a small subset of the data and doing basic manipulations within Spark. In this workspace, you are already provided a small subset of data you can explore."
   ]
  },
  {
   "cell_type": "code",
   "execution_count": 16,
   "metadata": {},
   "outputs": [
    {
     "data": {
      "text/plain": [
       "226"
      ]
     },
     "execution_count": 16,
     "metadata": {},
     "output_type": "execute_result"
    }
   ],
   "source": [
    "# number of users\n",
    "df.select(\"userId\").dropDuplicates().count()"
   ]
  },
  {
   "cell_type": "code",
   "execution_count": 17,
   "metadata": {},
   "outputs": [
    {
     "data": {
      "text/plain": [
       "17656"
      ]
     },
     "execution_count": 17,
     "metadata": {},
     "output_type": "execute_result"
    }
   ],
   "source": [
    "# number of artists\n",
    "df.select(\"artist\").dropDuplicates().count()"
   ]
  },
  {
   "cell_type": "code",
   "execution_count": 18,
   "metadata": {},
   "outputs": [
    {
     "name": "stdout",
     "output_type": "stream",
     "text": [
      "+----------+\n",
      "|      auth|\n",
      "+----------+\n",
      "|Logged Out|\n",
      "| Cancelled|\n",
      "|     Guest|\n",
      "| Logged In|\n",
      "+----------+\n",
      "\n"
     ]
    }
   ],
   "source": [
    "# auth\n",
    "df.select(\"auth\").dropDuplicates().show()"
   ]
  },
  {
   "cell_type": "code",
   "execution_count": 19,
   "metadata": {},
   "outputs": [
    {
     "name": "stdout",
     "output_type": "stream",
     "text": [
      "+-------+------------------+\n",
      "|summary|     itemInSession|\n",
      "+-------+------------------+\n",
      "|  count|            286500|\n",
      "|   mean|114.41421291448516|\n",
      "| stddev|129.76726201141085|\n",
      "|    min|                 0|\n",
      "|    max|              1321|\n",
      "+-------+------------------+\n",
      "\n"
     ]
    }
   ],
   "source": [
    "# itemInSession\n",
    "df.select(\"itemInSession\").describe().show()"
   ]
  },
  {
   "cell_type": "code",
   "execution_count": 20,
   "metadata": {},
   "outputs": [
    {
     "name": "stdout",
     "output_type": "stream",
     "text": [
      "+-------+------------------+\n",
      "|summary|            length|\n",
      "+-------+------------------+\n",
      "|  count|            228108|\n",
      "|   mean|249.11718197783722|\n",
      "| stddev| 99.23517921058324|\n",
      "|    min|           0.78322|\n",
      "|    max|        3024.66567|\n",
      "+-------+------------------+\n",
      "\n"
     ]
    }
   ],
   "source": [
    "# length\n",
    "df.select(\"length\").describe().show()"
   ]
  },
  {
   "cell_type": "code",
   "execution_count": 21,
   "metadata": {},
   "outputs": [
    {
     "data": {
      "text/plain": [
       "array([[<matplotlib.axes._subplots.AxesSubplot object at 0x7fccb0565190>]],\n",
       "      dtype=object)"
      ]
     },
     "execution_count": 21,
     "metadata": {},
     "output_type": "execute_result"
    },
    {
     "data": {
      "image/png": "[encoded data removed]",
      "text/plain": [
       "<Figure size 432x288 with 1 Axes>"
      ]
     },
     "metadata": {
      "needs_background": "light"
     },
     "output_type": "display_data"
    }
   ],
   "source": [
    "# histogram for length\n",
    "df.select(\"length\").toPandas().hist(bins=100)"
   ]
  },
  {
   "cell_type": "code",
   "execution_count": 22,
   "metadata": {},
   "outputs": [
    {
     "name": "stdout",
     "output_type": "stream",
     "text": [
      "+-----+\n",
      "|level|\n",
      "+-----+\n",
      "| free|\n",
      "| paid|\n",
      "+-----+\n",
      "\n"
     ]
    }
   ],
   "source": [
    "# level\n",
    "df.select(\"level\").dropDuplicates().show()"
   ]
  },
  {
   "cell_type": "code",
   "execution_count": 23,
   "metadata": {},
   "outputs": [
    {
     "name": "stdout",
     "output_type": "stream",
     "text": [
      "+---------------------------------------+\n",
      "|location                               |\n",
      "+---------------------------------------+\n",
      "|Gainesville, FL                        |\n",
      "|Atlantic City-Hammonton, NJ            |\n",
      "|Deltona-Daytona Beach-Ormond Beach, FL |\n",
      "|San Diego-Carlsbad, CA                 |\n",
      "|Cleveland-Elyria, OH                   |\n",
      "|Kingsport-Bristol-Bristol, TN-VA       |\n",
      "|New Haven-Milford, CT                  |\n",
      "|Birmingham-Hoover, AL                  |\n",
      "|Corpus Christi, TX                     |\n",
      "|Dubuque, IA                            |\n",
      "|Las Vegas-Henderson-Paradise, NV       |\n",
      "|Indianapolis-Carmel-Anderson, IN       |\n",
      "|Seattle-Tacoma-Bellevue, WA            |\n",
      "|Albany, OR                             |\n",
      "|Winston-Salem, NC                      |\n",
      "|Bakersfield, CA                        |\n",
      "|Los Angeles-Long Beach-Anaheim, CA     |\n",
      "|Minneapolis-St. Paul-Bloomington, MN-WI|\n",
      "|San Francisco-Oakland-Hayward, CA      |\n",
      "|Phoenix-Mesa-Scottsdale, AZ            |\n",
      "+---------------------------------------+\n",
      "only showing top 20 rows\n",
      "\n"
     ]
    }
   ],
   "source": [
    "# location\n",
    "df.select(\"location\").dropDuplicates().show(20, False)"
   ]
  },
  {
   "cell_type": "code",
   "execution_count": 24,
   "metadata": {},
   "outputs": [
    {
     "name": "stdout",
     "output_type": "stream",
     "text": [
      "+------+\n",
      "|method|\n",
      "+------+\n",
      "|   PUT|\n",
      "|   GET|\n",
      "+------+\n",
      "\n"
     ]
    }
   ],
   "source": [
    "# method\n",
    "df.select(\"method\").dropDuplicates().show()"
   ]
  },
  {
   "cell_type": "code",
   "execution_count": 25,
   "metadata": {},
   "outputs": [
    {
     "name": "stdout",
     "output_type": "stream",
     "text": [
      "+-------------------------+\n",
      "|page                     |\n",
      "+-------------------------+\n",
      "|Cancel                   |\n",
      "|Submit Downgrade         |\n",
      "|Thumbs Down              |\n",
      "|Home                     |\n",
      "|Downgrade                |\n",
      "|Roll Advert              |\n",
      "|Logout                   |\n",
      "|Save Settings            |\n",
      "|Cancellation Confirmation|\n",
      "|About                    |\n",
      "|Submit Registration      |\n",
      "|Settings                 |\n",
      "|Login                    |\n",
      "|Register                 |\n",
      "|Add to Playlist          |\n",
      "|Add Friend               |\n",
      "|NextSong                 |\n",
      "|Thumbs Up                |\n",
      "|Help                     |\n",
      "|Upgrade                  |\n",
      "|Error                    |\n",
      "|Submit Upgrade           |\n",
      "+-------------------------+\n",
      "\n"
     ]
    }
   ],
   "source": [
    "# page\n",
    "df.select(\"page\").dropDuplicates().show(22, False)"
   ]
  },
  {
   "cell_type": "code",
   "execution_count": 26,
   "metadata": {},
   "outputs": [
    {
     "name": "stdout",
     "output_type": "stream",
     "text": [
      "+-------------+\n",
      "| registration|\n",
      "+-------------+\n",
      "|1538173362000|\n",
      "|1538331630000|\n",
      "|1538173362000|\n",
      "|1538331630000|\n",
      "|1538173362000|\n",
      "+-------------+\n",
      "only showing top 5 rows\n",
      "\n"
     ]
    }
   ],
   "source": [
    "# registration\n",
    "df.select(\"registration\").show(5)"
   ]
  },
  {
   "cell_type": "code",
   "execution_count": 27,
   "metadata": {},
   "outputs": [
    {
     "name": "stdout",
     "output_type": "stream",
     "text": [
      "+-----------------------------+\n",
      "|song                         |\n",
      "+-----------------------------+\n",
      "|Rockpools                    |\n",
      "|Canada                       |\n",
      "|Time For Miracles            |\n",
      "|Knocking On Forbidden Doors  |\n",
      "|Harder Better Faster Stronger|\n",
      "+-----------------------------+\n",
      "only showing top 5 rows\n",
      "\n"
     ]
    }
   ],
   "source": [
    "# songs\n",
    "df.select(\"song\").show(5, False)"
   ]
  },
  {
   "cell_type": "code",
   "execution_count": 28,
   "metadata": {},
   "outputs": [
    {
     "data": {
      "text/plain": [
       "58481"
      ]
     },
     "execution_count": 28,
     "metadata": {},
     "output_type": "execute_result"
    }
   ],
   "source": [
    "# number of songs\n",
    "df.select(\"song\").drop_duplicates().count()"
   ]
  },
  {
   "cell_type": "code",
   "execution_count": 29,
   "metadata": {},
   "outputs": [
    {
     "name": "stdout",
     "output_type": "stream",
     "text": [
      "+------+\n",
      "|status|\n",
      "+------+\n",
      "|   307|\n",
      "|   404|\n",
      "|   200|\n",
      "+------+\n",
      "\n"
     ]
    }
   ],
   "source": [
    "# status\n",
    "df.select(\"status\").drop_duplicates().show()"
   ]
  },
  {
   "cell_type": "code",
   "execution_count": 30,
   "metadata": {},
   "outputs": [
    {
     "name": "stdout",
     "output_type": "stream",
     "text": [
      "+-------------+\n",
      "|           ts|\n",
      "+-------------+\n",
      "|1538352117000|\n",
      "|1538352180000|\n",
      "|1538352394000|\n",
      "|1538352416000|\n",
      "|1538352676000|\n",
      "+-------------+\n",
      "only showing top 5 rows\n",
      "\n"
     ]
    }
   ],
   "source": [
    "# ts\n",
    "df.select(\"ts\").show(5)"
   ]
  },
  {
   "cell_type": "code",
   "execution_count": 31,
   "metadata": {},
   "outputs": [
    {
     "name": "stdout",
     "output_type": "stream",
     "text": [
      "+--------------------------------------------------------------------------------------------------------------------------+\n",
      "|userAgent                                                                                                                 |\n",
      "+--------------------------------------------------------------------------------------------------------------------------+\n",
      "|\"Mozilla/5.0 (Macintosh; Intel Mac OS X 10_8_5) AppleWebKit/537.36 (KHTML, like Gecko) Chrome/36.0.1985.143 Safari/537.36\"|\n",
      "|\"Mozilla/5.0 (Windows NT 5.1) AppleWebKit/537.36 (KHTML, like Gecko) Chrome/36.0.1985.143 Safari/537.36\"                  |\n",
      "|Mozilla/5.0 (X11; Ubuntu; Linux i686; rv:31.0) Gecko/20100101 Firefox/31.0                                                |\n",
      "|\"Mozilla/5.0 (Macintosh; Intel Mac OS X 10_9_4) AppleWebKit/537.36 (KHTML, like Gecko) Chrome/36.0.1985.125 Safari/537.36\"|\n",
      "|\"Mozilla/5.0 (Macintosh; Intel Mac OS X 10_9_4) AppleWebKit/537.36 (KHTML, like Gecko) Chrome/35.0.1916.153 Safari/537.36\"|\n",
      "|Mozilla/5.0 (Macintosh; Intel Mac OS X 10.7; rv:31.0) Gecko/20100101 Firefox/31.0                                         |\n",
      "|Mozilla/5.0 (Windows NT 6.1; WOW64; rv:30.0) Gecko/20100101 Firefox/30.0                                                  |\n",
      "|Mozilla/5.0 (Windows NT 6.3; WOW64; rv:31.0) Gecko/20100101 Firefox/31.0                                                  |\n",
      "|Mozilla/5.0 (compatible; MSIE 9.0; Windows NT 6.1; WOW64; Trident/5.0)                                                    |\n",
      "|\"Mozilla/5.0 (Windows NT 6.3; WOW64) AppleWebKit/537.36 (KHTML, like Gecko) Chrome/36.0.1985.143 Safari/537.36\"           |\n",
      "+--------------------------------------------------------------------------------------------------------------------------+\n",
      "only showing top 10 rows\n",
      "\n"
     ]
    }
   ],
   "source": [
    "# userAgent\n",
    "df_valid.select(\"userAgent\").drop_duplicates().show(10, False)"
   ]
  },
  {
   "cell_type": "markdown",
   "metadata": {},
   "source": [
    "## Define Churn\n",
    "\n",
    "Define churn events as`Cancellation Confirmation` events or `Downgrade` events.\n",
    "Create a column `churn` to use as the label for the model. "
   ]
  },
  {
   "cell_type": "code",
   "execution_count": 32,
   "metadata": {},
   "outputs": [],
   "source": [
    "# define churn\n",
    "flag_churn_event = F.udf(lambda x: 1 if (x == 'Cancellation Confirmation') | (\n",
    "    x == 'Submit Downgrade') else 0, T.IntegerType())"
   ]
  },
  {
   "cell_type": "markdown",
   "metadata": {},
   "source": [
    "# define churn\n",
    "flag_churn_event = F.udf(lambda x: 1 if (x == 'Cancellation Confirmation') else 0, T.IntegerType())"
   ]
  },
  {
   "cell_type": "code",
   "execution_count": 33,
   "metadata": {},
   "outputs": [],
   "source": [
    "# create churn column\n",
    "df_valid = df_valid.withColumn('churn', flag_churn_event('page'))"
   ]
  },
  {
   "cell_type": "markdown",
   "metadata": {},
   "source": [
    "## Explore Data\n",
    "Once you've defined churn, perform some exploratory data analysis to observe the behavior for users who stayed vs users who churned. You can start by exploring aggregates on these two groups of users, observing how much of a specific action they experienced per a certain time unit or number of songs played."
   ]
  },
  {
   "cell_type": "code",
   "execution_count": 34,
   "metadata": {},
   "outputs": [
    {
     "name": "stdout",
     "output_type": "stream",
     "text": [
      "number of users: 225\n"
     ]
    }
   ],
   "source": [
    "# number of users\n",
    "num_users = df_valid.select(F.countDistinct('userId').alias('num_users')).collect()[0][0]\n",
    "print(\"number of users:\", num_users)"
   ]
  },
  {
   "cell_type": "code",
   "execution_count": 35,
   "metadata": {},
   "outputs": [
    {
     "name": "stdout",
     "output_type": "stream",
     "text": [
      "number of churn users: 92\n",
      "number of not churn users: 133\n"
     ]
    }
   ],
   "source": [
    "# number of churn and not churn users\n",
    "num_churn_users = df_valid.filter(df_valid['churn']=='1').select(F.countDistinct('userId')).collect()[0][0]\n",
    "num_not_churn_users = num_users - num_churn_users\n",
    "print(\"number of churn users:\", num_churn_users)\n",
    "print(\"number of not churn users:\", num_not_churn_users)"
   ]
  },
  {
   "cell_type": "code",
   "execution_count": 36,
   "metadata": {},
   "outputs": [
    {
     "data": {
      "image/png": "[encoded data removed]",
      "text/plain": [
       "<Figure size 432x288 with 1 Axes>"
      ]
     },
     "metadata": {
      "needs_background": "light"
     },
     "output_type": "display_data"
    }
   ],
   "source": [
    "d = {'churns': [num_not_churn_users, num_churn_users]}\n",
    "df_churns = pd.DataFrame(data=d, index=['Stayed','Churn'])\n",
    "ax = df_churns.plot.bar(legend=False);\n",
    "ax.grid(axis='y')\n",
    "ax.set_ylabel('Count', fontsize = 12)\n",
    "plt.xticks(rotation=0);"
   ]
  },
  {
   "cell_type": "markdown",
   "metadata": {},
   "source": [
    "### Gender"
   ]
  },
  {
   "cell_type": "code",
   "execution_count": 37,
   "metadata": {},
   "outputs": [
    {
     "name": "stdout",
     "output_type": "stream",
     "text": [
      "number of females: 104\n",
      "number of males: 121\n"
     ]
    }
   ],
   "source": [
    "num_females = df_valid.filter(df_valid['gender']=='F').select(F.countDistinct('userId')).collect()[0][0]\n",
    "num_males = num_users - num_females\n",
    "print(\"number of females:\", num_females)\n",
    "print(\"number of males:\", num_males)"
   ]
  },
  {
   "cell_type": "code",
   "execution_count": 38,
   "metadata": {},
   "outputs": [
    {
     "data": {
      "text/html": [
       "<div>\n",
       "<style scoped>\n",
       "    .dataframe tbody tr th:only-of-type {\n",
       "        vertical-align: middle;\n",
       "    }\n",
       "\n",
       "    .dataframe tbody tr th {\n",
       "        vertical-align: top;\n",
       "    }\n",
       "\n",
       "    .dataframe thead th {\n",
       "        text-align: right;\n",
       "    }\n",
       "</style>\n",
       "<table border=\"1\" class=\"dataframe\">\n",
       "  <thead>\n",
       "    <tr style=\"text-align: right;\">\n",
       "      <th></th>\n",
       "      <th>num_churns</th>\n",
       "      <th>count</th>\n",
       "      <th>percent churn</th>\n",
       "    </tr>\n",
       "    <tr>\n",
       "      <th>gender</th>\n",
       "      <th></th>\n",
       "      <th></th>\n",
       "      <th></th>\n",
       "    </tr>\n",
       "  </thead>\n",
       "  <tbody>\n",
       "    <tr>\n",
       "      <th>F</th>\n",
       "      <td>58</td>\n",
       "      <td>104</td>\n",
       "      <td>55.769231</td>\n",
       "    </tr>\n",
       "    <tr>\n",
       "      <th>M</th>\n",
       "      <td>57</td>\n",
       "      <td>121</td>\n",
       "      <td>47.107438</td>\n",
       "    </tr>\n",
       "  </tbody>\n",
       "</table>\n",
       "</div>"
      ],
      "text/plain": [
       "        num_churns  count  percent churn\n",
       "gender                                  \n",
       "F               58    104      55.769231\n",
       "M               57    121      47.107438"
      ]
     },
     "execution_count": 38,
     "metadata": {},
     "output_type": "execute_result"
    }
   ],
   "source": [
    "df_gender = df_valid.groupby('gender').sum('churn').toPandas()\n",
    "df_gender['count']=[num_females, num_males]\n",
    "df_gender['percent churn'] = df_gender['sum(churn)']/df_gender['count']*100\n",
    "df_gender.columns = ['gender', 'num_churns', 'count', 'percent churn']\n",
    "df_gender.set_index('gender')"
   ]
  },
  {
   "cell_type": "code",
   "execution_count": 39,
   "metadata": {},
   "outputs": [
    {
     "data": {
      "image/png": "[encoded data removed]",
      "text/plain": [
       "<Figure size 432x288 with 1 Axes>"
      ]
     },
     "metadata": {
      "needs_background": "light"
     },
     "output_type": "display_data"
    }
   ],
   "source": [
    "ax = df_gender.plot.bar(x='gender', y='percent churn');\n",
    "ax.grid(axis='y')\n",
    "ax.set_ylabel('Percent churn', fontsize = 12)\n",
    "plt.xticks(rotation=0);"
   ]
  },
  {
   "cell_type": "markdown",
   "metadata": {},
   "source": [
    "### Level"
   ]
  },
  {
   "cell_type": "code",
   "execution_count": 40,
   "metadata": {},
   "outputs": [],
   "source": [
    "num_free = df_valid.filter(df_valid['level']=='free').select(F.countDistinct('userId')).collect()[0][0]\n",
    "num_paid = df_valid.filter(df_valid['level']=='paid').select(F.countDistinct('userId')).collect()[0][0]"
   ]
  },
  {
   "cell_type": "code",
   "execution_count": 41,
   "metadata": {},
   "outputs": [
    {
     "data": {
      "text/html": [
       "<div>\n",
       "<style scoped>\n",
       "    .dataframe tbody tr th:only-of-type {\n",
       "        vertical-align: middle;\n",
       "    }\n",
       "\n",
       "    .dataframe tbody tr th {\n",
       "        vertical-align: top;\n",
       "    }\n",
       "\n",
       "    .dataframe thead th {\n",
       "        text-align: right;\n",
       "    }\n",
       "</style>\n",
       "<table border=\"1\" class=\"dataframe\">\n",
       "  <thead>\n",
       "    <tr style=\"text-align: right;\">\n",
       "      <th></th>\n",
       "      <th>num_churns</th>\n",
       "      <th>count</th>\n",
       "      <th>percent churn</th>\n",
       "    </tr>\n",
       "    <tr>\n",
       "      <th>level</th>\n",
       "      <th></th>\n",
       "      <th></th>\n",
       "      <th></th>\n",
       "    </tr>\n",
       "  </thead>\n",
       "  <tbody>\n",
       "    <tr>\n",
       "      <th>free</th>\n",
       "      <td>21</td>\n",
       "      <td>195</td>\n",
       "      <td>10.769231</td>\n",
       "    </tr>\n",
       "    <tr>\n",
       "      <th>paid</th>\n",
       "      <td>94</td>\n",
       "      <td>165</td>\n",
       "      <td>56.969697</td>\n",
       "    </tr>\n",
       "  </tbody>\n",
       "</table>\n",
       "</div>"
      ],
      "text/plain": [
       "       num_churns  count  percent churn\n",
       "level                                  \n",
       "free           21    195      10.769231\n",
       "paid           94    165      56.969697"
      ]
     },
     "execution_count": 41,
     "metadata": {},
     "output_type": "execute_result"
    }
   ],
   "source": [
    "df_level = df_valid.groupby('level').sum('churn').toPandas()\n",
    "df_level['count'] = [num_free, num_paid]\n",
    "df_level['percent churn'] = df_level['sum(churn)'] / df_level['count'] * 100\n",
    "df_level.columns = ['level', 'num_churns', 'count', 'percent churn']\n",
    "df_level.set_index('level')"
   ]
  },
  {
   "cell_type": "code",
   "execution_count": 42,
   "metadata": {},
   "outputs": [
    {
     "data": {
      "image/png": "[encoded data removed]",
      "text/plain": [
       "<Figure size 432x288 with 1 Axes>"
      ]
     },
     "metadata": {
      "needs_background": "light"
     },
     "output_type": "display_data"
    }
   ],
   "source": [
    "ax = df_level.plot.bar(x='level', y='percent churn', legend=False)\n",
    "ax.grid(axis='y')\n",
    "ax.set_ylabel('Percent churn', fontsize = 12)\n",
    "ax.set_xlabel('')\n",
    "plt.xticks(rotation=0);"
   ]
  },
  {
   "cell_type": "markdown",
   "metadata": {},
   "source": [
    "### Location"
   ]
  },
  {
   "cell_type": "code",
   "execution_count": 43,
   "metadata": {},
   "outputs": [
    {
     "name": "stdout",
     "output_type": "stream",
     "text": [
      "+------------------------------+\n",
      "|location                      |\n",
      "+------------------------------+\n",
      "|Bakersfield, CA               |\n",
      "|Boston-Cambridge-Newton, MA-NH|\n",
      "|Bakersfield, CA               |\n",
      "|Boston-Cambridge-Newton, MA-NH|\n",
      "|Bakersfield, CA               |\n",
      "|Boston-Cambridge-Newton, MA-NH|\n",
      "|Boston-Cambridge-Newton, MA-NH|\n",
      "|Bakersfield, CA               |\n",
      "|Bakersfield, CA               |\n",
      "|Bakersfield, CA               |\n",
      "+------------------------------+\n",
      "only showing top 10 rows\n",
      "\n"
     ]
    }
   ],
   "source": [
    "df_valid.select(\"location\").show(10,False)"
   ]
  },
  {
   "cell_type": "code",
   "execution_count": 44,
   "metadata": {},
   "outputs": [],
   "source": [
    "get_states = F.udf(lambda x: x[-2:])"
   ]
  },
  {
   "cell_type": "code",
   "execution_count": 45,
   "metadata": {},
   "outputs": [],
   "source": [
    "# create state column\n",
    "df_valid = df_valid.withColumn(\"state\", get_states(df_valid['location']))"
   ]
  },
  {
   "cell_type": "code",
   "execution_count": 46,
   "metadata": {},
   "outputs": [],
   "source": [
    "df_state_counts = df_valid.select('userId','state').dropDuplicates().groupby('state').count().toPandas()"
   ]
  },
  {
   "cell_type": "code",
   "execution_count": 47,
   "metadata": {},
   "outputs": [
    {
     "data": {
      "image/png": "[encoded data removed]",
      "text/plain": [
       "<Figure size 864x432 with 1 Axes>"
      ]
     },
     "metadata": {
      "needs_background": "light"
     },
     "output_type": "display_data"
    }
   ],
   "source": [
    "ax = df_state_counts.plot.bar(x='state',y='count', \n",
    "                     figsize = (12,6));\n",
    "ax.set_ylabel('number of distinct users', fontsize=12);"
   ]
  },
  {
   "cell_type": "code",
   "execution_count": 48,
   "metadata": {},
   "outputs": [],
   "source": [
    "df_state_churns = df_valid.groupby('state').sum('churn').toPandas()\n",
    "df_state_churns.columns = ['state', 'num_churns']"
   ]
  },
  {
   "cell_type": "code",
   "execution_count": 49,
   "metadata": {},
   "outputs": [
    {
     "data": {
      "image/png": "[encoded data removed]",
      "text/plain": [
       "<Figure size 864x432 with 1 Axes>"
      ]
     },
     "metadata": {
      "needs_background": "light"
     },
     "output_type": "display_data"
    }
   ],
   "source": [
    "ax = df_state_churns.plot.bar(x='state', y='num_churns', figsize=(12,6));\n",
    "ax.set_ylabel('State churn count', fontsize=12);"
   ]
  },
  {
   "cell_type": "code",
   "execution_count": 50,
   "metadata": {},
   "outputs": [],
   "source": [
    "df_state_churns['percent churn'] = df_state_churns['num_churns'] / df_state_counts['count'] * 100"
   ]
  },
  {
   "cell_type": "code",
   "execution_count": 51,
   "metadata": {},
   "outputs": [
    {
     "data": {
      "image/png": "[encoded data removed]",
      "text/plain": [
       "<Figure size 864x432 with 1 Axes>"
      ]
     },
     "metadata": {
      "needs_background": "light"
     },
     "output_type": "display_data"
    }
   ],
   "source": [
    "df_state_churns.plot.bar(x='state', y='percent churn', figsize=(12,6));"
   ]
  },
  {
   "cell_type": "markdown",
   "metadata": {},
   "source": [
    "### Registration"
   ]
  },
  {
   "cell_type": "code",
   "execution_count": 52,
   "metadata": {},
   "outputs": [],
   "source": [
    "# create datetime columns for registration and timestamp\n",
    "df_valid = df_valid.withColumn('registration date', (F.col('registration')/1000).cast(T.TimestampType()))\n",
    "df_valid = df_valid.withColumn('date', (F.col('ts')/1000).cast(T.TimestampType()))"
   ]
  },
  {
   "cell_type": "code",
   "execution_count": 53,
   "metadata": {},
   "outputs": [
    {
     "name": "stdout",
     "output_type": "stream",
     "text": [
      "+-------------------+-------------------+\n",
      "|  registration date|               date|\n",
      "+-------------------+-------------------+\n",
      "|2018-09-28 17:22:42|2018-09-30 19:01:57|\n",
      "|2018-09-30 13:20:30|2018-09-30 19:03:00|\n",
      "|2018-09-28 17:22:42|2018-09-30 19:06:34|\n",
      "|2018-09-30 13:20:30|2018-09-30 19:06:56|\n",
      "|2018-09-28 17:22:42|2018-09-30 19:11:16|\n",
      "+-------------------+-------------------+\n",
      "only showing top 5 rows\n",
      "\n"
     ]
    }
   ],
   "source": [
    "df_valid.select(\"registration date\", \"date\").show(5)"
   ]
  },
  {
   "cell_type": "code",
   "execution_count": 54,
   "metadata": {},
   "outputs": [
    {
     "name": "stdout",
     "output_type": "stream",
     "text": [
      "start date: 2018-09-30 19:01:57\n",
      "end date: 2018-12-02 19:11:16\n"
     ]
    }
   ],
   "source": [
    "# find earliest and latest dates\n",
    "start_date = df_valid.agg({'date':'min'}).collect()\n",
    "end_date = df_valid.agg({'date':'max'}).collect()\n",
    "print(\"start date:\", str(start_date[0][0]))\n",
    "print(\"end date:\", str(end_date[0][0]))"
   ]
  },
  {
   "cell_type": "code",
   "execution_count": 55,
   "metadata": {},
   "outputs": [],
   "source": [
    "# number of days since registration\n",
    "df_valid = df_valid.withColumn(\"days_since_reg\", (F.datediff(\"date\",\"registration date\")))"
   ]
  },
  {
   "cell_type": "code",
   "execution_count": 56,
   "metadata": {},
   "outputs": [],
   "source": [
    "df_days_stayed = df_valid.filter(df_valid['churn']==0).select('days_since_reg').toPandas()\n",
    "df_days_churn = df_valid.filter(df_valid['churn']==1).select('days_since_reg').toPandas()"
   ]
  },
  {
   "cell_type": "code",
   "execution_count": 57,
   "metadata": {},
   "outputs": [
    {
     "data": {
      "image/png": "[encoded data removed]",
      "text/plain": [
       "<Figure size 432x288 with 1 Axes>"
      ]
     },
     "metadata": {
      "needs_background": "light"
     },
     "output_type": "display_data"
    }
   ],
   "source": [
    "pd.concat([df_days_stayed, df_days_churn], axis=1, ignore_index=True).boxplot();"
   ]
  },
  {
   "cell_type": "code",
   "execution_count": 58,
   "metadata": {},
   "outputs": [
    {
     "name": "stdout",
     "output_type": "stream",
     "text": [
      "+-----+-------------------+\n",
      "|churn|avg(days_since_reg)|\n",
      "+-----+-------------------+\n",
      "|    1| 61.721739130434784|\n",
      "|    0|  64.76103352407397|\n",
      "+-----+-------------------+\n",
      "\n"
     ]
    }
   ],
   "source": [
    "df_valid.groupby('churn').mean('days_since_reg').show()"
   ]
  },
  {
   "cell_type": "code",
   "execution_count": 59,
   "metadata": {},
   "outputs": [],
   "source": [
    "# user defined functions to get hour and month from timestamp\n",
    "get_hour = F.udf(lambda x: datetime.datetime.fromtimestamp(x / 1000.0).hour)\n",
    "get_month = F.udf(lambda x: datetime.datetime.fromtimestamp(x / 1000.0).month)"
   ]
  },
  {
   "cell_type": "code",
   "execution_count": 60,
   "metadata": {},
   "outputs": [],
   "source": [
    "# create month columns for registration and timestamp\n",
    "df_valid = df_valid.withColumn(\"registration month\", get_month(df_valid['registration']))\n",
    "df_valid = df_valid.withColumn(\"month\", get_month(df_valid['ts']))"
   ]
  },
  {
   "cell_type": "markdown",
   "metadata": {},
   "source": [
    "monthly_reg_count = []\n",
    "monthly_count = []\n",
    "\n",
    "for month in range(9, 13):\n",
    "    \n",
    "    reg = df_valid.filter(df_valid['registration month']==month).select('userId').count()\n",
    "    ts = df_valid.filter(df_valid['month']==month).select('userId').count()\n",
    "    \n",
    "    monthly_reg_count.append(reg)\n",
    "    monthly_count.append(ts)\n",
    "    \n",
    "print(\"monthly registration counts:\", monthly_reg_count)\n",
    "print(\"monthly counts:\", monthly_count)"
   ]
  },
  {
   "cell_type": "code",
   "execution_count": 61,
   "metadata": {},
   "outputs": [],
   "source": [
    "# flag if the registration month is September\n",
    "flag_reg_month = F.udf(lambda x: 1 if x == 9 else 0, T.IntegerType())"
   ]
  },
  {
   "cell_type": "code",
   "execution_count": 62,
   "metadata": {},
   "outputs": [],
   "source": [
    "# create columns for registration month flag\n",
    "df_valid = df_valid.withColumn(\"registration month flag\", flag_reg_month(df_valid['registration month']))"
   ]
  },
  {
   "cell_type": "markdown",
   "metadata": {},
   "source": [
    "### Month of Registration"
   ]
  },
  {
   "cell_type": "code",
   "execution_count": 63,
   "metadata": {},
   "outputs": [
    {
     "name": "stdout",
     "output_type": "stream",
     "text": [
      "number of distinct users who registered in September: 128\n",
      "number of distinct users who registered in other months: 97\n"
     ]
    }
   ],
   "source": [
    "num_Sept = df_valid.filter(df_valid['registration month flag']==1).select(F.countDistinct('userId')).collect()[0][0]\n",
    "num_not_Sept = num_users - num_Sept\n",
    "print(\"number of distinct users who registered in September:\", num_Sept)\n",
    "print(\"number of distinct users who registered in other months:\", num_not_Sept)"
   ]
  },
  {
   "cell_type": "code",
   "execution_count": 64,
   "metadata": {},
   "outputs": [
    {
     "name": "stdout",
     "output_type": "stream",
     "text": [
      "+------------------+----------+\n",
      "|registration month|sum(churn)|\n",
      "+------------------+----------+\n",
      "|                 7|        11|\n",
      "|                11|         0|\n",
      "|                 3|         0|\n",
      "|                 8|        27|\n",
      "|                 5|         1|\n",
      "|                 6|        10|\n",
      "|                 9|        66|\n",
      "|                10|         0|\n",
      "+------------------+----------+\n",
      "\n"
     ]
    }
   ],
   "source": [
    "df_valid.groupby('registration month').sum('churn').show()"
   ]
  },
  {
   "cell_type": "markdown",
   "metadata": {},
   "source": [
    "### Song"
   ]
  },
  {
   "cell_type": "code",
   "execution_count": 65,
   "metadata": {},
   "outputs": [],
   "source": [
    "# create hour column\n",
    "df_valid = df_valid.withColumn(\"hour\", get_hour(df_valid['ts']))"
   ]
  },
  {
   "cell_type": "code",
   "execution_count": 66,
   "metadata": {},
   "outputs": [],
   "source": [
    "songs_in_hour = df_valid.filter(df_valid['page'] == \"NextSong\").groupby(\n",
    "    df_valid['hour']).count().orderBy(df_valid['hour'].cast(\"float\")).toPandas()"
   ]
  },
  {
   "cell_type": "code",
   "execution_count": 67,
   "metadata": {},
   "outputs": [
    {
     "data": {
      "image/png": "[encoded data removed]",
      "text/plain": [
       "<Figure size 432x288 with 1 Axes>"
      ]
     },
     "metadata": {
      "needs_background": "light"
     },
     "output_type": "display_data"
    }
   ],
   "source": [
    "songs_in_hour.plot.scatter(x='hour', y='count', title='number of songs in 24 hours');"
   ]
  },
  {
   "cell_type": "code",
   "execution_count": 68,
   "metadata": {},
   "outputs": [],
   "source": [
    "# time window to find number of songs played in a day\n",
    "days = lambda x: x * 86400\n",
    "\n",
    "windowval = (\n",
    "    Window.partitionBy(\"userId\")\n",
    "    .orderBy(F.col(\"ts\")/1000)\n",
    "    .rangeBetween(-days(1), 0)\n",
    ")"
   ]
  },
  {
   "cell_type": "code",
   "execution_count": 69,
   "metadata": {},
   "outputs": [],
   "source": [
    "# number of songs played in a day\n",
    "df_valid = df_valid.withColumn(\"num_songs\", F.count(\"song\").over(windowval))"
   ]
  },
  {
   "cell_type": "code",
   "execution_count": 70,
   "metadata": {},
   "outputs": [],
   "source": [
    "def make_boxplot(col_name):\n",
    "    df_stayed = df_valid.filter(df_valid['churn']==0).select(col_name).toPandas()\n",
    "    df_churn = df_valid.filter(df_valid['churn']==1).select(col_name).toPandas()\n",
    "    df = pd.concat([df_stayed, df_churn], axis=1, ignore_index=True)\n",
    "    df.columns = ['stayed','churn']\n",
    "    s = df.describe().transpose()\n",
    "    ax = df.boxplot()\n",
    "    ax.set_title(col_name + ' per day', fontsize=12)\n",
    "    ax.set_ylabel('Count', fontsize=12)\n",
    "    return s, ax   "
   ]
  },
  {
   "cell_type": "code",
   "execution_count": 71,
   "metadata": {},
   "outputs": [
    {
     "data": {
      "text/plain": [
       "(           count        mean        std  min   25%   50%    75%    max\n",
       " stayed  278039.0  110.457957  93.990357  0.0  34.0  84.0  164.0  372.0\n",
       " churn      115.0   94.626087  83.306606  1.0  33.5  61.0  142.5  347.0,\n",
       " <matplotlib.axes._subplots.AxesSubplot at 0x7fccb0f69350>)"
      ]
     },
     "execution_count": 71,
     "metadata": {},
     "output_type": "execute_result"
    },
    {
     "data": {
      "image/png": "[encoded data removed]",
      "text/plain": [
       "<Figure size 432x288 with 1 Axes>"
      ]
     },
     "metadata": {
      "needs_background": "light"
     },
     "output_type": "display_data"
    }
   ],
   "source": [
    "make_boxplot('num_songs')"
   ]
  },
  {
   "cell_type": "markdown",
   "metadata": {},
   "source": [
    "### Length"
   ]
  },
  {
   "cell_type": "code",
   "execution_count": 72,
   "metadata": {},
   "outputs": [],
   "source": [
    "# number of songs played in a day\n",
    "df_valid = df_valid.withColumn(\"lengths\", F.sum(\"length\").over(windowval))"
   ]
  },
  {
   "cell_type": "code",
   "execution_count": 73,
   "metadata": {},
   "outputs": [
    {
     "data": {
      "text/plain": [
       "(           count          mean           std        min         25%  \\\n",
       " stayed  278039.0  27545.241562  23445.852171    0.00000  8393.96358   \n",
       " churn      115.0  23486.574650  20646.700404  125.59628  8164.80462   \n",
       " \n",
       "                 50%           75%          max  \n",
       " stayed  20867.15066  40776.273580  89040.98619  \n",
       " churn   15274.99603  35086.092815  86531.05575  ,\n",
       " <matplotlib.axes._subplots.AxesSubplot at 0x7fccb1601710>)"
      ]
     },
     "execution_count": 73,
     "metadata": {},
     "output_type": "execute_result"
    },
    {
     "data": {
      "image/png": "[encoded data removed]",
      "text/plain": [
       "<Figure size 432x288 with 1 Axes>"
      ]
     },
     "metadata": {
      "needs_background": "light"
     },
     "output_type": "display_data"
    }
   ],
   "source": [
    "make_boxplot('lengths')"
   ]
  },
  {
   "cell_type": "code",
   "execution_count": 74,
   "metadata": {},
   "outputs": [
    {
     "name": "stdout",
     "output_type": "stream",
     "text": [
      "+------+-------------------+--------------------+---------+------------------+---------+\n",
      "|userId|               date|                song|num_songs|           lengths|sessionId|\n",
      "+------+-------------------+--------------------+---------+------------------+---------+\n",
      "|    33|2018-10-01 07:46:24|      Shut Your Eyes|        1|         197.09342|      221|\n",
      "|    33|2018-10-01 07:49:41|Plumber In Progre...|        2|         697.10276|      221|\n",
      "|    33|2018-10-01 07:49:42|                null|        2|         697.10276|      221|\n",
      "|    33|2018-10-01 07:49:45|                null|        2|         697.10276|      221|\n",
      "|    33|2018-10-01 07:58:01|Chill Out (Things...|        3|         984.24027|      221|\n",
      "|    33|2018-10-01 08:02:48|              On Top|        4|        1243.13941|      221|\n",
      "|    33|2018-10-01 08:07:06|Suffragette City ...|        5|        1450.02875|      221|\n",
      "|    33|2018-10-01 08:10:32|           Fireflies|        6|        1675.20381|      221|\n",
      "|    33|2018-10-01 08:14:17|           The Birds|        7|        2073.70132|      221|\n",
      "|    33|2018-10-01 08:20:55| Valley Of Dry Bones|        8|        2267.81678|      221|\n",
      "|    33|2018-10-01 08:24:09|Sugar Ray (LP Ver...|        9|        2394.64082|      221|\n",
      "|    33|2018-10-01 08:24:10|                null|        9|        2394.64082|      221|\n",
      "|    33|2018-10-01 08:24:11|                null|        9|        2394.64082|      221|\n",
      "|    33|2018-10-10 06:36:38|                null|        0|               0.0|      281|\n",
      "|    33|2018-10-10 06:36:40|         Mockingbird|        1|          250.8273|      281|\n",
      "|    33|2018-10-10 06:40:50|         Set Me Free|        2|         466.12807|      281|\n",
      "|    33|2018-10-10 06:44:25|               Drive|        3|         698.59129|      281|\n",
      "|    33|2018-10-10 06:44:39|                null|        3|         698.59129|      281|\n",
      "|    33|2018-10-10 06:48:17|   Seven Nation Army|        4|         931.21124|      281|\n",
      "|    33|2018-10-10 06:48:18|                null|        4|         931.21124|      281|\n",
      "|    33|2018-10-10 06:52:09|                Oops|        5|        1111.61242|      281|\n",
      "|    33|2018-10-10 06:55:09|Demonology And He...|        6|        1336.86584|      281|\n",
      "|    33|2018-10-10 06:58:54|               Mamma|        7|        1588.29396|      281|\n",
      "|    33|2018-10-10 07:03:05|Incomplete And In...|        8|        1744.27065|      281|\n",
      "|    33|2018-10-10 07:05:40|Chewing Gum (Voca...|        9|        1953.17142|      281|\n",
      "|    33|2018-10-10 07:05:41|                null|        9|        1953.17142|      281|\n",
      "|    33|2018-10-10 07:09:08|             We Move|       10|2178.6599499999998|      281|\n",
      "|    33|2018-10-10 07:09:09|                null|       10|2178.6599499999998|      281|\n",
      "|    33|2018-10-10 07:12:53| It's Just A Thought|       11|2409.6080699999998|      281|\n",
      "|    33|2018-10-10 07:16:43|                Neon|       12|2765.3431299999997|      281|\n",
      "|    33|2018-10-10 07:22:38|The Black Rainbow...|       13|         3219.5337|      281|\n",
      "|    33|2018-10-10 07:22:39|                null|       13|         3219.5337|      281|\n",
      "|    33|2018-10-10 07:30:12|            Little L|       14|        3456.35937|      281|\n",
      "|    33|2018-10-10 07:34:08|           Fireflies|       15|        3681.53443|      281|\n",
      "|    33|2018-10-10 07:37:53|   It's My Own Fault|       16|        4395.90459|      281|\n",
      "|    33|2018-10-10 07:49:47|     The New Chapter|       17|        4661.15148|      281|\n",
      "|    33|2018-10-10 07:49:48|                null|       17|        4661.15148|      281|\n",
      "|    33|2018-10-10 07:49:54|                null|       17|        4661.15148|      281|\n",
      "|    33|2018-10-10 07:54:12|               Gears|       18|4901.0596000000005|      281|\n",
      "|    33|2018-10-10 07:58:11|             Control|       19| 5131.093430000001|      281|\n",
      "+------+-------------------+--------------------+---------+------------------+---------+\n",
      "only showing top 40 rows\n",
      "\n"
     ]
    }
   ],
   "source": [
    "# check song counts\n",
    "df_valid.select([\"userId\", 'date','song', 'num_songs','lengths', 'sessionId']).where(df_valid.userId == \"33\").show(40)"
   ]
  },
  {
   "cell_type": "markdown",
   "metadata": {},
   "source": [
    "### Artist"
   ]
  },
  {
   "cell_type": "code",
   "execution_count": 75,
   "metadata": {},
   "outputs": [],
   "source": [
    "# number of distinct artists played in a day\n",
    "df_valid = df_valid.withColumn(\"num_artists\", F.size(F.collect_set(\"artist\").over(windowval)))"
   ]
  },
  {
   "cell_type": "code",
   "execution_count": 76,
   "metadata": {},
   "outputs": [
    {
     "data": {
      "text/plain": [
       "(           count        mean        std  min   25%   50%    75%    max\n",
       " stayed  278039.0  102.900435  84.129481  0.0  33.0  81.0  154.0  332.0\n",
       " churn      115.0   88.721739  74.848918  1.0  32.0  61.0  136.5  308.0,\n",
       " <matplotlib.axes._subplots.AxesSubplot at 0x7fccb0eea790>)"
      ]
     },
     "execution_count": 76,
     "metadata": {},
     "output_type": "execute_result"
    },
    {
     "data": {
      "image/png": "[encoded data removed]",
      "text/plain": [
       "<Figure size 432x288 with 1 Axes>"
      ]
     },
     "metadata": {
      "needs_background": "light"
     },
     "output_type": "display_data"
    }
   ],
   "source": [
    "make_boxplot('num_artists')"
   ]
  },
  {
   "cell_type": "markdown",
   "metadata": {},
   "source": [
    "### Status"
   ]
  },
  {
   "cell_type": "code",
   "execution_count": 77,
   "metadata": {},
   "outputs": [
    {
     "name": "stdout",
     "output_type": "stream",
     "text": [
      "+------+------+\n",
      "|status| count|\n",
      "+------+------+\n",
      "|   307| 23184|\n",
      "|   404|   252|\n",
      "|   200|254718|\n",
      "+------+------+\n",
      "\n"
     ]
    }
   ],
   "source": [
    "df_valid.groupby('status').count().show()"
   ]
  },
  {
   "cell_type": "code",
   "execution_count": 78,
   "metadata": {},
   "outputs": [],
   "source": [
    "# number of distinct status in a day\n",
    "df_valid = df_valid.withColumn(\"num_status\", F.size(F.collect_set(\"status\").over(windowval)))"
   ]
  },
  {
   "cell_type": "code",
   "execution_count": 79,
   "metadata": {},
   "outputs": [
    {
     "data": {
      "text/plain": [
       "(           count      mean       std  min  25%  50%  75%  max\n",
       " stayed  278039.0  2.025522  0.426505  1.0  2.0  2.0  2.0  3.0\n",
       " churn      115.0  2.130435  0.338255  2.0  2.0  2.0  2.0  3.0,\n",
       " <matplotlib.axes._subplots.AxesSubplot at 0x7fccb0b012d0>)"
      ]
     },
     "execution_count": 79,
     "metadata": {},
     "output_type": "execute_result"
    },
    {
     "data": {
      "image/png": "[encoded data removed]",
      "text/plain": [
       "<Figure size 432x288 with 1 Axes>"
      ]
     },
     "metadata": {
      "needs_background": "light"
     },
     "output_type": "display_data"
    }
   ],
   "source": [
    "make_boxplot('num_status')"
   ]
  },
  {
   "cell_type": "code",
   "execution_count": 80,
   "metadata": {},
   "outputs": [],
   "source": [
    "# flag the status 'redirect' and 'not found'\n",
    "flag_redirect = F.udf(lambda x: 1 if x == 307 else 0, T.IntegerType())\n",
    "flag_not_found = F.udf(lambda x: 1 if x == 404 else 0, T.IntegerType())"
   ]
  },
  {
   "cell_type": "code",
   "execution_count": 81,
   "metadata": {},
   "outputs": [],
   "source": [
    "# create redirect and page_not_found columns\n",
    "df_valid = df_valid.withColumn(\"redirect\", flag_redirect(df_valid['status']))\n",
    "df_valid = df_valid.withColumn(\"page_not_found\", flag_not_found(df_valid['status']))"
   ]
  },
  {
   "cell_type": "code",
   "execution_count": 82,
   "metadata": {},
   "outputs": [
    {
     "name": "stdout",
     "output_type": "stream",
     "text": [
      "+----------+\n",
      "|sum(churn)|\n",
      "+----------+\n",
      "|        63|\n",
      "+----------+\n",
      "\n"
     ]
    }
   ],
   "source": [
    "df_valid.filter(df_valid['status']=='307').select(F.sum(\"churn\")).show()"
   ]
  },
  {
   "cell_type": "code",
   "execution_count": 83,
   "metadata": {},
   "outputs": [
    {
     "name": "stdout",
     "output_type": "stream",
     "text": [
      "+----------+\n",
      "|sum(churn)|\n",
      "+----------+\n",
      "|        52|\n",
      "+----------+\n",
      "\n"
     ]
    }
   ],
   "source": [
    "df_valid.filter(df_valid['status']=='200').select(F.sum(\"churn\")).show()"
   ]
  },
  {
   "cell_type": "markdown",
   "metadata": {},
   "source": [
    "### Page"
   ]
  },
  {
   "cell_type": "code",
   "execution_count": 84,
   "metadata": {},
   "outputs": [
    {
     "name": "stdout",
     "output_type": "stream",
     "text": [
      "+-------------------------+------+\n",
      "|page                     |count |\n",
      "+-------------------------+------+\n",
      "|Cancel                   |52    |\n",
      "|Submit Downgrade         |63    |\n",
      "|Thumbs Down              |2546  |\n",
      "|Home                     |10082 |\n",
      "|Downgrade                |2055  |\n",
      "|Roll Advert              |3933  |\n",
      "|Logout                   |3226  |\n",
      "|Save Settings            |310   |\n",
      "|Cancellation Confirmation|52    |\n",
      "|About                    |495   |\n",
      "|Settings                 |1514  |\n",
      "|Add to Playlist          |6526  |\n",
      "|Add Friend               |4277  |\n",
      "|NextSong                 |228108|\n",
      "|Thumbs Up                |12551 |\n",
      "|Help                     |1454  |\n",
      "|Upgrade                  |499   |\n",
      "|Error                    |252   |\n",
      "|Submit Upgrade           |159   |\n",
      "+-------------------------+------+\n",
      "\n"
     ]
    }
   ],
   "source": [
    "df_valid.groupby('page').count().show(22,False)"
   ]
  },
  {
   "cell_type": "markdown",
   "metadata": {},
   "source": [
    "#### Thumps Up/Down"
   ]
  },
  {
   "cell_type": "code",
   "execution_count": 85,
   "metadata": {},
   "outputs": [],
   "source": [
    "# flag thumps down/up\n",
    "flag_thumps_down = F.udf(lambda x: 1 if (x == 'Thumbs Down') else 0, T.IntegerType())\n",
    "flag_thumps_up = F.udf(lambda x: 1 if (x == 'Thumbs Up') else 0, T.IntegerType())"
   ]
  },
  {
   "cell_type": "code",
   "execution_count": 86,
   "metadata": {},
   "outputs": [],
   "source": [
    "# create flag columns for thumps down and thumps up\n",
    "df_valid = df_valid.withColumn(\"thumps_down\", flag_thumps_down('page'))\n",
    "df_valid = df_valid.withColumn(\"thumps_up\", flag_thumps_up('page'))"
   ]
  },
  {
   "cell_type": "code",
   "execution_count": 87,
   "metadata": {},
   "outputs": [
    {
     "name": "stdout",
     "output_type": "stream",
     "text": [
      "+--------------+\n",
      "|sum(thumps_up)|\n",
      "+--------------+\n",
      "|         12551|\n",
      "+--------------+\n",
      "\n"
     ]
    }
   ],
   "source": [
    "df_valid.select(F.sum('thumps_up')).show()"
   ]
  },
  {
   "cell_type": "code",
   "execution_count": 88,
   "metadata": {},
   "outputs": [],
   "source": [
    "# number of thumps down/up in a day\n",
    "df_valid = df_valid.withColumn(\"num_thumps_down\", F.sum(\"thumps_down\").over(windowval))\n",
    "df_valid = df_valid.withColumn(\"num_thumps_up\", F.sum(\"thumps_up\").over(windowval))"
   ]
  },
  {
   "cell_type": "code",
   "execution_count": 89,
   "metadata": {},
   "outputs": [
    {
     "data": {
      "text/plain": [
       "(           count      mean       std  min  25%  50%  75%   max\n",
       " stayed  278039.0  1.122310  1.440517  0.0  0.0  1.0  2.0  13.0\n",
       " churn      115.0  1.017391  1.290876  0.0  0.0  1.0  2.0   6.0,\n",
       " <matplotlib.axes._subplots.AxesSubplot at 0x7fccb1347d90>)"
      ]
     },
     "execution_count": 89,
     "metadata": {},
     "output_type": "execute_result"
    },
    {
     "data": {
      "image/png": "[encoded data removed]",
      "text/plain": [
       "<Figure size 432x288 with 1 Axes>"
      ]
     },
     "metadata": {
      "needs_background": "light"
     },
     "output_type": "display_data"
    }
   ],
   "source": [
    "make_boxplot('num_thumps_down')"
   ]
  },
  {
   "cell_type": "code",
   "execution_count": 90,
   "metadata": {},
   "outputs": [
    {
     "data": {
      "text/plain": [
       "(           count      mean       std  min  25%  50%  75%   max\n",
       " stayed  278039.0  5.904682  5.728219  0.0  1.0  4.0  9.0  38.0\n",
       " churn      115.0  5.104348  5.466603  0.0  1.0  3.0  7.5  28.0,\n",
       " <matplotlib.axes._subplots.AxesSubplot at 0x7fccb0820ad0>)"
      ]
     },
     "execution_count": 90,
     "metadata": {},
     "output_type": "execute_result"
    },
    {
     "data": {
      "image/png": "[encoded data removed]",
      "text/plain": [
       "<Figure size 432x288 with 1 Axes>"
      ]
     },
     "metadata": {
      "needs_background": "light"
     },
     "output_type": "display_data"
    }
   ],
   "source": [
    "make_boxplot('num_thumps_up')"
   ]
  },
  {
   "cell_type": "markdown",
   "metadata": {},
   "source": [
    "#### Home"
   ]
  },
  {
   "cell_type": "code",
   "execution_count": 91,
   "metadata": {},
   "outputs": [],
   "source": [
    "# flag Home\n",
    "flag_home = F.udf(lambda x: 1 if (x == 'Home') else 0, T.IntegerType())"
   ]
  },
  {
   "cell_type": "code",
   "execution_count": 92,
   "metadata": {},
   "outputs": [],
   "source": [
    "# create flag columns for home\n",
    "df_valid = df_valid.withColumn(\"home\", flag_home('page'))"
   ]
  },
  {
   "cell_type": "code",
   "execution_count": 93,
   "metadata": {},
   "outputs": [],
   "source": [
    "# number of homes in a day\n",
    "df_valid = df_valid.withColumn(\"num_homes\", F.sum(\"home\").over(windowval))"
   ]
  },
  {
   "cell_type": "code",
   "execution_count": 94,
   "metadata": {},
   "outputs": [
    {
     "data": {
      "text/plain": [
       "(           count      mean       std  min  25%  50%  75%   max\n",
       " stayed  278039.0  4.507745  3.698652  0.0  2.0  4.0  7.0  22.0\n",
       " churn      115.0  3.904348  3.238946  0.0  1.0  3.0  6.0  15.0,\n",
       " <matplotlib.axes._subplots.AxesSubplot at 0x7fccb14b5d90>)"
      ]
     },
     "execution_count": 94,
     "metadata": {},
     "output_type": "execute_result"
    },
    {
     "data": {
      "image/png": "[encoded data removed]",
      "text/plain": [
       "<Figure size 432x288 with 1 Axes>"
      ]
     },
     "metadata": {
      "needs_background": "light"
     },
     "output_type": "display_data"
    }
   ],
   "source": [
    "make_boxplot('num_homes')"
   ]
  },
  {
   "cell_type": "markdown",
   "metadata": {},
   "source": [
    "#### Roll Advert"
   ]
  },
  {
   "cell_type": "code",
   "execution_count": 95,
   "metadata": {},
   "outputs": [],
   "source": [
    "# flag Roll Advert\n",
    "flag_roll_advert = F.udf(lambda x: 1 if (x == 'Roll Advert') else 0, T.IntegerType())"
   ]
  },
  {
   "cell_type": "code",
   "execution_count": 96,
   "metadata": {},
   "outputs": [],
   "source": [
    "# create flag columns for roll advert\n",
    "df_valid = df_valid.withColumn(\"roll_advert\", flag_roll_advert('page'))"
   ]
  },
  {
   "cell_type": "code",
   "execution_count": 97,
   "metadata": {},
   "outputs": [],
   "source": [
    "# number of roll_adverts in a day\n",
    "df_valid = df_valid.withColumn(\"num_roll_adverts\", F.sum(\"roll_advert\").over(windowval))"
   ]
  },
  {
   "cell_type": "code",
   "execution_count": 98,
   "metadata": {},
   "outputs": [
    {
     "data": {
      "text/plain": [
       "(           count      mean       std  min  25%  50%  75%   max\n",
       " stayed  278039.0  1.058636  2.641766  0.0  0.0  0.0  1.0  38.0\n",
       " churn      115.0  1.626087  3.745081  0.0  0.0  0.0  1.0  25.0,\n",
       " <matplotlib.axes._subplots.AxesSubplot at 0x7fccb07316d0>)"
      ]
     },
     "execution_count": 98,
     "metadata": {},
     "output_type": "execute_result"
    },
    {
     "data": {
      "image/png": "[encoded data removed]",
      "text/plain": [
       "<Figure size 432x288 with 1 Axes>"
      ]
     },
     "metadata": {
      "needs_background": "light"
     },
     "output_type": "display_data"
    }
   ],
   "source": [
    "make_boxplot('num_roll_adverts')"
   ]
  },
  {
   "cell_type": "markdown",
   "metadata": {},
   "source": [
    "#### Logout"
   ]
  },
  {
   "cell_type": "code",
   "execution_count": 99,
   "metadata": {},
   "outputs": [],
   "source": [
    "# flag Logout\n",
    "flag_logout = F.udf(lambda x: 1 if (x == 'Logout') else 0, T.IntegerType())"
   ]
  },
  {
   "cell_type": "code",
   "execution_count": 100,
   "metadata": {},
   "outputs": [],
   "source": [
    "# create flag columns for logout\n",
    "df_valid = df_valid.withColumn(\"logout\", flag_logout('page'))"
   ]
  },
  {
   "cell_type": "code",
   "execution_count": 101,
   "metadata": {},
   "outputs": [],
   "source": [
    "# number of logouts in a day\n",
    "df_valid = df_valid.withColumn(\"num_logouts\", F.sum(\"logout\").over(windowval))"
   ]
  },
  {
   "cell_type": "code",
   "execution_count": 102,
   "metadata": {},
   "outputs": [
    {
     "data": {
      "text/plain": [
       "(           count      mean       std  min  25%  50%  75%   max\n",
       " stayed  278039.0  1.316290  1.532632  0.0  0.0  1.0  2.0  10.0\n",
       " churn      115.0  1.095652  1.263342  0.0  0.0  1.0  2.0   5.0,\n",
       " <matplotlib.axes._subplots.AxesSubplot at 0x7fccb0f34450>)"
      ]
     },
     "execution_count": 102,
     "metadata": {},
     "output_type": "execute_result"
    },
    {
     "data": {
      "image/png": "[encoded data removed]",
      "text/plain": [
       "<Figure size 432x288 with 1 Axes>"
      ]
     },
     "metadata": {
      "needs_background": "light"
     },
     "output_type": "display_data"
    }
   ],
   "source": [
    "make_boxplot('num_logouts')"
   ]
  },
  {
   "cell_type": "markdown",
   "metadata": {},
   "source": [
    "#### Settings "
   ]
  },
  {
   "cell_type": "code",
   "execution_count": 103,
   "metadata": {},
   "outputs": [],
   "source": [
    "# flag Settings\n",
    "flag_settings = F.udf(lambda x: 1 if (x == 'Settings') else 0, T.IntegerType())"
   ]
  },
  {
   "cell_type": "code",
   "execution_count": 104,
   "metadata": {},
   "outputs": [],
   "source": [
    "# create flag columns for settings\n",
    "df_valid = df_valid.withColumn(\"settings\", flag_settings('page'))"
   ]
  },
  {
   "cell_type": "code",
   "execution_count": 105,
   "metadata": {},
   "outputs": [],
   "source": [
    "# number of home in a day\n",
    "df_valid = df_valid.withColumn(\"num_settings\", F.sum(\"settings\").over(windowval))"
   ]
  },
  {
   "cell_type": "code",
   "execution_count": 106,
   "metadata": {},
   "outputs": [
    {
     "data": {
      "text/plain": [
       "(           count      mean       std  min  25%  50%  75%  max\n",
       " stayed  278039.0  0.695895  1.043436  0.0  0.0  0.0  1.0  8.0\n",
       " churn      115.0  0.782609  1.074282  0.0  0.0  0.0  1.0  5.0,\n",
       " <matplotlib.axes._subplots.AxesSubplot at 0x7fccb1460210>)"
      ]
     },
     "execution_count": 106,
     "metadata": {},
     "output_type": "execute_result"
    },
    {
     "data": {
      "image/png": "[encoded data removed]",
      "text/plain": [
       "<Figure size 432x288 with 1 Axes>"
      ]
     },
     "metadata": {
      "needs_background": "light"
     },
     "output_type": "display_data"
    }
   ],
   "source": [
    "make_boxplot('num_settings')"
   ]
  },
  {
   "cell_type": "markdown",
   "metadata": {},
   "source": [
    "#### Add to Playlist "
   ]
  },
  {
   "cell_type": "code",
   "execution_count": 107,
   "metadata": {},
   "outputs": [],
   "source": [
    "# flag Add to Playlist\n",
    "flag_add_playlist = F.udf(lambda x: 1 if (x == 'Add to Playlist') else 0, T.IntegerType())"
   ]
  },
  {
   "cell_type": "code",
   "execution_count": 108,
   "metadata": {},
   "outputs": [],
   "source": [
    "# create flag columns for add to playlist\n",
    "df_valid = df_valid.withColumn(\"playlist\", flag_add_playlist('page'))"
   ]
  },
  {
   "cell_type": "code",
   "execution_count": 109,
   "metadata": {},
   "outputs": [],
   "source": [
    "# number of add to playlists in a day\n",
    "df_valid = df_valid.withColumn(\"num_playlists\", F.sum(\"playlist\").over(windowval))"
   ]
  },
  {
   "cell_type": "code",
   "execution_count": 110,
   "metadata": {},
   "outputs": [
    {
     "data": {
      "text/plain": [
       "(           count      mean       std  min  25%  50%  75%   max\n",
       " stayed  278039.0  3.121458  3.184323  0.0  1.0  2.0  5.0  19.0\n",
       " churn      115.0  2.460870  2.659927  0.0  0.0  2.0  3.5  13.0,\n",
       " <matplotlib.axes._subplots.AxesSubplot at 0x7fccafc1b650>)"
      ]
     },
     "execution_count": 110,
     "metadata": {},
     "output_type": "execute_result"
    },
    {
     "data": {
      "image/png": "[encoded data removed]",
      "text/plain": [
       "<Figure size 432x288 with 1 Axes>"
      ]
     },
     "metadata": {
      "needs_background": "light"
     },
     "output_type": "display_data"
    }
   ],
   "source": [
    "make_boxplot('num_playlists')"
   ]
  },
  {
   "cell_type": "markdown",
   "metadata": {},
   "source": [
    "#### Add Friend "
   ]
  },
  {
   "cell_type": "code",
   "execution_count": 111,
   "metadata": {},
   "outputs": [],
   "source": [
    "# flag Add Friend\n",
    "flag_add_friend = F.udf(lambda x: 1 if (x == 'Add Friend') else 0, T.IntegerType())"
   ]
  },
  {
   "cell_type": "code",
   "execution_count": 112,
   "metadata": {},
   "outputs": [],
   "source": [
    "# create flag column for add friend\n",
    "df_valid = df_valid.withColumn(\"friend\", flag_add_playlist('page'))"
   ]
  },
  {
   "cell_type": "code",
   "execution_count": 113,
   "metadata": {},
   "outputs": [],
   "source": [
    "# number of add to friends in a day\n",
    "df_valid = df_valid.withColumn(\"num_friends\", F.sum(\"friend\").over(windowval))"
   ]
  },
  {
   "cell_type": "code",
   "execution_count": 114,
   "metadata": {},
   "outputs": [
    {
     "data": {
      "text/plain": [
       "(           count      mean       std  min  25%  50%  75%   max\n",
       " stayed  278039.0  3.121458  3.184323  0.0  1.0  2.0  5.0  19.0\n",
       " churn      115.0  2.460870  2.659927  0.0  0.0  2.0  3.5  13.0,\n",
       " <matplotlib.axes._subplots.AxesSubplot at 0x7fccb5b12f50>)"
      ]
     },
     "execution_count": 114,
     "metadata": {},
     "output_type": "execute_result"
    },
    {
     "data": {
      "image/png": "[encoded data removed]",
      "text/plain": [
       "<Figure size 432x288 with 1 Axes>"
      ]
     },
     "metadata": {
      "needs_background": "light"
     },
     "output_type": "display_data"
    }
   ],
   "source": [
    "make_boxplot('num_friends')"
   ]
  },
  {
   "cell_type": "markdown",
   "metadata": {},
   "source": [
    "# Feature Engineering\n",
    "Once you've familiarized yourself with the data, build out the features you find promising to train your model on. To work with the full dataset, you can follow the following steps.\n",
    "- Write a script to extract the necessary features from the smaller subset of data\n",
    "- Ensure that your script is scalable, using the best practices discussed in Lesson 3\n",
    "- Try your script on the full data set, debugging your script if necessary\n",
    "\n",
    "If you are working in the classroom workspace, you can just extract features based on the small subset of data contained here. Be sure to transfer over this work to the larger dataset when you work on your Spark cluster."
   ]
  },
  {
   "cell_type": "code",
   "execution_count": null,
   "metadata": {},
   "outputs": [],
   "source": []
  },
  {
   "cell_type": "code",
   "execution_count": null,
   "metadata": {},
   "outputs": [],
   "source": []
  },
  {
   "cell_type": "code",
   "execution_count": null,
   "metadata": {},
   "outputs": [],
   "source": []
  },
  {
   "cell_type": "code",
   "execution_count": null,
   "metadata": {},
   "outputs": [],
   "source": []
  },
  {
   "cell_type": "code",
   "execution_count": null,
   "metadata": {},
   "outputs": [],
   "source": []
  },
  {
   "cell_type": "markdown",
   "metadata": {},
   "source": [
    "# Modeling\n",
    "Split the full dataset into train, test, and validation sets. Test out several of the machine learning methods you learned. Evaluate the accuracy of the various models, tuning parameters as necessary. Determine your winning model based on test accuracy and report results on the validation set. Since the churned users are a fairly small subset, I suggest using F1 score as the metric to optimize."
   ]
  },
  {
   "cell_type": "code",
   "execution_count": null,
   "metadata": {},
   "outputs": [],
   "source": []
  },
  {
   "cell_type": "markdown",
   "metadata": {},
   "source": [
    "# Final Steps\n",
    "Clean up your code, adding comments and renaming variables to make the code easier to read and maintain. Refer to the Spark Project Overview page and Data Scientist Capstone Project Rubric to make sure you are including all components of the capstone project and meet all expectations. Remember, this includes thorough documentation in a README file in a Github repository, as well as a web app or blog post."
   ]
  },
  {
   "cell_type": "code",
   "execution_count": null,
   "metadata": {},
   "outputs": [],
   "source": []
  }
 ],
 "metadata": {
  "kernelspec": {
   "display_name": "Python 3",
   "language": "python",
   "name": "python3"
  },
  "language_info": {
   "codemirror_mode": {
    "name": "ipython",
    "version": 3
   },
   "file_extension": ".py",
   "mimetype": "text/x-python",
   "name": "python",
   "nbconvert_exporter": "python",
   "pygments_lexer": "ipython3",
   "version": "3.7.4"
  }
 },
 "nbformat": 4,
 "nbformat_minor": 4
}
