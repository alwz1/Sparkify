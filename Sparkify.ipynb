{
 "cells": [
  {
   "cell_type": "markdown",
   "metadata": {},
   "source": [
    "# Sparkify Project Workspace\n",
    "This workspace contains a tiny subset (128MB) of the full dataset available (12GB). Feel free to use this workspace to build your project, or to explore a smaller subset with Spark before deploying your cluster on the cloud. Instructions for setting up your Spark cluster is included in the last lesson of the Extracurricular Spark Course content.\n",
    "\n",
    "You can follow the steps below to guide your data analysis and model building portion of this project."
   ]
  },
  {
   "cell_type": "code",
   "execution_count": 1,
   "metadata": {},
   "outputs": [],
   "source": [
    "import os\n",
    "os.environ[\"PYSPARK_PYTHON\"]=\"python3\"\n",
    "os.environ[\"PYSPARK_DRIVER_PYTHON\"] = \"python3\"\n",
    "os.environ[\"JAVA_HOME\"]=\"/Library/java/JavaVirtualMachines/adoptopenjdk-8.jdk/contents/Home/\""
   ]
  },
  {
   "cell_type": "code",
   "execution_count": 2,
   "metadata": {},
   "outputs": [],
   "source": [
    "import findspark\n",
    "findspark.init()"
   ]
  },
  {
   "cell_type": "code",
   "execution_count": 121,
   "metadata": {},
   "outputs": [],
   "source": [
    "# import libraries\n",
    "from pyspark.sql import SparkSession\n",
    "from pyspark.sql import functions as F\n",
    "from pyspark.sql import types as T\n",
    "from pyspark.sql import Window\n",
    "import datetime\n",
    "\n",
    "from pyspark.ml import Pipeline\n",
    "from pyspark.ml.feature import StringIndexer, OneHotEncoderEstimator, MinMaxScaler, VectorAssembler \n",
    "from sklearn.metrics import classification_report,confusion_matrix\n",
    "from pyspark.ml.classification import DecisionTreeClassifier, RandomForestClassifier\n",
    "\n",
    "import numpy as np\n",
    "import pandas as pd\n",
    "import matplotlib.pyplot as plt\n",
    "import seaborn as sns\n",
    "%matplotlib inline"
   ]
  },
  {
   "cell_type": "code",
   "execution_count": 4,
   "metadata": {},
   "outputs": [],
   "source": [
    "# Create spark session\n",
    "spark = SparkSession \\\n",
    "    .builder \\\n",
    "    .appName(\"Sparkify\") \\\n",
    "    .getOrCreate()"
   ]
  },
  {
   "cell_type": "markdown",
   "metadata": {},
   "source": [
    "# Load and Clean Dataset\n",
    "In this workspace, the mini-dataset file is `mini_sparkify_event_data.json`. Load and clean the dataset, checking for invalid or missing data - for example, records without userids or sessionids. "
   ]
  },
  {
   "cell_type": "code",
   "execution_count": 5,
   "metadata": {},
   "outputs": [
    {
     "data": {
      "text/plain": [
       "Row(artist='Martha Tilston', auth='Logged In', firstName='Colin', gender='M', itemInSession=50, lastName='Freeman', length=277.89016, level='paid', location='Bakersfield, CA', method='PUT', page='NextSong', registration=1538173362000, sessionId=29, song='Rockpools', status=200, ts=1538352117000, userAgent='Mozilla/5.0 (Windows NT 6.1; WOW64; rv:31.0) Gecko/20100101 Firefox/31.0', userId='30')"
      ]
     },
     "execution_count": 5,
     "metadata": {},
     "output_type": "execute_result"
    }
   ],
   "source": [
    "# Read in sparkify dataset\n",
    "event_data = \"mini_sparkify_event_data.json\"\n",
    "df = spark.read.json(event_data)\n",
    "df.head()"
   ]
  },
  {
   "cell_type": "code",
   "execution_count": 6,
   "metadata": {},
   "outputs": [
    {
     "name": "stdout",
     "output_type": "stream",
     "text": [
      "root\n",
      " |-- artist: string (nullable = true)\n",
      " |-- auth: string (nullable = true)\n",
      " |-- firstName: string (nullable = true)\n",
      " |-- gender: string (nullable = true)\n",
      " |-- itemInSession: long (nullable = true)\n",
      " |-- lastName: string (nullable = true)\n",
      " |-- length: double (nullable = true)\n",
      " |-- level: string (nullable = true)\n",
      " |-- location: string (nullable = true)\n",
      " |-- method: string (nullable = true)\n",
      " |-- page: string (nullable = true)\n",
      " |-- registration: long (nullable = true)\n",
      " |-- sessionId: long (nullable = true)\n",
      " |-- song: string (nullable = true)\n",
      " |-- status: long (nullable = true)\n",
      " |-- ts: long (nullable = true)\n",
      " |-- userAgent: string (nullable = true)\n",
      " |-- userId: string (nullable = true)\n",
      "\n"
     ]
    }
   ],
   "source": [
    "df.printSchema()"
   ]
  },
  {
   "cell_type": "code",
   "execution_count": 7,
   "metadata": {},
   "outputs": [
    {
     "data": {
      "text/plain": [
       "286500"
      ]
     },
     "execution_count": 7,
     "metadata": {},
     "output_type": "execute_result"
    }
   ],
   "source": [
    "# number of records\n",
    "df.count()"
   ]
  },
  {
   "cell_type": "code",
   "execution_count": 8,
   "metadata": {},
   "outputs": [
    {
     "name": "stdout",
     "output_type": "stream",
     "text": [
      "+------+----+---------+------+-------------+--------+------+-----+--------+------+----+------------+---------+-----+------+---+---------+------+\n",
      "|artist|auth|firstName|gender|itemInSession|lastName|length|level|location|method|page|registration|sessionId| song|status| ts|userAgent|userId|\n",
      "+------+----+---------+------+-------------+--------+------+-----+--------+------+----+------------+---------+-----+------+---+---------+------+\n",
      "| 58392|   0|     8346|  8346|            0|    8346| 58392|    0|    8346|     0|   0|        8346|        0|58392|     0|  0|     8346|     0|\n",
      "+------+----+---------+------+-------------+--------+------+-----+--------+------+----+------------+---------+-----+------+---+---------+------+\n",
      "\n"
     ]
    }
   ],
   "source": [
    "# check number of missing values in each column\n",
    "missing_values = [F.count(F.when(F.col(c).isNull(), c)).alias(c)\n",
    "                  for c in df.columns]\n",
    "df.select(missing_values).show()"
   ]
  },
  {
   "cell_type": "code",
   "execution_count": 9,
   "metadata": {},
   "outputs": [
    {
     "name": "stdout",
     "output_type": "stream",
     "text": [
      "+----------+\n",
      "|      auth|\n",
      "+----------+\n",
      "|Logged Out|\n",
      "|     Guest|\n",
      "| Cancelled|\n",
      "| Logged In|\n",
      "+----------+\n",
      "\n"
     ]
    }
   ],
   "source": [
    "df.select(\"auth\").dropDuplicates().sort(\"userId\").show()"
   ]
  },
  {
   "cell_type": "code",
   "execution_count": 10,
   "metadata": {},
   "outputs": [
    {
     "name": "stdout",
     "output_type": "stream",
     "text": [
      "+------+\n",
      "|userId|\n",
      "+------+\n",
      "|      |\n",
      "|    10|\n",
      "|   100|\n",
      "|100001|\n",
      "|100002|\n",
      "|100003|\n",
      "|100004|\n",
      "|100005|\n",
      "|100006|\n",
      "|100007|\n",
      "+------+\n",
      "only showing top 10 rows\n",
      "\n"
     ]
    }
   ],
   "source": [
    "df.select(\"userId\").dropDuplicates().sort(\"userId\").show(10)"
   ]
  },
  {
   "cell_type": "code",
   "execution_count": 11,
   "metadata": {},
   "outputs": [],
   "source": [
    "# drop missing values for userId and sessionId\n",
    "df_valid = df.dropna(how=\"any\", subset=[\"userId\", \"sessionId\"])"
   ]
  },
  {
   "cell_type": "code",
   "execution_count": 12,
   "metadata": {},
   "outputs": [],
   "source": [
    "# filter out empty userId's\n",
    "df_valid = df_valid.filter(df['userId'] != \"\")"
   ]
  },
  {
   "cell_type": "code",
   "execution_count": 13,
   "metadata": {},
   "outputs": [],
   "source": [
    "# fill missing values of length with 0\n",
    "df_valid = df_valid.na.fill(0, subset=['length'])"
   ]
  },
  {
   "cell_type": "code",
   "execution_count": 14,
   "metadata": {},
   "outputs": [
    {
     "name": "stdout",
     "output_type": "stream",
     "text": [
      "+------+----+---------+------+-------------+--------+------+-----+--------+------+----+------------+---------+-----+------+---+---------+------+\n",
      "|artist|auth|firstName|gender|itemInSession|lastName|length|level|location|method|page|registration|sessionId| song|status| ts|userAgent|userId|\n",
      "+------+----+---------+------+-------------+--------+------+-----+--------+------+----+------------+---------+-----+------+---+---------+------+\n",
      "| 50046|   0|        0|     0|            0|       0|     0|    0|       0|     0|   0|           0|        0|50046|     0|  0|        0|     0|\n",
      "+------+----+---------+------+-------------+--------+------+-----+--------+------+----+------------+---------+-----+------+---+---------+------+\n",
      "\n"
     ]
    }
   ],
   "source": [
    "# check number of missing values in each column again\n",
    "missing_values = [F.count(F.when(F.col(c).isNull(), c)).alias(c)\n",
    "                  for c in df_valid.columns]\n",
    "df_valid.select(missing_values).show()"
   ]
  },
  {
   "cell_type": "code",
   "execution_count": 15,
   "metadata": {},
   "outputs": [
    {
     "name": "stdout",
     "output_type": "stream",
     "text": [
      "+-------------------------+\n",
      "|page                     |\n",
      "+-------------------------+\n",
      "|Cancel                   |\n",
      "|Submit Downgrade         |\n",
      "|Thumbs Down              |\n",
      "|Home                     |\n",
      "|Downgrade                |\n",
      "|Roll Advert              |\n",
      "|Logout                   |\n",
      "|Save Settings            |\n",
      "|Cancellation Confirmation|\n",
      "|About                    |\n",
      "|Settings                 |\n",
      "|Add to Playlist          |\n",
      "|Add Friend               |\n",
      "|Thumbs Up                |\n",
      "|Help                     |\n",
      "|Upgrade                  |\n",
      "|Error                    |\n",
      "|Submit Upgrade           |\n",
      "+-------------------------+\n",
      "\n"
     ]
    }
   ],
   "source": [
    "df_valid.filter(F.col('artist').isNull()).select(\n",
    "    'page').dropDuplicates().show(20, False)"
   ]
  },
  {
   "cell_type": "code",
   "execution_count": 16,
   "metadata": {},
   "outputs": [
    {
     "name": "stdout",
     "output_type": "stream",
     "text": [
      "+--------+\n",
      "|    page|\n",
      "+--------+\n",
      "|NextSong|\n",
      "+--------+\n",
      "\n"
     ]
    }
   ],
   "source": [
    "df_valid.filter(F.col('artist').isNotNull()).select(\n",
    "    'page').dropDuplicates().show()"
   ]
  },
  {
   "cell_type": "markdown",
   "metadata": {},
   "source": [
    "# Exploratory Data Analysis\n",
    "When you're working with the full dataset, perform EDA by loading a small subset of the data and doing basic manipulations within Spark. In this workspace, you are already provided a small subset of data you can explore."
   ]
  },
  {
   "cell_type": "code",
   "execution_count": 17,
   "metadata": {},
   "outputs": [
    {
     "data": {
      "text/plain": [
       "225"
      ]
     },
     "execution_count": 17,
     "metadata": {},
     "output_type": "execute_result"
    }
   ],
   "source": [
    "# number of users\n",
    "df.filter(df['userId']!='').select(\"userId\").dropDuplicates().count()"
   ]
  },
  {
   "cell_type": "code",
   "execution_count": 18,
   "metadata": {},
   "outputs": [
    {
     "data": {
      "text/plain": [
       "17656"
      ]
     },
     "execution_count": 18,
     "metadata": {},
     "output_type": "execute_result"
    }
   ],
   "source": [
    "# number of artists\n",
    "df.select(\"artist\").dropDuplicates().count()"
   ]
  },
  {
   "cell_type": "code",
   "execution_count": 19,
   "metadata": {},
   "outputs": [
    {
     "name": "stdout",
     "output_type": "stream",
     "text": [
      "+----------+\n",
      "|      auth|\n",
      "+----------+\n",
      "|Logged Out|\n",
      "| Cancelled|\n",
      "|     Guest|\n",
      "| Logged In|\n",
      "+----------+\n",
      "\n"
     ]
    }
   ],
   "source": [
    "# auth\n",
    "df.select(\"auth\").dropDuplicates().show()"
   ]
  },
  {
   "cell_type": "code",
   "execution_count": 20,
   "metadata": {},
   "outputs": [
    {
     "name": "stdout",
     "output_type": "stream",
     "text": [
      "+-------+------------------+\n",
      "|summary|     itemInSession|\n",
      "+-------+------------------+\n",
      "|  count|            286500|\n",
      "|   mean|114.41421291448516|\n",
      "| stddev|129.76726201141085|\n",
      "|    min|                 0|\n",
      "|    max|              1321|\n",
      "+-------+------------------+\n",
      "\n"
     ]
    }
   ],
   "source": [
    "# itemInSession\n",
    "df.select(\"itemInSession\").describe().show()"
   ]
  },
  {
   "cell_type": "code",
   "execution_count": 21,
   "metadata": {},
   "outputs": [
    {
     "name": "stdout",
     "output_type": "stream",
     "text": [
      "+-------+------------------+\n",
      "|summary|            length|\n",
      "+-------+------------------+\n",
      "|  count|            228108|\n",
      "|   mean|249.11718197783722|\n",
      "| stddev| 99.23517921058324|\n",
      "|    min|           0.78322|\n",
      "|    max|        3024.66567|\n",
      "+-------+------------------+\n",
      "\n"
     ]
    }
   ],
   "source": [
    "# length\n",
    "df.select(\"length\").describe().show()"
   ]
  },
  {
   "cell_type": "code",
   "execution_count": 22,
   "metadata": {},
   "outputs": [
    {
     "data": {
      "text/plain": [
       "array([[<matplotlib.axes._subplots.AxesSubplot object at 0x7fca362ad850>]],\n",
       "      dtype=object)"
      ]
     },
     "execution_count": 22,
     "metadata": {},
     "output_type": "execute_result"
    },
    {
     "data": {
      "image/png": "[encoded data removed]",
      "text/plain": [
       "<Figure size 432x288 with 1 Axes>"
      ]
     },
     "metadata": {
      "needs_background": "light"
     },
     "output_type": "display_data"
    }
   ],
   "source": [
    "# histogram for length\n",
    "df.select(\"length\").toPandas().hist(bins=100)"
   ]
  },
  {
   "cell_type": "code",
   "execution_count": 23,
   "metadata": {},
   "outputs": [
    {
     "name": "stdout",
     "output_type": "stream",
     "text": [
      "+-----+\n",
      "|level|\n",
      "+-----+\n",
      "| free|\n",
      "| paid|\n",
      "+-----+\n",
      "\n"
     ]
    }
   ],
   "source": [
    "# level\n",
    "df.select(\"level\").dropDuplicates().show()"
   ]
  },
  {
   "cell_type": "code",
   "execution_count": 24,
   "metadata": {},
   "outputs": [
    {
     "name": "stdout",
     "output_type": "stream",
     "text": [
      "+---------------------------------------+\n",
      "|location                               |\n",
      "+---------------------------------------+\n",
      "|Gainesville, FL                        |\n",
      "|Atlantic City-Hammonton, NJ            |\n",
      "|Deltona-Daytona Beach-Ormond Beach, FL |\n",
      "|San Diego-Carlsbad, CA                 |\n",
      "|Cleveland-Elyria, OH                   |\n",
      "|Kingsport-Bristol-Bristol, TN-VA       |\n",
      "|New Haven-Milford, CT                  |\n",
      "|Birmingham-Hoover, AL                  |\n",
      "|Corpus Christi, TX                     |\n",
      "|Dubuque, IA                            |\n",
      "|Las Vegas-Henderson-Paradise, NV       |\n",
      "|Indianapolis-Carmel-Anderson, IN       |\n",
      "|Seattle-Tacoma-Bellevue, WA            |\n",
      "|Albany, OR                             |\n",
      "|Winston-Salem, NC                      |\n",
      "|Bakersfield, CA                        |\n",
      "|Los Angeles-Long Beach-Anaheim, CA     |\n",
      "|Minneapolis-St. Paul-Bloomington, MN-WI|\n",
      "|San Francisco-Oakland-Hayward, CA      |\n",
      "|Phoenix-Mesa-Scottsdale, AZ            |\n",
      "+---------------------------------------+\n",
      "only showing top 20 rows\n",
      "\n"
     ]
    }
   ],
   "source": [
    "# location\n",
    "df.select(\"location\").dropDuplicates().show(20, False)"
   ]
  },
  {
   "cell_type": "code",
   "execution_count": 25,
   "metadata": {},
   "outputs": [
    {
     "name": "stdout",
     "output_type": "stream",
     "text": [
      "+------+\n",
      "|method|\n",
      "+------+\n",
      "|   PUT|\n",
      "|   GET|\n",
      "+------+\n",
      "\n"
     ]
    }
   ],
   "source": [
    "# method\n",
    "df.select(\"method\").dropDuplicates().show()"
   ]
  },
  {
   "cell_type": "code",
   "execution_count": 26,
   "metadata": {},
   "outputs": [
    {
     "name": "stdout",
     "output_type": "stream",
     "text": [
      "+-------------------------+\n",
      "|page                     |\n",
      "+-------------------------+\n",
      "|Cancel                   |\n",
      "|Submit Downgrade         |\n",
      "|Thumbs Down              |\n",
      "|Home                     |\n",
      "|Downgrade                |\n",
      "|Roll Advert              |\n",
      "|Logout                   |\n",
      "|Save Settings            |\n",
      "|Cancellation Confirmation|\n",
      "|About                    |\n",
      "|Submit Registration      |\n",
      "|Settings                 |\n",
      "|Login                    |\n",
      "|Register                 |\n",
      "|Add to Playlist          |\n",
      "|Add Friend               |\n",
      "|NextSong                 |\n",
      "|Thumbs Up                |\n",
      "|Help                     |\n",
      "|Upgrade                  |\n",
      "|Error                    |\n",
      "|Submit Upgrade           |\n",
      "+-------------------------+\n",
      "\n"
     ]
    }
   ],
   "source": [
    "# page\n",
    "df.select(\"page\").dropDuplicates().show(22, False)"
   ]
  },
  {
   "cell_type": "code",
   "execution_count": 27,
   "metadata": {},
   "outputs": [
    {
     "name": "stdout",
     "output_type": "stream",
     "text": [
      "+-------------+\n",
      "| registration|\n",
      "+-------------+\n",
      "|1538173362000|\n",
      "|1538331630000|\n",
      "|1538173362000|\n",
      "|1538331630000|\n",
      "|1538173362000|\n",
      "+-------------+\n",
      "only showing top 5 rows\n",
      "\n"
     ]
    }
   ],
   "source": [
    "# registration\n",
    "df.select(\"registration\").show(5)"
   ]
  },
  {
   "cell_type": "code",
   "execution_count": 28,
   "metadata": {},
   "outputs": [
    {
     "name": "stdout",
     "output_type": "stream",
     "text": [
      "+-----------------------------+\n",
      "|song                         |\n",
      "+-----------------------------+\n",
      "|Rockpools                    |\n",
      "|Canada                       |\n",
      "|Time For Miracles            |\n",
      "|Knocking On Forbidden Doors  |\n",
      "|Harder Better Faster Stronger|\n",
      "+-----------------------------+\n",
      "only showing top 5 rows\n",
      "\n"
     ]
    }
   ],
   "source": [
    "# songs\n",
    "df.select(\"song\").show(5, False)"
   ]
  },
  {
   "cell_type": "code",
   "execution_count": 29,
   "metadata": {},
   "outputs": [
    {
     "data": {
      "text/plain": [
       "58481"
      ]
     },
     "execution_count": 29,
     "metadata": {},
     "output_type": "execute_result"
    }
   ],
   "source": [
    "# number of songs\n",
    "df.select(\"song\").drop_duplicates().count()"
   ]
  },
  {
   "cell_type": "code",
   "execution_count": 30,
   "metadata": {},
   "outputs": [
    {
     "name": "stdout",
     "output_type": "stream",
     "text": [
      "+------+\n",
      "|status|\n",
      "+------+\n",
      "|   307|\n",
      "|   404|\n",
      "|   200|\n",
      "+------+\n",
      "\n"
     ]
    }
   ],
   "source": [
    "# status\n",
    "df.select(\"status\").drop_duplicates().show()"
   ]
  },
  {
   "cell_type": "code",
   "execution_count": 31,
   "metadata": {},
   "outputs": [
    {
     "name": "stdout",
     "output_type": "stream",
     "text": [
      "+-------------+\n",
      "|           ts|\n",
      "+-------------+\n",
      "|1538352117000|\n",
      "|1538352180000|\n",
      "|1538352394000|\n",
      "|1538352416000|\n",
      "|1538352676000|\n",
      "+-------------+\n",
      "only showing top 5 rows\n",
      "\n"
     ]
    }
   ],
   "source": [
    "# ts\n",
    "df.select(\"ts\").show(5)"
   ]
  },
  {
   "cell_type": "code",
   "execution_count": 32,
   "metadata": {},
   "outputs": [
    {
     "name": "stdout",
     "output_type": "stream",
     "text": [
      "+--------------------------------------------------------------------------------------------------------------------------+\n",
      "|userAgent                                                                                                                 |\n",
      "+--------------------------------------------------------------------------------------------------------------------------+\n",
      "|\"Mozilla/5.0 (Macintosh; Intel Mac OS X 10_8_5) AppleWebKit/537.36 (KHTML, like Gecko) Chrome/36.0.1985.143 Safari/537.36\"|\n",
      "|\"Mozilla/5.0 (Windows NT 5.1) AppleWebKit/537.36 (KHTML, like Gecko) Chrome/36.0.1985.143 Safari/537.36\"                  |\n",
      "|Mozilla/5.0 (X11; Ubuntu; Linux i686; rv:31.0) Gecko/20100101 Firefox/31.0                                                |\n",
      "|\"Mozilla/5.0 (Macintosh; Intel Mac OS X 10_9_4) AppleWebKit/537.36 (KHTML, like Gecko) Chrome/36.0.1985.125 Safari/537.36\"|\n",
      "|\"Mozilla/5.0 (Macintosh; Intel Mac OS X 10_9_4) AppleWebKit/537.36 (KHTML, like Gecko) Chrome/35.0.1916.153 Safari/537.36\"|\n",
      "|Mozilla/5.0 (Macintosh; Intel Mac OS X 10.7; rv:31.0) Gecko/20100101 Firefox/31.0                                         |\n",
      "|Mozilla/5.0 (Windows NT 6.1; WOW64; rv:30.0) Gecko/20100101 Firefox/30.0                                                  |\n",
      "|Mozilla/5.0 (Windows NT 6.3; WOW64; rv:31.0) Gecko/20100101 Firefox/31.0                                                  |\n",
      "|Mozilla/5.0 (compatible; MSIE 9.0; Windows NT 6.1; WOW64; Trident/5.0)                                                    |\n",
      "|\"Mozilla/5.0 (Windows NT 6.3; WOW64) AppleWebKit/537.36 (KHTML, like Gecko) Chrome/36.0.1985.143 Safari/537.36\"           |\n",
      "+--------------------------------------------------------------------------------------------------------------------------+\n",
      "only showing top 10 rows\n",
      "\n"
     ]
    }
   ],
   "source": [
    "# userAgent\n",
    "df_valid.select(\"userAgent\").drop_duplicates().show(10, False)"
   ]
  },
  {
   "cell_type": "markdown",
   "metadata": {},
   "source": [
    "## Define Churn\n",
    "\n",
    "Define churn events as`Cancellation Confirmation` events or `Submit Downgrade` events.\n",
    "Create a column `churn_user` to use as the label for the model. "
   ]
  },
  {
   "cell_type": "code",
   "execution_count": 33,
   "metadata": {},
   "outputs": [],
   "source": [
    "# define churn event\n",
    "flag_churn_event = F.udf(lambda x: 1 if (\n",
    "    x == 'Cancellation Confirmation') else 0, T.IntegerType())"
   ]
  },
  {
   "cell_type": "code",
   "execution_count": 34,
   "metadata": {},
   "outputs": [],
   "source": [
    "# create churn event column\n",
    "df_valid = df_valid.withColumn('churn_event', flag_churn_event('page'))"
   ]
  },
  {
   "cell_type": "code",
   "execution_count": 35,
   "metadata": {},
   "outputs": [],
   "source": [
    "# create churn user column\n",
    "df_valid = df_valid.withColumn('churn_user', F.max(\n",
    "    'churn_event').over(Window.partitionBy('userId')))"
   ]
  },
  {
   "cell_type": "markdown",
   "metadata": {},
   "source": [
    "## Explore Data\n",
    "Once you've defined churn, perform some exploratory data analysis to observe the behavior for users who stayed vs users who churned. You can start by exploring aggregates on these two groups of users, observing how much of a specific action they experienced per a certain time unit or number of songs played."
   ]
  },
  {
   "cell_type": "code",
   "execution_count": 36,
   "metadata": {},
   "outputs": [
    {
     "name": "stdout",
     "output_type": "stream",
     "text": [
      "number of users: 225\n"
     ]
    }
   ],
   "source": [
    "# number of users\n",
    "num_users = df_valid.select(F.countDistinct('userId')).collect()[0][0]\n",
    "print(\"number of users:\", num_users)"
   ]
  },
  {
   "cell_type": "code",
   "execution_count": 37,
   "metadata": {},
   "outputs": [
    {
     "name": "stdout",
     "output_type": "stream",
     "text": [
      "+----------------+\n",
      "|sum(churn_event)|\n",
      "+----------------+\n",
      "|              52|\n",
      "+----------------+\n",
      "\n"
     ]
    }
   ],
   "source": [
    "# number of churn_events\n",
    "df_valid.select(F.sum('churn_event')).show()"
   ]
  },
  {
   "cell_type": "code",
   "execution_count": 38,
   "metadata": {},
   "outputs": [
    {
     "name": "stdout",
     "output_type": "stream",
     "text": [
      "number of churn users: 52\n",
      "number of not churn users: 173\n"
     ]
    }
   ],
   "source": [
    "# number of churn and not churn users\n",
    "num_churn_users = df_valid.filter(df_valid['churn_user'] == '1').select(\n",
    "    F.countDistinct('userId')).collect()[0][0]\n",
    "num_not_churn_users = num_users - num_churn_users\n",
    "print(\"number of churn users:\", num_churn_users)\n",
    "print(\"number of not churn users:\", num_not_churn_users)"
   ]
  },
  {
   "cell_type": "code",
   "execution_count": 39,
   "metadata": {},
   "outputs": [
    {
     "data": {
      "image/png": "[encoded data removed]",
      "text/plain": [
       "<Figure size 432x288 with 1 Axes>"
      ]
     },
     "metadata": {
      "needs_background": "light"
     },
     "output_type": "display_data"
    }
   ],
   "source": [
    "d = {'churns': [num_not_churn_users, num_churn_users]}\n",
    "df_churns = pd.DataFrame(data=d, index=['Stayed', 'Churn'])\n",
    "ax = df_churns.plot.bar(legend=False)\n",
    "ax.grid(axis='y')\n",
    "ax.set_ylabel('Count', fontsize=12)\n",
    "plt.xticks(rotation=0);"
   ]
  },
  {
   "cell_type": "markdown",
   "metadata": {},
   "source": [
    "### Gender"
   ]
  },
  {
   "cell_type": "code",
   "execution_count": 40,
   "metadata": {},
   "outputs": [
    {
     "name": "stdout",
     "output_type": "stream",
     "text": [
      "number of females: 104\n",
      "number of males: 121\n"
     ]
    }
   ],
   "source": [
    "num_females = df_valid.filter(df_valid['gender'] == 'F').select(\n",
    "    F.countDistinct('userId')).collect()[0][0]\n",
    "num_males = num_users - num_females\n",
    "print(\"number of females:\", num_females)\n",
    "print(\"number of males:\", num_males)"
   ]
  },
  {
   "cell_type": "code",
   "execution_count": 41,
   "metadata": {},
   "outputs": [
    {
     "data": {
      "text/html": [
       "<div>\n",
       "<style scoped>\n",
       "    .dataframe tbody tr th:only-of-type {\n",
       "        vertical-align: middle;\n",
       "    }\n",
       "\n",
       "    .dataframe tbody tr th {\n",
       "        vertical-align: top;\n",
       "    }\n",
       "\n",
       "    .dataframe thead th {\n",
       "        text-align: right;\n",
       "    }\n",
       "</style>\n",
       "<table border=\"1\" class=\"dataframe\">\n",
       "  <thead>\n",
       "    <tr style=\"text-align: right;\">\n",
       "      <th></th>\n",
       "      <th>num_churns</th>\n",
       "      <th>count</th>\n",
       "      <th>percent churn</th>\n",
       "    </tr>\n",
       "    <tr>\n",
       "      <th>gender</th>\n",
       "      <th></th>\n",
       "      <th></th>\n",
       "      <th></th>\n",
       "    </tr>\n",
       "  </thead>\n",
       "  <tbody>\n",
       "    <tr>\n",
       "      <th>F</th>\n",
       "      <td>20</td>\n",
       "      <td>104</td>\n",
       "      <td>19.230769</td>\n",
       "    </tr>\n",
       "    <tr>\n",
       "      <th>M</th>\n",
       "      <td>32</td>\n",
       "      <td>121</td>\n",
       "      <td>26.446281</td>\n",
       "    </tr>\n",
       "  </tbody>\n",
       "</table>\n",
       "</div>"
      ],
      "text/plain": [
       "        num_churns  count  percent churn\n",
       "gender                                  \n",
       "F               20    104      19.230769\n",
       "M               32    121      26.446281"
      ]
     },
     "execution_count": 41,
     "metadata": {},
     "output_type": "execute_result"
    }
   ],
   "source": [
    "df_gender = df_valid.groupby('gender').sum('churn_event').toPandas()\n",
    "df_gender['count'] = [num_females, num_males]\n",
    "df_gender['percent churn'] = df_gender['sum(churn_event)'] / \\\n",
    "    df_gender['count']*100\n",
    "df_gender.columns = ['gender', 'num_churns', 'count', 'percent churn']\n",
    "df_gender.set_index('gender')"
   ]
  },
  {
   "cell_type": "code",
   "execution_count": 42,
   "metadata": {},
   "outputs": [
    {
     "data": {
      "image/png": "[encoded data removed]",
      "text/plain": [
       "<Figure size 432x288 with 1 Axes>"
      ]
     },
     "metadata": {
      "needs_background": "light"
     },
     "output_type": "display_data"
    }
   ],
   "source": [
    "ax = df_gender.plot.bar(x='gender', y='percent churn', legend=False)\n",
    "ax.grid(axis='y')\n",
    "ax.set_ylabel('Percent churn', fontsize=12)\n",
    "plt.xticks(rotation=0);"
   ]
  },
  {
   "cell_type": "markdown",
   "metadata": {},
   "source": [
    "### Level"
   ]
  },
  {
   "cell_type": "code",
   "execution_count": 43,
   "metadata": {},
   "outputs": [],
   "source": [
    "num_free = df_valid.filter(df_valid['level'] == 'free').select(\n",
    "    F.countDistinct('userId')).collect()[0][0]\n",
    "num_paid = df_valid.filter(df_valid['level'] == 'paid').select(\n",
    "    F.countDistinct('userId')).collect()[0][0]"
   ]
  },
  {
   "cell_type": "code",
   "execution_count": 44,
   "metadata": {},
   "outputs": [
    {
     "data": {
      "text/html": [
       "<div>\n",
       "<style scoped>\n",
       "    .dataframe tbody tr th:only-of-type {\n",
       "        vertical-align: middle;\n",
       "    }\n",
       "\n",
       "    .dataframe tbody tr th {\n",
       "        vertical-align: top;\n",
       "    }\n",
       "\n",
       "    .dataframe thead th {\n",
       "        text-align: right;\n",
       "    }\n",
       "</style>\n",
       "<table border=\"1\" class=\"dataframe\">\n",
       "  <thead>\n",
       "    <tr style=\"text-align: right;\">\n",
       "      <th></th>\n",
       "      <th>num_churns</th>\n",
       "      <th>count</th>\n",
       "      <th>percent churn</th>\n",
       "    </tr>\n",
       "    <tr>\n",
       "      <th>level</th>\n",
       "      <th></th>\n",
       "      <th></th>\n",
       "      <th></th>\n",
       "    </tr>\n",
       "  </thead>\n",
       "  <tbody>\n",
       "    <tr>\n",
       "      <th>free</th>\n",
       "      <td>21</td>\n",
       "      <td>195</td>\n",
       "      <td>10.769231</td>\n",
       "    </tr>\n",
       "    <tr>\n",
       "      <th>paid</th>\n",
       "      <td>31</td>\n",
       "      <td>165</td>\n",
       "      <td>18.787879</td>\n",
       "    </tr>\n",
       "  </tbody>\n",
       "</table>\n",
       "</div>"
      ],
      "text/plain": [
       "       num_churns  count  percent churn\n",
       "level                                  \n",
       "free           21    195      10.769231\n",
       "paid           31    165      18.787879"
      ]
     },
     "execution_count": 44,
     "metadata": {},
     "output_type": "execute_result"
    }
   ],
   "source": [
    "df_level = df_valid.groupby('level').sum('churn_event').toPandas()\n",
    "df_level['count'] = [num_free, num_paid]\n",
    "df_level['percent churn'] = df_level['sum(churn_event)'] / \\\n",
    "    df_level['count'] * 100\n",
    "df_level.columns = ['level', 'num_churns', 'count', 'percent churn']\n",
    "df_level.set_index('level')"
   ]
  },
  {
   "cell_type": "code",
   "execution_count": 45,
   "metadata": {},
   "outputs": [
    {
     "data": {
      "image/png": "[encoded data removed]",
      "text/plain": [
       "<Figure size 432x288 with 1 Axes>"
      ]
     },
     "metadata": {
      "needs_background": "light"
     },
     "output_type": "display_data"
    }
   ],
   "source": [
    "ax = df_level.plot.bar(x='level', y='percent churn', legend=False)\n",
    "ax.grid(axis='y')\n",
    "ax.set_ylabel('Percent churn', fontsize=12)\n",
    "ax.set_xlabel('')\n",
    "plt.xticks(rotation=0);"
   ]
  },
  {
   "cell_type": "markdown",
   "metadata": {},
   "source": [
    "### Location"
   ]
  },
  {
   "cell_type": "code",
   "execution_count": 46,
   "metadata": {},
   "outputs": [
    {
     "name": "stdout",
     "output_type": "stream",
     "text": [
      "+------------------------------+\n",
      "|location                      |\n",
      "+------------------------------+\n",
      "|Bakersfield, CA               |\n",
      "|Boston-Cambridge-Newton, MA-NH|\n",
      "|Bakersfield, CA               |\n",
      "|Boston-Cambridge-Newton, MA-NH|\n",
      "|Bakersfield, CA               |\n",
      "|Boston-Cambridge-Newton, MA-NH|\n",
      "|Boston-Cambridge-Newton, MA-NH|\n",
      "|Bakersfield, CA               |\n",
      "|Bakersfield, CA               |\n",
      "|Bakersfield, CA               |\n",
      "+------------------------------+\n",
      "only showing top 10 rows\n",
      "\n"
     ]
    }
   ],
   "source": [
    "df_valid.select(\"location\").show(10, False)"
   ]
  },
  {
   "cell_type": "code",
   "execution_count": 47,
   "metadata": {},
   "outputs": [],
   "source": [
    "get_state = F.udf(lambda x: x[-2:])"
   ]
  },
  {
   "cell_type": "code",
   "execution_count": 48,
   "metadata": {},
   "outputs": [],
   "source": [
    "# create state column\n",
    "df_valid = df_valid.withColumn(\"state\", get_state(df_valid['location']))"
   ]
  },
  {
   "cell_type": "code",
   "execution_count": 49,
   "metadata": {},
   "outputs": [],
   "source": [
    "df_state_counts = df_valid.select(\n",
    "    'userId', 'state').dropDuplicates().groupby('state').count().toPandas()"
   ]
  },
  {
   "cell_type": "code",
   "execution_count": 50,
   "metadata": {},
   "outputs": [
    {
     "data": {
      "image/png": "[encoded data removed]",
      "text/plain": [
       "<Figure size 864x432 with 1 Axes>"
      ]
     },
     "metadata": {
      "needs_background": "light"
     },
     "output_type": "display_data"
    }
   ],
   "source": [
    "ax = df_state_counts.plot.bar(x='state', y='count',\n",
    "                              figsize=(12, 6))\n",
    "ax.set_ylabel('number of distinct users', fontsize=12);"
   ]
  },
  {
   "cell_type": "code",
   "execution_count": 51,
   "metadata": {},
   "outputs": [],
   "source": [
    "df_state_churns = df_valid.groupby('state').sum('churn_event').toPandas()\n",
    "df_state_churns.columns = ['state', 'num_churns']"
   ]
  },
  {
   "cell_type": "code",
   "execution_count": 52,
   "metadata": {},
   "outputs": [
    {
     "data": {
      "image/png": "[encoded data removed]",
      "text/plain": [
       "<Figure size 864x432 with 1 Axes>"
      ]
     },
     "metadata": {
      "needs_background": "light"
     },
     "output_type": "display_data"
    }
   ],
   "source": [
    "ax = df_state_churns.plot.bar(x='state', y='num_churns', figsize=(12, 6))\n",
    "ax.set_ylabel('State churn count', fontsize=12);"
   ]
  },
  {
   "cell_type": "code",
   "execution_count": 53,
   "metadata": {},
   "outputs": [],
   "source": [
    "df_state_churns['percent churn'] = df_state_churns['num_churns'] / \\\n",
    "    df_state_counts['count'] * 100"
   ]
  },
  {
   "cell_type": "code",
   "execution_count": 54,
   "metadata": {},
   "outputs": [
    {
     "data": {
      "image/png": "[encoded data removed]",
      "text/plain": [
       "<Figure size 864x432 with 1 Axes>"
      ]
     },
     "metadata": {
      "needs_background": "light"
     },
     "output_type": "display_data"
    }
   ],
   "source": [
    "df_state_churns.plot.bar(x='state', y='percent churn', figsize=(12, 6));"
   ]
  },
  {
   "cell_type": "markdown",
   "metadata": {},
   "source": [
    "### Registration"
   ]
  },
  {
   "cell_type": "code",
   "execution_count": 55,
   "metadata": {},
   "outputs": [],
   "source": [
    "# create datetime columns for registration and timestamp\n",
    "df_valid = df_valid.withColumn(\n",
    "    'registration_dt', (F.col('registration')/1000).cast(T.TimestampType()))\n",
    "df_valid = df_valid.withColumn(\n",
    "    'dt', (F.col('ts')/1000).cast(T.TimestampType()))"
   ]
  },
  {
   "cell_type": "code",
   "execution_count": 56,
   "metadata": {},
   "outputs": [
    {
     "name": "stdout",
     "output_type": "stream",
     "text": [
      "registration start date: 2018-03-18 08:44:35\n",
      "registration end date: 2018-11-26 09:49:14\n"
     ]
    }
   ],
   "source": [
    "# find earliest and latest registration dates\n",
    "start_reg_date = df_valid.agg({'registration_dt': 'min'}).collect()\n",
    "end_reg_date = df_valid.agg({'registration_dt': 'max'}).collect()\n",
    "print('registration start date:', str(start_reg_date[0][0]))\n",
    "print('registration end date:', str(end_reg_date[0][0]))"
   ]
  },
  {
   "cell_type": "code",
   "execution_count": 57,
   "metadata": {},
   "outputs": [
    {
     "name": "stdout",
     "output_type": "stream",
     "text": [
      "start date: 2018-09-30 19:01:57\n",
      "end date: 2018-12-02 19:11:16\n"
     ]
    }
   ],
   "source": [
    "# find earliest and latest dates (from timestamp)\n",
    "start_date = df_valid.agg({'dt': 'min'}).collect()\n",
    "end_date = df_valid.agg({'dt': 'max'}).collect()\n",
    "print('start date:', str(start_date[0][0]))\n",
    "print('end date:', str(end_date[0][0]))"
   ]
  },
  {
   "cell_type": "code",
   "execution_count": 58,
   "metadata": {},
   "outputs": [],
   "source": [
    "# number of days since registration\n",
    "df_valid = df_valid.withColumn(\n",
    "    \"days_since_reg\", F.max(F.datediff('dt', 'registration_dt')).over(Window.partitionBy('userId')))"
   ]
  },
  {
   "cell_type": "code",
   "execution_count": 59,
   "metadata": {},
   "outputs": [
    {
     "name": "stdout",
     "output_type": "stream",
     "text": [
      "+-------+-----------------+\n",
      "|summary|   days_since_reg|\n",
      "+-------+-----------------+\n",
      "|  count|           278154|\n",
      "|   mean|88.91284684023958|\n",
      "| stddev| 40.4933547852528|\n",
      "|    min|                0|\n",
      "|    max|              256|\n",
      "+-------+-----------------+\n",
      "\n"
     ]
    }
   ],
   "source": [
    "df_valid.select('days_since_reg').describe().show()"
   ]
  },
  {
   "cell_type": "code",
   "execution_count": 60,
   "metadata": {},
   "outputs": [
    {
     "data": {
      "text/plain": [
       "array([[<matplotlib.axes._subplots.AxesSubplot object at 0x7fca37160410>]],\n",
       "      dtype=object)"
      ]
     },
     "execution_count": 60,
     "metadata": {},
     "output_type": "execute_result"
    },
    {
     "data": {
      "image/png": "[encoded data removed]",
      "text/plain": [
       "<Figure size 432x288 with 1 Axes>"
      ]
     },
     "metadata": {
      "needs_background": "light"
     },
     "output_type": "display_data"
    }
   ],
   "source": [
    "df_valid.select('days_since_reg').toPandas().hist(bins=25)"
   ]
  },
  {
   "cell_type": "code",
   "execution_count": 61,
   "metadata": {},
   "outputs": [],
   "source": [
    "df_days_stayed = df_valid.filter(\n",
    "    df_valid['churn_user'] == 0).select('days_since_reg').toPandas()\n",
    "df_days_churn = df_valid.filter(\n",
    "    df_valid['churn_user'] == 1).select('days_since_reg').toPandas()"
   ]
  },
  {
   "cell_type": "code",
   "execution_count": 62,
   "metadata": {},
   "outputs": [
    {
     "data": {
      "text/plain": [
       "<matplotlib.axes._subplots.AxesSubplot at 0x7fca36e41390>"
      ]
     },
     "execution_count": 62,
     "metadata": {},
     "output_type": "execute_result"
    },
    {
     "data": {
      "image/png": "[encoded data removed]",
      "text/plain": [
       "<Figure size 432x288 with 1 Axes>"
      ]
     },
     "metadata": {
      "needs_background": "light"
     },
     "output_type": "display_data"
    }
   ],
   "source": [
    "pd.concat([df_days_stayed, df_days_churn], axis=1, ignore_index=True).boxplot()"
   ]
  },
  {
   "cell_type": "code",
   "execution_count": 63,
   "metadata": {},
   "outputs": [
    {
     "name": "stdout",
     "output_type": "stream",
     "text": [
      "+----------+-------------------+\n",
      "|churn_user|avg(days_since_reg)|\n",
      "+----------+-------------------+\n",
      "|         1|  67.66108684022825|\n",
      "|         0|  92.99977281495134|\n",
      "+----------+-------------------+\n",
      "\n"
     ]
    }
   ],
   "source": [
    "df_valid.groupby('churn_user').mean('days_since_reg').show()"
   ]
  },
  {
   "cell_type": "markdown",
   "metadata": {},
   "source": [
    "### Weekly churn events"
   ]
  },
  {
   "cell_type": "code",
   "execution_count": 64,
   "metadata": {},
   "outputs": [],
   "source": [
    "def resample(column, agg_interval=900, time_format='yyyy-MM-dd HH:mm:ss'):\n",
    "    if type(column)==str:\n",
    "        column = F.col(column)\n",
    "\n",
    "    # Convert the timestamp to unix timestamp format.\n",
    "    # Unix timestamp = number of seconds since 00:00:00 UTC, 1 January 1970.\n",
    "    col_ut =  F.unix_timestamp(column, format=time_format)\n",
    "\n",
    "    # Divide the time into dicrete intervals, by rounding. \n",
    "    col_ut_agg =  F.floor(col_ut / agg_interval) * agg_interval  \n",
    "\n",
    "    # Convert to and return a human readable timestamp\n",
    "    return F.from_unixtime(col_ut_agg)"
   ]
  },
  {
   "cell_type": "code",
   "execution_count": 65,
   "metadata": {},
   "outputs": [
    {
     "name": "stdout",
     "output_type": "stream",
     "text": [
      "+-------------------+-------------------+-----------+\n",
      "|                 dt|       dt_resampled|churn_event|\n",
      "+-------------------+-------------------+-----------+\n",
      "|2018-09-30 19:01:57|2018-09-26 19:00:00|          0|\n",
      "|2018-09-30 19:03:00|2018-09-26 19:00:00|          0|\n",
      "|2018-09-30 19:06:34|2018-09-26 19:00:00|          0|\n",
      "|2018-09-30 19:06:56|2018-09-26 19:00:00|          0|\n",
      "|2018-09-30 19:11:16|2018-09-26 19:00:00|          0|\n",
      "+-------------------+-------------------+-----------+\n",
      "only showing top 5 rows\n",
      "\n"
     ]
    }
   ],
   "source": [
    "# resampled for weekly intervals\n",
    "df_valid = df_valid.withColumn('dt_resampled', resample(df_valid.dt, agg_interval=604800))\n",
    "df_valid.select('dt', 'dt_resampled', 'churn_event').show(5)"
   ]
  },
  {
   "cell_type": "code",
   "execution_count": 66,
   "metadata": {},
   "outputs": [
    {
     "data": {
      "image/png": "[encoded data removed]",
      "text/plain": [
       "<Figure size 864x432 with 1 Axes>"
      ]
     },
     "metadata": {
      "needs_background": "light"
     },
     "output_type": "display_data"
    }
   ],
   "source": [
    "ax = df_valid.groupBy('dt_resampled').sum('churn_event').toPandas().plot.bar(figsize=(12,6))\n",
    "ax.set_xlabel('Week', fontsize=12)\n",
    "ax.set_ylabel('Count', fontsize=12)\n",
    "ax.set_title('Weekly churn events');"
   ]
  },
  {
   "cell_type": "markdown",
   "metadata": {},
   "source": [
    "### Song"
   ]
  },
  {
   "cell_type": "code",
   "execution_count": 67,
   "metadata": {},
   "outputs": [],
   "source": [
    "# time window to find number of songs played in a day\n",
    "def days(x): return x * 86400\n",
    "\n",
    "\n",
    "windowval = (\n",
    "    Window.partitionBy(\"userId\")\n",
    "    .orderBy(F.col(\"ts\")/1000)\n",
    "    .rangeBetween(-days(1), 0)\n",
    ")"
   ]
  },
  {
   "cell_type": "code",
   "execution_count": 68,
   "metadata": {},
   "outputs": [],
   "source": [
    "# number of songs played in a day\n",
    "df_valid = df_valid.withColumn(\"num_songs\", F.count(\"song\").over(windowval))"
   ]
  },
  {
   "cell_type": "code",
   "execution_count": 69,
   "metadata": {},
   "outputs": [
    {
     "name": "stdout",
     "output_type": "stream",
     "text": [
      "+------+-------------------+--------------------+---------+-----------+----------+\n",
      "|userId|                 dt|                song|num_songs|churn_event|churn_user|\n",
      "+------+-------------------+--------------------+---------+-----------+----------+\n",
      "|    32|2018-10-03 10:01:37|Beyond The Beyond...|        1|          0|         1|\n",
      "|    32|2018-10-03 10:05:34|       Paradise City|        2|          0|         1|\n",
      "|    32|2018-10-03 10:12:20|           Alejandro|        3|          0|         1|\n",
      "|    32|2018-10-03 10:12:45|                null|        3|          0|         1|\n",
      "|    32|2018-10-03 10:16:54|        Luv U Better|        4|          0|         1|\n",
      "|    32|2018-10-03 10:16:55|                null|        4|          0|         1|\n",
      "|    32|2018-10-03 10:20:56|My Life Would Suc...|        5|          0|         1|\n",
      "|    32|2018-10-03 10:21:08|                null|        5|          0|         1|\n",
      "|    32|2018-10-03 10:24:27|Jamaica Roots II(...|        6|          0|         1|\n",
      "|    32|2018-10-03 10:27:57|                Dusk|        7|          0|         1|\n",
      "|    32|2018-10-03 10:38:49|           September|        8|          0|         1|\n",
      "|    32|2018-10-03 10:42:49|Slicker Than Your...|        9|          0|         1|\n",
      "|    32|2018-10-03 10:48:46|         Mellow Mood|       10|          0|         1|\n",
      "|    32|2018-10-03 10:52:04| Dangerously In Love|       11|          0|         1|\n",
      "|    32|2018-10-03 10:56:57|             Fix You|       12|          0|         1|\n",
      "|    32|2018-10-03 11:01:51|              Morder|       13|          0|         1|\n",
      "|    32|2018-10-03 11:02:21|                null|       13|          0|         1|\n",
      "|    32|2018-10-03 11:02:22|                null|       13|          0|         1|\n",
      "|    32|2018-10-03 11:06:03|                null|       13|          0|         1|\n",
      "|    32|2018-10-03 11:06:28|If I Knew Then (W...|       14|          0|         1|\n",
      "|    32|2018-10-03 11:09:19|   Goodbye Hollywood|       15|          0|         1|\n",
      "|    32|2018-10-03 11:13:31|      Come Back Home|       16|          0|         1|\n",
      "|    32|2018-10-03 11:14:00|                null|       16|          0|         1|\n",
      "|    32|2018-10-03 11:16:53|Parallel Universe...|       17|          0|         1|\n",
      "|    32|2018-10-03 11:21:22|         After Party|       18|          0|         1|\n",
      "|    32|2018-10-03 11:21:54|                null|       18|          0|         1|\n",
      "|    32|2018-10-03 11:24:56|         Un poco mas|       19|          0|         1|\n",
      "|    32|2018-10-03 11:28:22|  Who Gave The Order|       20|          0|         1|\n",
      "|    32|2018-10-03 11:32:45|     I Gotta Feeling|       21|          0|         1|\n",
      "|    32|2018-10-03 11:37:34|  Sure Thing Falling|       22|          0|         1|\n",
      "|    32|2018-10-03 11:41:16|Ganas De Ti (Albu...|       23|          0|         1|\n",
      "|    32|2018-10-03 11:41:17|                null|       23|          0|         1|\n",
      "|    32|2018-10-03 11:45:00|       The Safe Side|       24|          0|         1|\n",
      "|    32|2018-10-03 11:49:47|      Hillbilly Rock|       25|          0|         1|\n",
      "|    32|2018-10-06 10:37:57| Unicorn Vs. Gravity|        1|          0|         1|\n",
      "|    32|2018-10-06 10:38:15|                null|        1|          0|         1|\n",
      "|    32|2018-10-06 10:40:13|      Fields of Gold|        2|          0|         1|\n",
      "|    32|2018-10-06 10:46:32|The Once Lost Ret...|        3|          0|         1|\n",
      "|    32|2018-10-06 10:49:29|Beautiful_ Dirty_...|        4|          0|         1|\n",
      "|    32|2018-10-06 10:52:21|        Without Fear|        5|          0|         1|\n",
      "|    32|2018-10-06 10:57:11|       Fisher Of Men|        6|          0|         1|\n",
      "|    32|2018-10-06 10:57:12|                null|        6|          0|         1|\n",
      "|    32|2018-10-06 11:00:23|I Don't Want To H...|        7|          0|         1|\n",
      "|    32|2018-10-06 11:04:44|         Rising Moon|        8|          0|         1|\n",
      "|    32|2018-10-06 11:07:55|        Capable Girl|        9|          0|         1|\n",
      "|    32|2018-10-06 11:11:25|Am I High (Feat. ...|       10|          0|         1|\n",
      "|    32|2018-10-06 11:16:13|         Mockingbird|       11|          0|         1|\n",
      "|    32|2018-10-06 11:20:23|               Yeah!|       12|          0|         1|\n",
      "|    32|2018-10-06 11:20:24|                null|       12|          0|         1|\n",
      "|    32|2018-10-06 11:24:33| Who Knows Who Cares|       13|          0|         1|\n",
      "|    32|2018-10-06 11:24:34|                null|       13|          0|         1|\n",
      "|    32|2018-10-08 13:19:00|Road Trippin' (Al...|        1|          0|         1|\n",
      "|    32|2018-10-08 13:22:24|             Far Far|        2|          0|         1|\n",
      "|    32|2018-10-08 13:26:44|Nothing Left (Alb...|        3|          0|         1|\n",
      "|    32|2018-10-08 13:30:48|For Once In My Li...|        4|          0|         1|\n",
      "|    32|2018-10-08 13:31:16|                null|        4|          0|         1|\n",
      "|    32|2018-10-08 13:33:21|            Tive Sim|        5|          0|         1|\n",
      "|    32|2018-10-08 13:35:28|        EMCEE Murdah|        6|          0|         1|\n",
      "|    32|2018-10-08 13:38:59|Space (I Believe In)|        7|          0|         1|\n",
      "|    32|2018-10-08 13:43:17|      Southern State|        8|          0|         1|\n",
      "|    32|2018-10-08 13:47:57|     Rock The Casbah|        9|          0|         1|\n",
      "|    32|2018-10-08 13:50:05|                null|        9|          0|         1|\n",
      "|    32|2018-10-08 13:50:06|                null|        9|          0|         1|\n",
      "|    32|2018-10-08 13:52:35|                null|        9|          0|         1|\n",
      "|    32|2018-10-08 13:52:37|         Greece 2000|       10|          0|         1|\n",
      "|    32|2018-10-08 13:59:28|    Hey_ Soul Sister|       11|          0|         1|\n",
      "|    32|2018-10-08 14:03:04|My Ropin' Days Ar...|       12|          0|         1|\n",
      "|    32|2018-10-08 14:06:27|      Russia Privjet|       13|          0|         1|\n",
      "|    32|2018-10-08 14:10:34|   Pop Into My Heart|       14|          0|         1|\n",
      "|    32|2018-10-08 14:13:53|Werewolf Women Of...|       15|          0|         1|\n",
      "|    32|2018-10-08 14:16:54|  Heartbreak Warfare|       16|          0|         1|\n",
      "|    32|2018-10-08 14:21:23|            Big Idea|       17|          0|         1|\n",
      "|    32|2018-10-08 14:24:48|Here (In Your Arm...|       18|          0|         1|\n",
      "|    32|2018-10-08 14:28:26|Moar Ghosts 'n' S...|       19|          0|         1|\n",
      "|    32|2018-10-08 14:33:22|        The Best Day|       20|          0|         1|\n",
      "|    32|2018-10-08 14:37:28|Orange TrÃÂ¤gt N...|       21|          0|         1|\n",
      "|    32|2018-10-08 14:40:52|Clint Eastwood (E...|       22|          0|         1|\n",
      "|    32|2018-10-08 14:46:49|             O Raaje|       23|          0|         1|\n",
      "|    32|2018-10-08 14:52:31|        It's My Life|       24|          0|         1|\n",
      "|    32|2018-10-08 14:52:32|                null|       24|          0|         1|\n",
      "|    32|2018-10-08 14:56:15|                Mojo|       25|          0|         1|\n",
      "|    32|2018-10-08 14:59:54|Baby Let Me Take ...|       26|          0|         1|\n",
      "|    32|2018-10-08 15:02:15|           Balaclava|       27|          0|         1|\n",
      "|    32|2018-10-08 15:02:16|                null|       27|          0|         1|\n",
      "|    32|2018-10-08 15:05:06|  Prelude To A Dream|       28|          0|         1|\n",
      "|    32|2018-10-08 15:07:46|                null|       28|          0|         1|\n",
      "|    32|2018-10-08 15:08:35|Sympathy For The ...|       29|          0|         1|\n",
      "|    32|2018-10-08 15:16:10|Jerk It Out (Orig...|       30|          0|         1|\n",
      "|    32|2018-10-08 15:19:25|           All Alone|       31|          0|         1|\n",
      "|    32|2018-10-08 15:19:26|                null|       31|          0|         1|\n",
      "|    32|2018-10-08 15:22:19|                null|       31|          0|         1|\n",
      "|    32|2018-10-08 15:22:54|           Sandstorm|       32|          0|         1|\n",
      "|    32|2018-10-08 15:25:02|                null|       32|          0|         1|\n",
      "|    32|2018-10-08 15:29:35|                null|       32|          0|         1|\n",
      "|    32|2018-10-08 15:30:23| Long Arm Of The Law|       33|          0|         1|\n",
      "|    32|2018-10-08 15:35:42|        Wishing Well|       34|          0|         1|\n",
      "|    32|2018-10-08 15:39:12|                null|       34|          0|         1|\n",
      "|    32|2018-10-08 15:39:39|It's Just Like Su...|       35|          0|         1|\n",
      "|    32|2018-10-08 15:43:46|  Sentimental Street|       36|          0|         1|\n",
      "|    32|2018-10-08 15:47:41|      Come on Closer|       37|          0|         1|\n",
      "|    32|2018-10-08 15:51:27|                Undo|       38|          0|         1|\n",
      "|    32|2018-10-08 15:57:15|Electric Fever (I...|       39|          0|         1|\n",
      "|    32|2018-10-08 16:03:28|              Rianna|       40|          0|         1|\n",
      "|    32|2018-10-08 16:05:41|I'd Rather Fuck Y...|       41|          0|         1|\n",
      "|    32|2018-10-08 16:09:38|   Anchor Of My Soul|       42|          0|         1|\n",
      "|    32|2018-10-08 16:10:30|                null|       42|          0|         1|\n",
      "|    32|2018-10-08 16:10:31|                null|       42|          0|         1|\n",
      "|    32|2018-10-08 16:10:46|                null|       42|          1|         1|\n",
      "+------+-------------------+--------------------+---------+-----------+----------+\n",
      "\n"
     ]
    }
   ],
   "source": [
    "# check\n",
    "df_valid.select('userId', 'dt', 'song', 'num_songs', 'churn_event',\n",
    "                'churn_user').where(df_valid['userId'] == 32).show(200)"
   ]
  },
  {
   "cell_type": "code",
   "execution_count": 70,
   "metadata": {},
   "outputs": [],
   "source": [
    "def make_boxplot(col_name):\n",
    "    df_stayed = df_valid.filter(\n",
    "        df_valid['churn_user'] == 0).select(col_name).toPandas()\n",
    "    df_churn = df_valid.filter(\n",
    "        df_valid['churn_user'] == 1).select(col_name).toPandas()\n",
    "    df = pd.concat([df_stayed, df_churn], axis=1, ignore_index=True)\n",
    "    df.columns = ['stayed', 'churn']\n",
    "    statistics = df.describe().transpose()\n",
    "    ax = df.boxplot()\n",
    "    ax.set_title(col_name + ' per day', fontsize=12)\n",
    "    ax.set_ylabel('Count', fontsize=12)\n",
    "    return statistics, ax"
   ]
  },
  {
   "cell_type": "code",
   "execution_count": 71,
   "metadata": {},
   "outputs": [
    {
     "data": {
      "text/plain": [
       "(           count        mean        std  min   25%   50%    75%    max\n",
       " stayed  233290.0  111.262995  94.196390  0.0  34.0  85.0  165.0  364.0\n",
       " churn    44864.0  106.231232  92.774793  0.0  31.0  78.0  157.0  372.0,\n",
       " <matplotlib.axes._subplots.AxesSubplot at 0x7fca36ee4790>)"
      ]
     },
     "execution_count": 71,
     "metadata": {},
     "output_type": "execute_result"
    },
    {
     "data": {
      "image/png": "[encoded data removed]",
      "text/plain": [
       "<Figure size 432x288 with 1 Axes>"
      ]
     },
     "metadata": {
      "needs_background": "light"
     },
     "output_type": "display_data"
    }
   ],
   "source": [
    "make_boxplot('num_songs')"
   ]
  },
  {
   "cell_type": "markdown",
   "metadata": {},
   "source": [
    "### Length"
   ]
  },
  {
   "cell_type": "code",
   "execution_count": 72,
   "metadata": {},
   "outputs": [],
   "source": [
    "# length of songs played in a day\n",
    "df_valid = df_valid.withColumn(\"lengths\", F.sum(\"length\").over(windowval))"
   ]
  },
  {
   "cell_type": "code",
   "execution_count": 73,
   "metadata": {},
   "outputs": [
    {
     "data": {
      "text/plain": [
       "(           count          mean           std  min         25%           50%  \\\n",
       " stayed  233290.0  27769.156575  23517.139561  0.0  8529.77579  21190.439805   \n",
       " churn    44864.0  26370.493882  23030.127657  0.0  7774.64697  19224.560040   \n",
       " \n",
       "                  75%          max  \n",
       " stayed  41108.013370  88642.76284  \n",
       " churn   38993.637223  89040.98619  ,\n",
       " <matplotlib.axes._subplots.AxesSubplot at 0x7fca36e51210>)"
      ]
     },
     "execution_count": 73,
     "metadata": {},
     "output_type": "execute_result"
    },
    {
     "data": {
      "image/png": "[encoded data removed]",
      "text/plain": [
       "<Figure size 432x288 with 1 Axes>"
      ]
     },
     "metadata": {
      "needs_background": "light"
     },
     "output_type": "display_data"
    }
   ],
   "source": [
    "make_boxplot('lengths')"
   ]
  },
  {
   "cell_type": "code",
   "execution_count": 74,
   "metadata": {},
   "outputs": [
    {
     "name": "stdout",
     "output_type": "stream",
     "text": [
      "+------+-------------------+--------------------+---------+------------------+---------+\n",
      "|userId|                 dt|                song|num_songs|           lengths|sessionId|\n",
      "+------+-------------------+--------------------+---------+------------------+---------+\n",
      "|    33|2018-10-01 07:46:24|      Shut Your Eyes|        1|         197.09342|      221|\n",
      "|    33|2018-10-01 07:49:41|Plumber In Progre...|        2|         697.10276|      221|\n",
      "|    33|2018-10-01 07:49:42|                null|        2|         697.10276|      221|\n",
      "|    33|2018-10-01 07:49:45|                null|        2|         697.10276|      221|\n",
      "|    33|2018-10-01 07:58:01|Chill Out (Things...|        3|         984.24027|      221|\n",
      "|    33|2018-10-01 08:02:48|              On Top|        4|        1243.13941|      221|\n",
      "|    33|2018-10-01 08:07:06|Suffragette City ...|        5|        1450.02875|      221|\n",
      "|    33|2018-10-01 08:10:32|           Fireflies|        6|        1675.20381|      221|\n",
      "|    33|2018-10-01 08:14:17|           The Birds|        7|        2073.70132|      221|\n",
      "|    33|2018-10-01 08:20:55| Valley Of Dry Bones|        8|        2267.81678|      221|\n",
      "|    33|2018-10-01 08:24:09|Sugar Ray (LP Ver...|        9|        2394.64082|      221|\n",
      "|    33|2018-10-01 08:24:10|                null|        9|        2394.64082|      221|\n",
      "|    33|2018-10-01 08:24:11|                null|        9|        2394.64082|      221|\n",
      "|    33|2018-10-10 06:36:38|                null|        0|               0.0|      281|\n",
      "|    33|2018-10-10 06:36:40|         Mockingbird|        1|          250.8273|      281|\n",
      "|    33|2018-10-10 06:40:50|         Set Me Free|        2|         466.12807|      281|\n",
      "|    33|2018-10-10 06:44:25|               Drive|        3|         698.59129|      281|\n",
      "|    33|2018-10-10 06:44:39|                null|        3|         698.59129|      281|\n",
      "|    33|2018-10-10 06:48:17|   Seven Nation Army|        4|         931.21124|      281|\n",
      "|    33|2018-10-10 06:48:18|                null|        4|         931.21124|      281|\n",
      "|    33|2018-10-10 06:52:09|                Oops|        5|        1111.61242|      281|\n",
      "|    33|2018-10-10 06:55:09|Demonology And He...|        6|        1336.86584|      281|\n",
      "|    33|2018-10-10 06:58:54|               Mamma|        7|        1588.29396|      281|\n",
      "|    33|2018-10-10 07:03:05|Incomplete And In...|        8|        1744.27065|      281|\n",
      "|    33|2018-10-10 07:05:40|Chewing Gum (Voca...|        9|        1953.17142|      281|\n",
      "|    33|2018-10-10 07:05:41|                null|        9|        1953.17142|      281|\n",
      "|    33|2018-10-10 07:09:08|             We Move|       10|2178.6599499999998|      281|\n",
      "|    33|2018-10-10 07:09:09|                null|       10|2178.6599499999998|      281|\n",
      "|    33|2018-10-10 07:12:53| It's Just A Thought|       11|2409.6080699999998|      281|\n",
      "|    33|2018-10-10 07:16:43|                Neon|       12|2765.3431299999997|      281|\n",
      "|    33|2018-10-10 07:22:38|The Black Rainbow...|       13|         3219.5337|      281|\n",
      "|    33|2018-10-10 07:22:39|                null|       13|         3219.5337|      281|\n",
      "|    33|2018-10-10 07:30:12|            Little L|       14|        3456.35937|      281|\n",
      "|    33|2018-10-10 07:34:08|           Fireflies|       15|        3681.53443|      281|\n",
      "|    33|2018-10-10 07:37:53|   It's My Own Fault|       16|        4395.90459|      281|\n",
      "|    33|2018-10-10 07:49:47|     The New Chapter|       17|        4661.15148|      281|\n",
      "|    33|2018-10-10 07:49:48|                null|       17|        4661.15148|      281|\n",
      "|    33|2018-10-10 07:49:54|                null|       17|        4661.15148|      281|\n",
      "|    33|2018-10-10 07:54:12|               Gears|       18|4901.0596000000005|      281|\n",
      "|    33|2018-10-10 07:58:11|             Control|       19| 5131.093430000001|      281|\n",
      "+------+-------------------+--------------------+---------+------------------+---------+\n",
      "only showing top 40 rows\n",
      "\n"
     ]
    }
   ],
   "source": [
    "# check song counts\n",
    "df_valid.select([\"userId\", 'dt', 'song', 'num_songs', 'lengths',\n",
    "                 'sessionId']).where(df_valid.userId == \"33\").show(40)"
   ]
  },
  {
   "cell_type": "markdown",
   "metadata": {},
   "source": [
    "### Sessions"
   ]
  },
  {
   "cell_type": "code",
   "execution_count": 75,
   "metadata": {},
   "outputs": [],
   "source": [
    "# number of sessions in a day\n",
    "df_valid = df_valid.withColumn(\n",
    "    \"num_sessions\", F.count(\"sessionId\").over(windowval))"
   ]
  },
  {
   "cell_type": "code",
   "execution_count": 76,
   "metadata": {},
   "outputs": [
    {
     "data": {
      "text/plain": [
       "(           count        mean         std  min   25%    50%    75%    max\n",
       " stayed  233290.0  133.449441  111.058138  1.0  42.0  103.0  198.0  439.0\n",
       " churn    44864.0  128.028731  108.969669  1.0  39.0   96.0  190.0  436.0,\n",
       " <matplotlib.axes._subplots.AxesSubplot at 0x7fca36ea56d0>)"
      ]
     },
     "execution_count": 76,
     "metadata": {},
     "output_type": "execute_result"
    },
    {
     "data": {
      "image/png": "[encoded data removed]",
      "text/plain": [
       "<Figure size 432x288 with 1 Axes>"
      ]
     },
     "metadata": {
      "needs_background": "light"
     },
     "output_type": "display_data"
    }
   ],
   "source": [
    "make_boxplot('num_sessions')"
   ]
  },
  {
   "cell_type": "markdown",
   "metadata": {},
   "source": [
    "### Item in Session"
   ]
  },
  {
   "cell_type": "code",
   "execution_count": 77,
   "metadata": {},
   "outputs": [],
   "source": [
    "df_valid = df_valid.withColumn(\n",
    "    \"num_session_items\", F.sum(\"itemInSession\").over(windowval))"
   ]
  },
  {
   "cell_type": "code",
   "execution_count": 78,
   "metadata": {},
   "outputs": [
    {
     "data": {
      "text/plain": [
       "(           count          mean           std  min    25%     50%       75%  \\\n",
       " stayed  233290.0  17040.730769  33632.793155  0.0  831.0  4656.0  18059.75   \n",
       " churn    44864.0  15360.512527  28687.713300  0.0  732.0  3912.0  16138.00   \n",
       " \n",
       "              max  \n",
       " stayed  462892.0  \n",
       " churn   261652.0  ,\n",
       " <matplotlib.axes._subplots.AxesSubplot at 0x7fca36f0bad0>)"
      ]
     },
     "execution_count": 78,
     "metadata": {},
     "output_type": "execute_result"
    },
    {
     "data": {
      "image/png": "[encoded data removed]",
      "text/plain": [
       "<Figure size 432x288 with 1 Axes>"
      ]
     },
     "metadata": {
      "needs_background": "light"
     },
     "output_type": "display_data"
    }
   ],
   "source": [
    "make_boxplot('num_session_items')"
   ]
  },
  {
   "cell_type": "markdown",
   "metadata": {},
   "source": [
    "### Artist"
   ]
  },
  {
   "cell_type": "code",
   "execution_count": 79,
   "metadata": {},
   "outputs": [],
   "source": [
    "# number of distinct artists played in a day\n",
    "df_valid = df_valid.withColumn(\"num_artists\", F.size(\n",
    "    F.collect_set(\"artist\").over(windowval)))"
   ]
  },
  {
   "cell_type": "code",
   "execution_count": 80,
   "metadata": {},
   "outputs": [
    {
     "data": {
      "text/plain": [
       "(           count        mean        std  min   25%   50%    75%    max\n",
       " stayed  233290.0  103.620425  84.233414  0.0  34.0  82.0  155.0  331.0\n",
       " churn    44864.0   99.120185  83.465901  0.0  31.0  75.0  148.0  332.0,\n",
       " <matplotlib.axes._subplots.AxesSubplot at 0x7fca36a71fd0>)"
      ]
     },
     "execution_count": 80,
     "metadata": {},
     "output_type": "execute_result"
    },
    {
     "data": {
      "image/png": "[encoded data removed]",
      "text/plain": [
       "<Figure size 432x288 with 1 Axes>"
      ]
     },
     "metadata": {
      "needs_background": "light"
     },
     "output_type": "display_data"
    }
   ],
   "source": [
    "make_boxplot('num_artists')"
   ]
  },
  {
   "cell_type": "markdown",
   "metadata": {},
   "source": [
    "### Status"
   ]
  },
  {
   "cell_type": "code",
   "execution_count": 81,
   "metadata": {},
   "outputs": [
    {
     "name": "stdout",
     "output_type": "stream",
     "text": [
      "+------+------+\n",
      "|status| count|\n",
      "+------+------+\n",
      "|   307| 23184|\n",
      "|   404|   252|\n",
      "|   200|254718|\n",
      "+------+------+\n",
      "\n"
     ]
    }
   ],
   "source": [
    "df_valid.groupby('status').count().show()"
   ]
  },
  {
   "cell_type": "code",
   "execution_count": 82,
   "metadata": {},
   "outputs": [],
   "source": [
    "# number of distinct status in a day\n",
    "df_valid = df_valid.withColumn(\"num_status\", F.size(\n",
    "    F.collect_set(\"status\").over(windowval)))"
   ]
  },
  {
   "cell_type": "code",
   "execution_count": 83,
   "metadata": {},
   "outputs": [
    {
     "data": {
      "text/plain": [
       "(           count      mean       std  min  25%  50%  75%  max\n",
       " stayed  233290.0  2.028664  0.430031  1.0  2.0  2.0  2.0  3.0\n",
       " churn    44864.0  2.009451  0.407123  1.0  2.0  2.0  2.0  3.0,\n",
       " <matplotlib.axes._subplots.AxesSubplot at 0x7fca371b19d0>)"
      ]
     },
     "execution_count": 83,
     "metadata": {},
     "output_type": "execute_result"
    },
    {
     "data": {
      "image/png": "[encoded data removed]",
      "text/plain": [
       "<Figure size 432x288 with 1 Axes>"
      ]
     },
     "metadata": {
      "needs_background": "light"
     },
     "output_type": "display_data"
    }
   ],
   "source": [
    "make_boxplot('num_status')"
   ]
  },
  {
   "cell_type": "code",
   "execution_count": 84,
   "metadata": {},
   "outputs": [],
   "source": [
    "# flag the status 'redirect' and 'not found'\n",
    "flag_redirect = F.udf(lambda x: 1 if x == 307 else 0, T.IntegerType())\n",
    "flag_not_found = F.udf(lambda x: 1 if x == 404 else 0, T.IntegerType())"
   ]
  },
  {
   "cell_type": "code",
   "execution_count": 85,
   "metadata": {},
   "outputs": [],
   "source": [
    "# create redirect and page_not_found columns\n",
    "df_valid = df_valid.withColumn(\"redirect\", flag_redirect(df_valid['status']))\n",
    "df_valid = df_valid.withColumn(\n",
    "    \"page_not_found\", flag_not_found(df_valid['status']))"
   ]
  },
  {
   "cell_type": "code",
   "execution_count": 86,
   "metadata": {},
   "outputs": [
    {
     "name": "stdout",
     "output_type": "stream",
     "text": [
      "+----------------+\n",
      "|sum(churn_event)|\n",
      "+----------------+\n",
      "|               0|\n",
      "+----------------+\n",
      "\n"
     ]
    }
   ],
   "source": [
    "df_valid.filter(df_valid['status'] == '307').select(\n",
    "    F.sum(\"churn_event\")).show()"
   ]
  },
  {
   "cell_type": "code",
   "execution_count": 87,
   "metadata": {},
   "outputs": [
    {
     "name": "stdout",
     "output_type": "stream",
     "text": [
      "+----------------+\n",
      "|sum(churn_event)|\n",
      "+----------------+\n",
      "|              52|\n",
      "+----------------+\n",
      "\n"
     ]
    }
   ],
   "source": [
    "df_valid.filter(df_valid['status'] == '200').select(\n",
    "    F.sum(\"churn_event\")).show()"
   ]
  },
  {
   "cell_type": "markdown",
   "metadata": {},
   "source": [
    "### Page"
   ]
  },
  {
   "cell_type": "code",
   "execution_count": 88,
   "metadata": {},
   "outputs": [
    {
     "name": "stdout",
     "output_type": "stream",
     "text": [
      "+-------------------------+------+\n",
      "|page                     |count |\n",
      "+-------------------------+------+\n",
      "|Cancel                   |52    |\n",
      "|Submit Downgrade         |63    |\n",
      "|Thumbs Down              |2546  |\n",
      "|Home                     |10082 |\n",
      "|Downgrade                |2055  |\n",
      "|Roll Advert              |3933  |\n",
      "|Logout                   |3226  |\n",
      "|Save Settings            |310   |\n",
      "|Cancellation Confirmation|52    |\n",
      "|About                    |495   |\n",
      "|Settings                 |1514  |\n",
      "|Add to Playlist          |6526  |\n",
      "|Add Friend               |4277  |\n",
      "|NextSong                 |228108|\n",
      "|Thumbs Up                |12551 |\n",
      "|Help                     |1454  |\n",
      "|Upgrade                  |499   |\n",
      "|Error                    |252   |\n",
      "|Submit Upgrade           |159   |\n",
      "+-------------------------+------+\n",
      "\n"
     ]
    }
   ],
   "source": [
    "df_valid.groupby('page').count().show(22, False)"
   ]
  },
  {
   "cell_type": "code",
   "execution_count": 89,
   "metadata": {},
   "outputs": [],
   "source": [
    "# create aggregate features from the column 'page'\n",
    "\n",
    "pages = ['Thumbs Up', 'Home', 'Roll Advert',\n",
    "         'Logout', 'Add to Playlist', 'Add Friend']\n",
    "\n",
    "for page in pages:\n",
    "    flag_page = F.udf(lambda x: 1 if x == page else 0, T.IntegerType())\n",
    "    df_valid = df_valid.withColumn('flag', flag_page('page'))\n",
    "    df_valid = df_valid.withColumn(\n",
    "        'num_' + page, F.sum('flag').over(windowval)).drop('flag')"
   ]
  },
  {
   "cell_type": "code",
   "execution_count": 90,
   "metadata": {},
   "outputs": [
    {
     "data": {
      "text/plain": [
       "(           count      mean       std  min  25%  50%  75%   max\n",
       " stayed  233290.0  6.013112  5.820115  0.0  1.0  4.0  9.0  38.0\n",
       " churn    44864.0  5.338802  5.187177  0.0  1.0  4.0  8.0  30.0,\n",
       " <matplotlib.axes._subplots.AxesSubplot at 0x7fca3634f050>)"
      ]
     },
     "execution_count": 90,
     "metadata": {},
     "output_type": "execute_result"
    },
    {
     "data": {
      "image/png": "[encoded data removed]",
      "text/plain": [
       "<Figure size 432x288 with 1 Axes>"
      ]
     },
     "metadata": {
      "needs_background": "light"
     },
     "output_type": "display_data"
    }
   ],
   "source": [
    "make_boxplot('num_Thumbs Up')"
   ]
  },
  {
   "cell_type": "code",
   "execution_count": 91,
   "metadata": {},
   "outputs": [
    {
     "data": {
      "text/plain": [
       "(           count      mean       std  min  25%  50%  75%   max\n",
       " stayed  233290.0  4.506485  3.661779  0.0  2.0  4.0  7.0  22.0\n",
       " churn    44864.0  4.512750  3.883828  0.0  2.0  4.0  6.0  20.0,\n",
       " <matplotlib.axes._subplots.AxesSubplot at 0x7fca383d2290>)"
      ]
     },
     "execution_count": 91,
     "metadata": {},
     "output_type": "execute_result"
    },
    {
     "data": {
      "image/png": "[encoded data removed]",
      "text/plain": [
       "<Figure size 432x288 with 1 Axes>"
      ]
     },
     "metadata": {
      "needs_background": "light"
     },
     "output_type": "display_data"
    }
   ],
   "source": [
    "make_boxplot('num_Home')"
   ]
  },
  {
   "cell_type": "code",
   "execution_count": 92,
   "metadata": {},
   "outputs": [
    {
     "data": {
      "text/plain": [
       "(           count      mean       std  min  25%  50%  75%   max\n",
       " stayed  233290.0  0.956385  2.436229  0.0  0.0  0.0  1.0  38.0\n",
       " churn    44864.0  1.591789  3.476550  0.0  0.0  0.0  1.0  27.0,\n",
       " <matplotlib.axes._subplots.AxesSubplot at 0x7fca36c9b9d0>)"
      ]
     },
     "execution_count": 92,
     "metadata": {},
     "output_type": "execute_result"
    },
    {
     "data": {
      "image/png": "[encoded data removed]",
      "text/plain": [
       "<Figure size 432x288 with 1 Axes>"
      ]
     },
     "metadata": {
      "needs_background": "light"
     },
     "output_type": "display_data"
    }
   ],
   "source": [
    "make_boxplot('num_Roll Advert')"
   ]
  },
  {
   "cell_type": "code",
   "execution_count": 93,
   "metadata": {},
   "outputs": [
    {
     "data": {
      "text/plain": [
       "(           count      mean       std  min  25%  50%  75%   max\n",
       " stayed  233290.0  1.309340  1.527900  0.0  0.0  1.0  2.0  10.0\n",
       " churn    44864.0  1.351863  1.555943  0.0  0.0  1.0  2.0   9.0,\n",
       " <matplotlib.axes._subplots.AxesSubplot at 0x7fca37e4e750>)"
      ]
     },
     "execution_count": 93,
     "metadata": {},
     "output_type": "execute_result"
    },
    {
     "data": {
      "image/png": "[encoded data removed]",
      "text/plain": [
       "<Figure size 432x288 with 1 Axes>"
      ]
     },
     "metadata": {
      "needs_background": "light"
     },
     "output_type": "display_data"
    }
   ],
   "source": [
    "make_boxplot('num_Logout')"
   ]
  },
  {
   "cell_type": "code",
   "execution_count": 94,
   "metadata": {},
   "outputs": [
    {
     "data": {
      "text/plain": [
       "(           count      mean       std  min  25%  50%  75%   max\n",
       " stayed  233290.0  3.135557  3.176421  0.0  1.0  2.0  5.0  19.0\n",
       " churn    44864.0  3.046451  3.223029  0.0  1.0  2.0  4.0  17.0,\n",
       " <matplotlib.axes._subplots.AxesSubplot at 0x7fca3b3c9b10>)"
      ]
     },
     "execution_count": 94,
     "metadata": {},
     "output_type": "execute_result"
    },
    {
     "data": {
      "image/png": "[encoded data removed]",
      "text/plain": [
       "<Figure size 432x288 with 1 Axes>"
      ]
     },
     "metadata": {
      "needs_background": "light"
     },
     "output_type": "display_data"
    }
   ],
   "source": [
    "make_boxplot('num_Add to Playlist')"
   ]
  },
  {
   "cell_type": "code",
   "execution_count": 95,
   "metadata": {},
   "outputs": [
    {
     "data": {
      "text/plain": [
       "(           count      mean       std  min  25%  50%  75%   max\n",
       " stayed  233290.0  2.028672  2.535615  0.0  0.0  1.0  3.0  21.0\n",
       " churn    44864.0  1.692961  2.089752  0.0  0.0  1.0  3.0  11.0,\n",
       " <matplotlib.axes._subplots.AxesSubplot at 0x7fca3b3d3c90>)"
      ]
     },
     "execution_count": 95,
     "metadata": {},
     "output_type": "execute_result"
    },
    {
     "data": {
      "image/png": "[encoded data removed]",
      "text/plain": [
       "<Figure size 432x288 with 1 Axes>"
      ]
     },
     "metadata": {
      "needs_background": "light"
     },
     "output_type": "display_data"
    }
   ],
   "source": [
    "make_boxplot('num_Add Friend')"
   ]
  },
  {
   "cell_type": "markdown",
   "metadata": {},
   "source": [
    "# Feature Engineering\n",
    "Once you've familiarized yourself with the data, build out the features you find promising to train your model on. To work with the full dataset, you can follow the following steps.\n",
    "- Write a script to extract the necessary features from the smaller subset of data\n",
    "- Ensure that your script is scalable, using the best practices discussed in Lesson 3\n",
    "- Try your script on the full data set, debugging your script if necessary\n",
    "\n",
    "If you are working in the classroom workspace, you can just extract features based on the small subset of data contained here. Be sure to transfer over this work to the larger dataset when you work on your Spark cluster."
   ]
  },
  {
   "cell_type": "code",
   "execution_count": 96,
   "metadata": {},
   "outputs": [],
   "source": [
    "def clean_data(df):\n",
    "    \"Return valid data by dropping missing values and empty strings for userId and sessionId. \"\n",
    "    df_clean = df.dropna(how='any', subset=['userId', 'sessionId']).filter(\n",
    "        df['userId'] != '').na.fill(0, subset=['length'])\n",
    "\n",
    "    return df_clean"
   ]
  },
  {
   "cell_type": "code",
   "execution_count": 97,
   "metadata": {},
   "outputs": [],
   "source": [
    "def is_churn(df):\n",
    "    \"Return the dataframe with labels for churn users\"\n",
    "    flag_churn_event = F.udf(lambda x: 1 if (\n",
    "        x == 'Cancellation Confirmation') else 0, T.IntegerType())\n",
    "    df_new = df.withColumn(\n",
    "        'churn_event', flag_churn_event('page'))\n",
    "    df_new = df_new.withColumn('label', F.max(\n",
    "        'churn_event').over(Window.partitionBy('userId')))\n",
    "\n",
    "    return df_new"
   ]
  },
  {
   "cell_type": "code",
   "execution_count": 98,
   "metadata": {},
   "outputs": [],
   "source": [
    "def registration_days(df):\n",
    "    \"Return the number of days since registration\"\n",
    "\n",
    "    df_new = df.withColumn('registration date', (F.col(\n",
    "    'registration')/1000).cast(T.TimestampType()))\n",
    "\n",
    "    df_new = df_new.withColumn(\n",
    "    'date', (F.col('ts')/1000).cast(T.TimestampType()))\n",
    "\n",
    "    df_new = df_new.withColumn('days_since_registration', (F.datediff(\n",
    "    'date', 'registration date'))).drop('date', 'registration date')\n",
    "\n",
    "    return df_new"
   ]
  },
  {
   "cell_type": "code",
   "execution_count": 99,
   "metadata": {},
   "outputs": [],
   "source": [
    "# time window to find aggregate values per day\n",
    "def days(x):\n",
    "    \"Return seconds for the input x days.\"\n",
    "    return x * 86400"
   ]
  },
  {
   "cell_type": "code",
   "execution_count": 100,
   "metadata": {},
   "outputs": [],
   "source": [
    "windowval = (\n",
    "    Window.partitionBy('userId')\n",
    "    .orderBy(F.col('ts')/1000)\n",
    "    .rangeBetween(-days(1), 0)\n",
    ")"
   ]
  },
  {
   "cell_type": "code",
   "execution_count": 101,
   "metadata": {},
   "outputs": [],
   "source": [
    "def aggregate_features_1(df):\n",
    "    \"Return aggregate features over the time window for columns\\\n",
    "    'song', 'length', 'sessionId', 'itemInSession', and 'artist'\"\n",
    "\n",
    "    df_new = df.withColumn('num_songs', F.count(\n",
    "        'song').over(windowval)).drop('song')\n",
    "\n",
    "    df_new = df_new.withColumn('lengths', F.sum(\n",
    "        'length').over(windowval)).drop('length')\n",
    "\n",
    "    df_new = df_new.withColumn('num_sessions', F.count(\n",
    "        'sessionId').over(windowval)).drop('sessionId')\n",
    "\n",
    "    df_new = df_new.withColumn('num_session_items', F.sum(\n",
    "        'itemInSession').over(windowval)).drop('itemInSession')\n",
    "\n",
    "    df_new = df_new.withColumn('num_artists', F.size(\n",
    "        F.collect_set('artist').over(windowval))).drop('artist')\n",
    "\n",
    "    return df_new"
   ]
  },
  {
   "cell_type": "code",
   "execution_count": 102,
   "metadata": {},
   "outputs": [],
   "source": [
    "# create aggregate features from the column 'page'\n",
    "pages = ['Thumps Up', 'Roll Advert', 'Add Friend']\n",
    "\n",
    "def aggregate_features_2(df):\n",
    "    \"Return selected aggregate features from page.\"\n",
    "    df_new = df\n",
    "    for page in pages:\n",
    "        flag_page = F.udf(lambda x: 1 if x == page else 0, T.IntegerType())\n",
    "        df_new = df_new.withColumn('flag', flag_page('page'))\n",
    "        df_new = df_new.withColumn(\n",
    "            'num_' + page, F.sum('flag').over(windowval)).drop('flag')\n",
    "    \n",
    "    return df_new"
   ]
  },
  {
   "cell_type": "code",
   "execution_count": 103,
   "metadata": {},
   "outputs": [],
   "source": [
    "def retrive_state(df):\n",
    "    \"Return dataframe with states retrived from locations\"\n",
    "    df_new = df\n",
    "    get_state = F.udf(lambda x: x[-2:])\n",
    "    df_new = df_new.withColumn(\"state\", get_state(\n",
    "        df_new['location'])).drop('location')\n",
    "    \n",
    "    return df_new    "
   ]
  },
  {
   "cell_type": "code",
   "execution_count": 104,
   "metadata": {},
   "outputs": [],
   "source": [
    "drop_list = ['userId', 'auth', 'firstName', 'page', 'registration',\n",
    "                   'firstName', 'lastName', 'method', 'userAgent']\n",
    "\n",
    "\n",
    "def remove_features(df, drop_list):\n",
    "    \"Remove unnecessary feature columns\"\n",
    "    df_new = df.drop(*drop_list)\n",
    "\n",
    "    return df_new"
   ]
  },
  {
   "cell_type": "code",
   "execution_count": 105,
   "metadata": {},
   "outputs": [],
   "source": [
    "def preprocess_data(df):\n",
    "    \n",
    "    df_clean = clean_data(df)\n",
    "    df_churn = is_churn(df_clean)\n",
    "    df_reg_days = registration_days(df_churn)\n",
    "    df_aggregate_1 = aggregate_features_1(df_reg_days)\n",
    "    df_aggregate_2 = aggregate_features_2(df_aggregate_1)\n",
    "    df_state = retrive_state(df_aggregate_2)\n",
    "    df_processed_1 = remove_features(df_state, drop_list)\n",
    "    \n",
    "    return df_processed_1\n",
    "    "
   ]
  },
  {
   "cell_type": "code",
   "execution_count": 106,
   "metadata": {},
   "outputs": [],
   "source": [
    "df_processed = preprocess_data(df)"
   ]
  },
  {
   "cell_type": "code",
   "execution_count": 112,
   "metadata": {},
   "outputs": [],
   "source": [
    "cat_columns = ['gender', 'level', 'status', 'state']\n",
    "\n",
    "stages = []\n",
    "\n",
    "for column in cat_columns:\n",
    "    indexer = StringIndexer(inputCol=column, outputCol=column+'_index')\n",
    "    encoder = OneHotEncoderEstimator(\n",
    "        inputCols=[indexer.getOutputCol()], outputCols=[column + '_vect'])\n",
    "\n",
    "    stages += [indexer, encoder]"
   ]
  },
  {
   "cell_type": "code",
   "execution_count": null,
   "metadata": {},
   "outputs": [],
   "source": [
    "num_columns = ['ts',\n",
    "               'churn_event',\n",
    "               'days_since_registration',\n",
    "               'num_songs',\n",
    "               'lengths',\n",
    "               'num_sessions',\n",
    "               'num_session_items',\n",
    "               'num_artists',\n",
    "               'num_Thumps Up',\n",
    "               'num_Roll Advert',\n",
    "               'num_Add Friend',\n",
    "               ]\n",
    "\n",
    "vect_assembler_inputs = [c + '_vect' for c in cat_columns] + num_columns\n",
    "assembler = VectorAssembler(\n",
    "    inputCols=vect_assembler_inputs, outputCol=\"features\")\n",
    "stages += [assembler]"
   ]
  },
  {
   "cell_type": "code",
   "execution_count": null,
   "metadata": {},
   "outputs": [],
   "source": [
    "scaler = MinMaxScaler(inputCol=\"features\", outputCol=\"scaledFeatures\")\n",
    "\n",
    "stages += [scaler]"
   ]
  },
  {
   "cell_type": "markdown",
   "metadata": {},
   "source": [
    "# Modeling\n",
    "Split the full dataset into train, test, and validation sets. Test out several of the machine learning methods you learned. Evaluate the accuracy of the various models, tuning parameters as necessary. Determine your winning model based on test accuracy and report results on the validation set. Since the churned users are a fairly small subset, I suggest using F1 score as the metric to optimize."
   ]
  },
  {
   "cell_type": "code",
   "execution_count": 113,
   "metadata": {},
   "outputs": [
    {
     "name": "stdout",
     "output_type": "stream",
     "text": [
      "df_processed shape: 278154, 16\n",
      "train shape: 222612, 16\n",
      "test shape: 27645, 16\n",
      "validation shape: 27897, 16\n"
     ]
    }
   ],
   "source": [
    "# split the full dataset into train, test, and validation sets\n",
    "train, test, val = df_processed.randomSplit([0.8, 0.1, 0.1], seed=42)\n",
    "# display shape of datasets\n",
    "print('df_processed shape: {}, {}'.format(df_processed.count(), len(df_processed.columns)))\n",
    "print('train shape: {}, {}'.format(train.count(), len(train.columns)))\n",
    "print('test shape: {}, {}'.format(test.count(),len(test.columns)))\n",
    "print('validation shape: {}, {}'.format(val.count(), len(val.columns)))"
   ]
  },
  {
   "cell_type": "code",
   "execution_count": 114,
   "metadata": {},
   "outputs": [],
   "source": [
    "pipeline = Pipeline().setStages(stages)\n",
    "pipeline_model = pipeline.fit(train)"
   ]
  },
  {
   "cell_type": "markdown",
   "metadata": {},
   "source": [
    "# Final Steps\n",
    "Clean up your code, adding comments and renaming variables to make the code easier to read and maintain. Refer to the Spark Project Overview page and Data Scientist Capstone Project Rubric to make sure you are including all components of the capstone project and meet all expectations. Remember, this includes thorough documentation in a README file in a Github repository, as well as a web app or blog post."
   ]
  },
  {
   "cell_type": "code",
   "execution_count": null,
   "metadata": {},
   "outputs": [],
   "source": []
  }
 ],
 "metadata": {
  "kernelspec": {
   "display_name": "Python 3",
   "language": "python",
   "name": "python3"
  },
  "language_info": {
   "codemirror_mode": {
    "name": "ipython",
    "version": 3
   },
   "file_extension": ".py",
   "mimetype": "text/x-python",
   "name": "python",
   "nbconvert_exporter": "python",
   "pygments_lexer": "ipython3",
   "version": "3.7.6"
  }
 },
 "nbformat": 4,
 "nbformat_minor": 4
}
