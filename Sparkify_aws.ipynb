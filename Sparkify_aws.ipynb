{
 "cells": [
  {
   "cell_type": "markdown",
   "metadata": {},
   "source": [
    "# Sparkify Project - Cluster"
   ]
  },
  {
   "cell_type": "code",
   "execution_count": 1,
   "metadata": {
    "collapsed": true,
    "jupyter": {
     "outputs_hidden": true
    }
   },
   "outputs": [
    {
     "data": {
      "application/vnd.jupyter.widget-view+json": {
       "model_id": "4ebdd95b394c4bd4a0bf9275b56d3513",
       "version_major": 2,
       "version_minor": 0
      },
      "text/plain": [
       "VBox()"
      ]
     },
     "metadata": {},
     "output_type": "display_data"
    },
    {
     "name": "stdout",
     "output_type": "stream",
     "text": [
      "Starting Spark application\n"
     ]
    },
    {
     "data": {
      "text/html": [
       "<table>\n",
       "<tr><th>ID</th><th>YARN Application ID</th><th>Kind</th><th>State</th><th>Spark UI</th><th>Driver log</th><th>Current session?</th></tr><tr><td>1</td><td>application_1593462833856_0002</td><td>pyspark</td><td>idle</td><td><a target=\"_blank\" href=\"http://ip-172-31-27-130.us-east-2.compute.internal:20888/proxy/application_1593462833856_0002/\">Link</a></td><td><a target=\"_blank\" href=\"http://ip-172-31-24-117.us-east-2.compute.internal:8042/node/containerlogs/container_1593462833856_0002_01_000001/livy\">Link</a></td><td>✔</td></tr></table>"
      ],
      "text/plain": [
       "<IPython.core.display.HTML object>"
      ]
     },
     "metadata": {},
     "output_type": "display_data"
    },
    {
     "data": {
      "application/vnd.jupyter.widget-view+json": {
       "model_id": "",
       "version_major": 2,
       "version_minor": 0
      },
      "text/plain": [
       "FloatProgress(value=0.0, bar_style='info', description='Progress:', layout=Layout(height='25px', width='50%'),…"
      ]
     },
     "metadata": {},
     "output_type": "display_data"
    },
    {
     "name": "stdout",
     "output_type": "stream",
     "text": [
      "SparkSession available as 'spark'.\n"
     ]
    },
    {
     "data": {
      "application/vnd.jupyter.widget-view+json": {
       "model_id": "",
       "version_major": 2,
       "version_minor": 0
      },
      "text/plain": [
       "FloatProgress(value=0.0, bar_style='info', description='Progress:', layout=Layout(height='25px', width='50%'),…"
      ]
     },
     "metadata": {},
     "output_type": "display_data"
    }
   ],
   "source": [
    "spark.conf.set(\"spark.dynamicAllocation.enabled\", \"true\")\n",
    "spark.conf.set(\"spark.executor.cores\", 4)\n",
    "spark.conf.set(\"spark.dynamicAllocation.minExecutors\",\"1\")\n",
    "spark.conf.set(\"spark.dynamicAllocation.maxExecutors\",\"5\")"
   ]
  },
  {
   "cell_type": "code",
   "execution_count": 2,
   "metadata": {},
   "outputs": [
    {
     "data": {
      "application/vnd.jupyter.widget-view+json": {
       "model_id": "d38fe7f789d1460d939322bf1a141098",
       "version_major": 2,
       "version_minor": 0
      },
      "text/plain": [
       "VBox()"
      ]
     },
     "metadata": {},
     "output_type": "display_data"
    },
    {
     "data": {
      "application/vnd.jupyter.widget-view+json": {
       "model_id": "",
       "version_major": 2,
       "version_minor": 0
      },
      "text/plain": [
       "FloatProgress(value=0.0, bar_style='info', description='Progress:', layout=Layout(height='25px', width='50%'),…"
      ]
     },
     "metadata": {},
     "output_type": "display_data"
    }
   ],
   "source": [
    "# import libraries\n",
    "from pyspark.sql import SparkSession\n",
    "from pyspark.sql import functions as F\n",
    "from pyspark.sql import types as T\n",
    "from pyspark.sql import Window\n",
    "import datetime\n",
    "\n",
    "from pyspark.ml import Pipeline\n",
    "from pyspark.ml.feature import (\n",
    "    StringIndexer, OneHotEncoderEstimator, MinMaxScaler, VectorAssembler)\n",
    "from pyspark.ml.classification import (\n",
    "    DecisionTreeClassifier, RandomForestClassifier, GBTClassifier, LogisticRegression)\n",
    "from pyspark.ml.tuning import ParamGridBuilder, CrossValidator\n",
    "from pyspark.ml.evaluation import BinaryClassificationEvaluator, MulticlassClassificationEvaluator\n",
    "\n",
    "import numpy as np"
   ]
  },
  {
   "cell_type": "code",
   "execution_count": 3,
   "metadata": {},
   "outputs": [
    {
     "data": {
      "application/vnd.jupyter.widget-view+json": {
       "model_id": "e4cc4d418ff642ddb60fdfce5410ccb9",
       "version_major": 2,
       "version_minor": 0
      },
      "text/plain": [
       "VBox()"
      ]
     },
     "metadata": {},
     "output_type": "display_data"
    },
    {
     "data": {
      "application/vnd.jupyter.widget-view+json": {
       "model_id": "",
       "version_major": 2,
       "version_minor": 0
      },
      "text/plain": [
       "FloatProgress(value=0.0, bar_style='info', description='Progress:', layout=Layout(height='25px', width='50%'),…"
      ]
     },
     "metadata": {},
     "output_type": "display_data"
    }
   ],
   "source": [
    "# Create spark session\n",
    "spark = SparkSession \\\n",
    "    .builder \\\n",
    "    .appName(\"Sparkify\") \\\n",
    "    .getOrCreate()"
   ]
  },
  {
   "cell_type": "markdown",
   "metadata": {},
   "source": [
    "# Load and Clean Dataset"
   ]
  },
  {
   "cell_type": "code",
   "execution_count": 4,
   "metadata": {},
   "outputs": [
    {
     "data": {
      "application/vnd.jupyter.widget-view+json": {
       "model_id": "1b63b2bee5524989a2078d0abefa611a",
       "version_major": 2,
       "version_minor": 0
      },
      "text/plain": [
       "VBox()"
      ]
     },
     "metadata": {},
     "output_type": "display_data"
    },
    {
     "data": {
      "application/vnd.jupyter.widget-view+json": {
       "model_id": "",
       "version_major": 2,
       "version_minor": 0
      },
      "text/plain": [
       "FloatProgress(value=0.0, bar_style='info', description='Progress:', layout=Layout(height='25px', width='50%'),…"
      ]
     },
     "metadata": {},
     "output_type": "display_data"
    },
    {
     "name": "stdout",
     "output_type": "stream",
     "text": [
      "Row(artist='Popol Vuh', auth='Logged In', firstName='Shlok', gender='M', itemInSession=278, lastName='Johnson', length=524.32934, level='paid', location='Dallas-Fort Worth-Arlington, TX', method='PUT', page='NextSong', registration=1533734541000, sessionId=22683, song='Ich mache einen Spiegel - Dream Part 4', status=200, ts=1538352001000, userAgent='\"Mozilla/5.0 (Windows NT 6.1; WOW64) AppleWebKit/537.36 (KHTML, like Gecko) Chrome/36.0.1985.143 Safari/537.36\"', userId='1749042')"
     ]
    }
   ],
   "source": [
    "# Read in full sparkify dataset\n",
    "event_data = \"s3n://udacity-dsnd/sparkify/sparkify_event_data.json\"\n",
    "df = spark.read.json(event_data)\n",
    "df.head()"
   ]
  },
  {
   "cell_type": "code",
   "execution_count": 5,
   "metadata": {},
   "outputs": [
    {
     "data": {
      "application/vnd.jupyter.widget-view+json": {
       "model_id": "6fb5f50d4cef4d4c9f54e1842d717a21",
       "version_major": 2,
       "version_minor": 0
      },
      "text/plain": [
       "VBox()"
      ]
     },
     "metadata": {},
     "output_type": "display_data"
    },
    {
     "data": {
      "application/vnd.jupyter.widget-view+json": {
       "model_id": "",
       "version_major": 2,
       "version_minor": 0
      },
      "text/plain": [
       "FloatProgress(value=0.0, bar_style='info', description='Progress:', layout=Layout(height='25px', width='50%'),…"
      ]
     },
     "metadata": {},
     "output_type": "display_data"
    },
    {
     "name": "stdout",
     "output_type": "stream",
     "text": [
      "root\n",
      " |-- artist: string (nullable = true)\n",
      " |-- auth: string (nullable = true)\n",
      " |-- firstName: string (nullable = true)\n",
      " |-- gender: string (nullable = true)\n",
      " |-- itemInSession: long (nullable = true)\n",
      " |-- lastName: string (nullable = true)\n",
      " |-- length: double (nullable = true)\n",
      " |-- level: string (nullable = true)\n",
      " |-- location: string (nullable = true)\n",
      " |-- method: string (nullable = true)\n",
      " |-- page: string (nullable = true)\n",
      " |-- registration: long (nullable = true)\n",
      " |-- sessionId: long (nullable = true)\n",
      " |-- song: string (nullable = true)\n",
      " |-- status: long (nullable = true)\n",
      " |-- ts: long (nullable = true)\n",
      " |-- userAgent: string (nullable = true)\n",
      " |-- userId: string (nullable = true)"
     ]
    }
   ],
   "source": [
    "# Check Schema\n",
    "df.printSchema()"
   ]
  },
  {
   "cell_type": "code",
   "execution_count": 6,
   "metadata": {},
   "outputs": [
    {
     "data": {
      "application/vnd.jupyter.widget-view+json": {
       "model_id": "e6e59f2a78ec448599115257143026ae",
       "version_major": 2,
       "version_minor": 0
      },
      "text/plain": [
       "VBox()"
      ]
     },
     "metadata": {},
     "output_type": "display_data"
    },
    {
     "data": {
      "application/vnd.jupyter.widget-view+json": {
       "model_id": "",
       "version_major": 2,
       "version_minor": 0
      },
      "text/plain": [
       "FloatProgress(value=0.0, bar_style='info', description='Progress:', layout=Layout(height='25px', width='50%'),…"
      ]
     },
     "metadata": {},
     "output_type": "display_data"
    },
    {
     "name": "stdout",
     "output_type": "stream",
     "text": [
      "26259199"
     ]
    }
   ],
   "source": [
    "# Check the number of records\n",
    "df.count()"
   ]
  },
  {
   "cell_type": "code",
   "execution_count": 7,
   "metadata": {},
   "outputs": [
    {
     "data": {
      "application/vnd.jupyter.widget-view+json": {
       "model_id": "2d24f3d4068b4b3bb4d70d4894870b7f",
       "version_major": 2,
       "version_minor": 0
      },
      "text/plain": [
       "VBox()"
      ]
     },
     "metadata": {},
     "output_type": "display_data"
    },
    {
     "data": {
      "application/vnd.jupyter.widget-view+json": {
       "model_id": "",
       "version_major": 2,
       "version_minor": 0
      },
      "text/plain": [
       "FloatProgress(value=0.0, bar_style='info', description='Progress:', layout=Layout(height='25px', width='50%'),…"
      ]
     },
     "metadata": {},
     "output_type": "display_data"
    }
   ],
   "source": [
    "# Users without registration are not valid for churn analysis, and thus will be dropped.\n",
    "df_valid = df.dropna(subset=['registration'])"
   ]
  },
  {
   "cell_type": "code",
   "execution_count": 8,
   "metadata": {},
   "outputs": [
    {
     "data": {
      "application/vnd.jupyter.widget-view+json": {
       "model_id": "3144af9fa20f4ec8a34a92d51354a8df",
       "version_major": 2,
       "version_minor": 0
      },
      "text/plain": [
       "VBox()"
      ]
     },
     "metadata": {},
     "output_type": "display_data"
    },
    {
     "data": {
      "application/vnd.jupyter.widget-view+json": {
       "model_id": "",
       "version_major": 2,
       "version_minor": 0
      },
      "text/plain": [
       "FloatProgress(value=0.0, bar_style='info', description='Progress:', layout=Layout(height='25px', width='50%'),…"
      ]
     },
     "metadata": {},
     "output_type": "display_data"
    },
    {
     "name": "stdout",
     "output_type": "stream",
     "text": [
      "+-------+----+---------+------+-------------+--------+-------+-----+--------+------+----+------------+---------+-------+------+---+---------+------+\n",
      "| artist|auth|firstName|gender|itemInSession|lastName| length|level|location|method|page|registration|sessionId|   song|status| ts|userAgent|userId|\n",
      "+-------+----+---------+------+-------------+--------+-------+-----+--------+------+----+------------+---------+-------+------+---+---------+------+\n",
      "|4630448|   0|        0|     0|            0|       0|4630448|    0|       0|     0|   0|           0|        0|4630448|     0|  0|        0|     0|\n",
      "+-------+----+---------+------+-------------+--------+-------+-----+--------+------+----+------------+---------+-------+------+---+---------+------+"
     ]
    }
   ],
   "source": [
    "# Check number of missing values for each column\n",
    "missing_values = [F.count(F.when(F.col(c).isNull(), c)).alias(c)\n",
    "                  for c in df_valid.columns]\n",
    "df_valid.select(missing_values).show()"
   ]
  },
  {
   "cell_type": "markdown",
   "metadata": {},
   "source": [
    "`artist`, `length`, and `song` will be null when a user is visiting pages other than `NextSong`."
   ]
  },
  {
   "cell_type": "code",
   "execution_count": 9,
   "metadata": {},
   "outputs": [
    {
     "data": {
      "application/vnd.jupyter.widget-view+json": {
       "model_id": "1ad37216b9af446db037f47d3664f33f",
       "version_major": 2,
       "version_minor": 0
      },
      "text/plain": [
       "VBox()"
      ]
     },
     "metadata": {},
     "output_type": "display_data"
    },
    {
     "data": {
      "application/vnd.jupyter.widget-view+json": {
       "model_id": "",
       "version_major": 2,
       "version_minor": 0
      },
      "text/plain": [
       "FloatProgress(value=0.0, bar_style='info', description='Progress:', layout=Layout(height='25px', width='50%'),…"
      ]
     },
     "metadata": {},
     "output_type": "display_data"
    },
    {
     "name": "stdout",
     "output_type": "stream",
     "text": [
      "+--------+\n",
      "|    page|\n",
      "+--------+\n",
      "|NextSong|\n",
      "+--------+"
     ]
    }
   ],
   "source": [
    "# Check for the page when the 'artist' is not null\n",
    "df_valid.filter(F.col('artist').isNotNull()).select(\n",
    "    'page').dropDuplicates().show()"
   ]
  },
  {
   "cell_type": "code",
   "execution_count": 10,
   "metadata": {},
   "outputs": [
    {
     "data": {
      "application/vnd.jupyter.widget-view+json": {
       "model_id": "e2c69ee0d94043b8b70e1c09db0d4624",
       "version_major": 2,
       "version_minor": 0
      },
      "text/plain": [
       "VBox()"
      ]
     },
     "metadata": {},
     "output_type": "display_data"
    },
    {
     "data": {
      "application/vnd.jupyter.widget-view+json": {
       "model_id": "",
       "version_major": 2,
       "version_minor": 0
      },
      "text/plain": [
       "FloatProgress(value=0.0, bar_style='info', description='Progress:', layout=Layout(height='25px', width='50%'),…"
      ]
     },
     "metadata": {},
     "output_type": "display_data"
    },
    {
     "name": "stdout",
     "output_type": "stream",
     "text": [
      "22277"
     ]
    }
   ],
   "source": [
    "# Number of users\n",
    "num_users = df_valid.select(\"userId\").dropDuplicates().count()\n",
    "print(num_users)"
   ]
  },
  {
   "cell_type": "markdown",
   "metadata": {},
   "source": [
    "# Feature Engineering\n",
    "Clean data, define user churn and create aggregate features. Prepare stages such as indexing and one-hot encoding categorical features, and transforming feature columns into a single column for ML pipeline."
   ]
  },
  {
   "cell_type": "code",
   "execution_count": 34,
   "metadata": {},
   "outputs": [
    {
     "data": {
      "application/vnd.jupyter.widget-view+json": {
       "model_id": "9acf6c8282104afb9fb649109eddb4a9",
       "version_major": 2,
       "version_minor": 0
      },
      "text/plain": [
       "VBox()"
      ]
     },
     "metadata": {},
     "output_type": "display_data"
    },
    {
     "data": {
      "application/vnd.jupyter.widget-view+json": {
       "model_id": "",
       "version_major": 2,
       "version_minor": 0
      },
      "text/plain": [
       "FloatProgress(value=0.0, bar_style='info', description='Progress:', layout=Layout(height='25px', width='50%'),…"
      ]
     },
     "metadata": {},
     "output_type": "display_data"
    }
   ],
   "source": [
    "def clean_data(df):\n",
    "    \"\"\"Return valid data by dropping missing values in registration.\"\"\"\n",
    "    df_clean = df.dropna(subset=['registration']).na.fill(\n",
    "        0, subset=['length'])\n",
    "\n",
    "    return df_clean\n",
    "\n",
    "\n",
    "def is_churn(df):\n",
    "    \"\"\"Return dataframe with labels for churn users.\"\"\"\n",
    "\n",
    "    flag_churn_event = F.udf(\n",
    "        lambda x: 1 if x == 'Cancellation Confirmation' else 0, T.IntegerType())\n",
    "\n",
    "    df_new = df.withColumn(\n",
    "        'churn_event', flag_churn_event(F.col('page')))\n",
    "\n",
    "    df_new = df_new.withColumn('label', F.max(\n",
    "        'churn_event').over(Window.partitionBy('userId')))\n",
    "\n",
    "    return df_new\n",
    "\n",
    "\n",
    "def avg_itemInSession(df):\n",
    "    \"\"\" Return datafram with average itemInSession. \"\"\"\n",
    "\n",
    "    df_new = df.withColumn('avg_itemInSession', F.avg(\n",
    "        'itemInSession').over(Window.partitionBy('userId')))\n",
    "\n",
    "    return df_new\n",
    "\n",
    "\n",
    "def registration_days(df):\n",
    "    \"\"\"Return the maximum number of days since registration.\"\"\"\n",
    "\n",
    "    df_new = df.withColumn('registration date', (F.col(\n",
    "        'registration')/1000).cast(T.TimestampType()))\n",
    "\n",
    "    df_new = df_new.withColumn(\n",
    "        'date', (F.col('ts')/1000).cast(T.TimestampType()))\n",
    "\n",
    "    df_new = df_new.withColumn('days_since_registration', F.max(F.datediff(\n",
    "        'date', 'registration date')).over(Window.partitionBy('userId'))).drop('registration date', 'date')\n",
    "\n",
    "    return df_new\n",
    "\n",
    "\n",
    "def timestamp(df):\n",
    "    \"\"\"Return dataframe with hour, day, and month.\"\"\"\n",
    "\n",
    "    get_hour = F.udf(lambda x: datetime.datetime.fromtimestamp(\n",
    "        x / 1000.0).hour, T.IntegerType())\n",
    "    get_day = F.udf(lambda x: datetime.datetime.fromtimestamp(\n",
    "        x / 1000.0).day, T.IntegerType())\n",
    "    get_month = F.udf(lambda x: datetime.datetime.fromtimestamp(\n",
    "        x / 1000.0).month, T.IntegerType())\n",
    "\n",
    "    df_new = df.withColumn('hour', F.avg(get_hour(F.col('ts'))).over(Window.partitionBy('userId')))\\\n",
    "        .withColumn('day', F.avg(get_day(F.col('ts'))).over(Window.partitionBy('userId')))\\\n",
    "        .withColumn('month', F.avg(get_month(F.col('ts'))).over(Window.partitionBy('userId')))\n",
    "\n",
    "    return df_new\n",
    "\n",
    "\n",
    "# create aggregate features from the column 'page'\n",
    "pages = ['Thumbs Down', 'Roll Advert', 'Add Friend', 'Error']\n",
    "\n",
    "\n",
    "def aggregate_features(df):\n",
    "    \"\"\"Return selected aggregate features from page.\"\"\"\n",
    "    df_new = df\n",
    "\n",
    "    for page in pages:\n",
    "\n",
    "        flag_page = F.udf(lambda x: 1 if x ==\n",
    "                          page else 0, T.IntegerType())\n",
    "        df_new = df_new.withColumn('flag', flag_page('page'))\n",
    "        df_new = df_new.withColumn(\n",
    "            'num_' + page, F.sum('flag').over(Window.partitionBy('userId'))).drop('flag')\n",
    "\n",
    "    return df_new\n",
    "\n",
    "\n",
    "def level_phase(df):\n",
    "    \"\"\" Return dataframe with phases of users' subscription level.\"\"\"\n",
    "\n",
    "    df_new = df\n",
    "    flag_downgrade_event = F.udf(\n",
    "        lambda x: 1 if x == \"Submit Downgrade\" else 0, T.IntegerType())\n",
    "    df_new = df_new.withColumn(\n",
    "        \"downgraded\", flag_downgrade_event(\"page\"))\n",
    "\n",
    "    windowval = Window.partitionBy(\"userId\").orderBy(\n",
    "        F.desc(\"ts\")).rangeBetween(Window.unboundedPreceding, 0)\n",
    "    df_new = df_new.withColumn(\n",
    "        \"phase\", F.sum(\"downgraded\").over(windowval))\n",
    "\n",
    "    return df_new\n",
    "\n",
    "\n",
    "def retrive_state(df):\n",
    "    \"\"\"Return dataframe with uesrs' last states retrived from locations.\"\"\"\n",
    "    df_new = df\n",
    "    get_state = F.udf(lambda x: x[-2:])\n",
    "    df_new = df_new.withColumn(\"state\", get_state(df_new['location']))\n",
    "\n",
    "    return df_new\n",
    "\n",
    "\n",
    "ignore_list = ['artist',\n",
    "               'auth',\n",
    "               'firstName',\n",
    "               'length',\n",
    "               'lastName',\n",
    "               'method',\n",
    "               'page',\n",
    "               'registration',\n",
    "               'sessionId',\n",
    "               'song',\n",
    "               'ts',\n",
    "               'userAgent',\n",
    "               'churn_event',\n",
    "               'itemInSession'\n",
    "               ]\n",
    "\n",
    "\n",
    "def ignore(df, ignore_list):\n",
    "    \"\"\"Remove unnecessary feature columns.\"\"\"\n",
    "    df_new = df.drop(*ignore_list)\n",
    "\n",
    "    return df_new\n",
    "\n",
    "\n",
    "def preprocess_data(df):\n",
    "    \"\"\"\n",
    "      1. Remove invalid data.\n",
    "      2. Add churn event and churn user labels.\n",
    "      3. Add average items in session.\n",
    "      4. Add number of days since registration.\n",
    "      5. Add hour, day, and month.\n",
    "      6. Add phase of scription level.\n",
    "      7. Add aggregate features.\n",
    "      8. Get state from location.\n",
    "      9. Remove unnecessary feature columns.\n",
    "    \"\"\"\n",
    "\n",
    "    df_clean = clean_data(df)\n",
    "    df_churn = is_churn(df_clean)\n",
    "    df_item = avg_itemInSession(df_churn)\n",
    "    df_reg_days = registration_days(df_item)\n",
    "    df_timestamp = timestamp(df_reg_days)\n",
    "    df_level_phase = level_phase(df_timestamp)\n",
    "    df_aggregate = aggregate_features(df_level_phase)\n",
    "    df_state = retrive_state(df_aggregate)\n",
    "    df_processed = ignore(df_state, ignore_list)\n",
    "\n",
    "    return df_processed\n",
    "\n",
    "\n",
    "df_processed = preprocess_data(df).dropDuplicates().cache()\n",
    "df.unpersist()\n",
    "\n",
    "\n",
    "# Prepare stages for ML Pipeline\n",
    "stages = []\n",
    "\n",
    "# Index and one-hot encode categorical columns\n",
    "cat_columns = ['gender', 'status', 'state', 'phase']\n",
    "\n",
    "for column in cat_columns:\n",
    "    indexer = StringIndexer(inputCol=column, outputCol=column+'_index')\n",
    "    encoder = OneHotEncoderEstimator(\n",
    "        inputCols=[indexer.getOutputCol()], outputCols=[column + '_vect'])\n",
    "\n",
    "    stages += [indexer, encoder]\n",
    "\n",
    "num_columns = [\n",
    "    'avg_itemInSession',\n",
    "    'days_since_registration',\n",
    "    'hour',\n",
    "    'day',\n",
    "    'month',\n",
    "    'num_Thumbs Down',\n",
    "    'num_Roll Advert',\n",
    "    'num_Add Friend',\n",
    "    'num_Error'\n",
    "]\n",
    "\n",
    "# Transform columns into a single vector column.\n",
    "vect_assembler_inputs = [c + '_vect' for c in cat_columns] + num_columns\n",
    "assembler = VectorAssembler(\n",
    "    inputCols=vect_assembler_inputs, outputCol=\"features\")\n",
    "\n",
    "stages += [assembler]\n",
    "\n",
    "# Rescale  each feature into the range from 0 to 1.\n",
    "scaler = MinMaxScaler(inputCol=\"features\", outputCol=\"scaled_features\")\n",
    "\n",
    "stages += [scaler]\n",
    "\n",
    "\n",
    "# Instantiate classifiers\n",
    "lr = LogisticRegression(labelCol='label', featuresCol='scaled_features')\n",
    "\n",
    "rfc = RandomForestClassifier(\n",
    "    labelCol='label', featuresCol='scaled_features')\n",
    "\n",
    "gbt = GBTClassifier(labelCol='label', featuresCol='scaled_features',\n",
    "                    maxDepth=7, maxIter=32, stepSize=0.7, subsamplingRate=0.8)\n",
    "\n",
    "# Set stages for classifiers\n",
    "stages_lr = stages + [lr]\n",
    "stages_rfc = stages + [rfc]\n",
    "stages_gbt = stages + [gbt]"
   ]
  },
  {
   "cell_type": "code",
   "execution_count": 35,
   "metadata": {},
   "outputs": [
    {
     "data": {
      "application/vnd.jupyter.widget-view+json": {
       "model_id": "7a3e553dc1a74ddb910f9bdc1a193752",
       "version_major": 2,
       "version_minor": 0
      },
      "text/plain": [
       "VBox()"
      ]
     },
     "metadata": {},
     "output_type": "display_data"
    },
    {
     "data": {
      "application/vnd.jupyter.widget-view+json": {
       "model_id": "",
       "version_major": 2,
       "version_minor": 0
      },
      "text/plain": [
       "FloatProgress(value=0.0, bar_style='info', description='Progress:', layout=Layout(height='25px', width='50%'),…"
      ]
     },
     "metadata": {},
     "output_type": "display_data"
    },
    {
     "name": "stdout",
     "output_type": "stream",
     "text": [
      "+-----+-----+\n",
      "|label|count|\n",
      "+-----+-----+\n",
      "|    1|24980|\n",
      "|    0|83183|\n",
      "+-----+-----+"
     ]
    }
   ],
   "source": [
    "df_processed.groupBy('label').count().show()"
   ]
  },
  {
   "cell_type": "markdown",
   "metadata": {},
   "source": [
    "# Modeling\n",
    "Three different models are trained and evaluated with full dataset which is split into 80% training data and 20% testing data. ML pipelines with stages as described in the feature engineering section are fitted and transformed. Three different models are trained and evaluated with F1 scores and AUC scores. The classifiers for the models are Logistic Regression, Random Forest Classifier, and Gradient Boosted Tree Classifier. "
   ]
  },
  {
   "cell_type": "code",
   "execution_count": 36,
   "metadata": {},
   "outputs": [
    {
     "data": {
      "application/vnd.jupyter.widget-view+json": {
       "model_id": "67221a0e0c644aa98bcb9e561f7ec78a",
       "version_major": 2,
       "version_minor": 0
      },
      "text/plain": [
       "VBox()"
      ]
     },
     "metadata": {},
     "output_type": "display_data"
    },
    {
     "data": {
      "application/vnd.jupyter.widget-view+json": {
       "model_id": "",
       "version_major": 2,
       "version_minor": 0
      },
      "text/plain": [
       "FloatProgress(value=0.0, bar_style='info', description='Progress:', layout=Layout(height='25px', width='50%'),…"
      ]
     },
     "metadata": {},
     "output_type": "display_data"
    },
    {
     "name": "stdout",
     "output_type": "stream",
     "text": [
      "DataFrame[gender: string, level: string, location: string, status: bigint, userId: string, label: int, avg_itemInSession: double, days_since_registration: int, hour: double, day: double, month: double, downgraded: int, phase: bigint, num_Thumbs Down: bigint, num_Roll Advert: bigint, num_Add Friend: bigint, num_Error: bigint, state: string]"
     ]
    }
   ],
   "source": [
    "# Split the full dataset into train and test sets.\n",
    "train, test = df_processed.randomSplit([0.8, 0.2], seed=42)\n",
    "train.cache()\n",
    "test.cache()\n",
    "df_processed.unpersist()"
   ]
  },
  {
   "cell_type": "code",
   "execution_count": 37,
   "metadata": {},
   "outputs": [
    {
     "data": {
      "application/vnd.jupyter.widget-view+json": {
       "model_id": "d8d86cf133de481b869c8cccab23d5c0",
       "version_major": 2,
       "version_minor": 0
      },
      "text/plain": [
       "VBox()"
      ]
     },
     "metadata": {},
     "output_type": "display_data"
    },
    {
     "data": {
      "application/vnd.jupyter.widget-view+json": {
       "model_id": "",
       "version_major": 2,
       "version_minor": 0
      },
      "text/plain": [
       "FloatProgress(value=0.0, bar_style='info', description='Progress:', layout=Layout(height='25px', width='50%'),…"
      ]
     },
     "metadata": {},
     "output_type": "display_data"
    }
   ],
   "source": [
    "# Set the stages for ML Pipeline\n",
    "pipeline_lr = Pipeline().setStages(stages_lr)\n",
    "pipeline_rfc = Pipeline().setStages(stages_rfc)\n",
    "pipeline_gbt = Pipeline().setStages(stages_gbt)"
   ]
  },
  {
   "cell_type": "code",
   "execution_count": 38,
   "metadata": {},
   "outputs": [
    {
     "data": {
      "application/vnd.jupyter.widget-view+json": {
       "model_id": "6e86037acfe147148c4bd1599a3ba7a1",
       "version_major": 2,
       "version_minor": 0
      },
      "text/plain": [
       "VBox()"
      ]
     },
     "metadata": {},
     "output_type": "display_data"
    },
    {
     "data": {
      "application/vnd.jupyter.widget-view+json": {
       "model_id": "",
       "version_major": 2,
       "version_minor": 0
      },
      "text/plain": [
       "FloatProgress(value=0.0, bar_style='info', description='Progress:', layout=Layout(height='25px', width='50%'),…"
      ]
     },
     "metadata": {},
     "output_type": "display_data"
    },
    {
     "name": "stderr",
     "output_type": "stream",
     "text": [
      "Exception in thread cell_monitor-38:\n",
      "Traceback (most recent call last):\n",
      "  File \"/opt/conda/lib/python3.7/threading.py\", line 926, in _bootstrap_inner\n",
      "    self.run()\n",
      "  File \"/opt/conda/lib/python3.7/threading.py\", line 870, in run\n",
      "    self._target(*self._args, **self._kwargs)\n",
      "  File \"/opt/conda/lib/python3.7/site-packages/awseditorssparkmonitoringwidget-1.0-py3.7.egg/awseditorssparkmonitoringwidget/cellmonitor.py\", line 178, in cell_monitor\n",
      "    job_binned_stages[job_id][stage_id] = all_stages[stage_id]\n",
      "KeyError: 9884\n",
      "\n"
     ]
    }
   ],
   "source": [
    "model_lr = pipeline_lr.fit(train)"
   ]
  },
  {
   "cell_type": "code",
   "execution_count": 39,
   "metadata": {},
   "outputs": [
    {
     "data": {
      "application/vnd.jupyter.widget-view+json": {
       "model_id": "9d0860a00555422bb1bf58d2459b5946",
       "version_major": 2,
       "version_minor": 0
      },
      "text/plain": [
       "VBox()"
      ]
     },
     "metadata": {},
     "output_type": "display_data"
    },
    {
     "data": {
      "application/vnd.jupyter.widget-view+json": {
       "model_id": "",
       "version_major": 2,
       "version_minor": 0
      },
      "text/plain": [
       "FloatProgress(value=0.0, bar_style='info', description='Progress:', layout=Layout(height='25px', width='50%'),…"
      ]
     },
     "metadata": {},
     "output_type": "display_data"
    },
    {
     "name": "stderr",
     "output_type": "stream",
     "text": [
      "Exception in thread cell_monitor-39:\n",
      "Traceback (most recent call last):\n",
      "  File \"/opt/conda/lib/python3.7/threading.py\", line 926, in _bootstrap_inner\n",
      "    self.run()\n",
      "  File \"/opt/conda/lib/python3.7/threading.py\", line 870, in run\n",
      "    self._target(*self._args, **self._kwargs)\n",
      "  File \"/opt/conda/lib/python3.7/site-packages/awseditorssparkmonitoringwidget-1.0-py3.7.egg/awseditorssparkmonitoringwidget/cellmonitor.py\", line 178, in cell_monitor\n",
      "    job_binned_stages[job_id][stage_id] = all_stages[stage_id]\n",
      "KeyError: 10784\n",
      "\n"
     ]
    }
   ],
   "source": [
    "model_rfc = pipeline_rfc.fit(train)"
   ]
  },
  {
   "cell_type": "code",
   "execution_count": 40,
   "metadata": {},
   "outputs": [
    {
     "data": {
      "application/vnd.jupyter.widget-view+json": {
       "model_id": "8d5cae54f748438cab6cc69cc7206890",
       "version_major": 2,
       "version_minor": 0
      },
      "text/plain": [
       "VBox()"
      ]
     },
     "metadata": {},
     "output_type": "display_data"
    },
    {
     "data": {
      "application/vnd.jupyter.widget-view+json": {
       "model_id": "",
       "version_major": 2,
       "version_minor": 0
      },
      "text/plain": [
       "FloatProgress(value=0.0, bar_style='info', description='Progress:', layout=Layout(height='25px', width='50%'),…"
      ]
     },
     "metadata": {},
     "output_type": "display_data"
    },
    {
     "name": "stderr",
     "output_type": "stream",
     "text": [
      "Exception in thread cell_monitor-40:\n",
      "Traceback (most recent call last):\n",
      "  File \"/opt/conda/lib/python3.7/threading.py\", line 926, in _bootstrap_inner\n",
      "    self.run()\n",
      "  File \"/opt/conda/lib/python3.7/threading.py\", line 870, in run\n",
      "    self._target(*self._args, **self._kwargs)\n",
      "  File \"/opt/conda/lib/python3.7/site-packages/awseditorssparkmonitoringwidget-1.0-py3.7.egg/awseditorssparkmonitoringwidget/cellmonitor.py\", line 178, in cell_monitor\n",
      "    job_binned_stages[job_id][stage_id] = all_stages[stage_id]\n",
      "KeyError: 10981\n",
      "\n"
     ]
    }
   ],
   "source": [
    "model_gbt = pipeline_gbt.fit(train)"
   ]
  },
  {
   "cell_type": "markdown",
   "metadata": {},
   "source": [
    "# Model Evaluations"
   ]
  },
  {
   "cell_type": "code",
   "execution_count": 41,
   "metadata": {},
   "outputs": [
    {
     "data": {
      "application/vnd.jupyter.widget-view+json": {
       "model_id": "42898f16181d4190943dd5175bb34930",
       "version_major": 2,
       "version_minor": 0
      },
      "text/plain": [
       "VBox()"
      ]
     },
     "metadata": {},
     "output_type": "display_data"
    },
    {
     "data": {
      "application/vnd.jupyter.widget-view+json": {
       "model_id": "",
       "version_major": 2,
       "version_minor": 0
      },
      "text/plain": [
       "FloatProgress(value=0.0, bar_style='info', description='Progress:', layout=Layout(height='25px', width='50%'),…"
      ]
     },
     "metadata": {},
     "output_type": "display_data"
    }
   ],
   "source": [
    "# Instantiate evaluators\n",
    "\n",
    "# F1 score evaluator\n",
    "f1_eval = MulticlassClassificationEvaluator(\n",
    "    labelCol='label', metricName='f1')\n",
    "\n",
    "# areaUnderROC AUC evaluator\n",
    "AUC_eval = BinaryClassificationEvaluator(\n",
    "    labelCol='label', metricName=\"areaUnderROC\")"
   ]
  },
  {
   "cell_type": "code",
   "execution_count": 42,
   "metadata": {},
   "outputs": [
    {
     "data": {
      "application/vnd.jupyter.widget-view+json": {
       "model_id": "bd8c46b16497408486fac3cccdd22829",
       "version_major": 2,
       "version_minor": 0
      },
      "text/plain": [
       "VBox()"
      ]
     },
     "metadata": {},
     "output_type": "display_data"
    },
    {
     "data": {
      "application/vnd.jupyter.widget-view+json": {
       "model_id": "",
       "version_major": 2,
       "version_minor": 0
      },
      "text/plain": [
       "FloatProgress(value=0.0, bar_style='info', description='Progress:', layout=Layout(height='25px', width='50%'),…"
      ]
     },
     "metadata": {},
     "output_type": "display_data"
    }
   ],
   "source": [
    "def evaluate_model(model):\n",
    "    \"\"\" Return f1 and AUC scores of the model evaluated with test data.\"\"\"\n",
    "    preds = model.transform(test)\n",
    "    f1 = f1_eval.evaluate(preds)\n",
    "    AUC = AUC_eval.evaluate(preds)\n",
    "    \n",
    "    return f1, AUC"
   ]
  },
  {
   "cell_type": "markdown",
   "metadata": {},
   "source": [
    "### Logistic Regression"
   ]
  },
  {
   "cell_type": "code",
   "execution_count": 43,
   "metadata": {},
   "outputs": [
    {
     "data": {
      "application/vnd.jupyter.widget-view+json": {
       "model_id": "8c20c05f9bb24fd99d228f6868e64202",
       "version_major": 2,
       "version_minor": 0
      },
      "text/plain": [
       "VBox()"
      ]
     },
     "metadata": {},
     "output_type": "display_data"
    },
    {
     "data": {
      "application/vnd.jupyter.widget-view+json": {
       "model_id": "",
       "version_major": 2,
       "version_minor": 0
      },
      "text/plain": [
       "FloatProgress(value=0.0, bar_style='info', description='Progress:', layout=Layout(height='25px', width='50%'),…"
      ]
     },
     "metadata": {},
     "output_type": "display_data"
    },
    {
     "name": "stdout",
     "output_type": "stream",
     "text": [
      "Logistic Regression\n",
      "F1 = 0.8480287037872147\n",
      "AUC = 0.8702475368653158"
     ]
    }
   ],
   "source": [
    "lr_f1, lr_AUC = evaluate_model(model_lr)\n",
    "print('Logistic Regression')\n",
    "print('F1 =', lr_f1)\n",
    "print('AUC =', lr_AUC)"
   ]
  },
  {
   "cell_type": "markdown",
   "metadata": {},
   "source": [
    "### Random forest classifier"
   ]
  },
  {
   "cell_type": "code",
   "execution_count": 44,
   "metadata": {},
   "outputs": [
    {
     "data": {
      "application/vnd.jupyter.widget-view+json": {
       "model_id": "d1a40fcd419346b4b13c4b0fb82731ff",
       "version_major": 2,
       "version_minor": 0
      },
      "text/plain": [
       "VBox()"
      ]
     },
     "metadata": {},
     "output_type": "display_data"
    },
    {
     "data": {
      "application/vnd.jupyter.widget-view+json": {
       "model_id": "",
       "version_major": 2,
       "version_minor": 0
      },
      "text/plain": [
       "FloatProgress(value=0.0, bar_style='info', description='Progress:', layout=Layout(height='25px', width='50%'),…"
      ]
     },
     "metadata": {},
     "output_type": "display_data"
    },
    {
     "name": "stdout",
     "output_type": "stream",
     "text": [
      "Random Forest Classifier\n",
      "F1 = 0.8470261687401073\n",
      "AUC = 0.8603725532686142"
     ]
    }
   ],
   "source": [
    "rfc_f1, rfc_AUC = evaluate_model(model_rfc)\n",
    "print('Random Forest Classifier')\n",
    "print('F1 =', rfc_f1)\n",
    "print('AUC =', rfc_AUC)"
   ]
  },
  {
   "cell_type": "markdown",
   "metadata": {},
   "source": [
    "### Gradient-boosted tree classifier"
   ]
  },
  {
   "cell_type": "code",
   "execution_count": 45,
   "metadata": {},
   "outputs": [
    {
     "data": {
      "application/vnd.jupyter.widget-view+json": {
       "model_id": "087e2c97a0c242cdb3f626d2d91811ef",
       "version_major": 2,
       "version_minor": 0
      },
      "text/plain": [
       "VBox()"
      ]
     },
     "metadata": {},
     "output_type": "display_data"
    },
    {
     "name": "stderr",
     "output_type": "stream",
     "text": [
      "Exception in thread cell_monitor-43:\n",
      "Traceback (most recent call last):\n",
      "  File \"/opt/conda/lib/python3.7/threading.py\", line 926, in _bootstrap_inner\n",
      "    self.run()\n",
      "  File \"/opt/conda/lib/python3.7/threading.py\", line 870, in run\n",
      "    self._target(*self._args, **self._kwargs)\n",
      "  File \"/opt/conda/lib/python3.7/site-packages/awseditorssparkmonitoringwidget-1.0-py3.7.egg/awseditorssparkmonitoringwidget/cellmonitor.py\", line 178, in cell_monitor\n",
      "    job_binned_stages[job_id][stage_id] = all_stages[stage_id]\n",
      "KeyError: 14839\n",
      "\n"
     ]
    },
    {
     "data": {
      "application/vnd.jupyter.widget-view+json": {
       "model_id": "",
       "version_major": 2,
       "version_minor": 0
      },
      "text/plain": [
       "FloatProgress(value=0.0, bar_style='info', description='Progress:', layout=Layout(height='25px', width='50%'),…"
      ]
     },
     "metadata": {},
     "output_type": "display_data"
    },
    {
     "name": "stdout",
     "output_type": "stream",
     "text": [
      "Gradient-boosted Tree Classifier\n",
      "F1 = 0.9568687065291444\n",
      "AUC = 0.9744314799398986"
     ]
    }
   ],
   "source": [
    "gbt_f1, gbt_AUC = evaluate_model(model_gbt)\n",
    "print('Gradient-boosted Tree Classifier')\n",
    "print('F1 =', gbt_f1)\n",
    "print('AUC =', gbt_AUC)"
   ]
  }
 ],
 "metadata": {
  "kernelspec": {
   "display_name": "Python 3",
   "language": "python",
   "name": "python3"
  },
  "language_info": {
   "codemirror_mode": {
    "name": "ipython",
    "version": 3
   },
   "file_extension": ".py",
   "mimetype": "text/x-python",
   "name": "python",
   "nbconvert_exporter": "python",
   "pygments_lexer": "ipython3",
   "version": "3.7.6"
  }
 },
 "nbformat": 4,
 "nbformat_minor": 4
}
